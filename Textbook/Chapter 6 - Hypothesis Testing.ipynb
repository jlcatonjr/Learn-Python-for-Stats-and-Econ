{
 "cells": [
  {
   "cell_type": "markdown",
   "id": "4f9d86c1",
   "metadata": {},
   "source": [
    "# Chapter 6: Hypothesis Testing\n",
    "\n",
    "## Incomplete Data \n",
    "\n",
    "Creating accurate predictions is one of the most valuable skills in the job market today. Statisticians, economists, and data scientists use data gathered from specific populations in order to predict the future. Through computational and statistical techniques, we can make _statistical inferences_ to draw conclusions from data that are often incomplete.\n",
    "\n",
    "As far as estimations of parameters that already exist, having full population data would mean that our questions about that population are answered. But because the cost of gathering a full set of information typically outweigh the benefits of having perfectly accurate data, we are okay with use data samples to draw inferences about past data and predict future observations. "
   ]
  },
  {
   "cell_type": "markdown",
   "id": "a61913fb",
   "metadata": {},
   "source": [
    "## Are Mutual Funds better than Broad-market index funds? "
   ]
  },
  {
   "cell_type": "markdown",
   "id": "00a3f826",
   "metadata": {},
   "source": [
    "The term “index fund” refers to the investment approach of a fund. Specifically, it is a fund that that aims to match the performance of a particular market index, such as the S&P 500 or Russell 2,000. The index fund simply tries to match the market. This differs from a more actively managed fund, in which investments are picked by a fund manager in an attempt to beat the market. The age old question is: are the fees payed to an actively-managed mutual fund worth it? \n",
    "\n",
    "We could simply compare the mean return from a given date range for a mutual fund and compare it to the S&P500s mean return from the same time interval, and see which is higher. But the fact that mutual funds have a limited number of time intervals which we can sample means we cannnot rule out the possibility that higher or lower returns from the fund were a result of random variation, and not an indicator of the true quality of the fund. Returns to investment in the S&P500 is a quality proxy for returns in equity markets. Although returns to the S&P 500 experience stochasticity, on average the average rate of return from a mutual fund data should beat S&P returns on average if active investment is actually improving the rate of return. So, we need to analyze the two funds using statistical techniques which account for random variation that is possible from incomplete data. \n",
    "\n",
    "We would like to ananlyze which(if any) mutual funds have out-performed the market, fees included. To start, we read the CSV downloaded from [Stock Market MBA](https://stockmarketmba.com/listoftop100activelymanagedusstockmutualfunds.php), which shows the 100 largest actively-managed mutual funds in the US. "
   ]
  },
  {
   "cell_type": "code",
   "execution_count": 1,
   "id": "53de08b9",
   "metadata": {},
   "outputs": [
    {
     "data": {
      "text/html": [
       "<div>\n",
       "<style scoped>\n",
       "    .dataframe tbody tr th:only-of-type {\n",
       "        vertical-align: middle;\n",
       "    }\n",
       "\n",
       "    .dataframe tbody tr th {\n",
       "        vertical-align: top;\n",
       "    }\n",
       "\n",
       "    .dataframe thead th {\n",
       "        text-align: right;\n",
       "    }\n",
       "</style>\n",
       "<table border=\"1\" class=\"dataframe\">\n",
       "  <thead>\n",
       "    <tr style=\"text-align: right;\">\n",
       "      <th></th>\n",
       "      <th>Symbol</th>\n",
       "      <th>Name</th>\n",
       "      <th>Category1</th>\n",
       "      <th>Category2</th>\n",
       "      <th>Category3</th>\n",
       "      <th>Morningstar Category</th>\n",
       "      <th>Morningstar Rating</th>\n",
       "      <th>Market cap</th>\n",
       "      <th>Current yield</th>\n",
       "      <th>Fees</th>\n",
       "      <th>Action</th>\n",
       "    </tr>\n",
       "  </thead>\n",
       "  <tbody>\n",
       "    <tr>\n",
       "      <th>0</th>\n",
       "      <td>AGTHX</td>\n",
       "      <td>American Funds The Growth Fund of America Class A</td>\n",
       "      <td>US Equity</td>\n",
       "      <td>Broad market</td>\n",
       "      <td>Large cap</td>\n",
       "      <td>Large Growth</td>\n",
       "      <td>3.0</td>\n",
       "      <td>$138,592,080,000</td>\n",
       "      <td>0.22%</td>\n",
       "      <td>0.62%</td>\n",
       "      <td>Analyze</td>\n",
       "    </tr>\n",
       "    <tr>\n",
       "      <th>1</th>\n",
       "      <td>FCNTX</td>\n",
       "      <td>Fidelity Contrafund Fund</td>\n",
       "      <td>US Equity</td>\n",
       "      <td>Broad market</td>\n",
       "      <td>Large cap</td>\n",
       "      <td>Large Growth</td>\n",
       "      <td>3.0</td>\n",
       "      <td>$121,762,870,000</td>\n",
       "      <td>0.00%</td>\n",
       "      <td>0.74%</td>\n",
       "      <td>Analyze</td>\n",
       "    </tr>\n",
       "    <tr>\n",
       "      <th>2</th>\n",
       "      <td>CWMAX</td>\n",
       "      <td>American Funds Washington Mutual Investors Fun...</td>\n",
       "      <td>US Equity</td>\n",
       "      <td>Broad market</td>\n",
       "      <td>Large cap</td>\n",
       "      <td>Large Blend</td>\n",
       "      <td>3.0</td>\n",
       "      <td>$113,300,000,000</td>\n",
       "      <td>1.46%</td>\n",
       "      <td>0.63%</td>\n",
       "      <td>Analyze</td>\n",
       "    </tr>\n",
       "    <tr>\n",
       "      <th>3</th>\n",
       "      <td>CWMCX</td>\n",
       "      <td>American Funds Washington Mutual Investors Fun...</td>\n",
       "      <td>US Equity</td>\n",
       "      <td>Broad market</td>\n",
       "      <td>Large cap</td>\n",
       "      <td>Large Blend</td>\n",
       "      <td>3.0</td>\n",
       "      <td>$113,300,000,000</td>\n",
       "      <td>0.79%</td>\n",
       "      <td>1.40%</td>\n",
       "      <td>Analyze</td>\n",
       "    </tr>\n",
       "    <tr>\n",
       "      <th>4</th>\n",
       "      <td>CWMEX</td>\n",
       "      <td>American Funds Washington Mutual Investors Fun...</td>\n",
       "      <td>US Equity</td>\n",
       "      <td>Broad market</td>\n",
       "      <td>Large cap</td>\n",
       "      <td>Large Blend</td>\n",
       "      <td>3.0</td>\n",
       "      <td>$113,300,000,000</td>\n",
       "      <td>1.28%</td>\n",
       "      <td>0.87%</td>\n",
       "      <td>Analyze</td>\n",
       "    </tr>\n",
       "    <tr>\n",
       "      <th>...</th>\n",
       "      <td>...</td>\n",
       "      <td>...</td>\n",
       "      <td>...</td>\n",
       "      <td>...</td>\n",
       "      <td>...</td>\n",
       "      <td>...</td>\n",
       "      <td>...</td>\n",
       "      <td>...</td>\n",
       "      <td>...</td>\n",
       "      <td>...</td>\n",
       "      <td>...</td>\n",
       "    </tr>\n",
       "    <tr>\n",
       "      <th>95</th>\n",
       "      <td>FDTRX</td>\n",
       "      <td>Franklin DynaTech Fund Class R6</td>\n",
       "      <td>US Equity</td>\n",
       "      <td>Broad market</td>\n",
       "      <td>Large cap</td>\n",
       "      <td>Large Growth</td>\n",
       "      <td>5.0</td>\n",
       "      <td>$9,600,000,000</td>\n",
       "      <td>0.00%</td>\n",
       "      <td>0.51%</td>\n",
       "      <td>Analyze</td>\n",
       "    </tr>\n",
       "    <tr>\n",
       "      <th>96</th>\n",
       "      <td>FDYZX</td>\n",
       "      <td>Franklin DynaTech Fund Advisor Class</td>\n",
       "      <td>US Equity</td>\n",
       "      <td>Broad market</td>\n",
       "      <td>Large cap</td>\n",
       "      <td>Large Growth</td>\n",
       "      <td>5.0</td>\n",
       "      <td>$9,600,000,000</td>\n",
       "      <td>0.00%</td>\n",
       "      <td>0.62%</td>\n",
       "      <td>Analyze</td>\n",
       "    </tr>\n",
       "    <tr>\n",
       "      <th>97</th>\n",
       "      <td>BBVLX</td>\n",
       "      <td>Bridge Builder Large Cap Value Fund</td>\n",
       "      <td>US Equity</td>\n",
       "      <td>Broad market</td>\n",
       "      <td>Large cap</td>\n",
       "      <td>Large Value</td>\n",
       "      <td>4.0</td>\n",
       "      <td>$9,500,000,000</td>\n",
       "      <td>1.55%</td>\n",
       "      <td>0.25%</td>\n",
       "      <td>Analyze</td>\n",
       "    </tr>\n",
       "    <tr>\n",
       "      <th>98</th>\n",
       "      <td>PEYAX</td>\n",
       "      <td>Putnam Large Cap Value Fund Class A</td>\n",
       "      <td>US Equity</td>\n",
       "      <td>Broad market</td>\n",
       "      <td>Large cap</td>\n",
       "      <td>Large Value</td>\n",
       "      <td>4.0</td>\n",
       "      <td>$9,393,340,000</td>\n",
       "      <td>1.23%</td>\n",
       "      <td>0.91%</td>\n",
       "      <td>Analyze</td>\n",
       "    </tr>\n",
       "    <tr>\n",
       "      <th>99</th>\n",
       "      <td>TWCGX</td>\n",
       "      <td>American Century Growth Fund Investor Class</td>\n",
       "      <td>US Equity</td>\n",
       "      <td>Broad market</td>\n",
       "      <td>Large cap</td>\n",
       "      <td>Large Growth</td>\n",
       "      <td>3.0</td>\n",
       "      <td>$9,354,900,000</td>\n",
       "      <td>0.00%</td>\n",
       "      <td>0.98%</td>\n",
       "      <td>Analyze</td>\n",
       "    </tr>\n",
       "  </tbody>\n",
       "</table>\n",
       "<p>100 rows × 11 columns</p>\n",
       "</div>"
      ],
      "text/plain": [
       "   Symbol                                               Name  Category1  \\\n",
       "0   AGTHX  American Funds The Growth Fund of America Class A  US Equity   \n",
       "1   FCNTX                           Fidelity Contrafund Fund  US Equity   \n",
       "2   CWMAX  American Funds Washington Mutual Investors Fun...  US Equity   \n",
       "3   CWMCX  American Funds Washington Mutual Investors Fun...  US Equity   \n",
       "4   CWMEX  American Funds Washington Mutual Investors Fun...  US Equity   \n",
       "..    ...                                                ...        ...   \n",
       "95  FDTRX                    Franklin DynaTech Fund Class R6  US Equity   \n",
       "96  FDYZX               Franklin DynaTech Fund Advisor Class  US Equity   \n",
       "97  BBVLX                Bridge Builder Large Cap Value Fund  US Equity   \n",
       "98  PEYAX                Putnam Large Cap Value Fund Class A  US Equity   \n",
       "99  TWCGX        American Century Growth Fund Investor Class  US Equity   \n",
       "\n",
       "       Category2  Category3 Morningstar Category  Morningstar Rating  \\\n",
       "0   Broad market  Large cap         Large Growth                 3.0   \n",
       "1   Broad market  Large cap         Large Growth                 3.0   \n",
       "2   Broad market  Large cap          Large Blend                 3.0   \n",
       "3   Broad market  Large cap          Large Blend                 3.0   \n",
       "4   Broad market  Large cap          Large Blend                 3.0   \n",
       "..           ...        ...                  ...                 ...   \n",
       "95  Broad market  Large cap         Large Growth                 5.0   \n",
       "96  Broad market  Large cap         Large Growth                 5.0   \n",
       "97  Broad market  Large cap          Large Value                 4.0   \n",
       "98  Broad market  Large cap          Large Value                 4.0   \n",
       "99  Broad market  Large cap         Large Growth                 3.0   \n",
       "\n",
       "          Market cap Current yield   Fees   Action  \n",
       "0   $138,592,080,000         0.22%  0.62%  Analyze  \n",
       "1   $121,762,870,000         0.00%  0.74%  Analyze  \n",
       "2   $113,300,000,000         1.46%  0.63%  Analyze  \n",
       "3   $113,300,000,000         0.79%  1.40%  Analyze  \n",
       "4   $113,300,000,000         1.28%  0.87%  Analyze  \n",
       "..               ...           ...    ...      ...  \n",
       "95    $9,600,000,000         0.00%  0.51%  Analyze  \n",
       "96    $9,600,000,000         0.00%  0.62%  Analyze  \n",
       "97    $9,500,000,000         1.55%  0.25%  Analyze  \n",
       "98    $9,393,340,000         1.23%  0.91%  Analyze  \n",
       "99    $9,354,900,000         0.00%  0.98%  Analyze  \n",
       "\n",
       "[100 rows x 11 columns]"
      ]
     },
     "execution_count": 1,
     "metadata": {},
     "output_type": "execute_result"
    }
   ],
   "source": [
    "import numpy as np\n",
    "import pandas as pd\n",
    "\n",
    "mutual_fund_data = pd.read_csv(\"Top100MutualFunds.csv\")\n",
    "mutual_fund_data"
   ]
  },
  {
   "cell_type": "markdown",
   "id": "c5360d91",
   "metadata": {},
   "source": [
    "We don't need to include every category for each fund. Let's drop all categories except for the Morningstar Category. We'll also drop the Morningstar Rating and Action columns."
   ]
  },
  {
   "cell_type": "code",
   "execution_count": 2,
   "id": "bcf09e74",
   "metadata": {},
   "outputs": [
    {
     "data": {
      "text/html": [
       "<div>\n",
       "<style scoped>\n",
       "    .dataframe tbody tr th:only-of-type {\n",
       "        vertical-align: middle;\n",
       "    }\n",
       "\n",
       "    .dataframe tbody tr th {\n",
       "        vertical-align: top;\n",
       "    }\n",
       "\n",
       "    .dataframe thead th {\n",
       "        text-align: right;\n",
       "    }\n",
       "</style>\n",
       "<table border=\"1\" class=\"dataframe\">\n",
       "  <thead>\n",
       "    <tr style=\"text-align: right;\">\n",
       "      <th></th>\n",
       "      <th>Symbol</th>\n",
       "      <th>Name</th>\n",
       "      <th>Morningstar Category</th>\n",
       "      <th>Market cap</th>\n",
       "      <th>Fees</th>\n",
       "    </tr>\n",
       "  </thead>\n",
       "  <tbody>\n",
       "    <tr>\n",
       "      <th>0</th>\n",
       "      <td>AGTHX</td>\n",
       "      <td>American Funds The Growth Fund of America Class A</td>\n",
       "      <td>Large Growth</td>\n",
       "      <td>$138,592,080,000</td>\n",
       "      <td>0.62%</td>\n",
       "    </tr>\n",
       "    <tr>\n",
       "      <th>1</th>\n",
       "      <td>FCNTX</td>\n",
       "      <td>Fidelity Contrafund Fund</td>\n",
       "      <td>Large Growth</td>\n",
       "      <td>$121,762,870,000</td>\n",
       "      <td>0.74%</td>\n",
       "    </tr>\n",
       "    <tr>\n",
       "      <th>2</th>\n",
       "      <td>CWMAX</td>\n",
       "      <td>American Funds Washington Mutual Investors Fun...</td>\n",
       "      <td>Large Blend</td>\n",
       "      <td>$113,300,000,000</td>\n",
       "      <td>0.63%</td>\n",
       "    </tr>\n",
       "    <tr>\n",
       "      <th>3</th>\n",
       "      <td>CWMCX</td>\n",
       "      <td>American Funds Washington Mutual Investors Fun...</td>\n",
       "      <td>Large Blend</td>\n",
       "      <td>$113,300,000,000</td>\n",
       "      <td>1.40%</td>\n",
       "    </tr>\n",
       "    <tr>\n",
       "      <th>4</th>\n",
       "      <td>CWMEX</td>\n",
       "      <td>American Funds Washington Mutual Investors Fun...</td>\n",
       "      <td>Large Blend</td>\n",
       "      <td>$113,300,000,000</td>\n",
       "      <td>0.87%</td>\n",
       "    </tr>\n",
       "  </tbody>\n",
       "</table>\n",
       "</div>"
      ],
      "text/plain": [
       "  Symbol                                               Name  \\\n",
       "0  AGTHX  American Funds The Growth Fund of America Class A   \n",
       "1  FCNTX                           Fidelity Contrafund Fund   \n",
       "2  CWMAX  American Funds Washington Mutual Investors Fun...   \n",
       "3  CWMCX  American Funds Washington Mutual Investors Fun...   \n",
       "4  CWMEX  American Funds Washington Mutual Investors Fun...   \n",
       "\n",
       "  Morningstar Category        Market cap   Fees  \n",
       "0         Large Growth  $138,592,080,000  0.62%  \n",
       "1         Large Growth  $121,762,870,000  0.74%  \n",
       "2          Large Blend  $113,300,000,000  0.63%  \n",
       "3          Large Blend  $113,300,000,000  1.40%  \n",
       "4          Large Blend  $113,300,000,000  0.87%  "
      ]
     },
     "execution_count": 2,
     "metadata": {},
     "output_type": "execute_result"
    }
   ],
   "source": [
    "to_drop = [\n",
    "    \"Category2\", \"Category1\", \"Category3\", \"Morningstar Rating\",\n",
    "    \"Current yield\", \"Action\"\n",
    "]\n",
    "mutual_fund_data = mutual_fund_data.drop(columns=to_drop)\n",
    "mutual_fund_data.head()"
   ]
  },
  {
   "cell_type": "markdown",
   "id": "a0b0b53b",
   "metadata": {},
   "source": [
    "The symbols column from *mutual_fund_data* contains the ticker symbol that we can use to download data from each fund.  If you have not yet done so, install the module using:"
   ]
  },
  {
   "cell_type": "code",
   "execution_count": 3,
   "id": "34fa621c",
   "metadata": {},
   "outputs": [],
   "source": [
    "#!pip install pandas-datareader"
   ]
  },
  {
   "cell_type": "markdown",
   "id": "74324a70",
   "metadata": {},
   "source": [
    "Next we need to prepare to download the data. We can save the list of symbols and pass each symbol to pandas_datareader. We also need to choose the range of dates to include. Finally, we will save each fund in a dictionary using the ticker sympol as the key for data for that symbol."
   ]
  },
  {
   "cell_type": "code",
   "execution_count": 4,
   "id": "2f5aac29",
   "metadata": {},
   "outputs": [
    {
     "name": "stdout",
     "output_type": "stream",
     "text": [
      "[*********************100%***********************]  100 of 100 completed\n"
     ]
    }
   ],
   "source": [
    "import pandas_datareader.data as web\n",
    "import yfinance as yf\n",
    "from datetime import datetime  \n",
    "\n",
    "mutual_fund_dict = {}\n",
    "symbols = list(mutual_fund_data[\"Symbol\"])\n",
    "\n",
    "start = datetime(1980, 1, 1)\n",
    "end = datetime(2020, 1, 1)\n",
    "#pull mutual fund data for our chosen timeframe\n",
    "yf.pdr_override()\n",
    "fund_data = web.get_data_yahoo(symbols, start, end) "
   ]
  },
  {
   "cell_type": "markdown",
   "id": "65e98e0f",
   "metadata": {},
   "source": [
    "Now we are ready to download the data. "
   ]
  },
  {
   "cell_type": "code",
   "execution_count": null,
   "id": "ced80df2",
   "metadata": {},
   "outputs": [],
   "source": []
  },
  {
   "cell_type": "markdown",
   "id": "b5309a47",
   "metadata": {},
   "source": [
    "Display the DataFrame we just made: "
   ]
  },
  {
   "cell_type": "code",
   "execution_count": 5,
   "id": "42f9a960",
   "metadata": {},
   "outputs": [
    {
     "data": {
      "text/html": [
       "<div>\n",
       "<style scoped>\n",
       "    .dataframe tbody tr th:only-of-type {\n",
       "        vertical-align: middle;\n",
       "    }\n",
       "\n",
       "    .dataframe tbody tr th {\n",
       "        vertical-align: top;\n",
       "    }\n",
       "\n",
       "    .dataframe thead tr th {\n",
       "        text-align: left;\n",
       "    }\n",
       "\n",
       "    .dataframe thead tr:last-of-type th {\n",
       "        text-align: right;\n",
       "    }\n",
       "</style>\n",
       "<table border=\"1\" class=\"dataframe\">\n",
       "  <thead>\n",
       "    <tr>\n",
       "      <th></th>\n",
       "      <th colspan=\"10\" halign=\"left\">Adj Close</th>\n",
       "      <th>...</th>\n",
       "      <th colspan=\"10\" halign=\"left\">Volume</th>\n",
       "    </tr>\n",
       "    <tr>\n",
       "      <th></th>\n",
       "      <th>AFMFX</th>\n",
       "      <th>AGTHX</th>\n",
       "      <th>AIVSX</th>\n",
       "      <th>AKRIX</th>\n",
       "      <th>AKRSX</th>\n",
       "      <th>AMCFX</th>\n",
       "      <th>AMCPX</th>\n",
       "      <th>AMRFX</th>\n",
       "      <th>AMRMX</th>\n",
       "      <th>ANCFX</th>\n",
       "      <th>...</th>\n",
       "      <th>PRNHX</th>\n",
       "      <th>RPMGX</th>\n",
       "      <th>SBLYX</th>\n",
       "      <th>SEEGX</th>\n",
       "      <th>TRBCX</th>\n",
       "      <th>TWCGX</th>\n",
       "      <th>TWCUX</th>\n",
       "      <th>VAFAX</th>\n",
       "      <th>VWNFX</th>\n",
       "      <th>VWUSX</th>\n",
       "    </tr>\n",
       "    <tr>\n",
       "      <th>Date</th>\n",
       "      <th></th>\n",
       "      <th></th>\n",
       "      <th></th>\n",
       "      <th></th>\n",
       "      <th></th>\n",
       "      <th></th>\n",
       "      <th></th>\n",
       "      <th></th>\n",
       "      <th></th>\n",
       "      <th></th>\n",
       "      <th></th>\n",
       "      <th></th>\n",
       "      <th></th>\n",
       "      <th></th>\n",
       "      <th></th>\n",
       "      <th></th>\n",
       "      <th></th>\n",
       "      <th></th>\n",
       "      <th></th>\n",
       "      <th></th>\n",
       "      <th></th>\n",
       "    </tr>\n",
       "  </thead>\n",
       "  <tbody>\n",
       "    <tr>\n",
       "      <th>1980-01-02</th>\n",
       "      <td>NaN</td>\n",
       "      <td>0.599009</td>\n",
       "      <td>NaN</td>\n",
       "      <td>NaN</td>\n",
       "      <td>NaN</td>\n",
       "      <td>NaN</td>\n",
       "      <td>NaN</td>\n",
       "      <td>NaN</td>\n",
       "      <td>NaN</td>\n",
       "      <td>0.683940</td>\n",
       "      <td>...</td>\n",
       "      <td>0</td>\n",
       "      <td>NaN</td>\n",
       "      <td>NaN</td>\n",
       "      <td>NaN</td>\n",
       "      <td>NaN</td>\n",
       "      <td>0</td>\n",
       "      <td>NaN</td>\n",
       "      <td>NaN</td>\n",
       "      <td>NaN</td>\n",
       "      <td>0</td>\n",
       "    </tr>\n",
       "    <tr>\n",
       "      <th>1980-01-03</th>\n",
       "      <td>NaN</td>\n",
       "      <td>0.609457</td>\n",
       "      <td>NaN</td>\n",
       "      <td>NaN</td>\n",
       "      <td>NaN</td>\n",
       "      <td>NaN</td>\n",
       "      <td>NaN</td>\n",
       "      <td>NaN</td>\n",
       "      <td>NaN</td>\n",
       "      <td>0.680125</td>\n",
       "      <td>...</td>\n",
       "      <td>0</td>\n",
       "      <td>NaN</td>\n",
       "      <td>NaN</td>\n",
       "      <td>NaN</td>\n",
       "      <td>NaN</td>\n",
       "      <td>0</td>\n",
       "      <td>NaN</td>\n",
       "      <td>NaN</td>\n",
       "      <td>NaN</td>\n",
       "      <td>0</td>\n",
       "    </tr>\n",
       "    <tr>\n",
       "      <th>1980-01-04</th>\n",
       "      <td>NaN</td>\n",
       "      <td>0.609457</td>\n",
       "      <td>NaN</td>\n",
       "      <td>NaN</td>\n",
       "      <td>NaN</td>\n",
       "      <td>NaN</td>\n",
       "      <td>NaN</td>\n",
       "      <td>NaN</td>\n",
       "      <td>NaN</td>\n",
       "      <td>0.690618</td>\n",
       "      <td>...</td>\n",
       "      <td>0</td>\n",
       "      <td>NaN</td>\n",
       "      <td>NaN</td>\n",
       "      <td>NaN</td>\n",
       "      <td>NaN</td>\n",
       "      <td>0</td>\n",
       "      <td>NaN</td>\n",
       "      <td>NaN</td>\n",
       "      <td>NaN</td>\n",
       "      <td>0</td>\n",
       "    </tr>\n",
       "    <tr>\n",
       "      <th>1980-01-07</th>\n",
       "      <td>NaN</td>\n",
       "      <td>0.625128</td>\n",
       "      <td>NaN</td>\n",
       "      <td>NaN</td>\n",
       "      <td>NaN</td>\n",
       "      <td>NaN</td>\n",
       "      <td>NaN</td>\n",
       "      <td>NaN</td>\n",
       "      <td>NaN</td>\n",
       "      <td>0.693479</td>\n",
       "      <td>...</td>\n",
       "      <td>0</td>\n",
       "      <td>NaN</td>\n",
       "      <td>NaN</td>\n",
       "      <td>NaN</td>\n",
       "      <td>NaN</td>\n",
       "      <td>0</td>\n",
       "      <td>NaN</td>\n",
       "      <td>NaN</td>\n",
       "      <td>NaN</td>\n",
       "      <td>0</td>\n",
       "    </tr>\n",
       "    <tr>\n",
       "      <th>1980-01-08</th>\n",
       "      <td>NaN</td>\n",
       "      <td>0.632094</td>\n",
       "      <td>NaN</td>\n",
       "      <td>NaN</td>\n",
       "      <td>NaN</td>\n",
       "      <td>NaN</td>\n",
       "      <td>NaN</td>\n",
       "      <td>NaN</td>\n",
       "      <td>NaN</td>\n",
       "      <td>0.710649</td>\n",
       "      <td>...</td>\n",
       "      <td>0</td>\n",
       "      <td>NaN</td>\n",
       "      <td>NaN</td>\n",
       "      <td>NaN</td>\n",
       "      <td>NaN</td>\n",
       "      <td>0</td>\n",
       "      <td>NaN</td>\n",
       "      <td>NaN</td>\n",
       "      <td>NaN</td>\n",
       "      <td>0</td>\n",
       "    </tr>\n",
       "    <tr>\n",
       "      <th>...</th>\n",
       "      <td>...</td>\n",
       "      <td>...</td>\n",
       "      <td>...</td>\n",
       "      <td>...</td>\n",
       "      <td>...</td>\n",
       "      <td>...</td>\n",
       "      <td>...</td>\n",
       "      <td>...</td>\n",
       "      <td>...</td>\n",
       "      <td>...</td>\n",
       "      <td>...</td>\n",
       "      <td>...</td>\n",
       "      <td>...</td>\n",
       "      <td>...</td>\n",
       "      <td>...</td>\n",
       "      <td>...</td>\n",
       "      <td>...</td>\n",
       "      <td>...</td>\n",
       "      <td>...</td>\n",
       "      <td>...</td>\n",
       "      <td>...</td>\n",
       "    </tr>\n",
       "    <tr>\n",
       "      <th>2019-12-24</th>\n",
       "      <td>36.736092</td>\n",
       "      <td>40.456985</td>\n",
       "      <td>32.380341</td>\n",
       "      <td>39.849663</td>\n",
       "      <td>40.053391</td>\n",
       "      <td>27.291407</td>\n",
       "      <td>27.186575</td>\n",
       "      <td>36.895542</td>\n",
       "      <td>37.389759</td>\n",
       "      <td>48.387196</td>\n",
       "      <td>...</td>\n",
       "      <td>0</td>\n",
       "      <td>0.0</td>\n",
       "      <td>0.0</td>\n",
       "      <td>0.0</td>\n",
       "      <td>0.0</td>\n",
       "      <td>0</td>\n",
       "      <td>0.0</td>\n",
       "      <td>0.0</td>\n",
       "      <td>0.0</td>\n",
       "      <td>0</td>\n",
       "    </tr>\n",
       "    <tr>\n",
       "      <th>2019-12-26</th>\n",
       "      <td>36.820663</td>\n",
       "      <td>40.662514</td>\n",
       "      <td>32.519539</td>\n",
       "      <td>39.963570</td>\n",
       "      <td>40.167400</td>\n",
       "      <td>27.380095</td>\n",
       "      <td>27.275551</td>\n",
       "      <td>36.980476</td>\n",
       "      <td>37.475796</td>\n",
       "      <td>48.605892</td>\n",
       "      <td>...</td>\n",
       "      <td>0</td>\n",
       "      <td>0.0</td>\n",
       "      <td>0.0</td>\n",
       "      <td>0.0</td>\n",
       "      <td>0.0</td>\n",
       "      <td>0</td>\n",
       "      <td>0.0</td>\n",
       "      <td>0.0</td>\n",
       "      <td>0.0</td>\n",
       "      <td>0</td>\n",
       "    </tr>\n",
       "    <tr>\n",
       "      <th>2019-12-27</th>\n",
       "      <td>36.846035</td>\n",
       "      <td>40.654606</td>\n",
       "      <td>32.519539</td>\n",
       "      <td>40.016140</td>\n",
       "      <td>40.220024</td>\n",
       "      <td>27.372034</td>\n",
       "      <td>27.259375</td>\n",
       "      <td>37.005959</td>\n",
       "      <td>37.501610</td>\n",
       "      <td>48.652756</td>\n",
       "      <td>...</td>\n",
       "      <td>0</td>\n",
       "      <td>0.0</td>\n",
       "      <td>0.0</td>\n",
       "      <td>0.0</td>\n",
       "      <td>0.0</td>\n",
       "      <td>0</td>\n",
       "      <td>0.0</td>\n",
       "      <td>0.0</td>\n",
       "      <td>0.0</td>\n",
       "      <td>0</td>\n",
       "    </tr>\n",
       "    <tr>\n",
       "      <th>2019-12-30</th>\n",
       "      <td>36.702259</td>\n",
       "      <td>40.298889</td>\n",
       "      <td>32.298470</td>\n",
       "      <td>39.875950</td>\n",
       "      <td>40.070927</td>\n",
       "      <td>27.194656</td>\n",
       "      <td>27.081419</td>\n",
       "      <td>36.861572</td>\n",
       "      <td>37.355350</td>\n",
       "      <td>48.316895</td>\n",
       "      <td>...</td>\n",
       "      <td>0</td>\n",
       "      <td>0.0</td>\n",
       "      <td>0.0</td>\n",
       "      <td>0.0</td>\n",
       "      <td>0.0</td>\n",
       "      <td>0</td>\n",
       "      <td>0.0</td>\n",
       "      <td>0.0</td>\n",
       "      <td>0.0</td>\n",
       "      <td>0</td>\n",
       "    </tr>\n",
       "    <tr>\n",
       "      <th>2019-12-31</th>\n",
       "      <td>36.786831</td>\n",
       "      <td>40.417461</td>\n",
       "      <td>32.396717</td>\n",
       "      <td>39.963570</td>\n",
       "      <td>40.167400</td>\n",
       "      <td>27.259159</td>\n",
       "      <td>27.154219</td>\n",
       "      <td>36.946507</td>\n",
       "      <td>37.441383</td>\n",
       "      <td>48.441868</td>\n",
       "      <td>...</td>\n",
       "      <td>0</td>\n",
       "      <td>0.0</td>\n",
       "      <td>0.0</td>\n",
       "      <td>0.0</td>\n",
       "      <td>0.0</td>\n",
       "      <td>0</td>\n",
       "      <td>0.0</td>\n",
       "      <td>0.0</td>\n",
       "      <td>0.0</td>\n",
       "      <td>0</td>\n",
       "    </tr>\n",
       "  </tbody>\n",
       "</table>\n",
       "<p>10087 rows × 600 columns</p>\n",
       "</div>"
      ],
      "text/plain": [
       "            Adj Close                                                         \\\n",
       "                AFMFX      AGTHX      AIVSX      AKRIX      AKRSX      AMCFX   \n",
       "Date                                                                           \n",
       "1980-01-02        NaN   0.599009        NaN        NaN        NaN        NaN   \n",
       "1980-01-03        NaN   0.609457        NaN        NaN        NaN        NaN   \n",
       "1980-01-04        NaN   0.609457        NaN        NaN        NaN        NaN   \n",
       "1980-01-07        NaN   0.625128        NaN        NaN        NaN        NaN   \n",
       "1980-01-08        NaN   0.632094        NaN        NaN        NaN        NaN   \n",
       "...               ...        ...        ...        ...        ...        ...   \n",
       "2019-12-24  36.736092  40.456985  32.380341  39.849663  40.053391  27.291407   \n",
       "2019-12-26  36.820663  40.662514  32.519539  39.963570  40.167400  27.380095   \n",
       "2019-12-27  36.846035  40.654606  32.519539  40.016140  40.220024  27.372034   \n",
       "2019-12-30  36.702259  40.298889  32.298470  39.875950  40.070927  27.194656   \n",
       "2019-12-31  36.786831  40.417461  32.396717  39.963570  40.167400  27.259159   \n",
       "\n",
       "                                                        ... Volume        \\\n",
       "                AMCPX      AMRFX      AMRMX      ANCFX  ...  PRNHX RPMGX   \n",
       "Date                                                    ...                \n",
       "1980-01-02        NaN        NaN        NaN   0.683940  ...      0   NaN   \n",
       "1980-01-03        NaN        NaN        NaN   0.680125  ...      0   NaN   \n",
       "1980-01-04        NaN        NaN        NaN   0.690618  ...      0   NaN   \n",
       "1980-01-07        NaN        NaN        NaN   0.693479  ...      0   NaN   \n",
       "1980-01-08        NaN        NaN        NaN   0.710649  ...      0   NaN   \n",
       "...               ...        ...        ...        ...  ...    ...   ...   \n",
       "2019-12-24  27.186575  36.895542  37.389759  48.387196  ...      0   0.0   \n",
       "2019-12-26  27.275551  36.980476  37.475796  48.605892  ...      0   0.0   \n",
       "2019-12-27  27.259375  37.005959  37.501610  48.652756  ...      0   0.0   \n",
       "2019-12-30  27.081419  36.861572  37.355350  48.316895  ...      0   0.0   \n",
       "2019-12-31  27.154219  36.946507  37.441383  48.441868  ...      0   0.0   \n",
       "\n",
       "                                                            \n",
       "           SBLYX SEEGX TRBCX TWCGX TWCUX VAFAX VWNFX VWUSX  \n",
       "Date                                                        \n",
       "1980-01-02   NaN   NaN   NaN     0   NaN   NaN   NaN     0  \n",
       "1980-01-03   NaN   NaN   NaN     0   NaN   NaN   NaN     0  \n",
       "1980-01-04   NaN   NaN   NaN     0   NaN   NaN   NaN     0  \n",
       "1980-01-07   NaN   NaN   NaN     0   NaN   NaN   NaN     0  \n",
       "1980-01-08   NaN   NaN   NaN     0   NaN   NaN   NaN     0  \n",
       "...          ...   ...   ...   ...   ...   ...   ...   ...  \n",
       "2019-12-24   0.0   0.0   0.0     0   0.0   0.0   0.0     0  \n",
       "2019-12-26   0.0   0.0   0.0     0   0.0   0.0   0.0     0  \n",
       "2019-12-27   0.0   0.0   0.0     0   0.0   0.0   0.0     0  \n",
       "2019-12-30   0.0   0.0   0.0     0   0.0   0.0   0.0     0  \n",
       "2019-12-31   0.0   0.0   0.0     0   0.0   0.0   0.0     0  \n",
       "\n",
       "[10087 rows x 600 columns]"
      ]
     },
     "execution_count": 5,
     "metadata": {},
     "output_type": "execute_result"
    }
   ],
   "source": [
    "fund_data"
   ]
  },
  {
   "cell_type": "markdown",
   "id": "28375e85",
   "metadata": {},
   "source": [
    "As we can see, there are many null values for the earlier dates of the DataFrame because many of the funds did not exist in 1980. For aesthetic purposes, we can use the df.tail() method to only show the last 5 rows from now on. "
   ]
  },
  {
   "cell_type": "code",
   "execution_count": 6,
   "id": "f1864a79",
   "metadata": {},
   "outputs": [
    {
     "data": {
      "text/html": [
       "<div>\n",
       "<style scoped>\n",
       "    .dataframe tbody tr th:only-of-type {\n",
       "        vertical-align: middle;\n",
       "    }\n",
       "\n",
       "    .dataframe tbody tr th {\n",
       "        vertical-align: top;\n",
       "    }\n",
       "\n",
       "    .dataframe thead tr th {\n",
       "        text-align: left;\n",
       "    }\n",
       "\n",
       "    .dataframe thead tr:last-of-type th {\n",
       "        text-align: right;\n",
       "    }\n",
       "</style>\n",
       "<table border=\"1\" class=\"dataframe\">\n",
       "  <thead>\n",
       "    <tr>\n",
       "      <th></th>\n",
       "      <th colspan=\"10\" halign=\"left\">Adj Close</th>\n",
       "      <th>...</th>\n",
       "      <th colspan=\"10\" halign=\"left\">Volume</th>\n",
       "    </tr>\n",
       "    <tr>\n",
       "      <th></th>\n",
       "      <th>AFMFX</th>\n",
       "      <th>AGTHX</th>\n",
       "      <th>AIVSX</th>\n",
       "      <th>AKRIX</th>\n",
       "      <th>AKRSX</th>\n",
       "      <th>AMCFX</th>\n",
       "      <th>AMCPX</th>\n",
       "      <th>AMRFX</th>\n",
       "      <th>AMRMX</th>\n",
       "      <th>ANCFX</th>\n",
       "      <th>...</th>\n",
       "      <th>PRNHX</th>\n",
       "      <th>RPMGX</th>\n",
       "      <th>SBLYX</th>\n",
       "      <th>SEEGX</th>\n",
       "      <th>TRBCX</th>\n",
       "      <th>TWCGX</th>\n",
       "      <th>TWCUX</th>\n",
       "      <th>VAFAX</th>\n",
       "      <th>VWNFX</th>\n",
       "      <th>VWUSX</th>\n",
       "    </tr>\n",
       "    <tr>\n",
       "      <th>Date</th>\n",
       "      <th></th>\n",
       "      <th></th>\n",
       "      <th></th>\n",
       "      <th></th>\n",
       "      <th></th>\n",
       "      <th></th>\n",
       "      <th></th>\n",
       "      <th></th>\n",
       "      <th></th>\n",
       "      <th></th>\n",
       "      <th></th>\n",
       "      <th></th>\n",
       "      <th></th>\n",
       "      <th></th>\n",
       "      <th></th>\n",
       "      <th></th>\n",
       "      <th></th>\n",
       "      <th></th>\n",
       "      <th></th>\n",
       "      <th></th>\n",
       "      <th></th>\n",
       "    </tr>\n",
       "  </thead>\n",
       "  <tbody>\n",
       "    <tr>\n",
       "      <th>2019-12-24</th>\n",
       "      <td>36.736092</td>\n",
       "      <td>40.456985</td>\n",
       "      <td>32.380341</td>\n",
       "      <td>39.849663</td>\n",
       "      <td>40.053391</td>\n",
       "      <td>27.291407</td>\n",
       "      <td>27.186575</td>\n",
       "      <td>36.895542</td>\n",
       "      <td>37.389759</td>\n",
       "      <td>48.387196</td>\n",
       "      <td>...</td>\n",
       "      <td>0</td>\n",
       "      <td>0.0</td>\n",
       "      <td>0.0</td>\n",
       "      <td>0.0</td>\n",
       "      <td>0.0</td>\n",
       "      <td>0</td>\n",
       "      <td>0.0</td>\n",
       "      <td>0.0</td>\n",
       "      <td>0.0</td>\n",
       "      <td>0</td>\n",
       "    </tr>\n",
       "    <tr>\n",
       "      <th>2019-12-26</th>\n",
       "      <td>36.820663</td>\n",
       "      <td>40.662514</td>\n",
       "      <td>32.519539</td>\n",
       "      <td>39.963570</td>\n",
       "      <td>40.167400</td>\n",
       "      <td>27.380095</td>\n",
       "      <td>27.275551</td>\n",
       "      <td>36.980476</td>\n",
       "      <td>37.475796</td>\n",
       "      <td>48.605892</td>\n",
       "      <td>...</td>\n",
       "      <td>0</td>\n",
       "      <td>0.0</td>\n",
       "      <td>0.0</td>\n",
       "      <td>0.0</td>\n",
       "      <td>0.0</td>\n",
       "      <td>0</td>\n",
       "      <td>0.0</td>\n",
       "      <td>0.0</td>\n",
       "      <td>0.0</td>\n",
       "      <td>0</td>\n",
       "    </tr>\n",
       "    <tr>\n",
       "      <th>2019-12-27</th>\n",
       "      <td>36.846035</td>\n",
       "      <td>40.654606</td>\n",
       "      <td>32.519539</td>\n",
       "      <td>40.016140</td>\n",
       "      <td>40.220024</td>\n",
       "      <td>27.372034</td>\n",
       "      <td>27.259375</td>\n",
       "      <td>37.005959</td>\n",
       "      <td>37.501610</td>\n",
       "      <td>48.652756</td>\n",
       "      <td>...</td>\n",
       "      <td>0</td>\n",
       "      <td>0.0</td>\n",
       "      <td>0.0</td>\n",
       "      <td>0.0</td>\n",
       "      <td>0.0</td>\n",
       "      <td>0</td>\n",
       "      <td>0.0</td>\n",
       "      <td>0.0</td>\n",
       "      <td>0.0</td>\n",
       "      <td>0</td>\n",
       "    </tr>\n",
       "    <tr>\n",
       "      <th>2019-12-30</th>\n",
       "      <td>36.702259</td>\n",
       "      <td>40.298889</td>\n",
       "      <td>32.298470</td>\n",
       "      <td>39.875950</td>\n",
       "      <td>40.070927</td>\n",
       "      <td>27.194656</td>\n",
       "      <td>27.081419</td>\n",
       "      <td>36.861572</td>\n",
       "      <td>37.355350</td>\n",
       "      <td>48.316895</td>\n",
       "      <td>...</td>\n",
       "      <td>0</td>\n",
       "      <td>0.0</td>\n",
       "      <td>0.0</td>\n",
       "      <td>0.0</td>\n",
       "      <td>0.0</td>\n",
       "      <td>0</td>\n",
       "      <td>0.0</td>\n",
       "      <td>0.0</td>\n",
       "      <td>0.0</td>\n",
       "      <td>0</td>\n",
       "    </tr>\n",
       "    <tr>\n",
       "      <th>2019-12-31</th>\n",
       "      <td>36.786831</td>\n",
       "      <td>40.417461</td>\n",
       "      <td>32.396717</td>\n",
       "      <td>39.963570</td>\n",
       "      <td>40.167400</td>\n",
       "      <td>27.259159</td>\n",
       "      <td>27.154219</td>\n",
       "      <td>36.946507</td>\n",
       "      <td>37.441383</td>\n",
       "      <td>48.441868</td>\n",
       "      <td>...</td>\n",
       "      <td>0</td>\n",
       "      <td>0.0</td>\n",
       "      <td>0.0</td>\n",
       "      <td>0.0</td>\n",
       "      <td>0.0</td>\n",
       "      <td>0</td>\n",
       "      <td>0.0</td>\n",
       "      <td>0.0</td>\n",
       "      <td>0.0</td>\n",
       "      <td>0</td>\n",
       "    </tr>\n",
       "  </tbody>\n",
       "</table>\n",
       "<p>5 rows × 600 columns</p>\n",
       "</div>"
      ],
      "text/plain": [
       "            Adj Close                                                         \\\n",
       "                AFMFX      AGTHX      AIVSX      AKRIX      AKRSX      AMCFX   \n",
       "Date                                                                           \n",
       "2019-12-24  36.736092  40.456985  32.380341  39.849663  40.053391  27.291407   \n",
       "2019-12-26  36.820663  40.662514  32.519539  39.963570  40.167400  27.380095   \n",
       "2019-12-27  36.846035  40.654606  32.519539  40.016140  40.220024  27.372034   \n",
       "2019-12-30  36.702259  40.298889  32.298470  39.875950  40.070927  27.194656   \n",
       "2019-12-31  36.786831  40.417461  32.396717  39.963570  40.167400  27.259159   \n",
       "\n",
       "                                                        ... Volume        \\\n",
       "                AMCPX      AMRFX      AMRMX      ANCFX  ...  PRNHX RPMGX   \n",
       "Date                                                    ...                \n",
       "2019-12-24  27.186575  36.895542  37.389759  48.387196  ...      0   0.0   \n",
       "2019-12-26  27.275551  36.980476  37.475796  48.605892  ...      0   0.0   \n",
       "2019-12-27  27.259375  37.005959  37.501610  48.652756  ...      0   0.0   \n",
       "2019-12-30  27.081419  36.861572  37.355350  48.316895  ...      0   0.0   \n",
       "2019-12-31  27.154219  36.946507  37.441383  48.441868  ...      0   0.0   \n",
       "\n",
       "                                                            \n",
       "           SBLYX SEEGX TRBCX TWCGX TWCUX VAFAX VWNFX VWUSX  \n",
       "Date                                                        \n",
       "2019-12-24   0.0   0.0   0.0     0   0.0   0.0   0.0     0  \n",
       "2019-12-26   0.0   0.0   0.0     0   0.0   0.0   0.0     0  \n",
       "2019-12-27   0.0   0.0   0.0     0   0.0   0.0   0.0     0  \n",
       "2019-12-30   0.0   0.0   0.0     0   0.0   0.0   0.0     0  \n",
       "2019-12-31   0.0   0.0   0.0     0   0.0   0.0   0.0     0  \n",
       "\n",
       "[5 rows x 600 columns]"
      ]
     },
     "execution_count": 6,
     "metadata": {},
     "output_type": "execute_result"
    }
   ],
   "source": [
    "# there will be many null values at the head of the df so use the .tail() method for the last 5 rows \n",
    "fund_data.tail()"
   ]
  },
  {
   "cell_type": "markdown",
   "id": "31abdb41",
   "metadata": {},
   "source": [
    "The column names have two layers. We are interested in the adjusted close data. Save this data as a unique dataframe, *close_data*, by selecting the key \"Adj Close\" from *fund_data*."
   ]
  },
  {
   "cell_type": "code",
   "execution_count": 7,
   "id": "f598019d",
   "metadata": {},
   "outputs": [
    {
     "data": {
      "text/html": [
       "<div>\n",
       "<style scoped>\n",
       "    .dataframe tbody tr th:only-of-type {\n",
       "        vertical-align: middle;\n",
       "    }\n",
       "\n",
       "    .dataframe tbody tr th {\n",
       "        vertical-align: top;\n",
       "    }\n",
       "\n",
       "    .dataframe thead th {\n",
       "        text-align: right;\n",
       "    }\n",
       "</style>\n",
       "<table border=\"1\" class=\"dataframe\">\n",
       "  <thead>\n",
       "    <tr style=\"text-align: right;\">\n",
       "      <th></th>\n",
       "      <th>AFMFX</th>\n",
       "      <th>AGTHX</th>\n",
       "      <th>AIVSX</th>\n",
       "      <th>AKRIX</th>\n",
       "      <th>AKRSX</th>\n",
       "      <th>AMCFX</th>\n",
       "      <th>AMCPX</th>\n",
       "      <th>AMRFX</th>\n",
       "      <th>AMRMX</th>\n",
       "      <th>ANCFX</th>\n",
       "      <th>...</th>\n",
       "      <th>PRNHX</th>\n",
       "      <th>RPMGX</th>\n",
       "      <th>SBLYX</th>\n",
       "      <th>SEEGX</th>\n",
       "      <th>TRBCX</th>\n",
       "      <th>TWCGX</th>\n",
       "      <th>TWCUX</th>\n",
       "      <th>VAFAX</th>\n",
       "      <th>VWNFX</th>\n",
       "      <th>VWUSX</th>\n",
       "    </tr>\n",
       "    <tr>\n",
       "      <th>Date</th>\n",
       "      <th></th>\n",
       "      <th></th>\n",
       "      <th></th>\n",
       "      <th></th>\n",
       "      <th></th>\n",
       "      <th></th>\n",
       "      <th></th>\n",
       "      <th></th>\n",
       "      <th></th>\n",
       "      <th></th>\n",
       "      <th></th>\n",
       "      <th></th>\n",
       "      <th></th>\n",
       "      <th></th>\n",
       "      <th></th>\n",
       "      <th></th>\n",
       "      <th></th>\n",
       "      <th></th>\n",
       "      <th></th>\n",
       "      <th></th>\n",
       "      <th></th>\n",
       "    </tr>\n",
       "  </thead>\n",
       "  <tbody>\n",
       "    <tr>\n",
       "      <th>2019-12-24</th>\n",
       "      <td>36.736092</td>\n",
       "      <td>40.456985</td>\n",
       "      <td>32.380341</td>\n",
       "      <td>39.849663</td>\n",
       "      <td>40.053391</td>\n",
       "      <td>27.291407</td>\n",
       "      <td>27.186575</td>\n",
       "      <td>36.895542</td>\n",
       "      <td>37.389759</td>\n",
       "      <td>48.387196</td>\n",
       "      <td>...</td>\n",
       "      <td>42.597168</td>\n",
       "      <td>75.295692</td>\n",
       "      <td>38.965019</td>\n",
       "      <td>32.569065</td>\n",
       "      <td>102.683052</td>\n",
       "      <td>29.883802</td>\n",
       "      <td>43.968910</td>\n",
       "      <td>14.698989</td>\n",
       "      <td>28.903574</td>\n",
       "      <td>36.163040</td>\n",
       "    </tr>\n",
       "    <tr>\n",
       "      <th>2019-12-26</th>\n",
       "      <td>36.820663</td>\n",
       "      <td>40.662514</td>\n",
       "      <td>32.519539</td>\n",
       "      <td>39.963570</td>\n",
       "      <td>40.167400</td>\n",
       "      <td>27.380095</td>\n",
       "      <td>27.275551</td>\n",
       "      <td>36.980476</td>\n",
       "      <td>37.475796</td>\n",
       "      <td>48.605892</td>\n",
       "      <td>...</td>\n",
       "      <td>42.654209</td>\n",
       "      <td>75.366707</td>\n",
       "      <td>39.279423</td>\n",
       "      <td>32.785187</td>\n",
       "      <td>103.558838</td>\n",
       "      <td>30.146877</td>\n",
       "      <td>44.383228</td>\n",
       "      <td>14.812881</td>\n",
       "      <td>29.014828</td>\n",
       "      <td>36.432030</td>\n",
       "    </tr>\n",
       "    <tr>\n",
       "      <th>2019-12-27</th>\n",
       "      <td>36.846035</td>\n",
       "      <td>40.654606</td>\n",
       "      <td>32.519539</td>\n",
       "      <td>40.016140</td>\n",
       "      <td>40.220024</td>\n",
       "      <td>27.372034</td>\n",
       "      <td>27.259375</td>\n",
       "      <td>37.005959</td>\n",
       "      <td>37.501610</td>\n",
       "      <td>48.652756</td>\n",
       "      <td>...</td>\n",
       "      <td>42.504475</td>\n",
       "      <td>75.287796</td>\n",
       "      <td>39.257988</td>\n",
       "      <td>32.761173</td>\n",
       "      <td>103.624939</td>\n",
       "      <td>30.130440</td>\n",
       "      <td>44.357861</td>\n",
       "      <td>14.819583</td>\n",
       "      <td>29.014828</td>\n",
       "      <td>36.398407</td>\n",
       "    </tr>\n",
       "    <tr>\n",
       "      <th>2019-12-30</th>\n",
       "      <td>36.702259</td>\n",
       "      <td>40.298889</td>\n",
       "      <td>32.298470</td>\n",
       "      <td>39.875950</td>\n",
       "      <td>40.070927</td>\n",
       "      <td>27.194656</td>\n",
       "      <td>27.081419</td>\n",
       "      <td>36.861572</td>\n",
       "      <td>37.355350</td>\n",
       "      <td>48.316895</td>\n",
       "      <td>...</td>\n",
       "      <td>42.190731</td>\n",
       "      <td>75.003761</td>\n",
       "      <td>38.929291</td>\n",
       "      <td>32.449009</td>\n",
       "      <td>102.666527</td>\n",
       "      <td>29.892027</td>\n",
       "      <td>43.994274</td>\n",
       "      <td>14.698989</td>\n",
       "      <td>28.863832</td>\n",
       "      <td>36.045353</td>\n",
       "    </tr>\n",
       "    <tr>\n",
       "      <th>2019-12-31</th>\n",
       "      <td>36.786831</td>\n",
       "      <td>40.417461</td>\n",
       "      <td>32.396717</td>\n",
       "      <td>39.963570</td>\n",
       "      <td>40.167400</td>\n",
       "      <td>27.259159</td>\n",
       "      <td>27.154219</td>\n",
       "      <td>36.946507</td>\n",
       "      <td>37.441383</td>\n",
       "      <td>48.441868</td>\n",
       "      <td>...</td>\n",
       "      <td>42.333340</td>\n",
       "      <td>75.216797</td>\n",
       "      <td>39.022186</td>\n",
       "      <td>32.521042</td>\n",
       "      <td>102.740875</td>\n",
       "      <td>29.949572</td>\n",
       "      <td>44.104195</td>\n",
       "      <td>14.732488</td>\n",
       "      <td>28.935360</td>\n",
       "      <td>36.163040</td>\n",
       "    </tr>\n",
       "  </tbody>\n",
       "</table>\n",
       "<p>5 rows × 100 columns</p>\n",
       "</div>"
      ],
      "text/plain": [
       "                AFMFX      AGTHX      AIVSX      AKRIX      AKRSX      AMCFX  \\\n",
       "Date                                                                           \n",
       "2019-12-24  36.736092  40.456985  32.380341  39.849663  40.053391  27.291407   \n",
       "2019-12-26  36.820663  40.662514  32.519539  39.963570  40.167400  27.380095   \n",
       "2019-12-27  36.846035  40.654606  32.519539  40.016140  40.220024  27.372034   \n",
       "2019-12-30  36.702259  40.298889  32.298470  39.875950  40.070927  27.194656   \n",
       "2019-12-31  36.786831  40.417461  32.396717  39.963570  40.167400  27.259159   \n",
       "\n",
       "                AMCPX      AMRFX      AMRMX      ANCFX  ...      PRNHX  \\\n",
       "Date                                                    ...              \n",
       "2019-12-24  27.186575  36.895542  37.389759  48.387196  ...  42.597168   \n",
       "2019-12-26  27.275551  36.980476  37.475796  48.605892  ...  42.654209   \n",
       "2019-12-27  27.259375  37.005959  37.501610  48.652756  ...  42.504475   \n",
       "2019-12-30  27.081419  36.861572  37.355350  48.316895  ...  42.190731   \n",
       "2019-12-31  27.154219  36.946507  37.441383  48.441868  ...  42.333340   \n",
       "\n",
       "                RPMGX      SBLYX      SEEGX       TRBCX      TWCGX      TWCUX  \\\n",
       "Date                                                                            \n",
       "2019-12-24  75.295692  38.965019  32.569065  102.683052  29.883802  43.968910   \n",
       "2019-12-26  75.366707  39.279423  32.785187  103.558838  30.146877  44.383228   \n",
       "2019-12-27  75.287796  39.257988  32.761173  103.624939  30.130440  44.357861   \n",
       "2019-12-30  75.003761  38.929291  32.449009  102.666527  29.892027  43.994274   \n",
       "2019-12-31  75.216797  39.022186  32.521042  102.740875  29.949572  44.104195   \n",
       "\n",
       "                VAFAX      VWNFX      VWUSX  \n",
       "Date                                         \n",
       "2019-12-24  14.698989  28.903574  36.163040  \n",
       "2019-12-26  14.812881  29.014828  36.432030  \n",
       "2019-12-27  14.819583  29.014828  36.398407  \n",
       "2019-12-30  14.698989  28.863832  36.045353  \n",
       "2019-12-31  14.732488  28.935360  36.163040  \n",
       "\n",
       "[5 rows x 100 columns]"
      ]
     },
     "execution_count": 7,
     "metadata": {},
     "output_type": "execute_result"
    }
   ],
   "source": [
    "close_data = fund_data[\"Adj Close\"]\n",
    "close_data.tail()"
   ]
  },
  {
   "cell_type": "markdown",
   "id": "ef23ddfa",
   "metadata": {},
   "source": [
    "We will want to compare the returns earned by each fund to the returns earned by investment in the S&P 500 index. We will save the S&P 500 data as a new column in the same data frame, *close_data*."
   ]
  },
  {
   "cell_type": "code",
   "execution_count": 9,
   "id": "c627cde9",
   "metadata": {
    "scrolled": true
   },
   "outputs": [
    {
     "name": "stdout",
     "output_type": "stream",
     "text": [
      "[*********************100%***********************]  1 of 1 completed\n"
     ]
    },
    {
     "name": "stderr",
     "output_type": "stream",
     "text": [
      "C:\\Users\\JLCat\\AppData\\Local\\Temp\\ipykernel_8760\\3606127288.py:1: PerformanceWarning: DataFrame is highly fragmented.  This is usually the result of calling `frame.insert` many times, which has poor performance.  Consider joining all columns at once using pd.concat(axis=1) instead. To get a de-fragmented frame, use `newframe = frame.copy()`\n",
      "  close_data[\"S&P 500\"] = web.get_data_yahoo('^GSPC', start, end)['Adj Close']\n",
      "C:\\Users\\JLCat\\AppData\\Local\\Temp\\ipykernel_8760\\3606127288.py:1: SettingWithCopyWarning: \n",
      "A value is trying to be set on a copy of a slice from a DataFrame.\n",
      "Try using .loc[row_indexer,col_indexer] = value instead\n",
      "\n",
      "See the caveats in the documentation: https://pandas.pydata.org/pandas-docs/stable/user_guide/indexing.html#returning-a-view-versus-a-copy\n",
      "  close_data[\"S&P 500\"] = web.get_data_yahoo('^GSPC', start, end)['Adj Close']\n"
     ]
    }
   ],
   "source": [
    "close_data[\"S&P 500\"] = web.get_data_yahoo('^GSPC', start, end)['Adj Close']"
   ]
  },
  {
   "cell_type": "code",
   "execution_count": 10,
   "id": "147d0476",
   "metadata": {},
   "outputs": [
    {
     "data": {
      "text/plain": [
       "Date\n",
       "2019-12-24    3223.379883\n",
       "2019-12-26    3239.909912\n",
       "2019-12-27    3240.020020\n",
       "2019-12-30    3221.290039\n",
       "2019-12-31    3230.780029\n",
       "Name: S&P 500, dtype: float64"
      ]
     },
     "execution_count": 10,
     "metadata": {},
     "output_type": "execute_result"
    }
   ],
   "source": [
    "close_data[\"S&P 500\"].tail()"
   ]
  },
  {
   "cell_type": "markdown",
   "id": "bae63799",
   "metadata": {},
   "source": [
    "Since data for many of the funds considered do not span many years, we will compare monthly returns for each fund to monthly returns to the S&P 500.\n",
    "\n",
    "To do this, we use the Pandas _.resample(\"M\")_ method, with the \"M\" specifying that we would like a monthly frequency. Then, we take the the log-differece of our monthly data.  "
   ]
  },
  {
   "cell_type": "code",
   "execution_count": 11,
   "id": "7ee8b2f5",
   "metadata": {},
   "outputs": [
    {
     "data": {
      "text/html": [
       "<div>\n",
       "<style scoped>\n",
       "    .dataframe tbody tr th:only-of-type {\n",
       "        vertical-align: middle;\n",
       "    }\n",
       "\n",
       "    .dataframe tbody tr th {\n",
       "        vertical-align: top;\n",
       "    }\n",
       "\n",
       "    .dataframe thead th {\n",
       "        text-align: right;\n",
       "    }\n",
       "</style>\n",
       "<table border=\"1\" class=\"dataframe\">\n",
       "  <thead>\n",
       "    <tr style=\"text-align: right;\">\n",
       "      <th></th>\n",
       "      <th>AFMFX</th>\n",
       "      <th>AGTHX</th>\n",
       "      <th>AIVSX</th>\n",
       "      <th>AKRIX</th>\n",
       "      <th>AKRSX</th>\n",
       "      <th>AMCFX</th>\n",
       "      <th>AMCPX</th>\n",
       "      <th>AMRFX</th>\n",
       "      <th>AMRMX</th>\n",
       "      <th>ANCFX</th>\n",
       "      <th>...</th>\n",
       "      <th>RPMGX</th>\n",
       "      <th>SBLYX</th>\n",
       "      <th>SEEGX</th>\n",
       "      <th>TRBCX</th>\n",
       "      <th>TWCGX</th>\n",
       "      <th>TWCUX</th>\n",
       "      <th>VAFAX</th>\n",
       "      <th>VWNFX</th>\n",
       "      <th>VWUSX</th>\n",
       "      <th>S&amp;P 500</th>\n",
       "    </tr>\n",
       "    <tr>\n",
       "      <th>Date</th>\n",
       "      <th></th>\n",
       "      <th></th>\n",
       "      <th></th>\n",
       "      <th></th>\n",
       "      <th></th>\n",
       "      <th></th>\n",
       "      <th></th>\n",
       "      <th></th>\n",
       "      <th></th>\n",
       "      <th></th>\n",
       "      <th></th>\n",
       "      <th></th>\n",
       "      <th></th>\n",
       "      <th></th>\n",
       "      <th></th>\n",
       "      <th></th>\n",
       "      <th></th>\n",
       "      <th></th>\n",
       "      <th></th>\n",
       "      <th></th>\n",
       "      <th></th>\n",
       "    </tr>\n",
       "  </thead>\n",
       "  <tbody>\n",
       "    <tr>\n",
       "      <th>2019-08-31</th>\n",
       "      <td>33.871071</td>\n",
       "      <td>36.979725</td>\n",
       "      <td>29.554476</td>\n",
       "      <td>38.182529</td>\n",
       "      <td>38.358761</td>\n",
       "      <td>24.858328</td>\n",
       "      <td>24.781281</td>\n",
       "      <td>34.036896</td>\n",
       "      <td>34.521442</td>\n",
       "      <td>43.642979</td>\n",
       "      <td>...</td>\n",
       "      <td>71.281815</td>\n",
       "      <td>36.324135</td>\n",
       "      <td>30.476664</td>\n",
       "      <td>96.351395</td>\n",
       "      <td>27.435658</td>\n",
       "      <td>39.930313</td>\n",
       "      <td>13.367850</td>\n",
       "      <td>26.122929</td>\n",
       "      <td>33.481194</td>\n",
       "      <td>2953.560059</td>\n",
       "    </tr>\n",
       "    <tr>\n",
       "      <th>2019-09-30</th>\n",
       "      <td>33.927963</td>\n",
       "      <td>36.072563</td>\n",
       "      <td>29.034618</td>\n",
       "      <td>38.999454</td>\n",
       "      <td>39.176544</td>\n",
       "      <td>24.341728</td>\n",
       "      <td>24.262259</td>\n",
       "      <td>34.085896</td>\n",
       "      <td>34.571129</td>\n",
       "      <td>42.655277</td>\n",
       "      <td>...</td>\n",
       "      <td>69.934181</td>\n",
       "      <td>35.322330</td>\n",
       "      <td>30.370668</td>\n",
       "      <td>94.342865</td>\n",
       "      <td>26.914333</td>\n",
       "      <td>38.901058</td>\n",
       "      <td>13.186357</td>\n",
       "      <td>25.474594</td>\n",
       "      <td>32.819004</td>\n",
       "      <td>2906.270020</td>\n",
       "    </tr>\n",
       "    <tr>\n",
       "      <th>2019-10-31</th>\n",
       "      <td>34.371719</td>\n",
       "      <td>35.932434</td>\n",
       "      <td>29.205873</td>\n",
       "      <td>38.403782</td>\n",
       "      <td>38.588764</td>\n",
       "      <td>24.218363</td>\n",
       "      <td>24.138313</td>\n",
       "      <td>34.530266</td>\n",
       "      <td>35.012012</td>\n",
       "      <td>43.182732</td>\n",
       "      <td>...</td>\n",
       "      <td>69.312790</td>\n",
       "      <td>35.451813</td>\n",
       "      <td>29.346062</td>\n",
       "      <td>92.877647</td>\n",
       "      <td>26.883211</td>\n",
       "      <td>39.103664</td>\n",
       "      <td>13.086224</td>\n",
       "      <td>26.057371</td>\n",
       "      <td>32.390995</td>\n",
       "      <td>2940.250000</td>\n",
       "    </tr>\n",
       "    <tr>\n",
       "      <th>2019-11-30</th>\n",
       "      <td>35.188938</td>\n",
       "      <td>37.820511</td>\n",
       "      <td>30.358837</td>\n",
       "      <td>39.246223</td>\n",
       "      <td>39.432095</td>\n",
       "      <td>25.374922</td>\n",
       "      <td>25.284803</td>\n",
       "      <td>35.351246</td>\n",
       "      <td>35.835716</td>\n",
       "      <td>45.444614</td>\n",
       "      <td>...</td>\n",
       "      <td>71.581284</td>\n",
       "      <td>36.855709</td>\n",
       "      <td>30.045626</td>\n",
       "      <td>96.573647</td>\n",
       "      <td>28.065918</td>\n",
       "      <td>41.202698</td>\n",
       "      <td>13.774642</td>\n",
       "      <td>27.456028</td>\n",
       "      <td>33.820370</td>\n",
       "      <td>3066.909912</td>\n",
       "    </tr>\n",
       "    <tr>\n",
       "      <th>2019-12-31</th>\n",
       "      <td>35.654747</td>\n",
       "      <td>38.801426</td>\n",
       "      <td>31.036596</td>\n",
       "      <td>39.161129</td>\n",
       "      <td>39.355427</td>\n",
       "      <td>26.084284</td>\n",
       "      <td>25.989744</td>\n",
       "      <td>35.810989</td>\n",
       "      <td>36.293331</td>\n",
       "      <td>46.479462</td>\n",
       "      <td>...</td>\n",
       "      <td>73.086128</td>\n",
       "      <td>37.625809</td>\n",
       "      <td>31.162086</td>\n",
       "      <td>99.257164</td>\n",
       "      <td>28.867359</td>\n",
       "      <td>42.458881</td>\n",
       "      <td>14.081302</td>\n",
       "      <td>27.907682</td>\n",
       "      <td>34.773285</td>\n",
       "      <td>3113.870117</td>\n",
       "    </tr>\n",
       "  </tbody>\n",
       "</table>\n",
       "<p>5 rows × 101 columns</p>\n",
       "</div>"
      ],
      "text/plain": [
       "                AFMFX      AGTHX      AIVSX      AKRIX      AKRSX      AMCFX  \\\n",
       "Date                                                                           \n",
       "2019-08-31  33.871071  36.979725  29.554476  38.182529  38.358761  24.858328   \n",
       "2019-09-30  33.927963  36.072563  29.034618  38.999454  39.176544  24.341728   \n",
       "2019-10-31  34.371719  35.932434  29.205873  38.403782  38.588764  24.218363   \n",
       "2019-11-30  35.188938  37.820511  30.358837  39.246223  39.432095  25.374922   \n",
       "2019-12-31  35.654747  38.801426  31.036596  39.161129  39.355427  26.084284   \n",
       "\n",
       "                AMCPX      AMRFX      AMRMX      ANCFX  ...      RPMGX  \\\n",
       "Date                                                    ...              \n",
       "2019-08-31  24.781281  34.036896  34.521442  43.642979  ...  71.281815   \n",
       "2019-09-30  24.262259  34.085896  34.571129  42.655277  ...  69.934181   \n",
       "2019-10-31  24.138313  34.530266  35.012012  43.182732  ...  69.312790   \n",
       "2019-11-30  25.284803  35.351246  35.835716  45.444614  ...  71.581284   \n",
       "2019-12-31  25.989744  35.810989  36.293331  46.479462  ...  73.086128   \n",
       "\n",
       "                SBLYX      SEEGX      TRBCX      TWCGX      TWCUX      VAFAX  \\\n",
       "Date                                                                           \n",
       "2019-08-31  36.324135  30.476664  96.351395  27.435658  39.930313  13.367850   \n",
       "2019-09-30  35.322330  30.370668  94.342865  26.914333  38.901058  13.186357   \n",
       "2019-10-31  35.451813  29.346062  92.877647  26.883211  39.103664  13.086224   \n",
       "2019-11-30  36.855709  30.045626  96.573647  28.065918  41.202698  13.774642   \n",
       "2019-12-31  37.625809  31.162086  99.257164  28.867359  42.458881  14.081302   \n",
       "\n",
       "                VWNFX      VWUSX      S&P 500  \n",
       "Date                                           \n",
       "2019-08-31  26.122929  33.481194  2953.560059  \n",
       "2019-09-30  25.474594  32.819004  2906.270020  \n",
       "2019-10-31  26.057371  32.390995  2940.250000  \n",
       "2019-11-30  27.456028  33.820370  3066.909912  \n",
       "2019-12-31  27.907682  34.773285  3113.870117  \n",
       "\n",
       "[5 rows x 101 columns]"
      ]
     },
     "execution_count": 11,
     "metadata": {},
     "output_type": "execute_result"
    }
   ],
   "source": [
    "monthly_close_data = close_data.resample(\"M\").first()\n",
    "monthly_close_data.tail()"
   ]
  },
  {
   "cell_type": "code",
   "execution_count": 12,
   "id": "12f00435",
   "metadata": {
    "scrolled": false
   },
   "outputs": [
    {
     "data": {
      "text/html": [
       "<div>\n",
       "<style scoped>\n",
       "    .dataframe tbody tr th:only-of-type {\n",
       "        vertical-align: middle;\n",
       "    }\n",
       "\n",
       "    .dataframe tbody tr th {\n",
       "        vertical-align: top;\n",
       "    }\n",
       "\n",
       "    .dataframe thead th {\n",
       "        text-align: right;\n",
       "    }\n",
       "</style>\n",
       "<table border=\"1\" class=\"dataframe\">\n",
       "  <thead>\n",
       "    <tr style=\"text-align: right;\">\n",
       "      <th></th>\n",
       "      <th>AFMFX</th>\n",
       "      <th>AGTHX</th>\n",
       "      <th>AIVSX</th>\n",
       "      <th>AKRIX</th>\n",
       "      <th>AKRSX</th>\n",
       "      <th>AMCFX</th>\n",
       "      <th>AMCPX</th>\n",
       "      <th>AMRFX</th>\n",
       "      <th>AMRMX</th>\n",
       "      <th>ANCFX</th>\n",
       "      <th>...</th>\n",
       "      <th>RPMGX</th>\n",
       "      <th>SBLYX</th>\n",
       "      <th>SEEGX</th>\n",
       "      <th>TRBCX</th>\n",
       "      <th>TWCGX</th>\n",
       "      <th>TWCUX</th>\n",
       "      <th>VAFAX</th>\n",
       "      <th>VWNFX</th>\n",
       "      <th>VWUSX</th>\n",
       "      <th>S&amp;P 500</th>\n",
       "    </tr>\n",
       "    <tr>\n",
       "      <th>Date</th>\n",
       "      <th></th>\n",
       "      <th></th>\n",
       "      <th></th>\n",
       "      <th></th>\n",
       "      <th></th>\n",
       "      <th></th>\n",
       "      <th></th>\n",
       "      <th></th>\n",
       "      <th></th>\n",
       "      <th></th>\n",
       "      <th></th>\n",
       "      <th></th>\n",
       "      <th></th>\n",
       "      <th></th>\n",
       "      <th></th>\n",
       "      <th></th>\n",
       "      <th></th>\n",
       "      <th></th>\n",
       "      <th></th>\n",
       "      <th></th>\n",
       "      <th></th>\n",
       "    </tr>\n",
       "  </thead>\n",
       "  <tbody>\n",
       "    <tr>\n",
       "      <th>2019-08-31</th>\n",
       "      <td>-0.005503</td>\n",
       "      <td>-0.012487</td>\n",
       "      <td>-0.008626</td>\n",
       "      <td>0.016176</td>\n",
       "      <td>0.016344</td>\n",
       "      <td>-0.015695</td>\n",
       "      <td>-0.016124</td>\n",
       "      <td>-0.005742</td>\n",
       "      <td>-0.005979</td>\n",
       "      <td>-0.009414</td>\n",
       "      <td>...</td>\n",
       "      <td>-0.004088</td>\n",
       "      <td>0.003006</td>\n",
       "      <td>0.005347</td>\n",
       "      <td>-0.000598</td>\n",
       "      <td>0.006259</td>\n",
       "      <td>0.001625</td>\n",
       "      <td>0.002813</td>\n",
       "      <td>-0.005562</td>\n",
       "      <td>-0.003611</td>\n",
       "      <td>-0.003640</td>\n",
       "    </tr>\n",
       "    <tr>\n",
       "      <th>2019-09-30</th>\n",
       "      <td>0.001678</td>\n",
       "      <td>-0.024837</td>\n",
       "      <td>-0.017746</td>\n",
       "      <td>0.021170</td>\n",
       "      <td>0.021095</td>\n",
       "      <td>-0.021001</td>\n",
       "      <td>-0.021167</td>\n",
       "      <td>0.001439</td>\n",
       "      <td>0.001438</td>\n",
       "      <td>-0.022891</td>\n",
       "      <td>...</td>\n",
       "      <td>-0.019087</td>\n",
       "      <td>-0.027967</td>\n",
       "      <td>-0.003484</td>\n",
       "      <td>-0.021066</td>\n",
       "      <td>-0.019185</td>\n",
       "      <td>-0.026114</td>\n",
       "      <td>-0.013670</td>\n",
       "      <td>-0.025132</td>\n",
       "      <td>-0.019976</td>\n",
       "      <td>-0.016141</td>\n",
       "    </tr>\n",
       "    <tr>\n",
       "      <th>2019-10-31</th>\n",
       "      <td>0.012995</td>\n",
       "      <td>-0.003892</td>\n",
       "      <td>0.005881</td>\n",
       "      <td>-0.015392</td>\n",
       "      <td>-0.015117</td>\n",
       "      <td>-0.005081</td>\n",
       "      <td>-0.005122</td>\n",
       "      <td>0.012953</td>\n",
       "      <td>0.012672</td>\n",
       "      <td>0.012290</td>\n",
       "      <td>...</td>\n",
       "      <td>-0.008925</td>\n",
       "      <td>0.003659</td>\n",
       "      <td>-0.034319</td>\n",
       "      <td>-0.015653</td>\n",
       "      <td>-0.001157</td>\n",
       "      <td>0.005195</td>\n",
       "      <td>-0.007623</td>\n",
       "      <td>0.022619</td>\n",
       "      <td>-0.013127</td>\n",
       "      <td>0.011624</td>\n",
       "    </tr>\n",
       "    <tr>\n",
       "      <th>2019-11-30</th>\n",
       "      <td>0.023498</td>\n",
       "      <td>0.051211</td>\n",
       "      <td>0.038718</td>\n",
       "      <td>0.021699</td>\n",
       "      <td>0.021619</td>\n",
       "      <td>0.046650</td>\n",
       "      <td>0.046403</td>\n",
       "      <td>0.023497</td>\n",
       "      <td>0.023254</td>\n",
       "      <td>0.051054</td>\n",
       "      <td>...</td>\n",
       "      <td>0.032204</td>\n",
       "      <td>0.038836</td>\n",
       "      <td>0.023559</td>\n",
       "      <td>0.039023</td>\n",
       "      <td>0.043054</td>\n",
       "      <td>0.052288</td>\n",
       "      <td>0.051269</td>\n",
       "      <td>0.052285</td>\n",
       "      <td>0.043183</td>\n",
       "      <td>0.042176</td>\n",
       "    </tr>\n",
       "    <tr>\n",
       "      <th>2019-12-31</th>\n",
       "      <td>0.013151</td>\n",
       "      <td>0.025605</td>\n",
       "      <td>0.022079</td>\n",
       "      <td>-0.002171</td>\n",
       "      <td>-0.001946</td>\n",
       "      <td>0.027572</td>\n",
       "      <td>0.027498</td>\n",
       "      <td>0.012921</td>\n",
       "      <td>0.012689</td>\n",
       "      <td>0.022516</td>\n",
       "      <td>...</td>\n",
       "      <td>0.020805</td>\n",
       "      <td>0.020680</td>\n",
       "      <td>0.036485</td>\n",
       "      <td>0.027408</td>\n",
       "      <td>0.028156</td>\n",
       "      <td>0.030032</td>\n",
       "      <td>0.022018</td>\n",
       "      <td>0.016316</td>\n",
       "      <td>0.027786</td>\n",
       "      <td>0.015196</td>\n",
       "    </tr>\n",
       "  </tbody>\n",
       "</table>\n",
       "<p>5 rows × 101 columns</p>\n",
       "</div>"
      ],
      "text/plain": [
       "               AFMFX     AGTHX     AIVSX     AKRIX     AKRSX     AMCFX  \\\n",
       "Date                                                                     \n",
       "2019-08-31 -0.005503 -0.012487 -0.008626  0.016176  0.016344 -0.015695   \n",
       "2019-09-30  0.001678 -0.024837 -0.017746  0.021170  0.021095 -0.021001   \n",
       "2019-10-31  0.012995 -0.003892  0.005881 -0.015392 -0.015117 -0.005081   \n",
       "2019-11-30  0.023498  0.051211  0.038718  0.021699  0.021619  0.046650   \n",
       "2019-12-31  0.013151  0.025605  0.022079 -0.002171 -0.001946  0.027572   \n",
       "\n",
       "               AMCPX     AMRFX     AMRMX     ANCFX  ...     RPMGX     SBLYX  \\\n",
       "Date                                                ...                       \n",
       "2019-08-31 -0.016124 -0.005742 -0.005979 -0.009414  ... -0.004088  0.003006   \n",
       "2019-09-30 -0.021167  0.001439  0.001438 -0.022891  ... -0.019087 -0.027967   \n",
       "2019-10-31 -0.005122  0.012953  0.012672  0.012290  ... -0.008925  0.003659   \n",
       "2019-11-30  0.046403  0.023497  0.023254  0.051054  ...  0.032204  0.038836   \n",
       "2019-12-31  0.027498  0.012921  0.012689  0.022516  ...  0.020805  0.020680   \n",
       "\n",
       "               SEEGX     TRBCX     TWCGX     TWCUX     VAFAX     VWNFX  \\\n",
       "Date                                                                     \n",
       "2019-08-31  0.005347 -0.000598  0.006259  0.001625  0.002813 -0.005562   \n",
       "2019-09-30 -0.003484 -0.021066 -0.019185 -0.026114 -0.013670 -0.025132   \n",
       "2019-10-31 -0.034319 -0.015653 -0.001157  0.005195 -0.007623  0.022619   \n",
       "2019-11-30  0.023559  0.039023  0.043054  0.052288  0.051269  0.052285   \n",
       "2019-12-31  0.036485  0.027408  0.028156  0.030032  0.022018  0.016316   \n",
       "\n",
       "               VWUSX   S&P 500  \n",
       "Date                            \n",
       "2019-08-31 -0.003611 -0.003640  \n",
       "2019-09-30 -0.019976 -0.016141  \n",
       "2019-10-31 -0.013127  0.011624  \n",
       "2019-11-30  0.043183  0.042176  \n",
       "2019-12-31  0.027786  0.015196  \n",
       "\n",
       "[5 rows x 101 columns]"
      ]
     },
     "execution_count": 12,
     "metadata": {},
     "output_type": "execute_result"
    }
   ],
   "source": [
    "#calculate percent change from previous month\n",
    "monthly_returns = np.log(monthly_close_data).diff()\n",
    "monthly_returns.tail()"
   ]
  },
  {
   "cell_type": "code",
   "execution_count": 13,
   "id": "cab421e1",
   "metadata": {},
   "outputs": [],
   "source": [
    "avg_monthly_return = monthly_close_data.loc[\"2015\":].dropna(axis = 1)\n",
    "num_months = avg_monthly_return.shape[0]\n",
    "avg_monthly_return = avg_monthly_return.iloc[-1].div(avg_monthly_return.iloc[0])\n",
    "avg_monthly_return = avg_monthly_return.pow(1 / num_months).sub(1)"
   ]
  },
  {
   "cell_type": "markdown",
   "id": "7abc1c49",
   "metadata": {},
   "source": [
    "Now that we have out data wrangled and prepped, we can compute some basic statistics to understand the distribution of our dataset. The easiest method to start with is using the Pandas _df.describe()_ method, which gives us basic descriptive statistics for each series in our dataframe. "
   ]
  },
  {
   "cell_type": "code",
   "execution_count": 14,
   "id": "f5e535c4",
   "metadata": {},
   "outputs": [
    {
     "data": {
      "text/plain": [
       "count    91.000000\n",
       "mean      0.008867\n",
       "std       0.002076\n",
       "min       0.003378\n",
       "25%       0.007389\n",
       "50%       0.008292\n",
       "75%       0.010792\n",
       "max       0.012552\n",
       "dtype: float64"
      ]
     },
     "execution_count": 14,
     "metadata": {},
     "output_type": "execute_result"
    }
   ],
   "source": [
    "avg_monthly_return.describe()"
   ]
  },
  {
   "cell_type": "markdown",
   "id": "5c0ac564",
   "metadata": {},
   "source": [
    "We can also display a visual of our distributions by using a histogram. Usually, rates of change like we are dealing with in stock prices will display a normal-looking distribution. We can take the mean change of the entire dataset and the mean standard deviation of the entire dataset to be entered into a normal distribution function that we can overlay over our data's histogram to visually check for normality. "
   ]
  },
  {
   "cell_type": "code",
   "execution_count": 15,
   "id": "3e2f8738",
   "metadata": {},
   "outputs": [
    {
     "data": {
      "text/plain": [
       "<AxesSubplot:xlabel='Date'>"
      ]
     },
     "execution_count": 15,
     "metadata": {},
     "output_type": "execute_result"
    },
    {
     "data": {
      "image/png": "[encoded data removed]",
      "text/plain": [
       "<Figure size 1500x1000 with 1 Axes>"
      ]
     },
     "metadata": {},
     "output_type": "display_data"
    }
   ],
   "source": [
    "import matplotlib.pyplot as plt\n",
    "fig, ax = plt.subplots(figsize = (15,10))\n",
    "monthly_close_data[\"S&P 500\"].plot.line(ax = ax)"
   ]
  },
  {
   "cell_type": "code",
   "execution_count": 16,
   "id": "eeb9bd6f",
   "metadata": {},
   "outputs": [
    {
     "name": "stdout",
     "output_type": "stream",
     "text": [
      "0.008415545630327497 0.04610865741073594\n"
     ]
    }
   ],
   "source": [
    "# find the mean of the mean monthly changes and the mean standard deviation of changes\n",
    "mu = monthly_returns.mean().mean()\n",
    "sigma = monthly_returns.std().mean()\n",
    "print(mu, sigma)"
   ]
  },
  {
   "cell_type": "code",
   "execution_count": 17,
   "id": "1be5c3cf",
   "metadata": {},
   "outputs": [
    {
     "data": {
      "text/plain": [
       "158.905632373431"
      ]
     },
     "execution_count": 17,
     "metadata": {},
     "output_type": "execute_result"
    }
   ],
   "source": [
    "n = monthly_returns.notna().sum().sum()\n",
    "np.sqrt(n)"
   ]
  },
  {
   "cell_type": "code",
   "execution_count": 18,
   "id": "c06a834b",
   "metadata": {},
   "outputs": [
    {
     "name": "stderr",
     "output_type": "stream",
     "text": [
      "C:\\ProgramData\\Anaconda3\\lib\\site-packages\\scipy\\__init__.py:155: UserWarning: A NumPy version >=1.18.5 and <1.25.0 is required for this version of SciPy (detected version 1.26.3\n",
      "  warnings.warn(f\"A NumPy version >={np_minversion} and <{np_maxversion}\"\n"
     ]
    },
    {
     "data": {
      "text/plain": [
       "Text(0.5, 1.0, 'Distributions of Various Index Fund Returns')"
      ]
     },
     "execution_count": 18,
     "metadata": {},
     "output_type": "execute_result"
    },
    {
     "data": {
      "image/png": "[encoded data removed]",
      "text/plain": [
       "<Figure size 1000x500 with 1 Axes>"
      ]
     },
     "metadata": {},
     "output_type": "display_data"
    }
   ],
   "source": [
    "import matplotlib.pyplot as plt\n",
    "import scipy.stats as stats\n",
    "\n",
    "fig, ax = plt.subplots(figsize=(10, 5))\n",
    "\n",
    "#plot the funds distributions\n",
    "monthly_returns.plot.hist(bins=30, ax=ax, density=True, alpha=.5, legend=False)\n",
    "\n",
    "ax.set_title(\n",
    "    \"Distributions of Various Index Fund Returns\"\n",
    ")"
   ]
  },
  {
   "cell_type": "code",
   "execution_count": 19,
   "id": "53387410",
   "metadata": {},
   "outputs": [],
   "source": [
    "diff_from_sp500 = []\n",
    "for symbol in symbols:\n",
    "    diff_from_sp500.extend(monthly_returns[symbol].dropna() - monthly_returns[\"S&P 500\"].dropna())"
   ]
  },
  {
   "cell_type": "code",
   "execution_count": 20,
   "id": "e79e5d90",
   "metadata": {},
   "outputs": [],
   "source": [
    "diff_from_sp500 = pd.Series(diff_from_sp500)"
   ]
  },
  {
   "cell_type": "code",
   "execution_count": 21,
   "id": "a8ef7411",
   "metadata": {},
   "outputs": [
    {
     "data": {
      "text/plain": [
       "0.0018002354330562283"
      ]
     },
     "execution_count": 21,
     "metadata": {},
     "output_type": "execute_result"
    }
   ],
   "source": [
    "diff_from_sp500.mean()"
   ]
  },
  {
   "cell_type": "code",
   "execution_count": 22,
   "id": "0990ca6f",
   "metadata": {},
   "outputs": [
    {
     "data": {
      "text/plain": [
       "0.008867352708218354"
      ]
     },
     "execution_count": 22,
     "metadata": {},
     "output_type": "execute_result"
    }
   ],
   "source": [
    "avg_monthly_return.mean()"
   ]
  },
  {
   "cell_type": "code",
   "execution_count": 23,
   "id": "7db4bd12",
   "metadata": {},
   "outputs": [
    {
     "data": {
      "text/plain": [
       "<AxesSubplot:ylabel='Frequency'>"
      ]
     },
     "execution_count": 23,
     "metadata": {},
     "output_type": "execute_result"
    },
    {
     "data": {
      "image/png": "[encoded data removed]",
      "text/plain": [
       "<Figure size 1000x500 with 1 Axes>"
      ]
     },
     "metadata": {},
     "output_type": "display_data"
    }
   ],
   "source": [
    "fig, ax = plt.subplots(figsize=(10, 5))\n",
    "diff_from_sp500.plot.hist(bins=1000, ax = ax)"
   ]
  },
  {
   "cell_type": "markdown",
   "id": "104c2415",
   "metadata": {},
   "source": [
    "We have successfully wrangled and prepped our data and can now begin statistical analysis on it. "
   ]
  },
  {
   "cell_type": "markdown",
   "id": "d546cb57",
   "metadata": {},
   "source": [
    "# Hypothesis Testing and Confidence Intervals\n",
    "\n",
    "Statistical inference may be divided into two major areas: tests of hypothesis and estimation. __Hypothesis tests__ make inference about whether a sample parameter relates to a singular value in a chosen way, i.e., the same as that value.  __Estimations__ give a range of values that a sample parameter could take, with a chosen level of probability, called a confidence interval. \n",
    "\n",
    "These topics are sometimes taught seperately, this section will attempt to teach them together as they are directly related.\n",
    "The need for both methods can be demonstrated using our mutual fund and S&P 500 data. Imagine we wanted to see if a given mutual fund outperformed the S&P 500 during the great recession(December 2007 to June 2009), and if it did, was the difference more likely due to randomness or because the fund was actually more resilient? These answers wil come from performing a hypothesis test. On the other hand, if we wanted a range of returns we could be 95% certain would contain the mean return of the S&P 500 if a recession similar to the great recession were to happen again, we would want a confidence interval.\n",
    "\n",
    "This idea of finding a range of possibilities for events that have already happened is not intuitive. What does it mean to create a confidence interval for past S&P500 returns? Haven't these returns already happened?\n",
    "\n",
    "Although the returns have been observed, we assume that _randomness_ had a large influence on these returns. Theoretically, if we were to re-run the same time period of S&P500 returns, we would expect them to be different, ceteris paribus, _within a confidence interval_. This is definitionally randomness. There is no causal effect. The range of expected randomness for a relatively complete dataset like previous S&P500 returns is the standard error of the mean for that dataset, which will be smaller as the sample size increases. Randomness has less effect on larger datasets. "
   ]
  },
  {
   "cell_type": "markdown",
   "id": "298142f4",
   "metadata": {},
   "source": [
    "## Hypothesis tests\n",
    "As the name suggests, hypothesis tests use __hypotheses__. These are mutually exclusive, falsifiable statements. Only one can be true, and one of them will be true. Generally, these are the hypothses we begin with: \n",
    "\n",
    "- The _null_ hypothesis $H_o$: The true means of the the sample populations do not differ.\n",
    "- The _alternate_ hypothesis $H_a$: The true means of the sample populations do differ.\n",
    "\n",
    "### Types of Error\n",
    "when making an inference about the value of the parameter, there are two types of error we can make: \n",
    "\n",
    "- Type 1 Error: This is the incorrect denial of a true null hypothesis - a \"false positive\"\n",
    "- Type 2 Error: This is the incorrect acceptance of a false null hypothesis - a \"false negative\" \n",
    "\n",
    "In statistics, type 1 error is denoted by the Greek letter $\\alpha$ and is called the significance level. Usually, the significance level is set to 0.05 (5%), implying that it is acceptable to have a 5% probability of incorrectly rejecting the true null hypothesis. Hence, most hypothesis tests are 95% confident in their inferences about a parameter and most confidence intervals give a range of values that the tester is 95% confident contains the true parameter. \n",
    "\n",
    "The probability of a type 2 error is denoted $\\beta$ and $1-\\beta$ is known as the power of the test. \n",
    "\n",
    "These two types of error are heavily related, and the tester faces a tradeoff - generally, when the probability of one type of error is minimized, the other increases. However the probability of committing both types of error decreases as the sample size increases. \n",
    "\n",
    "### Hypothesis Testing with Mutual Funds \n",
    "In the case of us determining the efficacy of an investment strategy, we must compare the return on strategy to the average return approximated by returns on investment in the S&P 500. These are our hypotheses: \n",
    "\n",
    "- $H_o$: There is no difference between the mutual fund's and S&P500's average monthly return. \n",
    "- $H_a$: The mutual funds have a higher mean gain than the S&P500. \n",
    "\n",
    "In particular, we would like to know if the mean returns for any and each index funds are different from and higher than returns earned by the S&P 500."
   ]
  },
  {
   "cell_type": "markdown",
   "id": "dcefb822",
   "metadata": {},
   "source": [
    "### T-values\n",
    "\n",
    "The t-value, returned from the __T-test__ is used when we are dealing with a population of unknown, but normal, distribution. We have to check this assumption of normality prior to any t-test. Once we have done that, we can compare a given sample mean to one of three options: \n",
    "\n",
    "- **One Sample T-test:** The one sample t test compares the mean of your sample data to a known value. For example, we can compare a given funds average monthly return to some arbitrary value, like 7% or 10%. \n",
    "<h3 align=\"center\">\n",
    "    <font size=\"6\">\n",
    "        $t = \\frac{\\bar{X} - \\mu}{\\frac{s}{\\sqrt{n}}}$\n",
    "    </font>\n",
    "    </h3> \n",
    "    \n",
    "    \n",
    "   - Null Hypothesis: sample mean is the same as hypothesized or theoretical mean\n",
    "   - Alternative Hypothesis: sample mean is different from the hypothesized or theoretical mean\n",
    "   - $\\bar{X}$ is the sample mean \n",
    "   - $ \\mu$ is the hypothesized value\n",
    "   - $ \\frac{s}{\\sqrt{n}}$ is the standard error of the mean. The standard error of the mean is the standard deviation of the t-distribution with a given degrees of freedom. "
   ]
  },
  {
   "cell_type": "code",
   "execution_count": 24,
   "id": "7e758145",
   "metadata": {},
   "outputs": [],
   "source": [
    "def t_value_1samp(data, mu):\n",
    "    x_bar = np.mean(data)\n",
    "    s = np.std(data)\n",
    "    n = len(data)\n",
    "    df = n - 1\n",
    "    t = (x_bar - mu) / (s / np.sqrt(n))\n",
    "    \n",
    "    #return both t and df to be used later in p-value calculations\n",
    "    return t, df"
   ]
  },
  {
   "cell_type": "markdown",
   "id": "0a6db53b",
   "metadata": {},
   "source": [
    "We can find the t-value for comparing the mean S&P500 monthly return to any rate we would like, in this example we choose the monthly rate that corresponds to a 7% yearly return: "
   ]
  },
  {
   "cell_type": "code",
   "execution_count": 25,
   "id": "bd3d80a8",
   "metadata": {},
   "outputs": [],
   "source": [
    "sp500 = monthly_returns[\"S&P 500\"].dropna()"
   ]
  },
  {
   "cell_type": "code",
   "execution_count": 26,
   "id": "31847cf2",
   "metadata": {},
   "outputs": [
    {
     "data": {
      "text/plain": [
       "0.0070614806803863525"
      ]
     },
     "execution_count": 26,
     "metadata": {},
     "output_type": "execute_result"
    }
   ],
   "source": [
    "sp500.mean()"
   ]
  },
  {
   "cell_type": "markdown",
   "id": "3b291f43",
   "metadata": {},
   "source": [
    "We can use the future value equation to calculate the monthly rate needed to obtain a yearly rate of $R$, given by this equation: \n",
    "\n",
    ">$ r = (R)^{\\frac{1}{t}} - 1$\n",
    ">\n",
    ">$t$ is the time period of measurement \n",
    "\n",
    "A 7% annnualized rate is a monthly rate of the 12 root of 1.07: $1.07^\\frac{1}{12} - 1$\n",
    "Discount the overall rate of return to find the average rate of return. We will use this to define the mean of the standard normal distribution:"
   ]
  },
  {
   "cell_type": "code",
   "execution_count": 27,
   "id": "1d1b1077",
   "metadata": {},
   "outputs": [
    {
     "data": {
      "text/plain": [
       "0.005654145387405274"
      ]
     },
     "execution_count": 27,
     "metadata": {},
     "output_type": "execute_result"
    }
   ],
   "source": [
    "hypothesized_rate = 1.07 **(1/12) - 1\n",
    "hypothesized_rate"
   ]
  },
  {
   "cell_type": "code",
   "execution_count": 28,
   "id": "bb2bba33",
   "metadata": {},
   "outputs": [
    {
     "data": {
      "text/plain": [
       "(0.6958593521205105, 478)"
      ]
     },
     "execution_count": 28,
     "metadata": {},
     "output_type": "execute_result"
    }
   ],
   "source": [
    "t_value_1samp(data=sp500, mu=hypothesized_rate)"
   ]
  },
  {
   "cell_type": "code",
   "execution_count": 29,
   "id": "bff21c0d",
   "metadata": {},
   "outputs": [
    {
     "data": {
      "text/plain": [
       "0.6951326058625774"
      ]
     },
     "execution_count": 29,
     "metadata": {},
     "output_type": "execute_result"
    }
   ],
   "source": [
    "stats.ttest_1samp(sp500, hypothesized_rate).statistic"
   ]
  },
  {
   "cell_type": "markdown",
   "id": "ac430a1f",
   "metadata": {},
   "source": [
    "This result suggests the S&P500s monthly return was only 0.205 of the S&P500's standard errors ($\\frac{s}{\\sqrt(n)}$) lower the hypothesized rate of a 7% yearly return. Further analysis of the probability of this result is discussed later in this chapter. "
   ]
  },
  {
   "cell_type": "markdown",
   "id": "f2bd2e9b",
   "metadata": {},
   "source": [
    "- **Independent Samples T-test:** The The independent samples t test (also called the unpaired samples t test) helps you to compare the means of two sets of data that came from different sources. Normally, we are checking to see if the means of the data are significantly different from a differnece of zero. But , we can also check if they are significantly different from a hypothesized or theoretical value. For instance, say we had two groups of males and one group of females and we wanted to compare average heights between the groups. For the males, we would check to see if they differed significantly from an average height difference of zero, whereas when comparing the males to the females we may want to see if they were significantly different from an average difference of 2 inches. **This hypothesized difference, $(\\mu_1 - \\mu_2)$, will usually be zero, but not always.**\n",
    "\n",
    "<h3 align=\"center\">\n",
    "    <font size=\"6\">\n",
    "        $ t = \\frac{(\\bar{x_1}-\\bar{x_2})-(\\mu_1 - \\mu_2)}{\\sqrt{\\frac{s^2_1}{n_1}+\\frac{s^2_2}{n_2}}}$\n",
    "    </font>\n",
    "    </h3> \n",
    "    \n",
    "   \n",
    "   - Note that this t-test is one variation of the independent samples t-test that _does not_ assume equal variance between the samples\n",
    "   \n",
    "    - Null Hypothesis: sample mean is the same as hypothesized or theoretical mean\n",
    "    - Alternative Hypothesis: sample mean is different from the hypothesized or theoretical mean\n",
    "    "
   ]
  },
  {
   "cell_type": "code",
   "execution_count": 30,
   "id": "c1fbbfa3",
   "metadata": {},
   "outputs": [],
   "source": [
    "# independent samples t-test, setting equal_var=True will turn this test into a paired samples t-test where equal variance\n",
    "# is assumed\n",
    "def t_value_ind_samp(a, b, hypothesized_difference=0, equal_var=False):\n",
    "    \n",
    "    a = np.array(a)\n",
    "    b = np.array(b)\n",
    "    \n",
    "    s1, n1 = np.var(a) , len(a)\n",
    "    s2, n2 = np.var(b),  len(b)\n",
    "    \n",
    "    # if paired samples, df calculation is different\n",
    "    if (equal_var):\n",
    "        df = n1 + n2 - 2\n",
    "        svar = ((n1 - 1) * s1 + (n2 - 1) * s2) / float(df)\n",
    "        denom = np.sqrt(svar * (1.0 / n1 + 1.0 / n2))\n",
    "    else:\n",
    "        vn1 = s1 / n1\n",
    "        vn2 = s2 / n2\n",
    "        df = (vn1 + vn2)**2 / (vn1**2 / (n1 - 1) + vn2**2 / (n2 - 1))\n",
    "        denom = np.sqrt(vn1 + vn2)\n",
    "\n",
    "    d = np.mean(a) - np.mean(b) - hypothesized_difference\n",
    "    t = d / denom\n",
    "    return t, df"
   ]
  },
  {
   "cell_type": "markdown",
   "id": "d9b9c5fa",
   "metadata": {},
   "source": [
    "A good example of the independent samples t-test is comparing the S&P500 to a mutual fund from our data, rather than to a hypothesized value as we did with the single-sample t-test. We use data to one of the older funds, T. Rowe Price Growth Stock Fund (PRGFX)."
   ]
  },
  {
   "cell_type": "code",
   "execution_count": 31,
   "id": "be73f8f9",
   "metadata": {},
   "outputs": [
    {
     "data": {
      "text/plain": [
       "(0.0070614806803863525, 0.0071247291963330095)"
      ]
     },
     "execution_count": 31,
     "metadata": {},
     "output_type": "execute_result"
    }
   ],
   "source": [
    "prgfx = monthly_returns[\"PRGFX\"].dropna()\n",
    "sp500.mean(), prgfx.mean()"
   ]
  },
  {
   "cell_type": "code",
   "execution_count": 32,
   "id": "7f00efbd",
   "metadata": {},
   "outputs": [
    {
     "data": {
      "text/plain": [
       "(-0.021225070417016226, 950.1085774181821)"
      ]
     },
     "execution_count": 32,
     "metadata": {},
     "output_type": "execute_result"
    }
   ],
   "source": [
    "t_value_ind_samp(sp500, prgfx)"
   ]
  },
  {
   "cell_type": "code",
   "execution_count": 33,
   "id": "50fff94a",
   "metadata": {},
   "outputs": [
    {
     "data": {
      "text/plain": [
       "-0.02120290323559814"
      ]
     },
     "execution_count": 33,
     "metadata": {},
     "output_type": "execute_result"
    }
   ],
   "source": [
    "stats.ttest_ind(sp500, prgfx).statistic"
   ]
  },
  {
   "cell_type": "markdown",
   "id": "f0b622e9",
   "metadata": {},
   "source": [
    "This result tells us that PRGFX's mean is 0.589 standard errors higher than the S&P500's. "
   ]
  },
  {
   "cell_type": "markdown",
   "id": "21b89b95",
   "metadata": {},
   "source": [
    "- **Paired Samples T-test:** A paired t test (also called a correlated pairs t-test, a paired samples t test or dependent samples t test) is where you run a t test on dependent samples. Dependent samples are essentially connected — they are tests on the same person or thing. This would be useful for us if we were doing some sort of scientific treatment to the same population - not something that is done to mutual funds. For our function, we can simply add an optional argument \"equal_var\" to our independent t-test funtion which will cause it to act like a paired samples t-test. "
   ]
  },
  {
   "cell_type": "markdown",
   "id": "28ef4c2b",
   "metadata": {},
   "source": [
    "### The T Probability Distribution\n",
    "When comparing two samples drawn from a population with unknown parameters, we return a t-value(defined below) similar to the z-value, and a corresponding degrees of freedom, indicating the size of our samples. If the size of our samples is high, we can have more confidence in our result. The t-distribution is defined as: \n",
    "\n",
    "<h3 align=\"center\">\n",
    "    <font size=\"6\">\n",
    "        $ f(T) = \\frac{(1 + \\frac{T^2}{\\nu})^{\\frac{-(\\nu+1)}{2}}}{B(0.5,0.5\\nu)\\sqrt(\\nu)}$\n",
    "    </font>\n",
    "    </h3> \n",
    "\n",
    "    \n",
    "- Where $\\nu$ is the degrees of freedom of the distribution and B is the beta function, which is beyond the scope of this book and can be pulled from the scipy.stats library. \n",
    "- This is the same distribution shown in the previous chapter; the Cauchy has one degree of freedom and the Standard normal is the form of the t-distribution with more than 30 degrees of freedom\n",
    "\n",
    "We can implement this distribution in code: "
   ]
  },
  {
   "cell_type": "code",
   "execution_count": 34,
   "id": "27d8ebe0",
   "metadata": {},
   "outputs": [],
   "source": [
    "import scipy.special as sc\n",
    "\n",
    "# define a function to create the actual distribution from which we can analyze our t value from the t test\n",
    "def t_distribution(df, t): \n",
    "    t_dist_val = ((1 + t**2 / df)\n",
    "                      **(-(df + 1) / 2)) / (sc.beta(.5, .5 * df) * np.sqrt(df))\n",
    "    return t_dist_val"
   ]
  },
  {
   "cell_type": "markdown",
   "id": "23d8e715",
   "metadata": {},
   "source": [
    "And then plot it: "
   ]
  },
  {
   "cell_type": "code",
   "execution_count": 35,
   "id": "70accb19",
   "metadata": {},
   "outputs": [
    {
     "data": {
      "text/plain": [
       "<matplotlib.legend.Legend at 0x29697d0fa30>"
      ]
     },
     "execution_count": 35,
     "metadata": {},
     "output_type": "execute_result"
    },
    {
     "data": {
      "image/png": "[encoded data removed]",
      "text/plain": [
       "<Figure size 1500x800 with 1 Axes>"
      ]
     },
     "metadata": {},
     "output_type": "display_data"
    }
   ],
   "source": [
    "import matplotlib.pyplot as plt\n",
    "\n",
    "fig, ax = plt.subplots(figsize=(15, 8))\n",
    "\n",
    "x = np.linspace(-5, 5, 1000)\n",
    "cauchy = t_distribution(1, x)\n",
    "ax.plot(cauchy, '-', lw=3, alpha=1, label=\"Cauchy\", color='b')\n",
    "t_df = [2, 3, 4, 5, 10, 20]\n",
    "for df in t_df:\n",
    "    dist = t_distribution(df, x)\n",
    "    ax.plot(dist, '-', lw=1, alpha=df / 20, label=\"df: \" + str(df), color='k')\n",
    "gaussian = t_distribution(30, x)\n",
    "ax.plot(gaussian,\n",
    "        lw=3,\n",
    "        alpha=1,\n",
    "        color='r',\n",
    "        label='Standard Normal Distribution')\n",
    "plt.rcParams.update({\"font.size\": 15})\n",
    "ax.set_ylabel(\"Probability of t-score\")\n",
    "ax.set_xlabel(\n",
    "    \"Standard Deviations away from mean( this varies as the distributions have different SD's)\"\n",
    ")\n",
    "plt.title(\"T-distribution with varying degrees of freedom\")\n",
    "ax.set_xticklabels(labels=\"\")\n",
    "plt.legend()"
   ]
  },
  {
   "cell_type": "markdown",
   "id": "778dcdee",
   "metadata": {},
   "source": [
    "### T-distribution p-value\n",
    "\n",
    "As we can see, a lower sample size, and hence a lower degrees of freedom, leads to a lower probaility that our t-score is near 0 when our population means are the same, because more random variation is likely when the sample size is so low. The point of a t-score is to determine if the difference in the two means of the samples is too drastic for the true population means to be the same. As we approach 30 with our degrees of freedom, the graph doesnt change much, and this is a standard normal distribution, which the z-score uses. Some textbooks say you can use z-score for large sample sizes; it will give nearly the same answer. \n",
    "\n",
    "Once we get our t-score, we plug it into the equation shown below to get it's p-value. The equation uses the t-distributions's __Cumulative Density Function__. This distribution models the probability that the random variable $T$ takes at most the value $t$. We get a corresponding __p-value__, shown on the y-axis. This value is the probability of our gotten t-value if the true means were the same. \n",
    "\n",
    "<h3 align=\"center\">\n",
    "    $ p =  2 \\cdot (1-CDF_{t_{n-1}}(|t|)) $\n",
    "<h3> "
   ]
  },
  {
   "cell_type": "markdown",
   "id": "5b31cb52",
   "metadata": {},
   "source": [
    "This CDF, and all CDF's, can easily be modeled by, for each value t in our t-distribution, plotting t added to all previous t-values, since we used _np.linspace_ to discretely model this continuous distribution:"
   ]
  },
  {
   "cell_type": "code",
   "execution_count": 36,
   "id": "20c83b81",
   "metadata": {},
   "outputs": [
    {
     "data": {
      "text/plain": [
       "<matplotlib.legend.Legend at 0x29697ac3a00>"
      ]
     },
     "execution_count": 36,
     "metadata": {},
     "output_type": "execute_result"
    },
    {
     "data": {
      "image/png": "[encoded data removed]",
      "text/plain": [
       "<Figure size 1500x800 with 1 Axes>"
      ]
     },
     "metadata": {},
     "output_type": "display_data"
    }
   ],
   "source": [
    "fig, ax = plt.subplots(figsize = (15,8))\n",
    "\n",
    "#create t-dist with 30 df and with 1 df\n",
    "x = np.linspace(-5, 5, 1000)\n",
    "t_dist = t_distribution(30, x)\n",
    "cauchy = t_distribution(1, x)\n",
    "\n",
    "#go along the linspace that was created and add current value to all previous values\n",
    "f_dist = t_dist.copy()\n",
    "cauchy_f_dist = cauchy.copy()\n",
    "\n",
    "for i in range(len(t_dist)): \n",
    "    f_dist[i] += f_dist[i-1]\n",
    "    cauchy_f_dist[i] += cauchy_f_dist[i-1]\n",
    "\n",
    "ax.plot(x, f_dist, label = 't CDF distribution with 30 df')\n",
    "ax.plot(x, cauchy_f_dist, label = 'Cauchy CDF distribution')\n",
    "\n",
    "plt.legend()"
   ]
  },
  {
   "cell_type": "markdown",
   "id": "1f417950",
   "metadata": {},
   "source": [
    "- If the corresponding p-value from our t-value is too low, we choose to __reject the null hypothesis $H_o$__, and say that our samples come from different populations who's means are different. This is a \"statistically significant\" result. \n",
    "\n",
    "\n",
    "- If the p-value is sufficiently high, we __fail to reject the null hypothesis $H_o$__, and say that there is a high enough chance that the samples came from populations with the same means. This is a \"statistically insignificant\" result. \n",
    "\n",
    "\n",
    "- The value at which significance occurs, $\\alpha$, and is most commonly 0.05.\n"
   ]
  },
  {
   "cell_type": "markdown",
   "id": "525f0c8b",
   "metadata": {},
   "source": [
    "Next, we can make a master function that uses all of the t-tests we just built:"
   ]
  },
  {
   "cell_type": "code",
   "execution_count": 37,
   "id": "b0ffedfa",
   "metadata": {},
   "outputs": [],
   "source": [
    "import scipy.stats as stats\n",
    "\n",
    "# function that allows us to evaluate the t distribution at a given t value and df\n",
    "def t_test(a, b, kind):\n",
    "    \n",
    "    if kind == 'one_sample': \n",
    "            t_val, df = t_value_1samp(a, b)\n",
    "            print (t_val, df)\n",
    "    elif kind  == 'independent': \n",
    "            t_val, df = t_value_ind_samp(a, b)\n",
    "    elif kind == 'paired': \n",
    "            t_val, df = t_value_ind_samp(a, b, equal_var=True)\n",
    "            \n",
    "    # cdf gives probability of a value at least as extreme as observed happening; for two-sided tests this is doubled\n",
    "    p_value = (1-stats.t.cdf(np.abs(t_val), df-1))  *2\n",
    "    \n",
    "    if p_value > .05:\n",
    "        return_string = \"T-value: \" + str(t_val) + \", P-value: \" + str(\n",
    "            p_value) + \", Fail to reject null hypothesis.\"\n",
    "    else:\n",
    "        return_string = \"T-value: \" + str(t_val) + \", P-value: \" + str(\n",
    "            round(p_value, 5)) + \", Reject null hypothesis.\"\n",
    "        \n",
    "    return return_string"
   ]
  },
  {
   "cell_type": "markdown",
   "id": "f5845584",
   "metadata": {},
   "source": [
    "The function accepts $t$ and $\\nu$ and returns a probability of the t value occuring if there truly was no difference between the the two sample means, or the single sample mean and one hypothesized mean. If we are intereted in knowing the p that the result is only < or >, we take the p value as is. Otherwise, if we are looking for any difference, we multiply it by 2. If the probability returned is too low, then we can reasonably assume that this means that the two means _are not truly different_. This is the core concept of statistical significance. The probability at which a non-significant difference becomes a significant one is most commonly 0.05. This means that if there is a less than 5 percent probability that the observed difference in means could have happened by chance, we can reasonably assume that the result didn't happen by chance. "
   ]
  },
  {
   "cell_type": "markdown",
   "id": "af7a4c3d",
   "metadata": {},
   "source": [
    "We can now implement the same t-test we perfomed earlier with our hypothesized return of a 7% yearly rate and the S&P 500, returning a p-value along with our t-statistic, using the one-sample t-test: "
   ]
  },
  {
   "cell_type": "code",
   "execution_count": 38,
   "id": "5ea4c846",
   "metadata": {},
   "outputs": [
    {
     "name": "stdout",
     "output_type": "stream",
     "text": [
      "0.6958593521205105 478\n"
     ]
    },
    {
     "data": {
      "text/plain": [
       "'T-value: 0.6958593521205105, P-value: 0.48685580818447427, Fail to reject null hypothesis.'"
      ]
     },
     "execution_count": 38,
     "metadata": {},
     "output_type": "execute_result"
    }
   ],
   "source": [
    "hypothesized_rate = 1.07 **(1/12) - 1\n",
    "t_test(sp500, hypothesized_rate, 'one_sample')"
   ]
  },
  {
   "cell_type": "code",
   "execution_count": 39,
   "id": "1645d22e",
   "metadata": {},
   "outputs": [
    {
     "data": {
      "text/plain": [
       "Ttest_1sampResult(statistic=0.6951326058625774, pvalue=0.4873099743022996)"
      ]
     },
     "execution_count": 39,
     "metadata": {},
     "output_type": "execute_result"
    }
   ],
   "source": [
    "stats.ttest_1samp(sp500, hypothesized_rate)"
   ]
  },
  {
   "cell_type": "markdown",
   "id": "bd492ee9",
   "metadata": {},
   "source": [
    "However, if we change the hypothesized monthly rate to be a yearly return of 15%, we get a p-value that implies the S&P 500 would not have had a high chance at an 8% yearly return with the expected amount of randomness."
   ]
  },
  {
   "cell_type": "code",
   "execution_count": 40,
   "id": "10a9c9d0",
   "metadata": {},
   "outputs": [
    {
     "name": "stdout",
     "output_type": "stream",
     "text": [
      "-2.300899538922575 478\n"
     ]
    },
    {
     "data": {
      "text/plain": [
       "'T-value: -2.300899538922575, P-value: 0.02183, Reject null hypothesis.'"
      ]
     },
     "execution_count": 40,
     "metadata": {},
     "output_type": "execute_result"
    }
   ],
   "source": [
    "hypothesized_rate = 1.15 **(1/12) - 1\n",
    "t_test(sp500, hypothesized_rate, 'one_sample')"
   ]
  },
  {
   "cell_type": "code",
   "execution_count": 41,
   "id": "88c5c6f6",
   "metadata": {},
   "outputs": [
    {
     "data": {
      "text/plain": [
       "Ttest_1sampResult(statistic=-2.298496510027876, pvalue=0.021964234877264725)"
      ]
     },
     "execution_count": 41,
     "metadata": {},
     "output_type": "execute_result"
    }
   ],
   "source": [
    "stats.ttest_1samp(sp500, hypothesized_rate)"
   ]
  },
  {
   "cell_type": "markdown",
   "id": "ce97fd89",
   "metadata": {},
   "source": [
    "As well as the independent-samples t-test comparing PRGFX to the S&P 500: "
   ]
  },
  {
   "cell_type": "code",
   "execution_count": 42,
   "id": "3bfd3d9b",
   "metadata": {},
   "outputs": [
    {
     "data": {
      "text/plain": [
       "'T-value: -0.021225070417016226, P-value: 0.9830705767061814, Fail to reject null hypothesis.'"
      ]
     },
     "execution_count": 42,
     "metadata": {},
     "output_type": "execute_result"
    }
   ],
   "source": [
    "t_test(sp500, prgfx, 'independent')"
   ]
  },
  {
   "cell_type": "code",
   "execution_count": 43,
   "id": "8b23559b",
   "metadata": {},
   "outputs": [
    {
     "data": {
      "text/plain": [
       "Ttest_indResult(statistic=-0.02120290323559814, pvalue=0.9830882227959172)"
      ]
     },
     "execution_count": 43,
     "metadata": {},
     "output_type": "execute_result"
    }
   ],
   "source": [
    "stats.ttest_ind(sp500, prgfx)"
   ]
  },
  {
   "cell_type": "markdown",
   "id": "2d6a1491",
   "metadata": {},
   "source": [
    "## Testing for Normality\n",
    "\n",
    "Statistical tests commonly generate a t-statistic whose interpretation must be drawn from a t-distribution. Next, let's test to see if the data used in chapter 4 follows the assumption that observations fit  a normal distribution. \n",
    "\n",
    "### Jarque-Bera Normality Test\n",
    "\n",
    "The Jarque-Bera test considers whether or not a distribution's skewness and kurtosis match the skewness and kurtosis of a normal distribution:\n",
    "\n",
    "$$t = \\frac{n}{6}[S^2 + \\frac{(K-3)^2}{4}]$$\n",
    "\n",
    "The t-statistic represents the result of the test of the null hypothesis that the sample tested is not normally distributed with a given skewness and kurtosis. Notice that the skewness and kurtosis values control for the standard deviation of the distribution. Thus, despite the fact that the distributions are not identical, when controlling for the size of the standard deviation, they appear close of enough to being normally distributed that the test rejects the null hypothesis."
   ]
  },
  {
   "cell_type": "code",
   "execution_count": 44,
   "id": "c9a530ce",
   "metadata": {},
   "outputs": [],
   "source": [
    "from stats import * \n",
    "def jarque_bera_test(series, use_sample_ks = False):\n",
    "    series.dropna(inplace = True)\n",
    "    print(series)\n",
    "    n = series.shape[0]\n",
    "\n",
    "    k = kurtosis(series, sample = use_sample_ks)\n",
    "    s = skewness(series, sample = use_sample_ks)\n",
    "    t = n / 6 * (s ** 2 + (k - 3) ** 2 / 4)\n",
    "\n",
    "    df = n - 1\n",
    "    print(k, s, t)\n",
    "    p = scipy.stats.t.sf(t, df=df)\n",
    "    return t, p\n"
   ]
  },
  {
   "cell_type": "code",
   "execution_count": 46,
   "id": "fb2d0d57",
   "metadata": {},
   "outputs": [
    {
     "name": "stdout",
     "output_type": "stream",
     "text": [
      "[*********************100%***********************]  1 of 1 completed\n",
      "[*********************100%***********************]  1 of 1 completed\n",
      "[*********************100%***********************]  1 of 1 completed\n",
      "[*********************100%***********************]  1 of 1 completed\n",
      "[*********************100%***********************]  1 of 1 completed\n"
     ]
    },
    {
     "data": {
      "text/html": [
       "<div>\n",
       "<style scoped>\n",
       "    .dataframe tbody tr th:only-of-type {\n",
       "        vertical-align: middle;\n",
       "    }\n",
       "\n",
       "    .dataframe tbody tr th {\n",
       "        vertical-align: top;\n",
       "    }\n",
       "\n",
       "    .dataframe thead th {\n",
       "        text-align: right;\n",
       "    }\n",
       "</style>\n",
       "<table border=\"1\" class=\"dataframe\">\n",
       "  <thead>\n",
       "    <tr style=\"text-align: right;\">\n",
       "      <th></th>\n",
       "      <th>MSFT</th>\n",
       "      <th>AAPL</th>\n",
       "      <th>PG</th>\n",
       "      <th>TSLA</th>\n",
       "      <th>S&amp;P500</th>\n",
       "    </tr>\n",
       "    <tr>\n",
       "      <th>Date</th>\n",
       "      <th></th>\n",
       "      <th></th>\n",
       "      <th></th>\n",
       "      <th></th>\n",
       "      <th></th>\n",
       "    </tr>\n",
       "  </thead>\n",
       "  <tbody>\n",
       "    <tr>\n",
       "      <th>2012-01-03</th>\n",
       "      <td>NaN</td>\n",
       "      <td>NaN</td>\n",
       "      <td>NaN</td>\n",
       "      <td>NaN</td>\n",
       "      <td>NaN</td>\n",
       "    </tr>\n",
       "    <tr>\n",
       "      <th>2012-01-04</th>\n",
       "      <td>0.023261</td>\n",
       "      <td>0.005360</td>\n",
       "      <td>-0.000449</td>\n",
       "      <td>-0.013264</td>\n",
       "      <td>0.000188</td>\n",
       "    </tr>\n",
       "    <tr>\n",
       "      <th>2012-01-05</th>\n",
       "      <td>0.010167</td>\n",
       "      <td>0.011041</td>\n",
       "      <td>-0.004201</td>\n",
       "      <td>-0.021522</td>\n",
       "      <td>0.002939</td>\n",
       "    </tr>\n",
       "    <tr>\n",
       "      <th>2012-01-06</th>\n",
       "      <td>0.015415</td>\n",
       "      <td>0.010400</td>\n",
       "      <td>-0.002408</td>\n",
       "      <td>-0.007773</td>\n",
       "      <td>-0.002540</td>\n",
       "    </tr>\n",
       "    <tr>\n",
       "      <th>2012-01-09</th>\n",
       "      <td>-0.013250</td>\n",
       "      <td>-0.001587</td>\n",
       "      <td>0.004211</td>\n",
       "      <td>0.012556</td>\n",
       "      <td>0.002259</td>\n",
       "    </tr>\n",
       "    <tr>\n",
       "      <th>...</th>\n",
       "      <td>...</td>\n",
       "      <td>...</td>\n",
       "      <td>...</td>\n",
       "      <td>...</td>\n",
       "      <td>...</td>\n",
       "    </tr>\n",
       "    <tr>\n",
       "      <th>2024-01-02</th>\n",
       "      <td>-0.013844</td>\n",
       "      <td>-0.036443</td>\n",
       "      <td>0.014901</td>\n",
       "      <td>-0.000241</td>\n",
       "      <td>-0.005677</td>\n",
       "    </tr>\n",
       "    <tr>\n",
       "      <th>2024-01-03</th>\n",
       "      <td>-0.000728</td>\n",
       "      <td>-0.007516</td>\n",
       "      <td>-0.006069</td>\n",
       "      <td>-0.040961</td>\n",
       "      <td>-0.008049</td>\n",
       "    </tr>\n",
       "    <tr>\n",
       "      <th>2024-01-04</th>\n",
       "      <td>-0.007203</td>\n",
       "      <td>-0.012781</td>\n",
       "      <td>0.005464</td>\n",
       "      <td>-0.002183</td>\n",
       "      <td>-0.003434</td>\n",
       "    </tr>\n",
       "    <tr>\n",
       "      <th>2024-01-05</th>\n",
       "      <td>-0.000517</td>\n",
       "      <td>-0.004021</td>\n",
       "      <td>-0.008309</td>\n",
       "      <td>-0.001851</td>\n",
       "      <td>0.001824</td>\n",
       "    </tr>\n",
       "    <tr>\n",
       "      <th>2024-01-08</th>\n",
       "      <td>0.008516</td>\n",
       "      <td>0.014031</td>\n",
       "      <td>0.004163</td>\n",
       "      <td>0.004328</td>\n",
       "      <td>0.005850</td>\n",
       "    </tr>\n",
       "  </tbody>\n",
       "</table>\n",
       "<p>3023 rows × 5 columns</p>\n",
       "</div>"
      ],
      "text/plain": [
       "                MSFT      AAPL        PG      TSLA    S&P500\n",
       "Date                                                        \n",
       "2012-01-03       NaN       NaN       NaN       NaN       NaN\n",
       "2012-01-04  0.023261  0.005360 -0.000449 -0.013264  0.000188\n",
       "2012-01-05  0.010167  0.011041 -0.004201 -0.021522  0.002939\n",
       "2012-01-06  0.015415  0.010400 -0.002408 -0.007773 -0.002540\n",
       "2012-01-09 -0.013250 -0.001587  0.004211  0.012556  0.002259\n",
       "...              ...       ...       ...       ...       ...\n",
       "2024-01-02 -0.013844 -0.036443  0.014901 -0.000241 -0.005677\n",
       "2024-01-03 -0.000728 -0.007516 -0.006069 -0.040961 -0.008049\n",
       "2024-01-04 -0.007203 -0.012781  0.005464 -0.002183 -0.003434\n",
       "2024-01-05 -0.000517 -0.004021 -0.008309 -0.001851  0.001824\n",
       "2024-01-08  0.008516  0.014031  0.004163  0.004328  0.005850\n",
       "\n",
       "[3023 rows x 5 columns]"
      ]
     },
     "execution_count": 46,
     "metadata": {},
     "output_type": "execute_result"
    }
   ],
   "source": [
    "from statsmodels.stats.stattools import jarque_bera\n",
    "import scipy\n",
    "import pandas as pd\n",
    "import pandas_datareader.data as web\n",
    "from datetime import datetime\n",
    "import numpy as np\n",
    "\n",
    "start = datetime(2012, 1 , 1)\n",
    "end = datetime.today()\n",
    "\n",
    "stock_data = {}\n",
    "stocks = [\"MSFT\", \"AAPL\", \"PG\", \"TSLA\", '^GSPC']\n",
    "for key in stocks:\n",
    "    stock_data[key] = web.get_data_yahoo(key, start, end)[\"Close\"]\n",
    "stock_data = pd.DataFrame(stock_data).rename(columns = {\"^GSPC\":\"S&P500\"})\n",
    "price_change_data = np.log(stock_data).diff()\n",
    "price_change_data"
   ]
  },
  {
   "cell_type": "code",
   "execution_count": 47,
   "id": "04dfd41b",
   "metadata": {},
   "outputs": [
    {
     "name": "stdout",
     "output_type": "stream",
     "text": [
      "MSFT\n",
      "Date\n",
      "2012-01-04    0.023261\n",
      "2012-01-05    0.010167\n",
      "2012-01-06    0.015415\n",
      "2012-01-09   -0.013250\n",
      "2012-01-10    0.003598\n",
      "                ...   \n",
      "2024-01-02   -0.013844\n",
      "2024-01-03   -0.000728\n",
      "2024-01-04   -0.007203\n",
      "2024-01-05   -0.000517\n",
      "2024-01-08    0.008516\n",
      "Name: MSFT, Length: 3022, dtype: float64\n",
      "11.545432167573205 -0.19565382859933542 9214.270981542562\n",
      "My JB Function:    (9214.270981542562, 0.0)\n",
      "scipy JB Function: (9214.270981542562, 0.0)\n",
      "AAPL\n",
      "Date\n",
      "2012-01-04    0.005360\n",
      "2012-01-05    0.011041\n",
      "2012-01-06    0.010400\n",
      "2012-01-09   -0.001587\n",
      "2012-01-10    0.003574\n",
      "                ...   \n",
      "2024-01-02   -0.036443\n",
      "2024-01-03   -0.007516\n",
      "2024-01-04   -0.012781\n",
      "2024-01-05   -0.004021\n",
      "2024-01-08    0.014031\n",
      "Name: AAPL, Length: 3022, dtype: float64\n"
     ]
    },
    {
     "name": "stderr",
     "output_type": "stream",
     "text": [
      "C:\\Users\\JLCat\\GithubRepositories\\Learn-Python-for-Stats-and-Econ\\Textbook\\stats.py:7: FutureWarning: Series.__getitem__ treating keys as positions is deprecated. In a future version, integer keys will always be treated as labels (consistent with DataFrame behavior). To access a value by position, use `ser.iloc[pos]`\n",
      "  total_ += lst[i]\n"
     ]
    },
    {
     "name": "stdout",
     "output_type": "stream",
     "text": [
      "8.851160691641548 -0.2793249553242838 4350.190552158428\n",
      "My JB Function:    (4350.190552158428, 0.0)\n",
      "scipy JB Function: (4350.1905521584395, 0.0)\n",
      "PG\n",
      "Date\n",
      "2012-01-04   -0.000449\n",
      "2012-01-05   -0.004201\n",
      "2012-01-06   -0.002408\n",
      "2012-01-09    0.004211\n",
      "2012-01-10   -0.004663\n",
      "                ...   \n",
      "2024-01-02    0.014901\n",
      "2024-01-03   -0.006069\n",
      "2024-01-04    0.005464\n",
      "2024-01-05   -0.008309\n",
      "2024-01-08    0.004163\n",
      "Name: PG, Length: 3022, dtype: float64\n",
      "14.841484330492586 -0.045448337501054425 17657.16993159541\n",
      "My JB Function:    (17657.16993159541, 0.0)\n",
      "scipy JB Function: (17657.169931595334, 0.0)\n",
      "TSLA\n",
      "Date\n",
      "2012-01-04   -0.013264\n",
      "2012-01-05   -0.021522\n",
      "2012-01-06   -0.007773\n",
      "2012-01-09    0.012556\n",
      "2012-01-10    0.013486\n",
      "                ...   \n",
      "2024-01-02   -0.000241\n",
      "2024-01-03   -0.040961\n",
      "2024-01-04   -0.002183\n",
      "2024-01-05   -0.001851\n",
      "2024-01-08    0.004328\n",
      "Name: TSLA, Length: 3022, dtype: float64\n",
      "7.972237253768594 -0.05588834075965913 3114.62900101007\n",
      "My JB Function:    (3114.62900101007, 0.0)\n",
      "scipy JB Function: (3114.6290010100747, 0.0)\n",
      "S&P500\n",
      "Date\n",
      "2012-01-04    0.000188\n",
      "2012-01-05    0.002939\n",
      "2012-01-06   -0.002540\n",
      "2012-01-09    0.002259\n",
      "2012-01-10    0.008847\n",
      "                ...   \n",
      "2024-01-02   -0.005677\n",
      "2024-01-03   -0.008049\n",
      "2024-01-04   -0.003434\n",
      "2024-01-05    0.001824\n",
      "2024-01-08    0.005850\n",
      "Name: S&P500, Length: 3022, dtype: float64\n",
      "19.445508059003675 -0.7943164991269906 34372.54154784878\n",
      "My JB Function:    (34372.54154784878, 0.0)\n",
      "scipy JB Function: (34372.54154784888, 0.0)\n"
     ]
    }
   ],
   "source": [
    "for key, val in price_change_data.items():\n",
    "    print(key)\n",
    "    print(\"My JB Function:   \", jarque_bera_test(val))\n",
    "    print(\"scipy JB Function:\", jarque_bera(val)[:2])"
   ]
  },
  {
   "cell_type": "markdown",
   "id": "0864e4be",
   "metadata": {},
   "source": [
    "## Confidence Intervals\n",
    "\n",
    "The confidence interval gives us the range of values that have a $1-\\alpha$ probability of containing the population mean, based off of our sample mean. Confidence intervals, as hypothesis tests do, make use of the standard error of the mean of a sample. For a sample with mean $\\bar{x}$, the confidence interval lower and upper bounds, respectively, are found by these formulas: \n",
    "<h3 align=\"center\">\n",
    "    <font size=\"4\">\n",
    "        $ CI = {\\bar{x} - t_{\\frac{\\alpha}{2}}\\frac{s}{\\sqrt{n}}, \\bar{x} + t_{\\frac{\\alpha}{2}}\\frac{s}{\\sqrt{n}}}$\n",
    "    </font>\n",
    "    </h3> \n",
    "- Where $t_{\\frac{\\alpha}{2}}$ is the $1-\\frac{\\alpha}{2}$ quantile of the $t_{n-1}$ distribution\n",
    "\n",
    "This function can be easily built in code using the _percent point function_ in Scipy. This function gives the percentage of the t distribution behind a given point. This is also known as the quintile. We first make a function to return the quintile in a t distribution associated with a given df and alpha level, and then make a function to make confidence interval for passed data: "
   ]
  },
  {
   "cell_type": "code",
   "execution_count": 48,
   "id": "afc66a09",
   "metadata": {},
   "outputs": [],
   "source": [
    "def t_quintile(df, alpha):\n",
    "    q = (1.0+alpha)/2\n",
    "    a = stats.t.ppf(q, df)\n",
    "    return a"
   ]
  },
  {
   "cell_type": "markdown",
   "id": "2cdab2af",
   "metadata": {},
   "source": [
    "We can see what this returns for a t-distribution with degrees of freedom in the S&P 500's data and an alpha value of 0.05: "
   ]
  },
  {
   "cell_type": "code",
   "execution_count": 49,
   "id": "20e4edc9",
   "metadata": {},
   "outputs": [
    {
     "data": {
      "text/plain": [
       "0.06273964329541434"
      ]
     },
     "execution_count": 49,
     "metadata": {},
     "output_type": "execute_result"
    }
   ],
   "source": [
    "t_quintile(len(sp500), 0.05)"
   ]
  },
  {
   "cell_type": "markdown",
   "id": "1c99ca33",
   "metadata": {},
   "source": [
    "Now we make a function that is passed an array of data and an alpha value and returns a confidence interval: "
   ]
  },
  {
   "cell_type": "code",
   "execution_count": 50,
   "id": "f5f8b303",
   "metadata": {},
   "outputs": [],
   "source": [
    "def confidence_interval(data, alpha):\n",
    "    n = len(data)\n",
    "    df = n - 1\n",
    "    x_bar = np.mean(data)\n",
    "    SE = np.std(data) / np.sqrt(n)\n",
    "    CI_quintile = t_quintile(df, alpha)\n",
    "    CI = x_bar - CI_quintile * SE, x_bar + CI_quintile * SE\n",
    "    return CI"
   ]
  },
  {
   "cell_type": "code",
   "execution_count": 51,
   "id": "caa41133",
   "metadata": {},
   "outputs": [
    {
     "data": {
      "text/plain": [
       "(0.006934593241426297, 0.007188368119346408)"
      ]
     },
     "execution_count": 51,
     "metadata": {},
     "output_type": "execute_result"
    }
   ],
   "source": [
    "sp500_CI = confidence_interval(sp500, 0.05)\n",
    "sp500_CI"
   ]
  },
  {
   "cell_type": "markdown",
   "id": "c0c8ff24",
   "metadata": {},
   "source": [
    "This equates to a yearly return CI of: "
   ]
  },
  {
   "cell_type": "code",
   "execution_count": 52,
   "id": "6bf24cb5",
   "metadata": {},
   "outputs": [],
   "source": [
    "sp500_yearly_CI = (1 + sp500_CI[0]) ** 12, (1 + sp500_CI[1]) ** 12"
   ]
  },
  {
   "cell_type": "code",
   "execution_count": 53,
   "id": "e4f2895e",
   "metadata": {},
   "outputs": [
    {
     "data": {
      "text/plain": [
       "(1.0864634873490415, 1.0897538656572028)"
      ]
     },
     "execution_count": 53,
     "metadata": {},
     "output_type": "execute_result"
    }
   ],
   "source": [
    "sp500_yearly_CI"
   ]
  },
  {
   "cell_type": "markdown",
   "id": "b7843f5b",
   "metadata": {},
   "source": [
    "We can say with 95% confidence that the true s&P 500 monthly return, not due to randomness, was somewhere between these two values. "
   ]
  },
  {
   "cell_type": "markdown",
   "id": "968ed428",
   "metadata": {},
   "source": [
    "### The Link Between Hypothesis Testing and Confidence Intervals"
   ]
  },
  {
   "cell_type": "markdown",
   "id": "7aacd3f1",
   "metadata": {},
   "source": [
    "By now, it may seem obvious that these two concepts are heavily related. Both use the standard error of the sample mean as an expected error region to make inferences about a parameter, and are given an alpha level $\\alpha$ that governs our confidence in the result. Hypothesis testing requires a second value, either a hypothesized value or another sample mean, to compare to. Confidence intervals require a single array of data for which error bars can be formed. The error bars from a confidence interval give a plausible range of values that our population parameter could take. \n",
    "\n",
    "The link between the two methods is that hypothesis testing also draws error bars for each of it's passed values, and if the error bar regions overlap, we fail to reject $H_o$ and if they do not overlap we fail to reject $H_o$. We are almost doing the same statistical test, just using it a little bit differently. \n",
    "\n",
    "For example, we can anlyze the error bars for the mean monthly return of the S&P 500 and PRGFX: "
   ]
  },
  {
   "cell_type": "code",
   "execution_count": 54,
   "id": "a66dcde3",
   "metadata": {},
   "outputs": [
    {
     "name": "stdout",
     "output_type": "stream",
     "text": [
      "SP500 CI:  (0.006934593241426297, 0.007188368119346408) \n",
      "PRGFX CI (0.006987423631554834, 0.007262034761111185)\n"
     ]
    }
   ],
   "source": [
    "prgfx_CI = confidence_interval(prgfx, 0.05)\n",
    "sp500_CI = confidence_interval(sp500, 0.05)\n",
    "print(\"SP500 CI: \", sp500_CI,\"\\nPRGFX CI\",prgfx_CI)"
   ]
  },
  {
   "cell_type": "code",
   "execution_count": 55,
   "id": "e5cea501",
   "metadata": {},
   "outputs": [
    {
     "data": {
      "text/plain": [
       "479"
      ]
     },
     "execution_count": 55,
     "metadata": {},
     "output_type": "execute_result"
    }
   ],
   "source": [
    "len(sp500)"
   ]
  },
  {
   "cell_type": "code",
   "execution_count": 56,
   "id": "4f3a20e6",
   "metadata": {},
   "outputs": [
    {
     "data": {
      "text/plain": [
       "<bound method NDFrame.rank of AFMFX      0.008467\n",
       "AGTHX      0.008708\n",
       "AIVSX      0.007065\n",
       "AKRIX      0.012940\n",
       "AKRSX      0.014000\n",
       "             ...   \n",
       "TWCUX      0.009303\n",
       "VAFAX      0.007559\n",
       "VWNFX      0.008301\n",
       "VWUSX      0.006566\n",
       "S&P 500    0.007061\n",
       "Length: 101, dtype: float64>"
      ]
     },
     "execution_count": 56,
     "metadata": {},
     "output_type": "execute_result"
    }
   ],
   "source": [
    "monthly_returns.mean().rank"
   ]
  },
  {
   "cell_type": "code",
   "execution_count": 57,
   "id": "4b3e9963",
   "metadata": {},
   "outputs": [
    {
     "data": {
      "text/plain": [
       "<matplotlib.legend.Legend at 0x29697f242e0>"
      ]
     },
     "execution_count": 57,
     "metadata": {},
     "output_type": "execute_result"
    },
    {
     "data": {
      "image/png": "[encoded data removed]",
      "text/plain": [
       "<Figure size 1000x1000 with 1 Axes>"
      ]
     },
     "metadata": {},
     "output_type": "display_data"
    }
   ],
   "source": [
    "fig, ax = plt.subplots(figsize = (10, 10))\n",
    "sp500.hist(ax=ax, label='S&P 500', alpha = .5)\n",
    "prgfx.hist(ax=ax, label='PRGFX', alpha = .5)\n",
    "ax.axvline((sp500.iloc[-1] /sp500.iloc[0]) ** (1 / sp500.count()) -1, color = \"C0\")\n",
    "ax.axvline((prgfx.iloc[-1] /prgfx.iloc[0]) ** (1 / prgfx.count()) -1, color = \"C1\")\n",
    "\n",
    "plt.legend()"
   ]
  },
  {
   "cell_type": "markdown",
   "id": "0b6909b6",
   "metadata": {},
   "source": [
    "We can create confidence intervals for each fund in our funds list: "
   ]
  },
  {
   "cell_type": "code",
   "execution_count": 58,
   "id": "e75a45ca",
   "metadata": {},
   "outputs": [
    {
     "name": "stderr",
     "output_type": "stream",
     "text": [
      "C:\\Users\\JLCat\\AppData\\Roaming\\Python\\Python39\\site-packages\\numpy\\core\\fromnumeric.py:3643: FutureWarning: The behavior of DataFrame.std with axis=None is deprecated, in a future version this will reduce over both axes and return a scalar. To retain the old behavior, pass axis=0 (or do not pass axis)\n",
      "  return std(axis=axis, dtype=dtype, out=out, ddof=ddof, **kwargs)\n"
     ]
    }
   ],
   "source": [
    "monthly_returns_CIs = confidence_interval(monthly_returns, 0.05)"
   ]
  },
  {
   "cell_type": "code",
   "execution_count": 59,
   "id": "9d169c4a",
   "metadata": {},
   "outputs": [
    {
     "data": {
      "text/plain": [
       "2"
      ]
     },
     "execution_count": 59,
     "metadata": {},
     "output_type": "execute_result"
    }
   ],
   "source": [
    "len(monthly_returns_CIs)"
   ]
  },
  {
   "cell_type": "code",
   "execution_count": 60,
   "id": "748d725b",
   "metadata": {},
   "outputs": [
    {
     "data": {
      "text/plain": [
       "(0.007932288748124282, 0.008185798861494365)"
      ]
     },
     "execution_count": 60,
     "metadata": {},
     "output_type": "execute_result"
    }
   ],
   "source": [
    "monthly_returns_CIs[0][\"S&P 500\"], monthly_returns_CIs[1][\"S&P 500\"]"
   ]
  },
  {
   "cell_type": "code",
   "execution_count": 61,
   "id": "a16f9aa6",
   "metadata": {},
   "outputs": [
    {
     "data": {
      "text/plain": [
       "47.0"
      ]
     },
     "execution_count": 61,
     "metadata": {},
     "output_type": "execute_result"
    }
   ],
   "source": [
    " monthly_returns_CIs[1].rank()[\"S&P 500\"]"
   ]
  },
  {
   "cell_type": "code",
   "execution_count": 62,
   "id": "11483b92",
   "metadata": {},
   "outputs": [
    {
     "name": "stderr",
     "output_type": "stream",
     "text": [
      "No artists with labels found to put in legend.  Note that artists whose label start with an underscore are ignored when legend() is called with no argument.\n"
     ]
    },
    {
     "data": {
      "text/plain": [
       "<matplotlib.legend.Legend at 0x29697f70be0>"
      ]
     },
     "execution_count": 62,
     "metadata": {},
     "output_type": "execute_result"
    },
    {
     "data": {
      "image/png": "[encoded data removed]",
      "text/plain": [
       "<Figure size 2500x1400 with 1 Axes>"
      ]
     },
     "metadata": {},
     "output_type": "display_data"
    }
   ],
   "source": [
    "fig, ax = plt.subplots(figsize = (25, 14))\n",
    "Y_axis = np.arange(len(monthly_returns_CIs[0]))\n",
    "\n",
    "ax.vlines(x = Y_axis, ymin = monthly_returns_CIs[0].sort_values(), ymax = monthly_returns_CIs[1].sort_values(), linewidth=10 )\n",
    "ax.vlines(x =  monthly_returns_CIs[1].rank()[\"S&P 500\"], \n",
    "          ymin =monthly_returns_CIs[0][\"S&P 500\"], \n",
    "          ymax = monthly_returns_CIs[1][\"S&P 500\" ], \n",
    "          color = \"C3\",\n",
    "          linewidth=12 )\n",
    "\n",
    "#ax.vlines(x = [sp500_CI[0],sp500_CI[1]], ymin = 0, ymax = len(monthly_returns_CIs[0]), label = \"S&P 500 CI\", color='r', linestyle=\"--\")\n",
    "ax.set_title(\"Various Mutual Fund's Confidence Intervals vs the S&P 500's Confidence Band\")\n",
    "ax.set_yticklabels([])\n",
    "ax.legend()"
   ]
  },
  {
   "cell_type": "code",
   "execution_count": 63,
   "id": "5b34e4d5",
   "metadata": {},
   "outputs": [
    {
     "data": {
      "text/html": [
       "<div>\n",
       "<style scoped>\n",
       "    .dataframe tbody tr th:only-of-type {\n",
       "        vertical-align: middle;\n",
       "    }\n",
       "\n",
       "    .dataframe tbody tr th {\n",
       "        vertical-align: top;\n",
       "    }\n",
       "\n",
       "    .dataframe thead th {\n",
       "        text-align: right;\n",
       "    }\n",
       "</style>\n",
       "<table border=\"1\" class=\"dataframe\">\n",
       "  <thead>\n",
       "    <tr style=\"text-align: right;\">\n",
       "      <th></th>\n",
       "      <th>AFMFX</th>\n",
       "      <th>AGTHX</th>\n",
       "      <th>AIVSX</th>\n",
       "      <th>AKRIX</th>\n",
       "      <th>AKRSX</th>\n",
       "      <th>AMCFX</th>\n",
       "      <th>AMCPX</th>\n",
       "      <th>AMRFX</th>\n",
       "      <th>AMRMX</th>\n",
       "      <th>ANCFX</th>\n",
       "      <th>...</th>\n",
       "      <th>RPMGX</th>\n",
       "      <th>SBLYX</th>\n",
       "      <th>SEEGX</th>\n",
       "      <th>TRBCX</th>\n",
       "      <th>TWCGX</th>\n",
       "      <th>TWCUX</th>\n",
       "      <th>VAFAX</th>\n",
       "      <th>VWNFX</th>\n",
       "      <th>VWUSX</th>\n",
       "      <th>S&amp;P 500</th>\n",
       "    </tr>\n",
       "    <tr>\n",
       "      <th>Date</th>\n",
       "      <th></th>\n",
       "      <th></th>\n",
       "      <th></th>\n",
       "      <th></th>\n",
       "      <th></th>\n",
       "      <th></th>\n",
       "      <th></th>\n",
       "      <th></th>\n",
       "      <th></th>\n",
       "      <th></th>\n",
       "      <th></th>\n",
       "      <th></th>\n",
       "      <th></th>\n",
       "      <th></th>\n",
       "      <th></th>\n",
       "      <th></th>\n",
       "      <th></th>\n",
       "      <th></th>\n",
       "      <th></th>\n",
       "      <th></th>\n",
       "      <th></th>\n",
       "    </tr>\n",
       "  </thead>\n",
       "  <tbody>\n",
       "    <tr>\n",
       "      <th>1980-12-31</th>\n",
       "      <td>NaN</td>\n",
       "      <td>NaN</td>\n",
       "      <td>NaN</td>\n",
       "      <td>NaN</td>\n",
       "      <td>NaN</td>\n",
       "      <td>NaN</td>\n",
       "      <td>NaN</td>\n",
       "      <td>NaN</td>\n",
       "      <td>NaN</td>\n",
       "      <td>NaN</td>\n",
       "      <td>...</td>\n",
       "      <td>NaN</td>\n",
       "      <td>NaN</td>\n",
       "      <td>NaN</td>\n",
       "      <td>NaN</td>\n",
       "      <td>NaN</td>\n",
       "      <td>NaN</td>\n",
       "      <td>NaN</td>\n",
       "      <td>NaN</td>\n",
       "      <td>NaN</td>\n",
       "      <td>NaN</td>\n",
       "    </tr>\n",
       "    <tr>\n",
       "      <th>1981-12-31</th>\n",
       "      <td>NaN</td>\n",
       "      <td>0.373945</td>\n",
       "      <td>NaN</td>\n",
       "      <td>NaN</td>\n",
       "      <td>NaN</td>\n",
       "      <td>NaN</td>\n",
       "      <td>NaN</td>\n",
       "      <td>NaN</td>\n",
       "      <td>NaN</td>\n",
       "      <td>0.219248</td>\n",
       "      <td>...</td>\n",
       "      <td>NaN</td>\n",
       "      <td>NaN</td>\n",
       "      <td>NaN</td>\n",
       "      <td>NaN</td>\n",
       "      <td>0.444489</td>\n",
       "      <td>NaN</td>\n",
       "      <td>NaN</td>\n",
       "      <td>NaN</td>\n",
       "      <td>0.292460</td>\n",
       "      <td>0.253979</td>\n",
       "    </tr>\n",
       "    <tr>\n",
       "      <th>1982-12-31</th>\n",
       "      <td>NaN</td>\n",
       "      <td>-0.020714</td>\n",
       "      <td>NaN</td>\n",
       "      <td>NaN</td>\n",
       "      <td>NaN</td>\n",
       "      <td>NaN</td>\n",
       "      <td>NaN</td>\n",
       "      <td>NaN</td>\n",
       "      <td>NaN</td>\n",
       "      <td>-0.010941</td>\n",
       "      <td>...</td>\n",
       "      <td>NaN</td>\n",
       "      <td>NaN</td>\n",
       "      <td>NaN</td>\n",
       "      <td>NaN</td>\n",
       "      <td>-0.155439</td>\n",
       "      <td>-0.012121</td>\n",
       "      <td>NaN</td>\n",
       "      <td>NaN</td>\n",
       "      <td>-0.008201</td>\n",
       "      <td>-0.105083</td>\n",
       "    </tr>\n",
       "    <tr>\n",
       "      <th>1983-12-31</th>\n",
       "      <td>NaN</td>\n",
       "      <td>0.192326</td>\n",
       "      <td>NaN</td>\n",
       "      <td>NaN</td>\n",
       "      <td>NaN</td>\n",
       "      <td>NaN</td>\n",
       "      <td>NaN</td>\n",
       "      <td>NaN</td>\n",
       "      <td>NaN</td>\n",
       "      <td>0.270907</td>\n",
       "      <td>...</td>\n",
       "      <td>NaN</td>\n",
       "      <td>NaN</td>\n",
       "      <td>NaN</td>\n",
       "      <td>NaN</td>\n",
       "      <td>0.013850</td>\n",
       "      <td>0.258291</td>\n",
       "      <td>NaN</td>\n",
       "      <td>NaN</td>\n",
       "      <td>0.181911</td>\n",
       "      <td>0.119646</td>\n",
       "    </tr>\n",
       "    <tr>\n",
       "      <th>1984-12-31</th>\n",
       "      <td>NaN</td>\n",
       "      <td>0.207397</td>\n",
       "      <td>NaN</td>\n",
       "      <td>NaN</td>\n",
       "      <td>NaN</td>\n",
       "      <td>NaN</td>\n",
       "      <td>NaN</td>\n",
       "      <td>NaN</td>\n",
       "      <td>NaN</td>\n",
       "      <td>0.250165</td>\n",
       "      <td>...</td>\n",
       "      <td>NaN</td>\n",
       "      <td>NaN</td>\n",
       "      <td>NaN</td>\n",
       "      <td>NaN</td>\n",
       "      <td>0.230555</td>\n",
       "      <td>0.247645</td>\n",
       "      <td>NaN</td>\n",
       "      <td>NaN</td>\n",
       "      <td>0.050682</td>\n",
       "      <td>0.170396</td>\n",
       "    </tr>\n",
       "    <tr>\n",
       "      <th>1985-12-31</th>\n",
       "      <td>NaN</td>\n",
       "      <td>-0.087750</td>\n",
       "      <td>NaN</td>\n",
       "      <td>NaN</td>\n",
       "      <td>NaN</td>\n",
       "      <td>NaN</td>\n",
       "      <td>NaN</td>\n",
       "      <td>NaN</td>\n",
       "      <td>NaN</td>\n",
       "      <td>0.007458</td>\n",
       "      <td>...</td>\n",
       "      <td>NaN</td>\n",
       "      <td>NaN</td>\n",
       "      <td>NaN</td>\n",
       "      <td>NaN</td>\n",
       "      <td>-0.244129</td>\n",
       "      <td>-0.258695</td>\n",
       "      <td>NaN</td>\n",
       "      <td>NaN</td>\n",
       "      <td>-0.022556</td>\n",
       "      <td>0.008075</td>\n",
       "    </tr>\n",
       "    <tr>\n",
       "      <th>1986-12-31</th>\n",
       "      <td>NaN</td>\n",
       "      <td>0.171686</td>\n",
       "      <td>NaN</td>\n",
       "      <td>NaN</td>\n",
       "      <td>NaN</td>\n",
       "      <td>NaN</td>\n",
       "      <td>NaN</td>\n",
       "      <td>NaN</td>\n",
       "      <td>NaN</td>\n",
       "      <td>0.221964</td>\n",
       "      <td>...</td>\n",
       "      <td>NaN</td>\n",
       "      <td>NaN</td>\n",
       "      <td>NaN</td>\n",
       "      <td>NaN</td>\n",
       "      <td>0.299125</td>\n",
       "      <td>0.243880</td>\n",
       "      <td>NaN</td>\n",
       "      <td>0.103741</td>\n",
       "      <td>0.230368</td>\n",
       "      <td>0.236968</td>\n",
       "    </tr>\n",
       "    <tr>\n",
       "      <th>1987-12-31</th>\n",
       "      <td>NaN</td>\n",
       "      <td>0.112441</td>\n",
       "      <td>0.024667</td>\n",
       "      <td>NaN</td>\n",
       "      <td>NaN</td>\n",
       "      <td>NaN</td>\n",
       "      <td>0.040801</td>\n",
       "      <td>NaN</td>\n",
       "      <td>0.121339</td>\n",
       "      <td>0.038210</td>\n",
       "      <td>...</td>\n",
       "      <td>NaN</td>\n",
       "      <td>NaN</td>\n",
       "      <td>NaN</td>\n",
       "      <td>NaN</td>\n",
       "      <td>0.496225</td>\n",
       "      <td>0.117398</td>\n",
       "      <td>NaN</td>\n",
       "      <td>0.172813</td>\n",
       "      <td>-0.087273</td>\n",
       "      <td>0.162006</td>\n",
       "    </tr>\n",
       "    <tr>\n",
       "      <th>1988-12-31</th>\n",
       "      <td>NaN</td>\n",
       "      <td>0.004728</td>\n",
       "      <td>0.002421</td>\n",
       "      <td>NaN</td>\n",
       "      <td>NaN</td>\n",
       "      <td>NaN</td>\n",
       "      <td>0.056241</td>\n",
       "      <td>NaN</td>\n",
       "      <td>0.017345</td>\n",
       "      <td>-0.016121</td>\n",
       "      <td>...</td>\n",
       "      <td>NaN</td>\n",
       "      <td>NaN</td>\n",
       "      <td>NaN</td>\n",
       "      <td>NaN</td>\n",
       "      <td>0.137327</td>\n",
       "      <td>0.085508</td>\n",
       "      <td>NaN</td>\n",
       "      <td>-0.001300</td>\n",
       "      <td>-0.351368</td>\n",
       "      <td>0.037784</td>\n",
       "    </tr>\n",
       "    <tr>\n",
       "      <th>1989-12-31</th>\n",
       "      <td>NaN</td>\n",
       "      <td>0.094939</td>\n",
       "      <td>0.040432</td>\n",
       "      <td>NaN</td>\n",
       "      <td>NaN</td>\n",
       "      <td>NaN</td>\n",
       "      <td>0.016314</td>\n",
       "      <td>NaN</td>\n",
       "      <td>0.050656</td>\n",
       "      <td>0.081948</td>\n",
       "      <td>...</td>\n",
       "      <td>NaN</td>\n",
       "      <td>NaN</td>\n",
       "      <td>NaN</td>\n",
       "      <td>NaN</td>\n",
       "      <td>-0.006092</td>\n",
       "      <td>0.083382</td>\n",
       "      <td>NaN</td>\n",
       "      <td>0.174800</td>\n",
       "      <td>0.046235</td>\n",
       "      <td>0.072955</td>\n",
       "    </tr>\n",
       "    <tr>\n",
       "      <th>1990-12-31</th>\n",
       "      <td>NaN</td>\n",
       "      <td>0.173318</td>\n",
       "      <td>0.220578</td>\n",
       "      <td>NaN</td>\n",
       "      <td>NaN</td>\n",
       "      <td>NaN</td>\n",
       "      <td>0.172788</td>\n",
       "      <td>NaN</td>\n",
       "      <td>0.206838</td>\n",
       "      <td>0.175831</td>\n",
       "      <td>...</td>\n",
       "      <td>NaN</td>\n",
       "      <td>NaN</td>\n",
       "      <td>NaN</td>\n",
       "      <td>NaN</td>\n",
       "      <td>0.380465</td>\n",
       "      <td>0.333413</td>\n",
       "      <td>NaN</td>\n",
       "      <td>0.268336</td>\n",
       "      <td>0.349937</td>\n",
       "      <td>0.267345</td>\n",
       "    </tr>\n",
       "    <tr>\n",
       "      <th>1991-12-31</th>\n",
       "      <td>NaN</td>\n",
       "      <td>-0.117908</td>\n",
       "      <td>-0.030250</td>\n",
       "      <td>NaN</td>\n",
       "      <td>NaN</td>\n",
       "      <td>NaN</td>\n",
       "      <td>-0.130177</td>\n",
       "      <td>NaN</td>\n",
       "      <td>-0.045905</td>\n",
       "      <td>-0.127970</td>\n",
       "      <td>...</td>\n",
       "      <td>NaN</td>\n",
       "      <td>NaN</td>\n",
       "      <td>NaN</td>\n",
       "      <td>NaN</td>\n",
       "      <td>-0.062747</td>\n",
       "      <td>0.059426</td>\n",
       "      <td>NaN</td>\n",
       "      <td>-0.129059</td>\n",
       "      <td>0.016993</td>\n",
       "      <td>-0.096966</td>\n",
       "    </tr>\n",
       "    <tr>\n",
       "      <th>1992-12-31</th>\n",
       "      <td>NaN</td>\n",
       "      <td>0.252834</td>\n",
       "      <td>0.220584</td>\n",
       "      <td>NaN</td>\n",
       "      <td>NaN</td>\n",
       "      <td>NaN</td>\n",
       "      <td>0.280540</td>\n",
       "      <td>NaN</td>\n",
       "      <td>0.168664</td>\n",
       "      <td>0.262471</td>\n",
       "      <td>...</td>\n",
       "      <td>NaN</td>\n",
       "      <td>NaN</td>\n",
       "      <td>NaN</td>\n",
       "      <td>NaN</td>\n",
       "      <td>0.536572</td>\n",
       "      <td>0.642546</td>\n",
       "      <td>NaN</td>\n",
       "      <td>0.260948</td>\n",
       "      <td>0.383834</td>\n",
       "      <td>0.245433</td>\n",
       "    </tr>\n",
       "    <tr>\n",
       "      <th>1993-12-31</th>\n",
       "      <td>NaN</td>\n",
       "      <td>0.059122</td>\n",
       "      <td>0.050395</td>\n",
       "      <td>NaN</td>\n",
       "      <td>NaN</td>\n",
       "      <td>NaN</td>\n",
       "      <td>0.042646</td>\n",
       "      <td>NaN</td>\n",
       "      <td>0.032933</td>\n",
       "      <td>0.098513</td>\n",
       "      <td>...</td>\n",
       "      <td>0.200489</td>\n",
       "      <td>NaN</td>\n",
       "      <td>0.055764</td>\n",
       "      <td>NaN</td>\n",
       "      <td>-0.055892</td>\n",
       "      <td>-0.002888</td>\n",
       "      <td>NaN</td>\n",
       "      <td>0.115737</td>\n",
       "      <td>0.028483</td>\n",
       "      <td>0.042510</td>\n",
       "    </tr>\n",
       "    <tr>\n",
       "      <th>1994-12-31</th>\n",
       "      <td>NaN</td>\n",
       "      <td>0.112867</td>\n",
       "      <td>0.067608</td>\n",
       "      <td>NaN</td>\n",
       "      <td>NaN</td>\n",
       "      <td>NaN</td>\n",
       "      <td>-0.036462</td>\n",
       "      <td>NaN</td>\n",
       "      <td>0.075772</td>\n",
       "      <td>0.162298</td>\n",
       "      <td>...</td>\n",
       "      <td>0.207639</td>\n",
       "      <td>NaN</td>\n",
       "      <td>0.106909</td>\n",
       "      <td>0.115996</td>\n",
       "      <td>0.033061</td>\n",
       "      <td>0.202929</td>\n",
       "      <td>NaN</td>\n",
       "      <td>0.121055</td>\n",
       "      <td>-0.015322</td>\n",
       "      <td>0.066764</td>\n",
       "    </tr>\n",
       "    <tr>\n",
       "      <th>1995-12-31</th>\n",
       "      <td>NaN</td>\n",
       "      <td>-0.022074</td>\n",
       "      <td>-0.030279</td>\n",
       "      <td>NaN</td>\n",
       "      <td>NaN</td>\n",
       "      <td>NaN</td>\n",
       "      <td>-0.080570</td>\n",
       "      <td>NaN</td>\n",
       "      <td>-0.033236</td>\n",
       "      <td>0.015773</td>\n",
       "      <td>...</td>\n",
       "      <td>-0.026955</td>\n",
       "      <td>NaN</td>\n",
       "      <td>0.048223</td>\n",
       "      <td>-0.001948</td>\n",
       "      <td>-0.011290</td>\n",
       "      <td>-0.044169</td>\n",
       "      <td>NaN</td>\n",
       "      <td>-0.003432</td>\n",
       "      <td>0.038309</td>\n",
       "      <td>-0.013693</td>\n",
       "    </tr>\n",
       "    <tr>\n",
       "      <th>1996-12-31</th>\n",
       "      <td>NaN</td>\n",
       "      <td>0.230439</td>\n",
       "      <td>0.233716</td>\n",
       "      <td>NaN</td>\n",
       "      <td>NaN</td>\n",
       "      <td>NaN</td>\n",
       "      <td>0.175710</td>\n",
       "      <td>NaN</td>\n",
       "      <td>0.229637</td>\n",
       "      <td>0.302938</td>\n",
       "      <td>...</td>\n",
       "      <td>0.318950</td>\n",
       "      <td>NaN</td>\n",
       "      <td>0.231271</td>\n",
       "      <td>0.324127</td>\n",
       "      <td>0.377344</td>\n",
       "      <td>0.340373</td>\n",
       "      <td>NaN</td>\n",
       "      <td>0.328787</td>\n",
       "      <td>0.338343</td>\n",
       "      <td>0.301606</td>\n",
       "    </tr>\n",
       "    <tr>\n",
       "      <th>1997-12-31</th>\n",
       "      <td>NaN</td>\n",
       "      <td>0.122469</td>\n",
       "      <td>0.165190</td>\n",
       "      <td>NaN</td>\n",
       "      <td>NaN</td>\n",
       "      <td>NaN</td>\n",
       "      <td>0.086059</td>\n",
       "      <td>NaN</td>\n",
       "      <td>0.140653</td>\n",
       "      <td>0.169889</td>\n",
       "      <td>...</td>\n",
       "      <td>0.209886</td>\n",
       "      <td>NaN</td>\n",
       "      <td>0.149378</td>\n",
       "      <td>0.231745</td>\n",
       "      <td>0.120726</td>\n",
       "      <td>0.118153</td>\n",
       "      <td>NaN</td>\n",
       "      <td>0.206985</td>\n",
       "      <td>0.213496</td>\n",
       "      <td>0.171705</td>\n",
       "    </tr>\n",
       "    <tr>\n",
       "      <th>1998-12-31</th>\n",
       "      <td>NaN</td>\n",
       "      <td>0.252195</td>\n",
       "      <td>0.269056</td>\n",
       "      <td>NaN</td>\n",
       "      <td>NaN</td>\n",
       "      <td>NaN</td>\n",
       "      <td>0.278022</td>\n",
       "      <td>NaN</td>\n",
       "      <td>0.239313</td>\n",
       "      <td>0.244799</td>\n",
       "      <td>...</td>\n",
       "      <td>0.179992</td>\n",
       "      <td>0.000574</td>\n",
       "      <td>0.298356</td>\n",
       "      <td>0.254070</td>\n",
       "      <td>0.267412</td>\n",
       "      <td>0.219084</td>\n",
       "      <td>NaN</td>\n",
       "      <td>0.286082</td>\n",
       "      <td>0.244689</td>\n",
       "      <td>0.279877</td>\n",
       "    </tr>\n",
       "    <tr>\n",
       "      <th>1999-12-31</th>\n",
       "      <td>NaN</td>\n",
       "      <td>0.269497</td>\n",
       "      <td>0.203851</td>\n",
       "      <td>NaN</td>\n",
       "      <td>NaN</td>\n",
       "      <td>NaN</td>\n",
       "      <td>0.256439</td>\n",
       "      <td>NaN</td>\n",
       "      <td>0.135857</td>\n",
       "      <td>0.152361</td>\n",
       "      <td>...</td>\n",
       "      <td>0.190395</td>\n",
       "      <td>0.437643</td>\n",
       "      <td>0.354243</td>\n",
       "      <td>0.246235</td>\n",
       "      <td>0.306131</td>\n",
       "      <td>0.287178</td>\n",
       "      <td>NaN</td>\n",
       "      <td>0.150511</td>\n",
       "      <td>0.331905</td>\n",
       "      <td>0.230745</td>\n",
       "    </tr>\n",
       "    <tr>\n",
       "      <th>2000-12-31</th>\n",
       "      <td>NaN</td>\n",
       "      <td>0.376760</td>\n",
       "      <td>0.140889</td>\n",
       "      <td>NaN</td>\n",
       "      <td>NaN</td>\n",
       "      <td>NaN</td>\n",
       "      <td>0.188816</td>\n",
       "      <td>NaN</td>\n",
       "      <td>-0.018116</td>\n",
       "      <td>0.209307</td>\n",
       "      <td>...</td>\n",
       "      <td>0.198227</td>\n",
       "      <td>0.258664</td>\n",
       "      <td>0.250338</td>\n",
       "      <td>0.178241</td>\n",
       "      <td>0.308182</td>\n",
       "      <td>0.350270</td>\n",
       "      <td>NaN</td>\n",
       "      <td>-0.081430</td>\n",
       "      <td>0.200877</td>\n",
       "      <td>0.169689</td>\n",
       "    </tr>\n",
       "    <tr>\n",
       "      <th>2001-12-31</th>\n",
       "      <td>NaN</td>\n",
       "      <td>0.046793</td>\n",
       "      <td>0.038873</td>\n",
       "      <td>NaN</td>\n",
       "      <td>NaN</td>\n",
       "      <td>NaN</td>\n",
       "      <td>0.055886</td>\n",
       "      <td>NaN</td>\n",
       "      <td>0.095922</td>\n",
       "      <td>0.033192</td>\n",
       "      <td>...</td>\n",
       "      <td>0.037579</td>\n",
       "      <td>-0.112130</td>\n",
       "      <td>-0.328285</td>\n",
       "      <td>-0.055449</td>\n",
       "      <td>-0.208138</td>\n",
       "      <td>-0.277464</td>\n",
       "      <td>NaN</td>\n",
       "      <td>0.164951</td>\n",
       "      <td>-0.309287</td>\n",
       "      <td>-0.125746</td>\n",
       "    </tr>\n",
       "    <tr>\n",
       "      <th>2002-12-31</th>\n",
       "      <td>NaN</td>\n",
       "      <td>-0.099639</td>\n",
       "      <td>-0.032777</td>\n",
       "      <td>NaN</td>\n",
       "      <td>NaN</td>\n",
       "      <td>NaN</td>\n",
       "      <td>-0.021253</td>\n",
       "      <td>NaN</td>\n",
       "      <td>0.073494</td>\n",
       "      <td>-0.080148</td>\n",
       "      <td>...</td>\n",
       "      <td>0.039118</td>\n",
       "      <td>-0.101105</td>\n",
       "      <td>-0.165536</td>\n",
       "      <td>-0.113945</td>\n",
       "      <td>-0.152991</td>\n",
       "      <td>-0.104236</td>\n",
       "      <td>NaN</td>\n",
       "      <td>-0.021623</td>\n",
       "      <td>-0.295354</td>\n",
       "      <td>-0.105597</td>\n",
       "    </tr>\n",
       "    <tr>\n",
       "      <th>2003-12-31</th>\n",
       "      <td>NaN</td>\n",
       "      <td>-0.223094</td>\n",
       "      <td>-0.132799</td>\n",
       "      <td>NaN</td>\n",
       "      <td>NaN</td>\n",
       "      <td>NaN</td>\n",
       "      <td>-0.181857</td>\n",
       "      <td>NaN</td>\n",
       "      <td>-0.103916</td>\n",
       "      <td>-0.166525</td>\n",
       "      <td>...</td>\n",
       "      <td>-0.202263</td>\n",
       "      <td>-0.265003</td>\n",
       "      <td>-0.308248</td>\n",
       "      <td>-0.244050</td>\n",
       "      <td>-0.279601</td>\n",
       "      <td>-0.231378</td>\n",
       "      <td>NaN</td>\n",
       "      <td>-0.157341</td>\n",
       "      <td>-0.411022</td>\n",
       "      <td>-0.239192</td>\n",
       "    </tr>\n",
       "    <tr>\n",
       "      <th>2004-12-31</th>\n",
       "      <td>NaN</td>\n",
       "      <td>0.257867</td>\n",
       "      <td>0.210335</td>\n",
       "      <td>NaN</td>\n",
       "      <td>NaN</td>\n",
       "      <td>NaN</td>\n",
       "      <td>0.229312</td>\n",
       "      <td>NaN</td>\n",
       "      <td>0.183636</td>\n",
       "      <td>0.252980</td>\n",
       "      <td>...</td>\n",
       "      <td>0.296177</td>\n",
       "      <td>0.351445</td>\n",
       "      <td>0.205852</td>\n",
       "      <td>0.224235</td>\n",
       "      <td>0.182769</td>\n",
       "      <td>0.198084</td>\n",
       "      <td>NaN</td>\n",
       "      <td>0.233823</td>\n",
       "      <td>0.190917</td>\n",
       "      <td>0.198367</td>\n",
       "    </tr>\n",
       "    <tr>\n",
       "      <th>2005-12-31</th>\n",
       "      <td>NaN</td>\n",
       "      <td>0.101007</td>\n",
       "      <td>0.085305</td>\n",
       "      <td>NaN</td>\n",
       "      <td>NaN</td>\n",
       "      <td>NaN</td>\n",
       "      <td>0.086085</td>\n",
       "      <td>NaN</td>\n",
       "      <td>0.094562</td>\n",
       "      <td>0.120066</td>\n",
       "      <td>...</td>\n",
       "      <td>0.152056</td>\n",
       "      <td>-0.001344</td>\n",
       "      <td>0.060736</td>\n",
       "      <td>0.081787</td>\n",
       "      <td>0.090065</td>\n",
       "      <td>0.092915</td>\n",
       "      <td>NaN</td>\n",
       "      <td>0.159733</td>\n",
       "      <td>0.061198</td>\n",
       "      <td>0.081064</td>\n",
       "    </tr>\n",
       "    <tr>\n",
       "      <th>2006-12-31</th>\n",
       "      <td>NaN</td>\n",
       "      <td>0.161563</td>\n",
       "      <td>0.088045</td>\n",
       "      <td>NaN</td>\n",
       "      <td>NaN</td>\n",
       "      <td>NaN</td>\n",
       "      <td>0.089904</td>\n",
       "      <td>NaN</td>\n",
       "      <td>0.067667</td>\n",
       "      <td>0.137152</td>\n",
       "      <td>...</td>\n",
       "      <td>0.162851</td>\n",
       "      <td>0.079249</td>\n",
       "      <td>0.073266</td>\n",
       "      <td>0.082901</td>\n",
       "      <td>0.068377</td>\n",
       "      <td>0.043103</td>\n",
       "      <td>0.058041</td>\n",
       "      <td>0.092881</td>\n",
       "      <td>0.132107</td>\n",
       "      <td>0.054018</td>\n",
       "    </tr>\n",
       "    <tr>\n",
       "      <th>2007-12-31</th>\n",
       "      <td>NaN</td>\n",
       "      <td>0.083834</td>\n",
       "      <td>0.133854</td>\n",
       "      <td>NaN</td>\n",
       "      <td>NaN</td>\n",
       "      <td>NaN</td>\n",
       "      <td>0.072279</td>\n",
       "      <td>NaN</td>\n",
       "      <td>0.140136</td>\n",
       "      <td>0.154388</td>\n",
       "      <td>...</td>\n",
       "      <td>0.055071</td>\n",
       "      <td>0.028573</td>\n",
       "      <td>0.046492</td>\n",
       "      <td>0.076156</td>\n",
       "      <td>0.065569</td>\n",
       "      <td>-0.043222</td>\n",
       "      <td>0.144812</td>\n",
       "      <td>0.153077</td>\n",
       "      <td>-0.001242</td>\n",
       "      <td>0.110188</td>\n",
       "    </tr>\n",
       "    <tr>\n",
       "      <th>2008-12-31</th>\n",
       "      <td>NaN</td>\n",
       "      <td>0.098147</td>\n",
       "      <td>0.046749</td>\n",
       "      <td>NaN</td>\n",
       "      <td>NaN</td>\n",
       "      <td>NaN</td>\n",
       "      <td>0.057160</td>\n",
       "      <td>NaN</td>\n",
       "      <td>0.017503</td>\n",
       "      <td>0.124314</td>\n",
       "      <td>...</td>\n",
       "      <td>0.150792</td>\n",
       "      <td>0.035188</td>\n",
       "      <td>0.201796</td>\n",
       "      <td>0.110189</td>\n",
       "      <td>0.156500</td>\n",
       "      <td>0.184651</td>\n",
       "      <td>-0.033880</td>\n",
       "      <td>0.004456</td>\n",
       "      <td>0.084217</td>\n",
       "      <td>0.021343</td>\n",
       "    </tr>\n",
       "    <tr>\n",
       "      <th>2009-12-31</th>\n",
       "      <td>NaN</td>\n",
       "      <td>-0.456961</td>\n",
       "      <td>-0.389206</td>\n",
       "      <td>NaN</td>\n",
       "      <td>NaN</td>\n",
       "      <td>-0.280444</td>\n",
       "      <td>-0.428055</td>\n",
       "      <td>-0.226568</td>\n",
       "      <td>-0.318334</td>\n",
       "      <td>-0.466814</td>\n",
       "      <td>...</td>\n",
       "      <td>-0.453432</td>\n",
       "      <td>-0.412483</td>\n",
       "      <td>-0.467884</td>\n",
       "      <td>-0.509918</td>\n",
       "      <td>-0.429281</td>\n",
       "      <td>-0.496643</td>\n",
       "      <td>-0.296122</td>\n",
       "      <td>-0.412175</td>\n",
       "      <td>-0.431706</td>\n",
       "      <td>-0.440240</td>\n",
       "    </tr>\n",
       "    <tr>\n",
       "      <th>2010-12-31</th>\n",
       "      <td>NaN</td>\n",
       "      <td>0.282266</td>\n",
       "      <td>0.229708</td>\n",
       "      <td>0.023717</td>\n",
       "      <td>NaN</td>\n",
       "      <td>0.315345</td>\n",
       "      <td>0.312024</td>\n",
       "      <td>0.215930</td>\n",
       "      <td>0.213696</td>\n",
       "      <td>0.273888</td>\n",
       "      <td>...</td>\n",
       "      <td>0.352299</td>\n",
       "      <td>0.325259</td>\n",
       "      <td>0.288538</td>\n",
       "      <td>0.335563</td>\n",
       "      <td>0.283288</td>\n",
       "      <td>0.287398</td>\n",
       "      <td>0.261053</td>\n",
       "      <td>0.223915</td>\n",
       "      <td>0.284522</td>\n",
       "      <td>0.195497</td>\n",
       "    </tr>\n",
       "    <tr>\n",
       "      <th>2011-12-31</th>\n",
       "      <td>NaN</td>\n",
       "      <td>0.108983</td>\n",
       "      <td>0.095250</td>\n",
       "      <td>0.177590</td>\n",
       "      <td>NaN</td>\n",
       "      <td>0.128637</td>\n",
       "      <td>0.126098</td>\n",
       "      <td>0.112617</td>\n",
       "      <td>0.110411</td>\n",
       "      <td>0.122343</td>\n",
       "      <td>...</td>\n",
       "      <td>0.243648</td>\n",
       "      <td>0.089552</td>\n",
       "      <td>0.204267</td>\n",
       "      <td>0.150929</td>\n",
       "      <td>0.162377</td>\n",
       "      <td>0.148096</td>\n",
       "      <td>0.193164</td>\n",
       "      <td>0.096655</td>\n",
       "      <td>0.107239</td>\n",
       "      <td>0.115628</td>\n",
       "    </tr>\n",
       "    <tr>\n",
       "      <th>2012-12-31</th>\n",
       "      <td>NaN</td>\n",
       "      <td>-0.039753</td>\n",
       "      <td>-0.009015</td>\n",
       "      <td>0.101385</td>\n",
       "      <td>NaN</td>\n",
       "      <td>0.012768</td>\n",
       "      <td>0.010594</td>\n",
       "      <td>0.050591</td>\n",
       "      <td>0.048535</td>\n",
       "      <td>-0.008446</td>\n",
       "      <td>...</td>\n",
       "      <td>-0.016909</td>\n",
       "      <td>-0.001755</td>\n",
       "      <td>0.026821</td>\n",
       "      <td>0.019784</td>\n",
       "      <td>-0.005517</td>\n",
       "      <td>0.019048</td>\n",
       "      <td>-0.063607</td>\n",
       "      <td>0.032079</td>\n",
       "      <td>-0.003915</td>\n",
       "      <td>0.004072</td>\n",
       "    </tr>\n",
       "    <tr>\n",
       "      <th>2013-12-31</th>\n",
       "      <td>NaN</td>\n",
       "      <td>0.190108</td>\n",
       "      <td>0.151561</td>\n",
       "      <td>0.173569</td>\n",
       "      <td>NaN</td>\n",
       "      <td>0.154443</td>\n",
       "      <td>0.151721</td>\n",
       "      <td>0.130508</td>\n",
       "      <td>0.128393</td>\n",
       "      <td>0.161388</td>\n",
       "      <td>...</td>\n",
       "      <td>0.143371</td>\n",
       "      <td>0.195119</td>\n",
       "      <td>0.127414</td>\n",
       "      <td>0.177305</td>\n",
       "      <td>0.142324</td>\n",
       "      <td>0.140031</td>\n",
       "      <td>0.130465</td>\n",
       "      <td>0.161551</td>\n",
       "      <td>0.180144</td>\n",
       "      <td>0.135532</td>\n",
       "    </tr>\n",
       "    <tr>\n",
       "      <th>2014-12-31</th>\n",
       "      <td>NaN</td>\n",
       "      <td>0.261174</td>\n",
       "      <td>0.249213</td>\n",
       "      <td>0.305395</td>\n",
       "      <td>NaN</td>\n",
       "      <td>0.285937</td>\n",
       "      <td>0.283777</td>\n",
       "      <td>0.217892</td>\n",
       "      <td>0.216128</td>\n",
       "      <td>0.243135</td>\n",
       "      <td>...</td>\n",
       "      <td>0.284138</td>\n",
       "      <td>0.286566</td>\n",
       "      <td>0.249730</td>\n",
       "      <td>0.314446</td>\n",
       "      <td>0.222746</td>\n",
       "      <td>0.281796</td>\n",
       "      <td>0.303205</td>\n",
       "      <td>0.234795</td>\n",
       "      <td>0.269583</td>\n",
       "      <td>0.225305</td>\n",
       "    </tr>\n",
       "    <tr>\n",
       "      <th>2015-12-31</th>\n",
       "      <td>NaN</td>\n",
       "      <td>0.097941</td>\n",
       "      <td>0.121479</td>\n",
       "      <td>0.107516</td>\n",
       "      <td>NaN</td>\n",
       "      <td>0.123749</td>\n",
       "      <td>0.125250</td>\n",
       "      <td>0.130136</td>\n",
       "      <td>0.129860</td>\n",
       "      <td>0.093211</td>\n",
       "      <td>...</td>\n",
       "      <td>0.130998</td>\n",
       "      <td>0.135191</td>\n",
       "      <td>0.109603</td>\n",
       "      <td>0.094992</td>\n",
       "      <td>0.111440</td>\n",
       "      <td>0.098801</td>\n",
       "      <td>0.084267</td>\n",
       "      <td>0.116717</td>\n",
       "      <td>0.130834</td>\n",
       "      <td>0.116434</td>\n",
       "    </tr>\n",
       "    <tr>\n",
       "      <th>2016-12-31</th>\n",
       "      <td>NaN</td>\n",
       "      <td>0.034507</td>\n",
       "      <td>-0.027854</td>\n",
       "      <td>0.013938</td>\n",
       "      <td>0.008688</td>\n",
       "      <td>-0.004140</td>\n",
       "      <td>-0.006373</td>\n",
       "      <td>-0.039964</td>\n",
       "      <td>-0.041698</td>\n",
       "      <td>0.019134</td>\n",
       "      <td>...</td>\n",
       "      <td>0.046649</td>\n",
       "      <td>0.073910</td>\n",
       "      <td>0.048352</td>\n",
       "      <td>0.082509</td>\n",
       "      <td>0.028135</td>\n",
       "      <td>0.043593</td>\n",
       "      <td>0.026901</td>\n",
       "      <td>-0.043783</td>\n",
       "      <td>0.060857</td>\n",
       "      <td>-0.022375</td>\n",
       "    </tr>\n",
       "    <tr>\n",
       "      <th>2017-12-31</th>\n",
       "      <td>NaN</td>\n",
       "      <td>0.108929</td>\n",
       "      <td>0.156920</td>\n",
       "      <td>0.104077</td>\n",
       "      <td>0.105246</td>\n",
       "      <td>0.111734</td>\n",
       "      <td>0.109688</td>\n",
       "      <td>0.151742</td>\n",
       "      <td>0.149827</td>\n",
       "      <td>0.140939</td>\n",
       "      <td>...</td>\n",
       "      <td>0.084670</td>\n",
       "      <td>0.096364</td>\n",
       "      <td>0.012293</td>\n",
       "      <td>0.043827</td>\n",
       "      <td>0.069596</td>\n",
       "      <td>0.073705</td>\n",
       "      <td>0.054890</td>\n",
       "      <td>0.148117</td>\n",
       "      <td>0.025143</td>\n",
       "      <td>0.114947</td>\n",
       "    </tr>\n",
       "    <tr>\n",
       "      <th>2018-12-31</th>\n",
       "      <td>0.152799</td>\n",
       "      <td>0.235909</td>\n",
       "      <td>0.182138</td>\n",
       "      <td>0.259875</td>\n",
       "      <td>0.260812</td>\n",
       "      <td>0.205085</td>\n",
       "      <td>0.203352</td>\n",
       "      <td>0.165565</td>\n",
       "      <td>0.164093</td>\n",
       "      <td>0.212738</td>\n",
       "      <td>...</td>\n",
       "      <td>0.224041</td>\n",
       "      <td>0.229419</td>\n",
       "      <td>0.327968</td>\n",
       "      <td>0.315654</td>\n",
       "      <td>0.263690</td>\n",
       "      <td>0.277257</td>\n",
       "      <td>0.243151</td>\n",
       "      <td>0.153747</td>\n",
       "      <td>0.274512</td>\n",
       "      <td>0.177295</td>\n",
       "    </tr>\n",
       "    <tr>\n",
       "      <th>2019-12-31</th>\n",
       "      <td>-0.027555</td>\n",
       "      <td>-0.043299</td>\n",
       "      <td>-0.077403</td>\n",
       "      <td>0.052536</td>\n",
       "      <td>0.053575</td>\n",
       "      <td>-0.032740</td>\n",
       "      <td>-0.034801</td>\n",
       "      <td>-0.028523</td>\n",
       "      <td>-0.030323</td>\n",
       "      <td>-0.077350</td>\n",
       "      <td>...</td>\n",
       "      <td>-0.034572</td>\n",
       "      <td>-0.011837</td>\n",
       "      <td>-0.009790</td>\n",
       "      <td>0.004878</td>\n",
       "      <td>-0.020775</td>\n",
       "      <td>-0.002644</td>\n",
       "      <td>-0.054439</td>\n",
       "      <td>-0.093813</td>\n",
       "      <td>-0.005056</td>\n",
       "      <td>-0.071404</td>\n",
       "    </tr>\n",
       "  </tbody>\n",
       "</table>\n",
       "<p>40 rows × 101 columns</p>\n",
       "</div>"
      ],
      "text/plain": [
       "               AFMFX     AGTHX     AIVSX     AKRIX     AKRSX     AMCFX  \\\n",
       "Date                                                                     \n",
       "1980-12-31       NaN       NaN       NaN       NaN       NaN       NaN   \n",
       "1981-12-31       NaN  0.373945       NaN       NaN       NaN       NaN   \n",
       "1982-12-31       NaN -0.020714       NaN       NaN       NaN       NaN   \n",
       "1983-12-31       NaN  0.192326       NaN       NaN       NaN       NaN   \n",
       "1984-12-31       NaN  0.207397       NaN       NaN       NaN       NaN   \n",
       "1985-12-31       NaN -0.087750       NaN       NaN       NaN       NaN   \n",
       "1986-12-31       NaN  0.171686       NaN       NaN       NaN       NaN   \n",
       "1987-12-31       NaN  0.112441  0.024667       NaN       NaN       NaN   \n",
       "1988-12-31       NaN  0.004728  0.002421       NaN       NaN       NaN   \n",
       "1989-12-31       NaN  0.094939  0.040432       NaN       NaN       NaN   \n",
       "1990-12-31       NaN  0.173318  0.220578       NaN       NaN       NaN   \n",
       "1991-12-31       NaN -0.117908 -0.030250       NaN       NaN       NaN   \n",
       "1992-12-31       NaN  0.252834  0.220584       NaN       NaN       NaN   \n",
       "1993-12-31       NaN  0.059122  0.050395       NaN       NaN       NaN   \n",
       "1994-12-31       NaN  0.112867  0.067608       NaN       NaN       NaN   \n",
       "1995-12-31       NaN -0.022074 -0.030279       NaN       NaN       NaN   \n",
       "1996-12-31       NaN  0.230439  0.233716       NaN       NaN       NaN   \n",
       "1997-12-31       NaN  0.122469  0.165190       NaN       NaN       NaN   \n",
       "1998-12-31       NaN  0.252195  0.269056       NaN       NaN       NaN   \n",
       "1999-12-31       NaN  0.269497  0.203851       NaN       NaN       NaN   \n",
       "2000-12-31       NaN  0.376760  0.140889       NaN       NaN       NaN   \n",
       "2001-12-31       NaN  0.046793  0.038873       NaN       NaN       NaN   \n",
       "2002-12-31       NaN -0.099639 -0.032777       NaN       NaN       NaN   \n",
       "2003-12-31       NaN -0.223094 -0.132799       NaN       NaN       NaN   \n",
       "2004-12-31       NaN  0.257867  0.210335       NaN       NaN       NaN   \n",
       "2005-12-31       NaN  0.101007  0.085305       NaN       NaN       NaN   \n",
       "2006-12-31       NaN  0.161563  0.088045       NaN       NaN       NaN   \n",
       "2007-12-31       NaN  0.083834  0.133854       NaN       NaN       NaN   \n",
       "2008-12-31       NaN  0.098147  0.046749       NaN       NaN       NaN   \n",
       "2009-12-31       NaN -0.456961 -0.389206       NaN       NaN -0.280444   \n",
       "2010-12-31       NaN  0.282266  0.229708  0.023717       NaN  0.315345   \n",
       "2011-12-31       NaN  0.108983  0.095250  0.177590       NaN  0.128637   \n",
       "2012-12-31       NaN -0.039753 -0.009015  0.101385       NaN  0.012768   \n",
       "2013-12-31       NaN  0.190108  0.151561  0.173569       NaN  0.154443   \n",
       "2014-12-31       NaN  0.261174  0.249213  0.305395       NaN  0.285937   \n",
       "2015-12-31       NaN  0.097941  0.121479  0.107516       NaN  0.123749   \n",
       "2016-12-31       NaN  0.034507 -0.027854  0.013938  0.008688 -0.004140   \n",
       "2017-12-31       NaN  0.108929  0.156920  0.104077  0.105246  0.111734   \n",
       "2018-12-31  0.152799  0.235909  0.182138  0.259875  0.260812  0.205085   \n",
       "2019-12-31 -0.027555 -0.043299 -0.077403  0.052536  0.053575 -0.032740   \n",
       "\n",
       "               AMCPX     AMRFX     AMRMX     ANCFX  ...     RPMGX     SBLYX  \\\n",
       "Date                                                ...                       \n",
       "1980-12-31       NaN       NaN       NaN       NaN  ...       NaN       NaN   \n",
       "1981-12-31       NaN       NaN       NaN  0.219248  ...       NaN       NaN   \n",
       "1982-12-31       NaN       NaN       NaN -0.010941  ...       NaN       NaN   \n",
       "1983-12-31       NaN       NaN       NaN  0.270907  ...       NaN       NaN   \n",
       "1984-12-31       NaN       NaN       NaN  0.250165  ...       NaN       NaN   \n",
       "1985-12-31       NaN       NaN       NaN  0.007458  ...       NaN       NaN   \n",
       "1986-12-31       NaN       NaN       NaN  0.221964  ...       NaN       NaN   \n",
       "1987-12-31  0.040801       NaN  0.121339  0.038210  ...       NaN       NaN   \n",
       "1988-12-31  0.056241       NaN  0.017345 -0.016121  ...       NaN       NaN   \n",
       "1989-12-31  0.016314       NaN  0.050656  0.081948  ...       NaN       NaN   \n",
       "1990-12-31  0.172788       NaN  0.206838  0.175831  ...       NaN       NaN   \n",
       "1991-12-31 -0.130177       NaN -0.045905 -0.127970  ...       NaN       NaN   \n",
       "1992-12-31  0.280540       NaN  0.168664  0.262471  ...       NaN       NaN   \n",
       "1993-12-31  0.042646       NaN  0.032933  0.098513  ...  0.200489       NaN   \n",
       "1994-12-31 -0.036462       NaN  0.075772  0.162298  ...  0.207639       NaN   \n",
       "1995-12-31 -0.080570       NaN -0.033236  0.015773  ... -0.026955       NaN   \n",
       "1996-12-31  0.175710       NaN  0.229637  0.302938  ...  0.318950       NaN   \n",
       "1997-12-31  0.086059       NaN  0.140653  0.169889  ...  0.209886       NaN   \n",
       "1998-12-31  0.278022       NaN  0.239313  0.244799  ...  0.179992  0.000574   \n",
       "1999-12-31  0.256439       NaN  0.135857  0.152361  ...  0.190395  0.437643   \n",
       "2000-12-31  0.188816       NaN -0.018116  0.209307  ...  0.198227  0.258664   \n",
       "2001-12-31  0.055886       NaN  0.095922  0.033192  ...  0.037579 -0.112130   \n",
       "2002-12-31 -0.021253       NaN  0.073494 -0.080148  ...  0.039118 -0.101105   \n",
       "2003-12-31 -0.181857       NaN -0.103916 -0.166525  ... -0.202263 -0.265003   \n",
       "2004-12-31  0.229312       NaN  0.183636  0.252980  ...  0.296177  0.351445   \n",
       "2005-12-31  0.086085       NaN  0.094562  0.120066  ...  0.152056 -0.001344   \n",
       "2006-12-31  0.089904       NaN  0.067667  0.137152  ...  0.162851  0.079249   \n",
       "2007-12-31  0.072279       NaN  0.140136  0.154388  ...  0.055071  0.028573   \n",
       "2008-12-31  0.057160       NaN  0.017503  0.124314  ...  0.150792  0.035188   \n",
       "2009-12-31 -0.428055 -0.226568 -0.318334 -0.466814  ... -0.453432 -0.412483   \n",
       "2010-12-31  0.312024  0.215930  0.213696  0.273888  ...  0.352299  0.325259   \n",
       "2011-12-31  0.126098  0.112617  0.110411  0.122343  ...  0.243648  0.089552   \n",
       "2012-12-31  0.010594  0.050591  0.048535 -0.008446  ... -0.016909 -0.001755   \n",
       "2013-12-31  0.151721  0.130508  0.128393  0.161388  ...  0.143371  0.195119   \n",
       "2014-12-31  0.283777  0.217892  0.216128  0.243135  ...  0.284138  0.286566   \n",
       "2015-12-31  0.125250  0.130136  0.129860  0.093211  ...  0.130998  0.135191   \n",
       "2016-12-31 -0.006373 -0.039964 -0.041698  0.019134  ...  0.046649  0.073910   \n",
       "2017-12-31  0.109688  0.151742  0.149827  0.140939  ...  0.084670  0.096364   \n",
       "2018-12-31  0.203352  0.165565  0.164093  0.212738  ...  0.224041  0.229419   \n",
       "2019-12-31 -0.034801 -0.028523 -0.030323 -0.077350  ... -0.034572 -0.011837   \n",
       "\n",
       "               SEEGX     TRBCX     TWCGX     TWCUX     VAFAX     VWNFX  \\\n",
       "Date                                                                     \n",
       "1980-12-31       NaN       NaN       NaN       NaN       NaN       NaN   \n",
       "1981-12-31       NaN       NaN  0.444489       NaN       NaN       NaN   \n",
       "1982-12-31       NaN       NaN -0.155439 -0.012121       NaN       NaN   \n",
       "1983-12-31       NaN       NaN  0.013850  0.258291       NaN       NaN   \n",
       "1984-12-31       NaN       NaN  0.230555  0.247645       NaN       NaN   \n",
       "1985-12-31       NaN       NaN -0.244129 -0.258695       NaN       NaN   \n",
       "1986-12-31       NaN       NaN  0.299125  0.243880       NaN  0.103741   \n",
       "1987-12-31       NaN       NaN  0.496225  0.117398       NaN  0.172813   \n",
       "1988-12-31       NaN       NaN  0.137327  0.085508       NaN -0.001300   \n",
       "1989-12-31       NaN       NaN -0.006092  0.083382       NaN  0.174800   \n",
       "1990-12-31       NaN       NaN  0.380465  0.333413       NaN  0.268336   \n",
       "1991-12-31       NaN       NaN -0.062747  0.059426       NaN -0.129059   \n",
       "1992-12-31       NaN       NaN  0.536572  0.642546       NaN  0.260948   \n",
       "1993-12-31  0.055764       NaN -0.055892 -0.002888       NaN  0.115737   \n",
       "1994-12-31  0.106909  0.115996  0.033061  0.202929       NaN  0.121055   \n",
       "1995-12-31  0.048223 -0.001948 -0.011290 -0.044169       NaN -0.003432   \n",
       "1996-12-31  0.231271  0.324127  0.377344  0.340373       NaN  0.328787   \n",
       "1997-12-31  0.149378  0.231745  0.120726  0.118153       NaN  0.206985   \n",
       "1998-12-31  0.298356  0.254070  0.267412  0.219084       NaN  0.286082   \n",
       "1999-12-31  0.354243  0.246235  0.306131  0.287178       NaN  0.150511   \n",
       "2000-12-31  0.250338  0.178241  0.308182  0.350270       NaN -0.081430   \n",
       "2001-12-31 -0.328285 -0.055449 -0.208138 -0.277464       NaN  0.164951   \n",
       "2002-12-31 -0.165536 -0.113945 -0.152991 -0.104236       NaN -0.021623   \n",
       "2003-12-31 -0.308248 -0.244050 -0.279601 -0.231378       NaN -0.157341   \n",
       "2004-12-31  0.205852  0.224235  0.182769  0.198084       NaN  0.233823   \n",
       "2005-12-31  0.060736  0.081787  0.090065  0.092915       NaN  0.159733   \n",
       "2006-12-31  0.073266  0.082901  0.068377  0.043103  0.058041  0.092881   \n",
       "2007-12-31  0.046492  0.076156  0.065569 -0.043222  0.144812  0.153077   \n",
       "2008-12-31  0.201796  0.110189  0.156500  0.184651 -0.033880  0.004456   \n",
       "2009-12-31 -0.467884 -0.509918 -0.429281 -0.496643 -0.296122 -0.412175   \n",
       "2010-12-31  0.288538  0.335563  0.283288  0.287398  0.261053  0.223915   \n",
       "2011-12-31  0.204267  0.150929  0.162377  0.148096  0.193164  0.096655   \n",
       "2012-12-31  0.026821  0.019784 -0.005517  0.019048 -0.063607  0.032079   \n",
       "2013-12-31  0.127414  0.177305  0.142324  0.140031  0.130465  0.161551   \n",
       "2014-12-31  0.249730  0.314446  0.222746  0.281796  0.303205  0.234795   \n",
       "2015-12-31  0.109603  0.094992  0.111440  0.098801  0.084267  0.116717   \n",
       "2016-12-31  0.048352  0.082509  0.028135  0.043593  0.026901 -0.043783   \n",
       "2017-12-31  0.012293  0.043827  0.069596  0.073705  0.054890  0.148117   \n",
       "2018-12-31  0.327968  0.315654  0.263690  0.277257  0.243151  0.153747   \n",
       "2019-12-31 -0.009790  0.004878 -0.020775 -0.002644 -0.054439 -0.093813   \n",
       "\n",
       "               VWUSX   S&P 500  \n",
       "Date                            \n",
       "1980-12-31       NaN       NaN  \n",
       "1981-12-31  0.292460  0.253979  \n",
       "1982-12-31 -0.008201 -0.105083  \n",
       "1983-12-31  0.181911  0.119646  \n",
       "1984-12-31  0.050682  0.170396  \n",
       "1985-12-31 -0.022556  0.008075  \n",
       "1986-12-31  0.230368  0.236968  \n",
       "1987-12-31 -0.087273  0.162006  \n",
       "1988-12-31 -0.351368  0.037784  \n",
       "1989-12-31  0.046235  0.072955  \n",
       "1990-12-31  0.349937  0.267345  \n",
       "1991-12-31  0.016993 -0.096966  \n",
       "1992-12-31  0.383834  0.245433  \n",
       "1993-12-31  0.028483  0.042510  \n",
       "1994-12-31 -0.015322  0.066764  \n",
       "1995-12-31  0.038309 -0.013693  \n",
       "1996-12-31  0.338343  0.301606  \n",
       "1997-12-31  0.213496  0.171705  \n",
       "1998-12-31  0.244689  0.279877  \n",
       "1999-12-31  0.331905  0.230745  \n",
       "2000-12-31  0.200877  0.169689  \n",
       "2001-12-31 -0.309287 -0.125746  \n",
       "2002-12-31 -0.295354 -0.105597  \n",
       "2003-12-31 -0.411022 -0.239192  \n",
       "2004-12-31  0.190917  0.198367  \n",
       "2005-12-31  0.061198  0.081064  \n",
       "2006-12-31  0.132107  0.054018  \n",
       "2007-12-31 -0.001242  0.110188  \n",
       "2008-12-31  0.084217  0.021343  \n",
       "2009-12-31 -0.431706 -0.440240  \n",
       "2010-12-31  0.284522  0.195497  \n",
       "2011-12-31  0.107239  0.115628  \n",
       "2012-12-31 -0.003915  0.004072  \n",
       "2013-12-31  0.180144  0.135532  \n",
       "2014-12-31  0.269583  0.225305  \n",
       "2015-12-31  0.130834  0.116434  \n",
       "2016-12-31  0.060857 -0.022375  \n",
       "2017-12-31  0.025143  0.114947  \n",
       "2018-12-31  0.274512  0.177295  \n",
       "2019-12-31 -0.005056 -0.071404  \n",
       "\n",
       "[40 rows x 101 columns]"
      ]
     },
     "execution_count": 63,
     "metadata": {},
     "output_type": "execute_result"
    }
   ],
   "source": [
    "yearly_close_data = pd.DataFrame(close_data).resample(\"Y\").first()\n",
    "yearly_changes = np.log(yearly_close_data).diff()\n",
    "yearly_changes"
   ]
  },
  {
   "cell_type": "code",
   "execution_count": 64,
   "id": "e878b656",
   "metadata": {},
   "outputs": [
    {
     "name": "stderr",
     "output_type": "stream",
     "text": [
      "C:\\Users\\JLCat\\AppData\\Roaming\\Python\\Python39\\site-packages\\numpy\\core\\fromnumeric.py:3643: FutureWarning: The behavior of DataFrame.std with axis=None is deprecated, in a future version this will reduce over both axes and return a scalar. To retain the old behavior, pass axis=0 (or do not pass axis)\n",
      "  return std(axis=axis, dtype=dtype, out=out, ddof=ddof, **kwargs)\n"
     ]
    }
   ],
   "source": [
    "yearly_return_CIs = confidence_interval(yearly_changes, 0.05)"
   ]
  },
  {
   "cell_type": "code",
   "execution_count": 65,
   "id": "8d01a843",
   "metadata": {},
   "outputs": [
    {
     "data": {
      "text/plain": [
       "<matplotlib.legend.Legend at 0x29698014550>"
      ]
     },
     "execution_count": 65,
     "metadata": {},
     "output_type": "execute_result"
    },
    {
     "data": {
      "image/png": "[encoded data removed]",
      "text/plain": [
       "<Figure size 1000x1000 with 1 Axes>"
      ]
     },
     "metadata": {},
     "output_type": "display_data"
    }
   ],
   "source": [
    "fig, ax = plt.subplots(figsize = (10, 10))\n",
    "Y_axis = np.arange(len(yearly_return_CIs[0]))\n",
    "\n",
    "ax.hlines(y = Y_axis, xmin = yearly_return_CIs[0].sort_values(), xmax = yearly_return_CIs[1].sort_values() )\n",
    "ax.vlines(x = [yearly_return_CIs[0][\"S&P 500\"],yearly_return_CIs[1][\"S&P 500\"]], ymin = 0, ymax = 100, label = \"S&P 500 CI\", color=\"r\", linestyle=\"--\")\n",
    "ax.set_title(\"Various Mutual Fund's Confidence Intervals vs the S&P 500's Confidence Band\")\n",
    "ax.set_xlim(0.05)\n",
    "ax.legend()"
   ]
  },
  {
   "cell_type": "markdown",
   "id": "5f36cea4",
   "metadata": {},
   "source": [
    "# ANOVA "
   ]
  },
  {
   "cell_type": "markdown",
   "id": "90589d09",
   "metadata": {},
   "source": [
    "While using T-tests and Z-tests to analyze means of groups, we were restricted to only being able to compare two groups at a time. What if we wanted to see of there was significant differences between more than two groups? The **ANOVA**, or **Analysis of Variance** techniques allow us to test the null hypothesis that there is no significant difference between $k$ (some integer larger than 2) groups. \n",
    "\n",
    "- $H_o$: $\\mu_1 = \\mu_2 = \\cdots = \\mu_k$\n",
    "- $H_a$: At least two of the means are not equal. \n",
    "\n",
    "#### Mutual Fund Categories\n",
    "For our motivating example, we will continue to use our mutual fund data, but we must be able to group our mutual funds into categories. Luckily, the dataset contains a column labeled \"Morningstar Category\", which is assigned by [Morningstar](http://im.mstar.com/im/newhomepage/Morningstar_Category_Definitions_US_June_2016.pdf) based off of a funds previous holdings statistics and tries to give investors information about a fund's risk and investment strategy. "
   ]
  },
  {
   "cell_type": "code",
   "execution_count": 66,
   "id": "13a620e9",
   "metadata": {},
   "outputs": [
    {
     "data": {
      "text/html": [
       "<div>\n",
       "<style scoped>\n",
       "    .dataframe tbody tr th:only-of-type {\n",
       "        vertical-align: middle;\n",
       "    }\n",
       "\n",
       "    .dataframe tbody tr th {\n",
       "        vertical-align: top;\n",
       "    }\n",
       "\n",
       "    .dataframe thead th {\n",
       "        text-align: right;\n",
       "    }\n",
       "</style>\n",
       "<table border=\"1\" class=\"dataframe\">\n",
       "  <thead>\n",
       "    <tr style=\"text-align: right;\">\n",
       "      <th></th>\n",
       "      <th>Symbol</th>\n",
       "      <th>Morningstar Category</th>\n",
       "    </tr>\n",
       "  </thead>\n",
       "  <tbody>\n",
       "    <tr>\n",
       "      <th>0</th>\n",
       "      <td>AGTHX</td>\n",
       "      <td>Large Growth</td>\n",
       "    </tr>\n",
       "    <tr>\n",
       "      <th>1</th>\n",
       "      <td>FCNTX</td>\n",
       "      <td>Large Growth</td>\n",
       "    </tr>\n",
       "    <tr>\n",
       "      <th>2</th>\n",
       "      <td>CWMAX</td>\n",
       "      <td>Large Blend</td>\n",
       "    </tr>\n",
       "    <tr>\n",
       "      <th>3</th>\n",
       "      <td>CWMCX</td>\n",
       "      <td>Large Blend</td>\n",
       "    </tr>\n",
       "    <tr>\n",
       "      <th>4</th>\n",
       "      <td>CWMEX</td>\n",
       "      <td>Large Blend</td>\n",
       "    </tr>\n",
       "    <tr>\n",
       "      <th>...</th>\n",
       "      <td>...</td>\n",
       "      <td>...</td>\n",
       "    </tr>\n",
       "    <tr>\n",
       "      <th>95</th>\n",
       "      <td>FDTRX</td>\n",
       "      <td>Large Growth</td>\n",
       "    </tr>\n",
       "    <tr>\n",
       "      <th>96</th>\n",
       "      <td>FDYZX</td>\n",
       "      <td>Large Growth</td>\n",
       "    </tr>\n",
       "    <tr>\n",
       "      <th>97</th>\n",
       "      <td>BBVLX</td>\n",
       "      <td>Large Value</td>\n",
       "    </tr>\n",
       "    <tr>\n",
       "      <th>98</th>\n",
       "      <td>PEYAX</td>\n",
       "      <td>Large Value</td>\n",
       "    </tr>\n",
       "    <tr>\n",
       "      <th>99</th>\n",
       "      <td>TWCGX</td>\n",
       "      <td>Large Growth</td>\n",
       "    </tr>\n",
       "  </tbody>\n",
       "</table>\n",
       "<p>100 rows × 2 columns</p>\n",
       "</div>"
      ],
      "text/plain": [
       "   Symbol Morningstar Category\n",
       "0   AGTHX         Large Growth\n",
       "1   FCNTX         Large Growth\n",
       "2   CWMAX          Large Blend\n",
       "3   CWMCX          Large Blend\n",
       "4   CWMEX          Large Blend\n",
       "..    ...                  ...\n",
       "95  FDTRX         Large Growth\n",
       "96  FDYZX         Large Growth\n",
       "97  BBVLX          Large Value\n",
       "98  PEYAX          Large Value\n",
       "99  TWCGX         Large Growth\n",
       "\n",
       "[100 rows x 2 columns]"
      ]
     },
     "execution_count": 66,
     "metadata": {},
     "output_type": "execute_result"
    }
   ],
   "source": [
    "mutual_fund_data[[\"Symbol\", \"Morningstar Category\"]]"
   ]
  },
  {
   "cell_type": "markdown",
   "id": "0f5dd2e1",
   "metadata": {},
   "source": [
    "We can check to see how many of each category of fund are in our data using the _.value_counts()_ method "
   ]
  },
  {
   "cell_type": "code",
   "execution_count": 67,
   "id": "499c43d8",
   "metadata": {},
   "outputs": [
    {
     "data": {
      "text/plain": [
       "Morningstar Category\n",
       "Large Growth      51\n",
       "Large Value       20\n",
       "Large Blend       17\n",
       "Mid-Cap Growth     6\n",
       "Mid-Cap Value      2\n",
       "Health             1\n",
       "Mid-Cap Blend      1\n",
       "Communications     1\n",
       "Small Value        1\n",
       "Name: count, dtype: int64"
      ]
     },
     "execution_count": 67,
     "metadata": {},
     "output_type": "execute_result"
    }
   ],
   "source": [
    "mutual_fund_data[\"Morningstar Category\"].value_counts()"
   ]
  },
  {
   "cell_type": "markdown",
   "id": "5fc0febb",
   "metadata": {},
   "source": [
    "For ANOVA and for T-test analysis, a sample size of only 2 is not large enough for us to make meaningful assumptions about the population from which the sample was drawn, so we choose to only include the fund categories that contain greater than 2 funds in our data. "
   ]
  },
  {
   "cell_type": "code",
   "execution_count": 68,
   "id": "51f4e240",
   "metadata": {},
   "outputs": [
    {
     "data": {
      "text/plain": [
       "Morningstar Category\n",
       "Large Growth       True\n",
       "Large Value        True\n",
       "Large Blend        True\n",
       "Mid-Cap Growth     True\n",
       "Mid-Cap Value     False\n",
       "Health            False\n",
       "Mid-Cap Blend     False\n",
       "Communications    False\n",
       "Small Value       False\n",
       "Name: count, dtype: bool"
      ]
     },
     "execution_count": 68,
     "metadata": {},
     "output_type": "execute_result"
    }
   ],
   "source": [
    "# identify fund categories containing > 2 funds in our data\n",
    "fund_types = mutual_fund_data[\"Morningstar Category\"].value_counts() > 2\n",
    "fund_types"
   ]
  },
  {
   "cell_type": "markdown",
   "id": "4365ee1f",
   "metadata": {},
   "source": [
    "Create variable _relevant_fund_types_ to store the four fund types we will be analyzing:"
   ]
  },
  {
   "cell_type": "code",
   "execution_count": 69,
   "id": "95526e6c",
   "metadata": {},
   "outputs": [
    {
     "data": {
      "text/plain": [
       "Morningstar Category\n",
       "Large Growth      True\n",
       "Large Value       True\n",
       "Large Blend       True\n",
       "Mid-Cap Growth    True\n",
       "Name: count, dtype: bool"
      ]
     },
     "execution_count": 69,
     "metadata": {},
     "output_type": "execute_result"
    }
   ],
   "source": [
    "# pull fund types for which fund_types has value of true \n",
    "relevant_fund_types = fund_types[fund_types]\n",
    "relevant_fund_types"
   ]
  },
  {
   "cell_type": "markdown",
   "id": "af080b0d",
   "metadata": {},
   "source": [
    "Next, identify the fund symbols in our _mutual_fund_data_ that will be used in the analysis. This will leave us with all but 6 of the funds and 94 rows of data instead of 100: "
   ]
  },
  {
   "cell_type": "code",
   "execution_count": 70,
   "id": "2b0c1c63",
   "metadata": {},
   "outputs": [
    {
     "data": {
      "text/html": [
       "<div>\n",
       "<style scoped>\n",
       "    .dataframe tbody tr th:only-of-type {\n",
       "        vertical-align: middle;\n",
       "    }\n",
       "\n",
       "    .dataframe tbody tr th {\n",
       "        vertical-align: top;\n",
       "    }\n",
       "\n",
       "    .dataframe thead th {\n",
       "        text-align: right;\n",
       "    }\n",
       "</style>\n",
       "<table border=\"1\" class=\"dataframe\">\n",
       "  <thead>\n",
       "    <tr style=\"text-align: right;\">\n",
       "      <th></th>\n",
       "      <th>Symbol</th>\n",
       "      <th>Name</th>\n",
       "      <th>Morningstar Category</th>\n",
       "      <th>Market cap</th>\n",
       "      <th>Fees</th>\n",
       "    </tr>\n",
       "  </thead>\n",
       "  <tbody>\n",
       "    <tr>\n",
       "      <th>0</th>\n",
       "      <td>AGTHX</td>\n",
       "      <td>American Funds The Growth Fund of America Class A</td>\n",
       "      <td>Large Growth</td>\n",
       "      <td>$138,592,080,000</td>\n",
       "      <td>0.62%</td>\n",
       "    </tr>\n",
       "    <tr>\n",
       "      <th>1</th>\n",
       "      <td>FCNTX</td>\n",
       "      <td>Fidelity Contrafund Fund</td>\n",
       "      <td>Large Growth</td>\n",
       "      <td>$121,762,870,000</td>\n",
       "      <td>0.74%</td>\n",
       "    </tr>\n",
       "    <tr>\n",
       "      <th>2</th>\n",
       "      <td>CWMAX</td>\n",
       "      <td>American Funds Washington Mutual Investors Fun...</td>\n",
       "      <td>Large Blend</td>\n",
       "      <td>$113,300,000,000</td>\n",
       "      <td>0.63%</td>\n",
       "    </tr>\n",
       "    <tr>\n",
       "      <th>3</th>\n",
       "      <td>CWMCX</td>\n",
       "      <td>American Funds Washington Mutual Investors Fun...</td>\n",
       "      <td>Large Blend</td>\n",
       "      <td>$113,300,000,000</td>\n",
       "      <td>1.40%</td>\n",
       "    </tr>\n",
       "    <tr>\n",
       "      <th>4</th>\n",
       "      <td>CWMEX</td>\n",
       "      <td>American Funds Washington Mutual Investors Fun...</td>\n",
       "      <td>Large Blend</td>\n",
       "      <td>$113,300,000,000</td>\n",
       "      <td>0.87%</td>\n",
       "    </tr>\n",
       "    <tr>\n",
       "      <th>...</th>\n",
       "      <td>...</td>\n",
       "      <td>...</td>\n",
       "      <td>...</td>\n",
       "      <td>...</td>\n",
       "      <td>...</td>\n",
       "    </tr>\n",
       "    <tr>\n",
       "      <th>95</th>\n",
       "      <td>FDTRX</td>\n",
       "      <td>Franklin DynaTech Fund Class R6</td>\n",
       "      <td>Large Growth</td>\n",
       "      <td>$9,600,000,000</td>\n",
       "      <td>0.51%</td>\n",
       "    </tr>\n",
       "    <tr>\n",
       "      <th>96</th>\n",
       "      <td>FDYZX</td>\n",
       "      <td>Franklin DynaTech Fund Advisor Class</td>\n",
       "      <td>Large Growth</td>\n",
       "      <td>$9,600,000,000</td>\n",
       "      <td>0.62%</td>\n",
       "    </tr>\n",
       "    <tr>\n",
       "      <th>97</th>\n",
       "      <td>BBVLX</td>\n",
       "      <td>Bridge Builder Large Cap Value Fund</td>\n",
       "      <td>Large Value</td>\n",
       "      <td>$9,500,000,000</td>\n",
       "      <td>0.25%</td>\n",
       "    </tr>\n",
       "    <tr>\n",
       "      <th>98</th>\n",
       "      <td>PEYAX</td>\n",
       "      <td>Putnam Large Cap Value Fund Class A</td>\n",
       "      <td>Large Value</td>\n",
       "      <td>$9,393,340,000</td>\n",
       "      <td>0.91%</td>\n",
       "    </tr>\n",
       "    <tr>\n",
       "      <th>99</th>\n",
       "      <td>TWCGX</td>\n",
       "      <td>American Century Growth Fund Investor Class</td>\n",
       "      <td>Large Growth</td>\n",
       "      <td>$9,354,900,000</td>\n",
       "      <td>0.98%</td>\n",
       "    </tr>\n",
       "  </tbody>\n",
       "</table>\n",
       "<p>94 rows × 5 columns</p>\n",
       "</div>"
      ],
      "text/plain": [
       "   Symbol                                               Name  \\\n",
       "0   AGTHX  American Funds The Growth Fund of America Class A   \n",
       "1   FCNTX                           Fidelity Contrafund Fund   \n",
       "2   CWMAX  American Funds Washington Mutual Investors Fun...   \n",
       "3   CWMCX  American Funds Washington Mutual Investors Fun...   \n",
       "4   CWMEX  American Funds Washington Mutual Investors Fun...   \n",
       "..    ...                                                ...   \n",
       "95  FDTRX                    Franklin DynaTech Fund Class R6   \n",
       "96  FDYZX               Franklin DynaTech Fund Advisor Class   \n",
       "97  BBVLX                Bridge Builder Large Cap Value Fund   \n",
       "98  PEYAX                Putnam Large Cap Value Fund Class A   \n",
       "99  TWCGX        American Century Growth Fund Investor Class   \n",
       "\n",
       "   Morningstar Category        Market cap   Fees  \n",
       "0          Large Growth  $138,592,080,000  0.62%  \n",
       "1          Large Growth  $121,762,870,000  0.74%  \n",
       "2           Large Blend  $113,300,000,000  0.63%  \n",
       "3           Large Blend  $113,300,000,000  1.40%  \n",
       "4           Large Blend  $113,300,000,000  0.87%  \n",
       "..                  ...               ...    ...  \n",
       "95         Large Growth    $9,600,000,000  0.51%  \n",
       "96         Large Growth    $9,600,000,000  0.62%  \n",
       "97          Large Value    $9,500,000,000  0.25%  \n",
       "98          Large Value    $9,393,340,000  0.91%  \n",
       "99         Large Growth    $9,354,900,000  0.98%  \n",
       "\n",
       "[94 rows x 5 columns]"
      ]
     },
     "execution_count": 70,
     "metadata": {},
     "output_type": "execute_result"
    }
   ],
   "source": [
    "# pull relevant funds, should kick out only 6 from the dataset\n",
    "relevant_funds = mutual_fund_data[mutual_fund_data[\"Morningstar Category\"].isin(relevant_fund_types.index)]\n",
    "relevant_funds"
   ]
  },
  {
   "cell_type": "markdown",
   "id": "83a84728",
   "metadata": {},
   "source": [
    "Next, we need to pull all of the monthly return data for the _relevant_funds_. First, we create a dictionary with the fund symbols in _relevant_funds_: "
   ]
  },
  {
   "cell_type": "code",
   "execution_count": 71,
   "id": "57a05812",
   "metadata": {},
   "outputs": [],
   "source": [
    "relevant_fund_type_names = {}\n",
    "for fund_type in relevant_fund_types.index:\n",
    "    relevant_fund_type_names[fund_type] = relevant_funds[\"Symbol\"][relevant_funds[\"Morningstar Category\"] == fund_type]"
   ]
  },
  {
   "cell_type": "code",
   "execution_count": 72,
   "id": "5917eacd",
   "metadata": {},
   "outputs": [
    {
     "name": "stdout",
     "output_type": "stream",
     "text": [
      "0     AGTHX\n",
      "1     FCNTX\n",
      "9     AMCFX\n",
      "10    CAFAX\n",
      "11    CAFCX\n",
      "Name: Symbol, dtype: object\n",
      "16    AFMFX\n",
      "17    AMRFX\n",
      "18    CMLAX\n",
      "19    CMLCX\n",
      "20    CMLEX\n",
      "Name: Symbol, dtype: object\n",
      "2    CWMAX\n",
      "3    CWMCX\n",
      "4    CWMEX\n",
      "5    CWMFX\n",
      "6    AIVSX\n",
      "Name: Symbol, dtype: object\n",
      "31    PRNHX\n",
      "35    RPMGX\n",
      "62    PCBIX\n",
      "87    ERASX\n",
      "88    ERSMX\n",
      "Name: Symbol, dtype: object\n"
     ]
    }
   ],
   "source": [
    "for key in relevant_fund_type_names: \n",
    "    print(relevant_fund_type_names[key].head())"
   ]
  },
  {
   "cell_type": "markdown",
   "id": "bc23a88b",
   "metadata": {},
   "source": [
    "These symbols are only useful to us insofaras they allow us to pull the monthly returns for them. Our ANOVA analysis only cares about the _categorical_ returns, not the individual funds returns. Hence, we will create a dictionary that combines all of the monthly returns for each fund in a category and treats them as equivalent, because fund type category is the dependent variable of interest for this analysis."
   ]
  },
  {
   "cell_type": "code",
   "execution_count": 73,
   "id": "e22f9418",
   "metadata": {},
   "outputs": [],
   "source": [
    "#create dictionary to store all returns for each category\n",
    "fund_type_returns = {}\n",
    "\n",
    "#iterate through fund_type_names dictionary we just created to access the names of each fund in each category\n",
    "for key in relevant_fund_type_names.keys():\n",
    "    # store key as fund type and value as a list containing all monthly returns for the fund type\n",
    "    fund_type_returns[key] = []\n",
    "    for val in relevant_fund_type_names[key]:\n",
    "        #use .extend() method to add monthly returns to the current list, disregarding the fund's symbol \n",
    "        fund_type_returns[key].extend(monthly_returns[val].dropna())"
   ]
  },
  {
   "cell_type": "code",
   "execution_count": 74,
   "id": "d78d507b",
   "metadata": {},
   "outputs": [
    {
     "name": "stdout",
     "output_type": "stream",
     "text": [
      "Large Growth: 0.008346027113004549\n",
      "Large Value: 0.007025781213758765\n",
      "Large Blend: 0.0074108714265826384\n",
      "Mid-Cap Growth: 0.009292540364320334\n"
     ]
    },
    {
     "data": {
      "text/plain": [
       "[None, None, None, None]"
      ]
     },
     "execution_count": 74,
     "metadata": {},
     "output_type": "execute_result"
    }
   ],
   "source": [
    "[print(f\"{key}: {np.mean(fund_type_returns[key])}\") for key in fund_type_returns]"
   ]
  },
  {
   "cell_type": "markdown",
   "id": "6a1a10e3",
   "metadata": {},
   "source": [
    "We have successfuly wrangled and prepped the data and can begin our ANOVA analysis. "
   ]
  },
  {
   "cell_type": "markdown",
   "id": "07a7d1f6",
   "metadata": {},
   "source": [
    "### Assumptions needed for ANOVA\n",
    "There are three assumptions that must be met in order to carry out an ANOVA test: \n",
    "\n",
    "1. The experimental errors of the data are normally distributed\n",
    "2. Homoscedasticity - the variances of your factors are all roughly the same (and at least follow the same distribution)\n",
    "3. Samples are independent - Selection of one sample had no effect on any other sample"
   ]
  },
  {
   "cell_type": "markdown",
   "id": "94a5eb2c",
   "metadata": {},
   "source": [
    "A quick and easy way to check the distributions of our categorical variables is with histograms: "
   ]
  },
  {
   "cell_type": "code",
   "execution_count": 75,
   "id": "b276e19b",
   "metadata": {},
   "outputs": [
    {
     "data": {
      "image/png": "[encoded data removed]",
      "text/plain": [
       "<Figure size 1600x400 with 4 Axes>"
      ]
     },
     "metadata": {},
     "output_type": "display_data"
    }
   ],
   "source": [
    "fig, axs = plt.subplots(1, 4 , figsize = (16, 4))\n",
    "for num, key in enumerate(fund_type_returns): \n",
    "    axs[num].hist(fund_type_returns[key], bins = 50)\n",
    "    axs[num].set_title(key)\n",
    "    axs[num].set_yticks([])"
   ]
  },
  {
   "cell_type": "markdown",
   "id": "0209ee3e",
   "metadata": {},
   "source": [
    "It is obvious that our variables are all normally distributed, which is a core assumption of ANOVA. "
   ]
  },
  {
   "cell_type": "markdown",
   "id": "af5deac4",
   "metadata": {},
   "source": [
    "## F-Statistic\n",
    "The distribution used for the hypothesis test is a new one. It is called the F distribution, named after Sir Ronald Fisher, an English statistician. The F-statistic is a ratio. There are two sets of degrees of freedom; one for the numerator and one for the denominator. \n",
    "\n",
    "The F distribution is derived from the t-distribution. The values of the F distribution are squares of the\n",
    "corresponding values of the t-distribution. One-Way ANOVA expands the t-test for comparing more than two groups.\n",
    "The scope of that derivation is beyond the level of this textbook. \n",
    "\n",
    "To calculate the F ratio, two estimates of the variance are made:\n",
    "\n",
    "1. **Variance between samples**: An estimate of $\\sigma^2$ that is the variance of the sample means multiplied by n (when the sample sizes are the same.). If the samples are different sizes, the variance between samples is weighted to account for the different sample sizes. The variance is also called **variation due to treatment or explained variation.**\n",
    "\n",
    "2. **Variance within samples**: An estimate of $\\sigma^2$ that is the average of the sample variances (also known as a pooled variance). When the sample sizes are different, the variance within samples is weighted. The variance is also called **the variation due to error or unexplained variation.**\n",
    "\n",
    "- $SS_b$ = the sum of squares that represents the variation among the different samples\n",
    "\n",
    "- $SS_w$ = the sum of squares that represents the variation within samples that is due to chance.\n",
    "\n",
    "To find a \"sum of squares\" means to add together squared quantities that, in some cases, may be weighted. We used sum of squares to calculate the sample variance and the sample standard deviation. \n",
    "\n",
    "MS means \"mean square.\" $MS_b$ is the variance between groups, and $MS_w$ is the variance within groups. These measurements are the total sum of squares of their variances divided by the degrees of freedomom of the measure to give a mean value. \n",
    "\n",
    "#### Caluculating the F-Statistic\n",
    "\n",
    "#### Counting Statistics\n",
    "In order to accurately calculate the _Mean sum of squares_ we need to have denominator to divide the _total sum of squares_ by. For the sum of squares between groups, this is one minus the number of groups, and for the sum of squares within groups, this is the total number of observations minus the number of groups.\n",
    "\n",
    "- $k$ = the number of different groups\n",
    "- $n_j$ = the size of the $j^{th}$ group\n",
    "- $N$ = total number of all the values combined (total sample size: $\\sum{n_j}$)\n",
    "- $df$'s for the numerator(between samples): $df_b = k – 1$\n",
    "- $df$'s for the denominator($df$'s within samples): $df_w = k – 1$ \n",
    "\n",
    "These counting measures can be packaged into one function and demonstrated with our mutual fund categories: "
   ]
  },
  {
   "cell_type": "code",
   "execution_count": 76,
   "id": "f50f0c64",
   "metadata": {},
   "outputs": [],
   "source": [
    "def get_anova_counts(*args):\n",
    "    k = len(args)\n",
    "    N = 0\n",
    "    for arg in args:\n",
    "        N += len(arg)\n",
    "    dfbn = k - 1\n",
    "    dfwn = N - k\n",
    "\n",
    "    return k, N, dfbn, dfwn"
   ]
  },
  {
   "cell_type": "code",
   "execution_count": 77,
   "id": "070f92f0",
   "metadata": {},
   "outputs": [
    {
     "data": {
      "text/plain": [
       "(4, 23079, 3, 23075)"
      ]
     },
     "execution_count": 77,
     "metadata": {},
     "output_type": "execute_result"
    }
   ],
   "source": [
    "get_anova_counts(fund_type_returns[\"Large Growth\"],\n",
    "                 fund_type_returns['Large Value'],\n",
    "                 fund_type_returns['Large Blend'],\n",
    "                 fund_type_returns['Mid-Cap Growth'])"
   ]
  },
  {
   "cell_type": "markdown",
   "id": "113de081",
   "metadata": {},
   "source": [
    "Our data has 4 groups with 23079 total observations. \n",
    "\n",
    "#### Sum of Squares Between Groups\n",
    "- Explained variation: sum of squares representing variation among the different samples:\n",
    "\n",
    "    - $SS_{b} = \\sum_{j = 1}^{k}{n_j(\\bar{x_j} - \\bar{x})^2}$\n",
    "    \n",
    "    \n",
    "This measures the _total_ variation between the samples. For each group passed, the mean of all values is subtracted from the mean of the group, and that value is squared, then multiplied by the size of each group, because the measure must be scaled to the size of the group to capture the total sum of squares. "
   ]
  },
  {
   "cell_type": "code",
   "execution_count": 78,
   "id": "4a643434",
   "metadata": {},
   "outputs": [],
   "source": [
    "def SSB(*args):\n",
    "    ssb = 0\n",
    "    alldata = np.concatenate(args)\n",
    "\n",
    "    grand_mean = np.mean(alldata)\n",
    "\n",
    "    for arg in args:\n",
    "        group_mean = np.mean(arg)\n",
    "\n",
    "        n = len(arg)\n",
    "        val = n * (group_mean - grand_mean)**2\n",
    "\n",
    "        ssb += val\n",
    "\n",
    "    return ssb"
   ]
  },
  {
   "cell_type": "code",
   "execution_count": 79,
   "id": "93f2e137",
   "metadata": {},
   "outputs": [
    {
     "data": {
      "text/plain": [
       "0.009862930517825752"
      ]
     },
     "execution_count": 79,
     "metadata": {},
     "output_type": "execute_result"
    }
   ],
   "source": [
    "SSB(fund_type_returns[\"Large Growth\"], fund_type_returns['Large Value'],\n",
    "    fund_type_returns['Large Blend'], fund_type_returns['Mid-Cap Growth'])"
   ]
  },
  {
   "cell_type": "markdown",
   "id": "7ef3b422",
   "metadata": {},
   "source": [
    "- Unexplained variation: sum of squares representing variation within samples:\n",
    "\n",
    "    - $SS_w = \\sum_{j = 1}^{k}{\\sum_{i = 1}^{n_j}{(x_i - \\bar{x_j})^2}}$\n",
    "    \n",
    "This measure adds up the squared difference between all observations in a group and that individual group's mean. This function will iterate once for each individual observation in the groups, much more than SSB which only iterates once for each group. "
   ]
  },
  {
   "cell_type": "code",
   "execution_count": 80,
   "id": "4e72a75d",
   "metadata": {},
   "outputs": [],
   "source": [
    "def SSW(*args):\n",
    "    ssw = 0\n",
    "    for arg in args: \n",
    "        group_mean = np.mean(arg)\n",
    "        val = 0 \n",
    "        for i in arg:\n",
    "            val += np.sum(i - group_mean)**2\n",
    "        ssw += val\n",
    "    return ssw"
   ]
  },
  {
   "cell_type": "code",
   "execution_count": 81,
   "id": "f7278d75",
   "metadata": {},
   "outputs": [
    {
     "data": {
      "text/plain": [
       "53.802727388417146"
      ]
     },
     "execution_count": 81,
     "metadata": {},
     "output_type": "execute_result"
    }
   ],
   "source": [
    "SSW(fund_type_returns[\"Large Growth\"],\n",
    "               fund_type_returns['Large Value'],\n",
    "               fund_type_returns['Large Blend'],\n",
    "               fund_type_returns['Mid-Cap Growth'])"
   ]
  },
  {
   "cell_type": "markdown",
   "id": "2c887527",
   "metadata": {},
   "source": [
    " - Total variation across the dataset: \n",
    "\n",
    "    - $SS_t = SS_b + SS_w$\n",
    "    \n",
    "This is a measure of the total sum of squares in the dataset. Simply an addition of SSB and SSW. "
   ]
  },
  {
   "cell_type": "code",
   "execution_count": 82,
   "id": "1b314f5a",
   "metadata": {},
   "outputs": [],
   "source": [
    "def get_sum_square_stats(*args): \n",
    "    ssw = SSW(*args)\n",
    "    ssb = SSB(*args)\n",
    "    sst = ssb + ssw\n",
    "    return ssw, ssb, sst"
   ]
  },
  {
   "cell_type": "code",
   "execution_count": 83,
   "id": "5c11acb4",
   "metadata": {},
   "outputs": [
    {
     "data": {
      "text/plain": [
       "(53.802727388417146, 0.009862930517825752, 53.81259031893497)"
      ]
     },
     "execution_count": 83,
     "metadata": {},
     "output_type": "execute_result"
    }
   ],
   "source": [
    "get_sum_square_stats(fund_type_returns[\"Large Growth\"],\n",
    "               fund_type_returns['Large Value'],\n",
    "               fund_type_returns['Large Blend'],\n",
    "               fund_type_returns['Mid-Cap Growth'])"
   ]
  },
  {
   "cell_type": "markdown",
   "id": "2fabe040",
   "metadata": {},
   "source": [
    "#### Mean Sum of Squares \n",
    "\n",
    "For the F-statistic and by extension the ANOVA test, the _mean_ sum of squares with and between of are greater interest than the total sum of squares. Dividing each total member by the appropriate degrees of freedom allows us to compare ratios, and determine the true observed difference in variance. \n",
    "\n",
    "- Mean square (variance estimate) explained by the different groups:\n",
    "$MS_b = \\frac{SS_b}{df_b} = \\frac{SS_b}{k-1}$\n",
    "- Mean square (variance estimate) that is due to chance (unexplained): $MS_w = \\frac{SS_w}{df_w} = \\frac{SS_w}{n - k}$\n",
    "\n",
    "The one-way ANOVA test depends on the fact that $MS_b$ can be influenced by population differences among means of the several groups. Since $MS_w$ compares values of each group to its own group mean, the fact that group means might\n",
    "be different does not affect $MS_w$. The null hypothesis says that all groups are samples from populations having the same normal distribution. The alternate\n",
    "hypothesis says that at least two of the sample groups come from populations with different normal distributions. If the null hypothesis is true, $MS_b$ and $MS_w$ should both estimate the same value. \n",
    "\n",
    "Finally, we arrive at the **F-Statistic**, which will function for us as the T-Statistic did earlier this chapter, as an input into one minus its cumulative density function to recieve a p-value telling us the likelihood of its occurence if our null hypothesis was true. \n",
    "\n",
    "- $ F = \\frac{MS_b}{MS_w}$\n",
    "\n",
    "With a density function:\n",
    "<h3 align=\"center\">\n",
    "    <font size=\"5\">\n",
    "        $ f(x, df_1, df_2) = \\frac{df_2^{df_2/2} df_1^{df_1/2} x^{df_1 / 2-1}}\n",
    "                        {(df_2+df_1 x)^{(df_1+df_2)/2}\n",
    "                         \\beta(df_1/2, df_2/2)}$\n",
    "    </font>\n",
    "    </h3> \n"
   ]
  },
  {
   "cell_type": "markdown",
   "id": "23b72b2d",
   "metadata": {},
   "source": [
    "\n",
    "where $df_1$ and $df_2$ are the\n",
    "shape parameters and\n",
    "$\\beta$ is the beta function.  The formula for the beta function\n",
    "is\n",
    "<ul>\n",
    "$B(a, b) = \\int_0^1 t^{a-1}(1-t)^{b-1}dt\n",
    "        = \\frac{\\Gamma(a)\\Gamma(b)}{\\Gamma(a+b)}$,\n",
    " \n",
    "<p>where <span class=\"math notranslate nohighlight\">\\(\\Gamma\\)</span> is the gamma function.</p>\n",
    "    \n",
    "These funtions could be implemented manually using basic math symbols, but for our purposes, importing them from Scipy will be much more pragmatic.\n",
    "    \n",
    "We create the last accessory function in our ANOVA analysis called _finish_anova_. This models the survival function of the F-distribution(1 - CDF), which returns the p-value in the same way the survival function of t-distribution gave us a p-value. "
   ]
  },
  {
   "cell_type": "code",
   "execution_count": 84,
   "id": "93309540",
   "metadata": {},
   "outputs": [],
   "source": [
    "from scipy.stats import f as f_dist\n",
    "def finish_anova(f, dfwn, dfbn): \n",
    "    # use scipy to plug f-value into f distribution to return p-value\n",
    "     p_value =  1 - f_dist.cdf(f, dfwn, dfbn)\n",
    "    \n",
    "     if p_value > .05:\n",
    "        return_string = \"F-value: \" + str(f) + \", P-value: \" + str(\n",
    "            p_value) + \", Fail to reject null hypothesis.\"\n",
    "     else:\n",
    "        return_string = \"F-value: \" + str(f) + \", P-value: \" + str(\n",
    "            round(p_value, 5)) + \", Reject null hypothesis.\"\n",
    "\n",
    "     return return_string"
   ]
  },
  {
   "cell_type": "markdown",
   "id": "3d1d8e64",
   "metadata": {},
   "source": [
    "The user-called funtion _anova_ will accept a variable number of arguments and perform an ANOVA test. We use the _get_anova_counts_ function, the _get_sum_square_stats_ function, and use the returned values to calculate MSB, MSW, and f. We then send it off to _finish_anova_ for our p-value and a packaged message displaying the result. "
   ]
  },
  {
   "cell_type": "code",
   "execution_count": 85,
   "id": "9337b967",
   "metadata": {},
   "outputs": [],
   "source": [
    "# use *args command to accept variable number of arguments\n",
    "def anova(*args):\n",
    "\n",
    "    k, N, dfbn, dfwn  = get_anova_counts(*args)\n",
    "    \n",
    "    ssw, ssb, sst = get_sum_square_stats(*args)\n",
    "\n",
    "    msb = ssb / dfbn\n",
    "    msw = ssw / dfwn\n",
    "    f = msb / msw\n",
    "\n",
    "    return finish_anova(f, dfbn, dfwn)"
   ]
  },
  {
   "cell_type": "markdown",
   "id": "06cb4774",
   "metadata": {},
   "source": [
    "Finally, we can test the hypothesis that fund category influences growth. "
   ]
  },
  {
   "cell_type": "code",
   "execution_count": 86,
   "id": "21b32b10",
   "metadata": {},
   "outputs": [
    {
     "data": {
      "text/plain": [
       "'F-value: 1.4100098188691765, P-value: 0.23770181336769935, Fail to reject null hypothesis.'"
      ]
     },
     "execution_count": 86,
     "metadata": {},
     "output_type": "execute_result"
    }
   ],
   "source": [
    "anova(fund_type_returns[\"Large Growth\"],\n",
    "      fund_type_returns['Large Value'],\n",
    "      fund_type_returns['Large Blend'],\n",
    "      fund_type_returns['Mid-Cap Growth'])"
   ]
  },
  {
   "cell_type": "markdown",
   "id": "8f9b892b",
   "metadata": {},
   "source": [
    "Compare to equivalent SciPy function: "
   ]
  },
  {
   "cell_type": "code",
   "execution_count": 87,
   "id": "22ad1c50",
   "metadata": {},
   "outputs": [
    {
     "data": {
      "text/plain": [
       "F_onewayResult(statistic=1.4100098188691719, pvalue=0.23770181336757318)"
      ]
     },
     "execution_count": 87,
     "metadata": {},
     "output_type": "execute_result"
    }
   ],
   "source": [
    "stats.f_oneway(fund_type_returns[\"Large Growth\"],\n",
    "               fund_type_returns['Large Value'],\n",
    "               fund_type_returns['Large Blend'],\n",
    "               fund_type_returns['Mid-Cap Growth'])"
   ]
  },
  {
   "cell_type": "markdown",
   "id": "48f87372",
   "metadata": {},
   "source": [
    "These results suggest that from 1980 to 2020, one type of fund perfomed significantly differently than th either funds. One issue with the ANOVA is that it does not tell us which fund that was. However, there are various post-hoc tests we can do to find the outlier.\n",
    "\n",
    "##  Multiple Comparisons Procedure \n",
    "\n",
    "The first would be just to print the means, and see which one is highest. There are several hazards we can run into here(i.e., don't know error bars) but it gives an idea as to which fund may have caused the significant result. "
   ]
  },
  {
   "cell_type": "code",
   "execution_count": 88,
   "id": "e4aa59b8",
   "metadata": {},
   "outputs": [
    {
     "name": "stdout",
     "output_type": "stream",
     "text": [
      "Large Growth mean: 0.008346027113004549\n",
      "Large Value mean: 0.007025781213758765\n",
      "Large Blend mean: 0.0074108714265826384\n",
      "Mid-Cap Growth mean: 0.009292540364320334\n"
     ]
    }
   ],
   "source": [
    "fund_types_list = [\"Large Growth\", \"Large Value\", \"Large Blend\", \"Mid-Cap Growth\"]\n",
    "for ftype in fund_types_list: \n",
    "    print(ftype+\" mean: \"+(str)(np.mean(fund_type_returns[ftype])))"
   ]
  },
  {
   "cell_type": "markdown",
   "id": "ddf0f089",
   "metadata": {},
   "source": [
    "Mid-Cap Growth had the highest group mean.\n",
    "\n",
    "### Bonferroni Correction\n",
    "A more robust test would be to run t-tests on each pair of groups to find which ones exhibit significant differences from each other. But we run into a problem if we use the same $\\alpha$ value of 0.05 for these tests, as the likelihood of having an erroneous conclusion increases quickly as we perform multiple tests. For instance, we have 4 groups of funds, and there are 6 unique pairs for which t-tests can be run. For this \"family\" of 6 comparisons, the familywise error rate becomes $(1 + 0.05)^6 - 1 = 0.34$. More generally, if there are $m$ comparisons perfomed with a confidence value of $1 - \\alpha$ per comparison, the familywise error rate is $1 - (1 - \\alpha)^m$. \n",
    "\n",
    "One way to solve this issue is to alter the per-comparison $\\alpha$ to be $\\frac{\\alpha}{m}$. This is known as the __Bonferroni Correction__. This makes the familywise error rate reflect the desired confidence level. \n",
    "\n",
    "First, we show results with no Bonferroni Correction: "
   ]
  },
  {
   "cell_type": "code",
   "execution_count": 89,
   "id": "70b5f1b2",
   "metadata": {},
   "outputs": [],
   "source": [
    "for ftype1 in fund_types_list: \n",
    "    for ftype2 in fund_types_list: \n",
    "        result = t_test(fund_type_returns[ftype1], fund_type_returns[ftype2], \"independent\")\n",
    "        scipy_result = stats.ttest_ind(fund_type_returns[ftype1], fund_type_returns[ftype2])\n",
    "        if(\"Reject\" in result):\n",
    "            print(\"\\nftype1: \" + ftype1 + \"\\nftype2: \" + ftype2 + \"\\n\" + result, scipy_result) "
   ]
  },
  {
   "cell_type": "markdown",
   "id": "09082805",
   "metadata": {},
   "source": [
    "As we can see, none of the p-values are below $0.05 / 6 = 0.00833$, and we conclude that no two fund types had statistically different returns with the new $\\alpha$, but there was a difference between the fund types in aggregate."
   ]
  },
  {
   "cell_type": "markdown",
   "id": "08a71633",
   "metadata": {},
   "source": [
    "## Testing for Autocorrelation (Independence of Neighboring Observations)"
   ]
  },
  {
   "cell_type": "code",
   "execution_count": null,
   "id": "81b69b90",
   "metadata": {},
   "outputs": [],
   "source": []
  }
 ],
 "metadata": {
  "kernelspec": {
   "display_name": "Python 3 (ipykernel)",
   "language": "python",
   "name": "python3"
  },
  "language_info": {
   "codemirror_mode": {
    "name": "ipython",
    "version": 3
   },
   "file_extension": ".py",
   "mimetype": "text/x-python",
   "name": "python",
   "nbconvert_exporter": "python",
   "pygments_lexer": "ipython3",
   "version": "3.9.13"
  }
 },
 "nbformat": 4,
 "nbformat_minor": 5
}
