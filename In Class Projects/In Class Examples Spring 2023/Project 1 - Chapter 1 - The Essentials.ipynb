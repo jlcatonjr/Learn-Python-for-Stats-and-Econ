{
 "cells": [
  {
   "cell_type": "markdown",
   "metadata": {},
   "source": [
    "# Chapter 1: The Essentials\n",
    "\n",
    "Learning to program is like learning to play a new instrument. While it is useful to spend some time reading about music, your instrument, music theory, and so forth, if one wants to learn to play they must practice reading and playing music. New musicians learn to play simple phrases and songs. Think of the exercises in this book as the equivalent for programming. To begin learning, simply copy the script and execute it. You might not understand what you are doing at first. That is okay. Just as musicians continue to play songs that they have already “learned”, you will benefit by reconstructing and further developing examples that you have already completed. Learn by doing.\n",
    "\n",
    "## Printing\n",
    "| New Concepts | Description| \n",
    "| --- | --- |\n",
    "| Strings | Data type that interprets letters and numbers as text, (not numerical values) |\n",
    "| **_print()_** | A function that prints in the console objects passed to it |\n",
    "| Running Script | Script must be executed. In Spyder, this can be accomplished by pressing F5 |\n",
    "\n",
    "### Hello World!\n",
    "\n",
    "Python offers a wide variety of tools to be used by a program. The first of these that we will learn is the print() method. Printing is a feature that you will continually use while you program. It is also useful for creating markers in your code when you are not sure what is wrong. You can print plain text. Using Spyder, we will create a file called helloWorld.py."
   ]
  },
  {
   "cell_type": "code",
   "execution_count": 1,
   "metadata": {},
   "outputs": [
    {
     "name": "stdout",
     "output_type": "stream",
     "text": [
      "Hello world!\n"
     ]
    }
   ],
   "source": [
    "#helloWorld.py\n",
    "print(\"Hello world!\")"
   ]
  },
  {
   "cell_type": "markdown",
   "metadata": {},
   "source": [
    "To execute the file, select the _Run_ button in Spyder or press F5.\n",
    "\n",
    "<img src=\"https://raw.githubusercontent.com/jlcatonjr/Learn-Python-for-Stats-and-Econ/master/Chapter%201/Figure%201.png\" alt=\"Alt text that describes the graphic\" title=\"Figure 1\" />\n",
    "<h3><center>Figure 1: Run Script</center></h3>\n",
    "\n",
    "Spyder will automatically ask you to save the file if you have not already saved it. Name the file _helloWorld.py_.\n",
    "\n",
    "You have just created your first program! \n",
    "\n",
    "Let's break down this program. You used the method **_print()_**. Any string you want to print must be in quotations. Single or double quotes will do, as long as the same type of quote is used at the beginning and the end of the string. Below we run the same program with single quotation marks."
   ]
  },
  {
   "cell_type": "code",
   "execution_count": 2,
   "metadata": {},
   "outputs": [
    {
     "name": "stdout",
     "output_type": "stream",
     "text": [
      "Hello world!\n"
     ]
    }
   ],
   "source": [
    "#helloWorldSingleQuote.py\n",
    "print('Hello world!')"
   ]
  },
  {
   "cell_type": "markdown",
   "metadata": {},
   "source": [
    "## Create a String Object\n",
    "|New Concepts | Description|\n",
    "| --- | --- |\n",
    "| Variables | Objects are saved as variables. E.g., for **_msg = \"Hello!\"_**, the msg variable points to a string| \n",
    "\n",
    "We printed a sentence directly, but what if we want to define the phrase before we print it? Follow the code below and create an object whose name is msg. It points to a string containing “Hello Cam!”"
   ]
  },
  {
   "cell_type": "code",
   "execution_count": 3,
   "metadata": {},
   "outputs": [
    {
     "name": "stdout",
     "output_type": "stream",
     "text": [
      "Hello Cam!\n"
     ]
    }
   ],
   "source": [
    "#helloJim.py\n",
    "msg = \"Hello Cam!\"\n",
    "print(msg)"
   ]
  },
  {
   "cell_type": "markdown",
   "metadata": {},
   "source": [
    "Often, it will be useful to save data as an object so that it can be called later in the script without having to be rewritten.\n",
    "## String Methods\n",
    "| New Concepts | Description|\n",
    "| --- | --- |\n",
    "| String Methods e.g., **_str.upper()_** | Methods from string objects perform an operation on the object. For example, **_str.upper()_** capitalizes the text saved as str. |\n",
    "| String Concatenation e.g., **_str1 + str2_** | You may use a + to join together to separate strings as a single string. e.g., **_(“Happy” + “ Birthday”) == “Happy Birthday”_** |\n",
    "| Separator e.g., **_print(obj1 , obj2)_** | Multiple object may be passed to the print function if they are separated by a comma. The comma will be interpreted by print as an object to be printed. i.e., for the following, a space will be printed for each comma separating printed objects **_print(…, sep = “ “)_** |\n",
    "| Esacape Sequence i.e., **_“\\\\n”_** | An escape sequence instructs print to interpret the command as a command rather than literally interpret text e.g., **_“\\n”_** prints a new line|\n",
    "| Quotes in Strings | Strings are encapsulated by quotations.  To include quotations within strings, either use a different kind of quotation (i.e., *“Use __‘single quotes’__ within double quotes”*) or preced the quotation mark by a backslash **_(\"\\\\\"\")_**. |\n",
    "\n",
    "Python makes manipulating strings easy. There are some essential features that you should be aware of and refer back to whenever you need them. We will use several of these in the next file."
   ]
  },
  {
   "cell_type": "code",
   "execution_count": 4,
   "metadata": {},
   "outputs": [
    {
     "name": "stdout",
     "output_type": "stream",
     "text": [
      "john nash\n",
      "JOHN NASH\n",
      "John Nash\n"
     ]
    }
   ],
   "source": [
    "#stringCaps.py\n",
    "msg = \"john nash\"\n",
    "print(msg)\n",
    "\n",
    "# ALL CAPS\n",
    "msg_upper = msg.upper()\n",
    "print(msg_upper)\n",
    "\n",
    "# First Letter Of Each Word Capitalized\n",
    "msg_title = msg.title()\n",
    "print(msg_title)"
   ]
  },
  {
   "cell_type": "markdown",
   "metadata": {},
   "source": [
    "We used some methods that are owned by instances of the string class in Python. The method **_.upper()_** makes all strings upper case and **_.title()_** capitalizes the first letter of each word.\n",
    "\n",
    "We may also create multiple string objects and concatenate them. When we concatenate strings, we join them together."
   ]
  },
  {
   "cell_type": "code",
   "execution_count": 5,
   "metadata": {},
   "outputs": [
    {
     "name": "stdout",
     "output_type": "stream",
     "text": [
      "john nash\n"
     ]
    }
   ],
   "source": [
    "#concatenateStrings.py\n",
    "# join 3 different strings and save the result as msg\n",
    "msg = \"john\" + \" \" + \"nash\"\n",
    "print(msg)"
   ]
  },
  {
   "cell_type": "markdown",
   "metadata": {},
   "source": [
    "We can also concatenate string objects that have already been created by using the name that points to the objects."
   ]
  },
  {
   "cell_type": "code",
   "execution_count": 6,
   "metadata": {},
   "outputs": [
    {
     "name": "stdout",
     "output_type": "stream",
     "text": [
      "You thought it would be easyYou thought it wouldn't be strangeBut then you started codingThings never were the same\n"
     ]
    }
   ],
   "source": [
    "#concatenateStrings2.py\n",
    "line1 = \"You thought it would be easy\"\n",
    "line2 = \"You thought it wouldn't be strange\"\n",
    "line3 = \"But then you started coding\"\n",
    "line4 = \"Things never were the same\"\n",
    "# concatenate the above strings while passing to print()\n",
    "print(line1 + line2 + line3 + line4)"
   ]
  },
  {
   "cell_type": "markdown",
   "metadata": {},
   "source": [
    "There are several approaches we take to fix this problem. We will try two different approaches. First we will add spaces."
   ]
  },
  {
   "cell_type": "code",
   "execution_count": 7,
   "metadata": {},
   "outputs": [
    {
     "name": "stdout",
     "output_type": "stream",
     "text": [
      "You thought it would be easy You thought it wouldn't be strange But then you started coding Things never were the same\n"
     ]
    }
   ],
   "source": [
    "#concatenateStringsSpaces.py\n",
    "line1 = \"You thought it would be easy\"\n",
    "line2 = \"You thought it wouldn't be strange\"\n",
    "line3 = \"But then you started coding\"\n",
    "line4 = \"Things never were the same\"\n",
    "# concatenate the above strings with spaces between them\n",
    "print(line1 + \" \" + line2 + \" \" + line3 + \" \" + line4)"
   ]
  },
  {
   "cell_type": "markdown",
   "metadata": {},
   "source": [
    "We will achieve the same output if we insert commas between objects in the print function"
   ]
  },
  {
   "cell_type": "code",
   "execution_count": 8,
   "metadata": {},
   "outputs": [
    {
     "name": "stdout",
     "output_type": "stream",
     "text": [
      "You thought it would be easy You thought it wouldn't be strange But then you started coding Things never were the same\n"
     ]
    }
   ],
   "source": [
    "#printStringsSpaces.py\n",
    "line1 = \"You thought it would be easy\"\n",
    "line2 = \"You thought it wouldn't be strange\"\n",
    "line3 = \"But then you started coding\"\n",
    "line4 = \"Things never were the same\"\n",
    "# using a comma between each object includes a space to separate them\n",
    "print(line1, line2, line3, line4)"
   ]
  },
  {
   "cell_type": "markdown",
   "metadata": {},
   "source": [
    "When **_print()_** reads a comma between objects to be printed, it automatically prints whatever character is identified by the separator. By default, this is a space: “ ”. You can change the string serving to separate each printed object by passing **_sep = . . ._**  to **_print()_**. Suppose that you wanted to print each string without spaces between them. You could pass _sep = “”_."
   ]
  },
  {
   "cell_type": "code",
   "execution_count": 9,
   "metadata": {},
   "outputs": [
    {
     "name": "stdout",
     "output_type": "stream",
     "text": [
      "You thought it would be easyYou thought it wouldn't be strangeBut then you started codingThings never were the same\n"
     ]
    }
   ],
   "source": [
    "#printStringsCommasNoSpaces.py\n",
    "line1 = \"You thought it would be easy\"\n",
    "line2 = \"You thought it wouldn't be strange\"\n",
    "line3 = \"But then you started coding\"\n",
    "line4 = \"Things never were the same\"\n",
    "# Now the comma inserts and empty string instead of a space\n",
    "print(line1, line2, line3, line4, sep = \"\")"
   ]
  },
  {
   "cell_type": "markdown",
   "metadata": {},
   "source": [
    "Instead of spaces, we can have output return a new line for each string by using the character **_\"\\n\"_**. The use of the **_\"\\\\\"_** tells the program that it should read the next character as referring to a special function for formatting."
   ]
  },
  {
   "cell_type": "code",
   "execution_count": 10,
   "metadata": {},
   "outputs": [
    {
     "name": "stdout",
     "output_type": "stream",
     "text": [
      "You thought it would be easy\n",
      "You thought it wouldn't be strange\n",
      "But then you started coding\n",
      "Things never were the same\n"
     ]
    }
   ],
   "source": [
    "#concatenateStringsNewLines.py\n",
    "line1 = \"You thought it would be easy\"\n",
    "line2 = \"You thought it wouldn't be strange\"\n",
    "line3 = \"But then you started coding\"\n",
    "line4 = \"Things never were the same\"\n",
    "# Concatenate each string with the escape seequence that creates a new line\n",
    "print(line1 + \"\\n\" + line2 + \"\\n\" + line3 + \"\\n\" + line4)"
   ]
  },
  {
   "cell_type": "markdown",
   "metadata": {},
   "source": [
    "The same output can be generated by redefining sep, this time as **_sep = “\\n”_**."
   ]
  },
  {
   "cell_type": "code",
   "execution_count": 11,
   "metadata": {},
   "outputs": [
    {
     "name": "stdout",
     "output_type": "stream",
     "text": [
      "You thought it would be easy\n",
      "You thought it wouldn't be strange\n",
      "But then you started coding\n",
      "Things never were the same\n"
     ]
    }
   ],
   "source": [
    "#printStringsCommasNewLines.py\n",
    "line1 = \"You thought it would be easy\"\n",
    "line2 = \"You thought it wouldn't be strange\"\n",
    "line3 = \"But then you started coding\"\n",
    "line4 = \"Things never were the same\"\n",
    "# Now the comma inserts a \"\\n\" to start a new line\n",
    "# instead of adding a space\n",
    "print(line1, line2, line3, line4, sep = \"\\n\")"
   ]
  },
  {
   "cell_type": "markdown",
   "metadata": {},
   "source": [
    "Python also allows for quotes to be used within quotes. If a string a surrounded by double quotes, then single quotes may be used within that string. Likewise, double quotes may also be used within a string surrounded by single quotes."
   ]
  },
  {
   "cell_type": "code",
   "execution_count": 12,
   "metadata": {},
   "outputs": [
    {
     "name": "stdout",
     "output_type": "stream",
     "text": [
      "We may use 'single quotes' within double quotes\n",
      "We may use \"double quotes\" within single quotes\n"
     ]
    }
   ],
   "source": [
    "#quotesInQuotes.py\n",
    "single_in_double = \"We may use 'single quotes' within double quotes\"\n",
    "double_in_single = 'We may use \"double quotes\" within single quotes'\n",
    "print(single_in_double)\n",
    "print(double_in_single)"
   ]
  },
  {
   "cell_type": "markdown",
   "metadata": {},
   "source": [
    "## Escape Sequences\n",
    "| New Concepts | Description |\n",
    "| --- | --- |\n",
    "|Escape Sequences (more) | _See table below_|\n",
    "\n",
    "Below is a list of commands including and related to the string used in earlier exercises, **_“\\n”._** These are known as _escape sequences_'.\n",
    "\n",
    "| Escape Sequence | Result | \n",
    "| --- | --- |\n",
    "| **_\"\\\\\"_** | Backslash|\n",
    "|**_'\\\\''_** | Single Quote |\n",
    "| **_\"\\\\\"\"_** | Double Quote |\n",
    "| **_\"\\t\"_** | Horizontal Tab |\n",
    "| **_\"\\n\"_** | New Line |\n",
    "\n",
    "This list is incomplete, but will suffice for the purpose of learning the basics of programming and statistics. We use them in the escapeSequences.py."
   ]
  },
  {
   "cell_type": "code",
   "execution_count": 13,
   "metadata": {},
   "outputs": [
    {
     "name": "stdout",
     "output_type": "stream",
     "text": [
      "We may use 'single quotes' in single quotes.\n",
      "Or we may use \"double quotes\" in double quotes.\n",
      "We may use two backslashes to print a single backslash: \\\n",
      "Every\n",
      "word\n",
      "is\n",
      "a\n",
      "new\n",
      "line\n",
      "We may start a new line \n",
      "\tand use tab for a hanging indent\n"
     ]
    }
   ],
   "source": [
    "#escapeSequences.py\n",
    "single_quotes = 'We may use \\'single quotes\\' in single quotes.'\n",
    "double_quotes = \"Or we may use \\\"double quotes\\\" in double quotes.\"\n",
    "read_backslash = \"We may use two backslashes to print a single backslash: \\\\\"\n",
    "lines = \"Every\\nword\\nis\\na\\nnew\\nline\"\n",
    "new_line_and_tab = \"We may start a new line \\n\\tand use tab for a hanging indent\"\n",
    "\n",
    "print(single_quotes)\n",
    "print(double_quotes)\n",
    "print(read_backslash)\n",
    "print(lines)\n",
    "print(new_line_and_tab)"
   ]
  },
  {
   "cell_type": "markdown",
   "metadata": {},
   "source": [
    "Other escape sequences include:\n",
    "\n",
    "| Escape Sequence | Result | \n",
    "| --- | --- |\n",
    "| **_\"\\b\"_** | Backspace |\n",
    "| **_\"\\f\"_** | Formfeed |\n",
    "| **_\"\\v\"_** | Vertical Tab |\n",
    "\n",
    "See [Official Documentation](https://docs.python.org/2.0/ref/strings.html) for escape sequences\n",
    "\n",
    "## More String Functions\n",
    "| New Concepts | Description |\n",
    "| --- | --- |\n",
    "| String Methods (more) i.e., **_str.lstrip(), str.rstrip(), str.strip(), str.replace()_** | **_str.lstrip()_**: remove spaces on the far left; **_str.rstrip()_**: remove spaces on the far right; **_str.strip()_**: remove spaces on the left and right of text object; **_str.replace(target, replace)_**: replace instances of target string with replace string |\n",
    "| Triple (Block) Quotes | String objects can be encapsulated by three quotation marks on either end of the string. The use of triple quotes allow for strings to include new lines without use of the backslash followed by a return. | \n",
    "\n",
    "See [Official Documentation](https://docs.python.org/2.5/lib/string-methods.html) for string methods.\n",
    "\n",
    "Sometimes we may want to transform strings by adding or removing spaces. We can remove space quite easily with the **_strip()_** commands.\n",
    "> .lstrip(): remove spaces on the far left <br>.rstrip(): remove spaces on the far right<br>.strip(): remove spaces on the left and right of text object\n",
    "\n",
    "We will use them in the strip.py file."
   ]
  },
  {
   "cell_type": "code",
   "execution_count": 14,
   "metadata": {},
   "outputs": [
    {
     "name": "stdout",
     "output_type": "stream",
     "text": [
      "no spaces removed:\n",
      "     Look at all the spaces in the text!    \n",
      "Remove left spaces:\n",
      "Look at all the spaces in the text!    \n",
      "Remove right spaces:\n",
      "    Look at all the spaces in the text!\n",
      "Remove left and right spaces:\n",
      "Look at all the spaces in the text!\n"
     ]
    }
   ],
   "source": [
    "#strip.py\n",
    "spaces = \"    Look at all the spaces in the text!    \"\n",
    "print(\"no spaces removed:\\n\", spaces)\n",
    "\n",
    "remove_left_spaces = spaces.lstrip()\n",
    "remove_right_spaces = spaces.rstrip()\n",
    "remove_left_and_right_spaces = spaces.strip()\n",
    "\n",
    "print(\"Remove left spaces:\\n\" + remove_left_spaces)\n",
    "print(\"Remove right spaces:\\n\" + remove_right_spaces)\n",
    "print(\"Remove left and right spaces:\\n\" + remove_left_and_right_spaces)"
   ]
  },
  {
   "cell_type": "markdown",
   "metadata": {},
   "source": [
    "Only the spaces on the left or right side of the entire string were removed. There is still space left in the spaces string. We can remove all spaces with the replace command. We identify the strings that we will replace in the first placeholder and the string it will be replaced with in the second."
   ]
  },
  {
   "cell_type": "code",
   "execution_count": 15,
   "metadata": {},
   "outputs": [
    {
     "name": "stdout",
     "output_type": "stream",
     "text": [
      "no spaces removed:\n",
      "     Look at all the spaces in the text!    \n",
      "Remove all spaces:\n",
      "Lookatallthespacesinthetext!\n"
     ]
    }
   ],
   "source": [
    "#replace.py\n",
    "spaces = \"    Look at all the spaces in the text!    \"\n",
    "print(\"no spaces removed:\\n\", spaces)\n",
    "\n",
    "remove_all_spaces = spaces.replace(\" \", \"\")\n",
    "print(\"Remove all spaces:\\n\" + remove_all_spaces)"
   ]
  },
  {
   "cell_type": "markdown",
   "metadata": {},
   "source": [
    "You may want to print more than one line without entering multiple instances of the print function. To do this we use three quotation marks on either side of the string to be printed."
   ]
  },
  {
   "cell_type": "code",
   "execution_count": 16,
   "metadata": {},
   "outputs": [
    {
     "name": "stdout",
     "output_type": "stream",
     "text": [
      "Everything in this object will be recorded exactly as entered,\n",
      "if we enter a new line or \n",
      "    a new line with a tab.\n"
     ]
    }
   ],
   "source": [
    "#stringTripleQuotes.py\n",
    "x = \"\"\"\\\n",
    "Everything in this object will be recorded exactly as entered,\n",
    "if we enter a new line or \n",
    "    a new line with a tab.\"\"\"\n",
    "    \n",
    "print(x)"
   ]
  },
  {
   "cell_type": "markdown",
   "metadata": {},
   "source": [
    "## Working with Numbers\n",
    "| New Concepts | Description |\n",
    "| --- | --- |\n",
    "| Integers | A data type whose values are whole numbers | \n",
    "| Floaters | A data type whose values include a decimal place |\n",
    "| Errors | Errors occur when python is unable to compute script that is executed |\n",
    "| Typecasting | Change the type of a value (e.g., **_int(“8”)_** transforms a string to an integer). |\n",
    "| Modules | Modules allow user to use programs that have already been created. They should be imported at the beginning of the script using **_import_** _module_ or **_from_** _module_ **_import_** _object_ |\n",
    "| Overflow Error | Overflow error occurs when a numerical value attempting to be saved exceeds the size of the value allowed by the data type.|\n",
    "\n",
    "In many programming languages, you must identify the type of variable that you create. String must be identified by \"str\" or something similar. Likewise, integers by \"int\" and floats by \"float\". Particular formulations will vary, but the same pattern holds. You do not have to worry about this in Python. Depending on the context, numbers will be automatically cast as integers or floats. If a float is not needed, an integer will be used. The following are integers."
   ]
  },
  {
   "cell_type": "markdown",
   "metadata": {},
   "source": [
    "#integers.py\n",
    "\n",
    "num1 = 5 + 3\n",
    "num2 = 5 - 4\n",
    "num3 = 4 - 3\n",
    "\n",
    "print(\"num1:\", num1,\"\\nnum2:\", num2, \"\\nnum3:\", num3)"
   ]
  },
  {
   "cell_type": "markdown",
   "metadata": {},
   "source": [
    "Be aware that the addition sign will add numbers and concatenate strings. We can compare the outcomes by transforming num1 in the above example into a string. "
   ]
  },
  {
   "cell_type": "code",
   "execution_count": 17,
   "metadata": {},
   "outputs": [
    {
     "name": "stdout",
     "output_type": "stream",
     "text": [
      "num1: 8 \n",
      "num1s: 53\n"
     ]
    }
   ],
   "source": [
    "#integersVsStrings.py\n",
    "\n",
    "num1 = 5 + 3\n",
    "num1s = \"5\" + \"3\"\n",
    "\n",
    "print(\"num1:\", num1,\"\\nnum1s:\", num1s)"
   ]
  },
  {
   "cell_type": "markdown",
   "metadata": {},
   "source": [
    "Floats are numbers that include a decimal place. Different floats may have different sizes, but for now it is enough to distinguish between integers and floats."
   ]
  },
  {
   "cell_type": "code",
   "execution_count": 18,
   "metadata": {},
   "outputs": [
    {
     "name": "stdout",
     "output_type": "stream",
     "text": [
      "num1: 1.6666666666666667 \n",
      "num2: 1.25 \n",
      "num3: 1.3333333333333333\n"
     ]
    }
   ],
   "source": [
    "#floats.py\n",
    "num1 = 5 / 3\n",
    "num2 = 5 / 4\n",
    "num3 = 4 / 3\n",
    "\n",
    "print(\"num1:\", num1, \"\\nnum2:\", num2, \"\\nnum3:\", num3)"
   ]
  },
  {
   "cell_type": "markdown",
   "metadata": {},
   "source": [
    "Remember that we can concatenate strings such that **_“this string” + “ and that string” = “this string and that string”_**. Let’s try to concatenate a string and a float from the above example."
   ]
  },
  {
   "cell_type": "code",
   "execution_count": 19,
   "metadata": {},
   "outputs": [
    {
     "ename": "TypeError",
     "evalue": "can only concatenate str (not \"float\") to str",
     "output_type": "error",
     "traceback": [
      "\u001b[1;31m---------------------------------------------------------------------------\u001b[0m",
      "\u001b[1;31mTypeError\u001b[0m                                 Traceback (most recent call last)",
      "\u001b[1;32m<ipython-input-19-669757185863>\u001b[0m in \u001b[0;36m<module>\u001b[1;34m\u001b[0m\n\u001b[0;32m      5\u001b[0m \u001b[0msum_nums\u001b[0m \u001b[1;33m=\u001b[0m \u001b[0mnum1\u001b[0m \u001b[1;33m+\u001b[0m \u001b[0mnum2\u001b[0m \u001b[1;33m+\u001b[0m \u001b[0mnum3\u001b[0m\u001b[1;33m\u001b[0m\u001b[1;33m\u001b[0m\u001b[0m\n\u001b[0;32m      6\u001b[0m \u001b[1;33m\u001b[0m\u001b[0m\n\u001b[1;32m----> 7\u001b[1;33m \u001b[0mprint\u001b[0m\u001b[1;33m(\u001b[0m\u001b[1;34m\"num1 + num2 + num3: \"\u001b[0m \u001b[1;33m+\u001b[0m \u001b[0msum_nums\u001b[0m\u001b[1;33m)\u001b[0m\u001b[1;33m\u001b[0m\u001b[1;33m\u001b[0m\u001b[0m\n\u001b[0m",
      "\u001b[1;31mTypeError\u001b[0m: can only concatenate str (not \"float\") to str"
     ]
    }
   ],
   "source": [
    "#printError.py\n",
    "num1 = 5 / 3\n",
    "num2 = 5 / 4\n",
    "num3 = 4 / 3\n",
    "sum_nums = num1 + num2 + num3\n",
    "\n",
    "print(\"num1 + num2 + num3: \" + sum_nums)"
   ]
  },
  {
   "cell_type": "markdown",
   "metadata": {},
   "source": [
    "The addition symbol will either sum values or concatenate strings. It cannot concatenate a value and a string unless that value is casted as a string. We can fix this by casting sumNums as a string when we print."
   ]
  },
  {
   "cell_type": "code",
   "execution_count": 20,
   "metadata": {},
   "outputs": [
    {
     "name": "stdout",
     "output_type": "stream",
     "text": [
      "num1 + num2 + num3: 4.25\n"
     ]
    }
   ],
   "source": [
    "#castString.py\n",
    "num1 = 5 / 3\n",
    "num2 = 5 / 4\n",
    "num3 = 4 / 3\n",
    "sum_nums = num1 + num2 + num3\n",
    "\n",
    "print(\"num1 + num2 + num3: \" + str(sum_nums))"
   ]
  },
  {
   "cell_type": "markdown",
   "metadata": {},
   "source": [
    "A language must indicate the amount of mermory a particular value will require before assigning the value. Other languages force you to cast your value beforehand. Python assumes that you want to use a double if you include a decimal point. Floats in python are actually doubles with 64-bit precision. We can check this by importing the _sys_ module."
   ]
  },
  {
   "cell_type": "code",
   "execution_count": 21,
   "metadata": {},
   "outputs": [
    {
     "name": "stdout",
     "output_type": "stream",
     "text": [
      "sys.float_info(max=1.7976931348623157e+308, max_exp=1024, max_10_exp=308, min=2.2250738585072014e-308, min_exp=-1021, min_10_exp=-307, dig=15, mant_dig=53, epsilon=2.220446049250313e-16, radix=2, rounds=1)\n"
     ]
    }
   ],
   "source": [
    "#checkFloat.py\n",
    "import sys\n",
    "print(sys.float_info)"
   ]
  },
  {
   "cell_type": "markdown",
   "metadata": {},
   "source": [
    "The results show us that floats are large, but that do have a finite size. Remember decimals will be defined as floats. We reach the limit at $2.0^{1023}$ . In Python we indicate an exponent with \\**, as in the example below."
   ]
  },
  {
   "cell_type": "code",
   "execution_count": 22,
   "metadata": {},
   "outputs": [
    {
     "name": "stdout",
     "output_type": "stream",
     "text": [
      "8.98846567431158e+307\n"
     ]
    }
   ],
   "source": [
    "x = 2.0 ** 1023\n",
    "print(x)"
   ]
  },
  {
   "cell_type": "markdown",
   "metadata": {},
   "source": [
    "If we enter **_num = 2.0_** __\\*\\*__ **_1024_**, Python will return an overflow error, meaning that the number is beyond the capacity that can be held by the float (double) in python."
   ]
  },
  {
   "cell_type": "code",
   "execution_count": 23,
   "metadata": {},
   "outputs": [
    {
     "ename": "OverflowError",
     "evalue": "(34, 'Result too large')",
     "output_type": "error",
     "traceback": [
      "\u001b[1;31m---------------------------------------------------------------------------\u001b[0m",
      "\u001b[1;31mOverflowError\u001b[0m                             Traceback (most recent call last)",
      "\u001b[1;32m<ipython-input-23-5d75a30e5989>\u001b[0m in \u001b[0;36m<module>\u001b[1;34m\u001b[0m\n\u001b[1;32m----> 1\u001b[1;33m \u001b[1;36m2.0\u001b[0m \u001b[1;33m**\u001b[0m \u001b[1;36m1024\u001b[0m\u001b[1;33m\u001b[0m\u001b[1;33m\u001b[0m\u001b[0m\n\u001b[0m",
      "\u001b[1;31mOverflowError\u001b[0m: (34, 'Result too large')"
     ]
    }
   ],
   "source": [
    "2.0 ** 1024"
   ]
  },
  {
   "cell_type": "markdown",
   "metadata": {},
   "source": [
    "The problem does not occur if 2 is an integer raised to 1024 or a higher power."
   ]
  },
  {
   "cell_type": "code",
   "execution_count": 24,
   "metadata": {},
   "outputs": [
    {
     "name": "stdout",
     "output_type": "stream",
     "text": [
      "x is of <class 'float'> and is equal to 8.98846567431158e+307\n",
      "y is of <class 'int'> and is equal to 359538626972463181545861038157804946723595395788461314546860162315465351611001926265416954644815072042240227759742786715317579537628833244985694861278948248755535786849730970552604439202492188238906165904170011537676301364684925762947826221081654474326701021369172596479894491876959432609670712659248448274432\n"
     ]
    }
   ],
   "source": [
    "x = 2.0 ** 1023\n",
    "print(\"x is of\", type(x), \"and is equal to\", x)\n",
    "y = 2 ** 1025\n",
    "print(\"y is of\", type(y), \"and is equal to\", y)"
   ]
  },
  {
   "cell_type": "markdown",
   "metadata": {},
   "source": [
    "Just as with any spoken language, scripting in Python can reveal much nuance in the strcuture of the language. As we learn to program, we will come upon a number of unique problems dealing with memory usage, object types, script structure, and so forth. To the extent that we can learn about them systematically we will, otherwise we will deal with them as they appear.\n",
    "\n",
    "## Exercises\n",
    "\n",
    "1. Record your name in an object (**_x = ..._**) and a description of yourself in another object. \n",
    "2. Raise 2 to the 4th power. Save the value as an object named **_twoToTheFourth_**. Then create a new value that sums the value twice. Create another variable that saves the value of **_twoToTheFourth_** as a string. Just as with the numeric value, sum the string object twice.\n",
    "3. Find the list of escape sequences in [Section 2.4](https://docs.python.org/3/reference/lexical_analysis.html#literals).  create a string that uses at least 4 different escape sequences.\n",
    "4. Add an _integer_ and a _float_ together. Is the final number an _integer_ or a _float_?\n",
    "5. Add 2 ** 1024 + 1.5. What is the outcome? Why? hint: Try adding .5, 1, and  1.1 instead of 1.5.\n",
    "6. import the string library with the script **_import_** _string_. Print  **string.\\_\\_dict\\_\\_** . What is the output? If you do not understand the meaning,  search \"python class \\_\\_dict\\_\\_\" online and find an explanation.\n",
    "7. Call at least 5 of the results from **string.\\_\\_dict\\_\\_**.\n",
    "8. Concatenate 3 distinct strings\n"
   ]
  }
 ],
 "metadata": {
  "kernelspec": {
   "display_name": "Python 3 (ipykernel)",
   "language": "python",
   "name": "python3"
  },
  "language_info": {
   "codemirror_mode": {
    "name": "ipython",
    "version": 3
   },
   "file_extension": ".py",
   "mimetype": "text/x-python",
   "name": "python",
   "nbconvert_exporter": "python",
   "pygments_lexer": "ipython3",
   "version": "3.9.12"
  }
 },
 "nbformat": 4,
 "nbformat_minor": 2
}
