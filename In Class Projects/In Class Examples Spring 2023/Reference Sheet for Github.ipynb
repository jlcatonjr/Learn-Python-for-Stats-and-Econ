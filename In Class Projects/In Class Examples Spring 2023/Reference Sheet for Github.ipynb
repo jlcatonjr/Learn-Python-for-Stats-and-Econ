{
 "cells": [
  {
   "cell_type": "markdown",
   "metadata": {},
   "source": [
    "# GitHub Pointers\n",
    "Follow the instructions from this [video](https://www.youtube.com/watch?v=J_Clau1bYco&t=876s).\n",
    "\n"
   ]
  },
  {
   "cell_type": "code",
   "execution_count": 1,
   "metadata": {},
   "outputs": [
    {
     "data": {
      "text/html": [
       "<iframe width=\"840\" height=\"473\" src=\"https://www.youtube.com/embed/J_Clau1bYco?start=876\" title=\"YouTube video player\" frameborder=\"0\" allow=\"accelerometer; autoplay; clipboard-write; encrypted-media; gyroscope; picture-in-picture\" allowfullscreen></iframe>\n"
      ],
      "text/plain": [
       "<IPython.core.display.HTML object>"
      ]
     },
     "metadata": {},
     "output_type": "display_data"
    }
   ],
   "source": [
    "%%html\n",
    "<iframe width=\"840\" height=\"473\" src=\"https://www.youtube.com/embed/J_Clau1bYco?start=876\" title=\"YouTube video player\" frameborder=\"0\" allow=\"accelerometer; autoplay; clipboard-write; encrypted-media; gyroscope; picture-in-picture\" allowfullscreen></iframe>"
   ]
  },
  {
   "cell_type": "markdown",
   "metadata": {},
   "source": [
    "\n",
    "To reiterate the main points, before you start your first project, make sure that you have created an account on [GitHub](https://github.com). Download and install [Git](https://git-scm.com/downloads) for your system. After you've done these, follow the instruction in this video to see how to connect the Git software on your computer to your own account.\n",
    "\n",
    "To link the git software to your github account, enter your username and email using the commands\n",
    "\n",
    "* *git config --global user.name \"jlcatonjr\"*\n",
    "* *git config --global user.email \"jlcatonjr@gmail.com\"*\n",
    "\n",
    "Next, you need to set up your SSH key for security purposes. Beginning in August 2021, GitHub requires you to us an SSH key. [Watch this tutorial](https://www.youtube.com/embed/WgZIv5HI44o) on YouTube, or run the cell and press play below if you are viewing in Jupyter. \n",
    "\n"
   ]
  },
  {
   "cell_type": "code",
   "execution_count": 2,
   "metadata": {},
   "outputs": [
    {
     "data": {
      "text/html": [
       "<iframe width=\"840\" height=\"473\" src=\"https://www.youtube.com/embed/WgZIv5HI44o\" title=\"YouTube video player\" frameborder=\"0\" allow=\"accelerometer; autoplay; clipboard-write; encrypted-media; gyroscope; picture-in-picture\" allowfullscreen></iframe>\n"
      ],
      "text/plain": [
       "<IPython.core.display.HTML object>"
      ]
     },
     "metadata": {},
     "output_type": "display_data"
    }
   ],
   "source": [
    "%%html\n",
    "<iframe width=\"840\" height=\"473\" src=\"https://www.youtube.com/embed/WgZIv5HI44o\" title=\"YouTube video player\" frameborder=\"0\" allow=\"accelerometer; autoplay; clipboard-write; encrypted-media; gyroscope; picture-in-picture\" allowfullscreen></iframe>"
   ]
  },
  {
   "cell_type": "markdown",
   "metadata": {},
   "source": [
    "Now create a repository on the GitHub website. Then clone the repository on your own hard drive using the command\n",
    "\n",
    "* *git clone repository-url*\n",
    "\n",
    "For example, the command I used to clone my own repository is: \n",
    "* *git clone https://github.com/jlcatonjr/Learn-Python-for-Stats-and-Econ.git*\n",
    "\n",
    "After you have cloned the course repository, you can update it by navigating to the repository folder on your hard drive using the command line. Then, enter the command:\n",
    "\n",
    "> *git pull*\n",
    "\n",
    "Once you have created your own repository, create a folder called *In Class Projects* where you will save your inclass work. I will grade thes *.ipynb* files. Also create a folder called *Homework Projects*. You will save the homework for each week in this folder. Once you have downloaded the repository to your computer usingj the *clone* command, you can save your projects in the repository folder on your computer. Once saved, you can upload your work from the main folder using the command line. After navigating to the main folder, enter the following commands:\n",
    "\n",
    "* *git add .*\n",
    "\n",
    "* *git commit ([For Mac Users](https://apple.stackexchange.com/questions/252541/how-do-i-escape-the-git-commit-window-from-os-x-terminal))*\n",
    "\n",
    "\n",
    "A text file of the commit will appear. Write notes identifying the changes you have made to the repository. Then save and close the file. Then, enter the final command:\n",
    "\n",
    "* *git push*\n",
    "\n",
    "For a useful list of git commands, see [this sheet](https://education.github.com/git-cheat-sheet-education.pdf)."
   ]
  }
 ],
 "metadata": {
  "kernelspec": {
   "display_name": "Python 3 (ipykernel)",
   "language": "python",
   "name": "python3"
  },
  "language_info": {
   "codemirror_mode": {
    "name": "ipython",
    "version": 3
   },
   "file_extension": ".py",
   "mimetype": "text/x-python",
   "name": "python",
   "nbconvert_exporter": "python",
   "pygments_lexer": "ipython3",
   "version": "3.9.12"
  }
 },
 "nbformat": 4,
 "nbformat_minor": 4
}
