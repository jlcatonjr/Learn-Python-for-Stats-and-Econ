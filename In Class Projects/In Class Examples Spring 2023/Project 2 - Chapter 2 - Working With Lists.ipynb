{
 "cells": [
  {
   "cell_type": "markdown",
   "metadata": {},
   "source": [
    "# Chapter 2: Working With Lists\n",
    "\n",
    "Much of the remainder of this book is dedicated to using data structures to produce analysis that is elegant and efficient. To use the words of economics, you are making a long-term investment in your human capital by working through these exercises. Once you have invested in these fixed-costs, you can work with data at low marginal cost.\n",
    "\n",
    "If you are familiar with other programming languages, you may be accustomed to working with arrays. An array is must be cast to house particular data types (_float_, _int_, _string_, etc…). By default, Python works with dynamic lists instead of arrays. Dynamic lists are not cast as a particular type. \n",
    "\n",
    "## Working with Lists\n",
    "\n",
    "\n",
    "|New Concepts | Description|\n",
    "| --- | --- |\n",
    "| Dynamic List | A dynamic list is encapsulated by brackets _([])_. A list is mutable. Elements can be added to or deleted from a list on the fly.|\n",
    "| List Concatenation | Two lists can be joined together in the same manner that strings are concatenated. |\n",
    "| List Indexing | Lists are indexed with the first element being indexed as zero and the last element as the length of (number of elements in) the list less one. Indexes are called using brackets – i.e., _lst[0]_ calls the 0th element in the list. |\n",
    "\n",
    "\n",
    "In later chapters, we will combine lists with dictionaries to essential data structures. We will also work with more efficient and convenient data structures using the numpy and pandas libraries.\n",
    "\n",
    "Below we make our first lists. One will be empty. Another will contain integers. Another will have floats. Another strings. Another will mix these:"
   ]
  },
  {
   "cell_type": "code",
   "execution_count": 1,
   "metadata": {},
   "outputs": [
    {
     "name": "stdout",
     "output_type": "stream",
     "text": [
      "[]\n",
      "[1, 2, 3, 4, 5]\n",
      "[1.0, 2.0, 3.0, 4.0, 5.0]\n",
      "['Many words', 'impoverished meaning']\n",
      "[1, 2.0, 'Mix it up']\n"
     ]
    }
   ],
   "source": [
    "#lists.py\n",
    "empty_list = []\n",
    "int_list = [1,2,3,4,5]\n",
    "float_list = [1.0,2.0,3.0,4.0,5.0]\n",
    "string_list = [\"Many words\", \"impoverished meaning\"]\n",
    "mixed_list = [1,2.0, \"Mix it up\"]\n",
    "\n",
    "print(empty_list)  \n",
    "print(int_list)  \n",
    "print(float_list)  \n",
    "print(string_list)  \n",
    "print(mixed_list)"
   ]
  },
  {
   "cell_type": "markdown",
   "metadata": {},
   "source": [
    "Often we will want to transform lists. In the following example, we will concatenate two lists, which means we will join the lists together:"
   ]
  },
  {
   "cell_type": "code",
   "execution_count": 2,
   "metadata": {},
   "outputs": [
    {
     "name": "stdout",
     "output_type": "stream",
     "text": [
      "list1: [5, 4, 9, 10, 3, 5]\n",
      "list2: [6, 3, 2, 1, 5, 3]\n",
      "[5, 4, 9, 10, 3, 5, 6, 3, 2, 1, 5, 3]\n"
     ]
    }
   ],
   "source": [
    "#concatenateLists\n",
    "\n",
    "list1 = [5, 4, 9, 10, 3, 5]\n",
    "list2 = [6, 3, 2, 1, 5, 3]\n",
    "join_lists = list1 + list2\n",
    "\n",
    "print(\"list1:\", list1)\n",
    "print(\"list2:\", list2)\n",
    "print(join_lists)"
   ]
  },
  {
   "cell_type": "markdown",
   "metadata": {},
   "source": [
    "We have joined the lists together to make one long list. We can already observe one way in which Python will be useful for helping us to organize data. If we were doing this in a spread sheet, we would have to identify the row and column values of the elements or copy and paste the desired values into new rows or enter formulas into cells. Python accomplishes this for us with much less work.\n",
    "\n",
    "For a list of numbers, we will usually perform some arithmetic operation or categorize these values in order to identify meaningful subsets within the data. This requires access the elements, which Python allows us to do efficiently."
   ]
  },
  {
   "cell_type": "markdown",
   "metadata": {},
   "source": [
    "# For Loops and _range()_\n",
    "\n",
    "\n",
    "| New Concepts | Description |\n",
    "| --- | --- |\n",
    "| _list(obj)_ | List transforms an iterable object, such as a tuple or set, into a dynamic list. |\n",
    "| _range(j, k , l)_ | Identifies a range of integers from _j&nbsp;_ to _k–1_ separated by some interval _l_. |\n",
    "|_len(obj)_ | Measure the length of an iterable object. |\n",
    "\n",
    "\n",
    "We can use a for loop to more efficiently execute this task. As we saw in the last chapter, the for loop will execute a series of elements: for element in list. Often, this list is a range of numbers that represent the index of a dynamic list. For this purpose we call:"
   ]
  },
  {
   "cell_type": "code",
   "execution_count": 3,
   "metadata": {
    "tags": [
     "nbval-ignore-output"
    ]
   },
   "outputs": [
    {
     "ename": "SyntaxError",
     "evalue": "invalid syntax (<ipython-input-3-6c57701e4f46>, line 2)",
     "output_type": "error",
     "traceback": [
      "\u001b[1;36m  File \u001b[1;32m\"<ipython-input-3-6c57701e4f46>\"\u001b[1;36m, line \u001b[1;32m2\u001b[0m\n\u001b[1;33m    <execute script>\u001b[0m\n\u001b[1;37m    ^\u001b[0m\n\u001b[1;31mSyntaxError\u001b[0m\u001b[1;31m:\u001b[0m invalid syntax\n"
     ]
    }
   ],
   "source": [
    "for i in range(j, k, l):\n",
    "    <execute script>"
   ]
  },
  {
   "cell_type": "markdown",
   "metadata": {},
   "source": [
    "The for loop cycles through all integers of interval _l&nbsp;_ between _j&nbsp;_ and *k - 1*, executing a script for each value. This script may explicitly integrate the value _i_. \n",
    "\n",
    "If you do not specify a starting value, *j&nbsp;*, the range function assumes that you are calling an array of elements from _0&nbsp;_ to _j&nbsp;_. Likewise, if you do not specify an interval, *l&nbsp;*, range assumes that this interval is _1&nbsp;_. Thus, _for i in range(k)_ is interpreted as _for i in range(0, k, 1)_. We will again use the loop in its simplest form, cycling through number from _0&nbsp;_ to *(k – 1)*, where the length of the list is the value _k&nbsp;_. These cases are illustrated below in _range.py_."
   ]
  },
  {
   "cell_type": "code",
   "execution_count": null,
   "metadata": {},
   "outputs": [],
   "source": [
    "#range.py\n",
    "list1 = list(range(9))\n",
    "list2 = list(range(-9,9))\n",
    "list3 = list(range(-9,9,3))\n",
    "\n",
    "print(list1)\n",
    "print(list2)\n",
    "print(list3)"
   ]
  },
  {
   "cell_type": "markdown",
   "metadata": {},
   "source": [
    "The for loop will automatically identify the elements contained in _range()_ without requiring you to call _list()_.  This is illustrated below in _forLoopAndRange.py_."
   ]
  },
  {
   "cell_type": "code",
   "execution_count": null,
   "metadata": {},
   "outputs": [],
   "source": [
    "#forLoopAndRange.py\n",
    "for i in range(10):\n",
    "    print(i)"
   ]
  },
  {
   "cell_type": "markdown",
   "metadata": {},
   "source": [
    "Having printed *i* for all *i in range(0, 10, 1)*, we produce a set of integers from 0 to 9.\n",
    "\n",
    "If we were only printing index numbers from a range, for loops would not be very useful. For loops can be used to produce a wide variety of outputs. Often, you will call a for loop to cycle through the index of a particular array. Since arrays are indexed starting with 0 and for loops also assume 0 as an initial value, cycling through a list with a for loop is straight-forward. For a list named *A*, just use the command:"
   ]
  },
  {
   "cell_type": "code",
   "execution_count": null,
   "metadata": {
    "tags": [
     "nbval-ignore-output"
    ]
   },
   "outputs": [],
   "source": [
    "for i in range(len(A)):\n",
    "    <execute script>"
   ]
  },
  {
   "cell_type": "markdown",
   "metadata": {},
   "source": [
    "This command will call all integers between 0 and 1 less than the length of _A&nbsp;_. In other words, it will call all indexers associated with _A&nbsp;_. "
   ]
  },
  {
   "cell_type": "code",
   "execution_count": null,
   "metadata": {},
   "outputs": [],
   "source": [
    "#copyListElementsForLoop.py\n",
    "list1 = [5, 4, 9, 10, 3, 5]\n",
    "list2 = [6, 3, 2, 1, 5, 3]\n",
    "\n",
    "print(\"list1 elements:\", list1[0], list1[1], list1[2], list1[3], list1[4])\n",
    "print(\"list2 elements:\", list2[0], list2[1], list2[2], list2[3], list2[4])\n",
    "\n",
    "list3 = []\n",
    "j = len(list1)\n",
    "for i in range(j):\n",
    "    list3.append(list1[i])\n",
    "\n",
    "k = len(list2)\n",
    "for i in range(k):\n",
    "    list3.append(list2[i])\n",
    "\n",
    "print(\"list3 elements:\", list3)"
   ]
  },
  {
   "cell_type": "markdown",
   "metadata": {},
   "source": [
    "## Creating a New List with Values from Other Lists\n",
    "| New Concepts | Description |\n",
    "| --- | --- |\n",
    "| List Methods i.e., _.append()_, _.insert()_ | List methods append and insert increse the length of a list by adding in element to the list. |\n",
    "| If Statements | An if statement executes the block of code contained in it if conditions stipulated by the if statement are met (they return True). |\n",
    "| Else Statement | In the case that the conditions stipulated by an if statement are not met, and else statement executes an alternate block of code | \n",
    "| Operator i.e., ==, !=, <, >, <=, >= | The operator indicates the condition relating two variables that is to be tested. |\n",
    "\n",
    "We can extend the exercise by summing the ith elements in each list. In the exercise below, _list3_ is the sum of the ith elements from _list1_ and _list2_."
   ]
  },
  {
   "cell_type": "code",
   "execution_count": null,
   "metadata": {},
   "outputs": [],
   "source": [
    "#addListElements.py\n",
    "list1 = [5, 4, 9, 10, 3, 5]\n",
    "list2 = [6, 3, 2, 1, 5, 3]\n",
    "\n",
    "print(\"list1 elements:\", list1[0], list1[1], list1[2], list1[3], list1[4])\n",
    "print(\"list2 elements:\", list2[0], list2[1], list2[2], list2[3], list2[4])\n",
    "\n",
    "list3 = []\n",
    "j = len(list1)\n",
    "for i in range(j):\n",
    "    list3.append(list1[i] + list2[i])\n",
    "    \n",
    "print(\"list3:\", list3)"
   ]
  },
  {
   "cell_type": "markdown",
   "metadata": {},
   "source": [
    "In the last exercise, we created an empty list, _list3_. We could not fill the list by calling element in it directly, as no elements yet exist in the list. Instead, we use the append method that is owned by the list-object. Alternately, we can use the insert method. It takes the form, _list.insert(index, object)_. This is shown in a later example. We appended the summed values of the first two lists in the order that the elements are ranked. We could have summed them in opposite order by summing element 5, then 4, ..., then 0. "
   ]
  },
  {
   "cell_type": "code",
   "execution_count": null,
   "metadata": {},
   "outputs": [],
   "source": [
    "#addListElements.py\n",
    "list1 = [5, 4, 9, 10, 3, 5]\n",
    "list2 = [6, 3, 2, 1, 5, 3]\n",
    "\n",
    "print(\"list1 elements:\", list1[0], list1[1], list1[2], list1[3], list1[4])\n",
    "print(\"list2 elements:\", list2[0], list2[1], list2[2], list2[3], list2[4])\n",
    "\n",
    "list3 = []\n",
    "j = len(list1)\n",
    "for i in range(j):\n",
    "    list3.insert(0,list1[i] + list2[i])\n",
    "    \n",
    "print(\"list3:\", list3)"
   ]
  },
  {
   "cell_type": "markdown",
   "metadata": {},
   "source": [
    "In the next exercise we will us a function that we have not used before. We will check the length of each list whose elements are summed. We want to make sure that if we call an index from one list, it exists in the other. We do not want to call a list index if it does not exist. That would produce an error. \n",
    "\n",
    "We can check if a statement is true using an if statement. As with the for loop, the if statement is followed by a colon. This tells the program that the execution below or in front of the if statement depends upon the truth of the condition specified. The code that follows below an if statement must be indented, as this identifies what block of code is subject to the statement. "
   ]
  },
  {
   "cell_type": "code",
   "execution_count": 4,
   "metadata": {},
   "outputs": [
    {
     "name": "stdout",
     "output_type": "stream",
     "text": [
      "execute script\n"
     ]
    }
   ],
   "source": [
    "if True:\n",
    "    print(\"execute script\")"
   ]
  },
  {
   "cell_type": "markdown",
   "metadata": {},
   "source": [
    "If the statement returns _True_, then the commands that follow the if-statement will be executed. Though not stated explicitly, we can think of the program as passing over the if statement to the remainder of the script:"
   ]
  },
  {
   "cell_type": "code",
   "execution_count": 5,
   "metadata": {},
   "outputs": [
    {
     "name": "stdout",
     "output_type": "stream",
     "text": [
      "execute script\n"
     ]
    }
   ],
   "source": [
    "if True:\n",
    "    print(\"execute script\")\n",
    "else:\n",
    "    pass"
   ]
  },
  {
   "cell_type": "markdown",
   "metadata": {},
   "source": [
    "If the statement returns _False_, then the program will continue reading the script."
   ]
  },
  {
   "cell_type": "code",
   "execution_count": 6,
   "metadata": {},
   "outputs": [],
   "source": [
    "if False:\n",
    "    print(\"execute script\")\n",
    "else:\n",
    "    pass"
   ]
  },
  {
   "cell_type": "markdown",
   "metadata": {},
   "source": [
    "Nothing is printed in the console since there is no further script to execute.\n",
    "\n",
    "We will want to check if the lengths of two different lists are the same. To check that a variable has a stipulated value, we use two equals signs. Using _==_ allows the program to compare two values rather setting the value of the variable on the left, as would occur with only one equals sign.\n",
    "\n",
    "Following the if statement is a for loop. If the length of _list1_ and _list2_ are equal, the program will set the ith element of _list3_ equal to the sum of the ith elements from _list1_ and _list2_. In this example, the for loop will cycle through index values 0, 1, 2, 3, 4, and 5.\n",
    "\n",
    "We can take advantage of the for loop to use _.insert()_ in a manner that replicates the effect of our use of _append()_. We will insert the sum of the ith elements of _list1_ and _list2_ at  the ith element of _list3_."
   ]
  },
  {
   "cell_type": "code",
   "execution_count": 7,
   "metadata": {},
   "outputs": [
    {
     "name": "stdout",
     "output_type": "stream",
     "text": [
      "list1 elements: 5 4 9 10 3\n",
      "list2 elements: 6 3 2 1 5\n",
      "list3: [11, 7, 11, 11, 8, 8]\n"
     ]
    }
   ],
   "source": [
    "#addListElements3.py\n",
    "list1 = [5, 4, 9, 10, 3, 5]\n",
    "list2 = [6, 3, 2, 1, 5, 3]\n",
    "print(\"list1 elements:\", list1[0], list1[1], list1[2], list1[3], list1[4])\n",
    "print(\"list2 elements:\", list2[0], list2[1], list2[2], list2[3], list2[4])\n",
    "\n",
    "list3 = []\n",
    "j = len(list1)\n",
    "if j == len(list2):\n",
    "    for i in range(0, len(list2)):\n",
    "        list3.insert(i,list1[i] + list2[i])\n",
    "print(\"list3:\", list3)"
   ]
  },
  {
   "cell_type": "markdown",
   "metadata": {},
   "source": [
    "The if condition may be followed by an else statement. This tells the program to run a different command if the condition of the if statement is not met. In this case, we want the program to tell us why the condition was not met. In other cases, you may want to create other if statements to create a tree of possible outcomes. Below we use an if-else statement to identify when list’s are not the same length. We remove the last element from _list2_ to create lists of different lengths:"
   ]
  },
  {
   "cell_type": "code",
   "execution_count": 8,
   "metadata": {},
   "outputs": [
    {
     "name": "stdout",
     "output_type": "stream",
     "text": [
      "list1 elements: 5 4 9 10 3\n",
      "list2 elements: 6 3 2 1 5\n",
      "Lists are not the same length, cannot perform element-wise operations.\n",
      "list3: []\n"
     ]
    }
   ],
   "source": [
    "#addListElements4.py\n",
    "list1 = [5, 4, 9, 10, 3, 5]\n",
    "list2 = [6, 3, 2, 1, 5]\n",
    "print(\"list1 elements:\", list1[0], list1[1], list1[2], list1[3], list1[4])\n",
    "print(\"list2 elements:\", list2[0], list2[1], list2[2], list2[3], list2[4])\n",
    "\n",
    "list3 = []\n",
    "j = len(list1)\n",
    "if j == len(list2):\n",
    "    for i in range(0, len(list2)):\n",
    "        list3.insert(i,list1[i] + list2[i])\n",
    "else:\n",
    "    print(\"Lists are not the same length, cannot perform element-wise operations.\")\n",
    "print(\"list3:\", list3)"
   ]
  },
  {
   "cell_type": "markdown",
   "metadata": {},
   "source": [
    "Since the condition passed to the if statement was false, no values were appended to *list3*.\n",
    "\n",
    "## Removing List Elements\n",
    "\n",
    "\n",
    "| New Concepts | Description |\n",
    "| --- | --- |\n",
    "| _del_ | The command del is used to delete an element from a list |\n",
    "|List Methods i.e., _.pop()_, _.remove()_, _.append()_ | Lists contains methods that can be used to modify the list. These include _.pop()_ which removes the last element of a list, allowing it to be saved as a separate object. Another method,  _.remove()_ deletes an explicitly identified element. _.append(x)_ adds an additional element at the end of the list.  | \n",
    "\n",
    "\n",
    "Perhaps you want to remove an element from a list. There are a few means of accomplishing this. Which one you choose depends on the ends desired."
   ]
  },
  {
   "cell_type": "code",
   "execution_count": 9,
   "metadata": {},
   "outputs": [
    {
     "name": "stdout",
     "output_type": "stream",
     "text": [
      "lists before deletion: \n",
      "red \t nose\n",
      "blue \t ice\n",
      "orange \t fire\n",
      "black \t cat\n",
      "white \t mouse\n",
      "golden \t dog\n",
      "\n",
      "lists after deletion: \n",
      "blue \t nose\n",
      "orange \t ice\n",
      "black \t fire\n",
      "white \t cat\n",
      "golden \t mouse\n"
     ]
    }
   ],
   "source": [
    "#deleteListElements.py\n",
    "list1 = [\"red\", \"blue\", \"orange\", \"black\", \"white\", \"golden\"]\n",
    "list2 = [\"nose\", \"ice\", \"fire\", \"cat\", \"mouse\", \"dog\"]\n",
    "print(\"lists before deletion: \")\n",
    "for i in range(len(list1)):\n",
    "    print(list1[i],\"\\t\", list2[i])\n",
    "    \n",
    "del list1[0]\n",
    "del list2[5]\n",
    "\n",
    "print()\n",
    "print(\"lists after deletion: \")\n",
    "for i in range(len(list1)):\n",
    "    print(list1[i], \"\\t\",list2[i])"
   ]
  },
  {
   "cell_type": "markdown",
   "metadata": {},
   "source": [
    "We have deleted _\"red\"_ from _list1_ and _\"dog\"_ from _list2_. By printing the elements of each list once before and once after one element is deleted from each, we can note the difference in the lists over time. \n",
    "\n",
    "What if we knew that we wanted to remove the elements but did not want to check what index each element is associated with? We can use the remove function owned by each list. We will tell _list1_ to remove _\"red\"_ and _list2_ to remove _\"dog\"_.\n"
   ]
  },
  {
   "cell_type": "code",
   "execution_count": 10,
   "metadata": {},
   "outputs": [
    {
     "name": "stdout",
     "output_type": "stream",
     "text": [
      "lists before deletion: \n",
      "red \t nose\n",
      "blue \t ice\n",
      "orange \t fire\n",
      "black \t cat\n",
      "white \t mouse\n",
      "golden \t dog\n",
      "\n",
      "lists after deletion: \n",
      "blue \t nose\n",
      "orange \t ice\n",
      "black \t fire\n",
      "white \t cat\n",
      "golden \t mouse\n"
     ]
    }
   ],
   "source": [
    "#removeListElements.py\n",
    "list1 = [\"red\", \"blue\", \"orange\", \"black\", \"white\", \"golden\"]\n",
    "list2 = [\"nose\", \"ice\", \"fire\", \"cat\", \"mouse\", \"dog\"]\n",
    "print(\"lists before deletion: \")\n",
    "for i in range(len(list1)):\n",
    "    print(list1[i],\"\\t\", list2[i])\n",
    "    \n",
    "list1.remove(\"red\")\n",
    "list2.remove(\"dog\")\n",
    "\n",
    "print()\n",
    "print(\"lists after deletion: \")\n",
    "for i in range(len(list1)):\n",
    "    print(list1[i], \"\\t\",list2[i])     "
   ]
  },
  {
   "cell_type": "markdown",
   "metadata": {},
   "source": [
    "We have achieved the same result using a different means. What if we wanted to keep track of the element that we removed? Before deleting or removing the element, we could assign the value to a different object. Let's do this before using the remove function:"
   ]
  },
  {
   "cell_type": "code",
   "execution_count": 11,
   "metadata": {},
   "outputs": [
    {
     "name": "stdout",
     "output_type": "stream",
     "text": [
      "lists before deletion: \n",
      "red \t nose\n",
      "blue \t ice\n",
      "orange \t fire\n",
      "black \t cat\n",
      "white \t mouse\n",
      "golden \t dog\n",
      "\n",
      "lists after deletion: \n",
      "blue \t nose\n",
      "orange \t ice\n",
      "black \t fire\n",
      "white \t cat\n",
      "golden \t mouse\n",
      "\n",
      "Res1 \tRes2\n",
      "red \tdog\n"
     ]
    }
   ],
   "source": [
    "#removeAndSaveListElementsPop.py\n",
    "\n",
    "#define list1 and list2\n",
    "list1 = [\"red\", \"blue\", \"orange\", \"black\", \"white\", \"golden\"]\n",
    "list2 = [\"nose\", \"ice\", \"fire\", \"cat\", \"mouse\", \"dog\"]\n",
    "\n",
    "#identify what is printed in for loop\n",
    "print(\"lists before deletion: \")\n",
    "if len(list1) == len(list2):\n",
    "    # use for loop to print lists in parallel\n",
    "    for i in range(len(list1)):\n",
    "        print(list1[i],\"\\t\", list2[i])\n",
    "    \n",
    "# remove list elements and save them as variables '_res\"\n",
    "list1_res = \"red\"\n",
    "list2_res = \"dog\"\n",
    "list1.remove(list1_res)\n",
    "list2.remove(list2_res)\n",
    "\n",
    "print()\n",
    "# print lists again as in lines 8-11\n",
    "print(\"lists after deletion: \")\n",
    "if len(list1) == len(list2):\n",
    "    for i in range(len(list1)):\n",
    "        print(list1[i], \"\\t\",list2[i])\n",
    "     \n",
    "print()\n",
    "print(\"Res1\", \"\\tRes2\")\n",
    "print(list1_res, \"\\t\" + (list2_res))"
   ]
  },
  {
   "cell_type": "markdown",
   "metadata": {},
   "source": [
    "An easier way to accomplish this is to use *.pop()*, another method owned by each list."
   ]
  },
  {
   "cell_type": "code",
   "execution_count": 12,
   "metadata": {},
   "outputs": [
    {
     "name": "stdout",
     "output_type": "stream",
     "text": [
      "lists before deletion: \n",
      "red \t nose\n",
      "blue \t ice\n",
      "orange \t fire\n",
      "black \t cat\n",
      "white \t mouse\n",
      "golden \t dog\n",
      "\n",
      "lists after deletion: \n",
      "blue \t nose\n",
      "orange \t ice\n",
      "black \t fire\n",
      "white \t cat\n",
      "golden \t mouse\n",
      "\n",
      "Res1 \tRes2\n",
      "red \tdog\n"
     ]
    }
   ],
   "source": [
    "#removeListElementsPop.py\n",
    "\n",
    "#define list1 and list2\n",
    "list1 = [\"red\", \"blue\", \"orange\", \"black\", \"white\", \"golden\"]\n",
    "list2 = [\"nose\", \"ice\", \"fire\", \"cat\", \"mouse\", \"dog\"]\n",
    "\n",
    "#identify what is printed in for loop\n",
    "print(\"lists before deletion: \")\n",
    "# use for loop to print lists in parallel\n",
    "for i in range(len(list1)):\n",
    "    print(list1[i],\"\\t\", list2[i])\n",
    "    \n",
    "# remove list elements and save them as variables '_res\"\n",
    "list1_res = list1.pop(0)\n",
    "list2_res = list2.pop(5)\n",
    "\n",
    "print()\n",
    "# print lists again as in lines 8-11\n",
    "print(\"lists after deletion: \")\n",
    "for i in range(len(list1)):\n",
    "    print(list1[i], \"\\t\",list2[i])\n",
    "     \n",
    "print()\n",
    "print(\"Res1\", \"\\tRes2\")\n",
    "print(list1_res, \"\\t\" + (list2_res))"
   ]
  },
  {
   "cell_type": "markdown",
   "metadata": {},
   "source": [
    "## More with For Loops \n",
    "\n",
    "When you loop through element values, it is not necessary that these are consecutive. You may skip values at some interval. The next example returns to the earlier _addListElements#.py_ examples. This time, we pass the number 2 as the third element in _range()_. Now range will count by twos from _0&nbsp;_ to _j – 1_. This will make _list3_ shorter than before."
   ]
  },
  {
   "cell_type": "code",
   "execution_count": 13,
   "metadata": {},
   "outputs": [
    {
     "name": "stdout",
     "output_type": "stream",
     "text": [
      "list1 elements: 5 4 9 10 3\n",
      "list2 elements: 6 3 2 1 5\n",
      "list3: [11, 11, 8]\n"
     ]
    }
   ],
   "source": [
    "#addListElements5.py\n",
    "list1 = [5, 4, 9, 10, 3, 5]\n",
    "list2 = [6, 3, 2, 1, 5, 3]\n",
    "print(\"list1 elements:\", list1[0], list1[1], list1[2], list1[3], list1[4])\n",
    "print(\"list2 elements:\", list2[0], list2[1], list2[2], list2[3], list2[4])\n",
    "\n",
    "list3 = []\n",
    "j = len(list1)\n",
    "if j == len(list2):\n",
    "    for i in range(0, j, 2):\n",
    "        list3.append(list1[i] + list2[i])\n",
    "else:\n",
    "    print(\"Lists are not the same length, cannot perform element-wise operations.\")\n",
    "print(\"list3:\", list3)"
   ]
  },
  {
   "cell_type": "markdown",
   "metadata": {},
   "source": [
    "We entered the sum of elements 0, 2, and 4 from _list1_ and _list2_ into *list3*. Since these were appended to *list3*, they are indexed in *list3[0]*, *list3[1]*, and *list3[2]*.\n",
    "\n",
    "For loops in python can call in sequence element of objects that are iterable. These include lists, strings, keys and values from dictionaries, as well as the range function we have already used. You may use a for loop that calls each element in the list without identifying the index of each element."
   ]
  },
  {
   "cell_type": "code",
   "execution_count": 14,
   "metadata": {},
   "outputs": [
    {
     "name": "stdout",
     "output_type": "stream",
     "text": [
      "A\n",
      "few\n",
      "words\n",
      "to\n",
      "print\n"
     ]
    }
   ],
   "source": [
    "obj = [\"A\", \"few\", \"words\", \"to\", \"print\"]\n",
    "for x in obj:\n",
    "    print(x)"
   ]
  },
  {
   "cell_type": "markdown",
   "metadata": {},
   "source": [
    "Each $x$ called is an element from _obj_. Where before we passed _len(list1)_ to the for loop, we now pass _list1_ itself to the for loop and append each element $x$ to _list2_."
   ]
  },
  {
   "cell_type": "code",
   "execution_count": 15,
   "metadata": {},
   "outputs": [
    {
     "name": "stdout",
     "output_type": "stream",
     "text": [
      "list1\t list2\n",
      "red \t red\n",
      "blue \t blue\n",
      "orange \t orange\n",
      "black \t black\n",
      "white \t white\n",
      "golden \t golden\n"
     ]
    }
   ],
   "source": [
    "#forLoopWithoutIndexer.py\n",
    "list1 = [\"red\", \"blue\", \"orange\", \"black\", \"white\", \"golden\"]\n",
    "list2 = []\n",
    "for x in list1:\n",
    "    list2.append(x)\n",
    "\n",
    "print(\"list1\\t\", \"list2\")\n",
    "k = len(list1)\n",
    "j = len(list2)\n",
    "\n",
    "if len(list1) == len(list2):\n",
    "    for i in range(0, len(list1)):\n",
    "        print(list1[i], \"\\t\", list2[i])"
   ]
  },
  {
   "cell_type": "markdown",
   "metadata": {},
   "source": [
    "## Sorting Lists, Errors, and Exceptions\n",
    "\n",
    "\n",
    "| New Concepts | Description |\n",
    "| --- | --- |\n",
    "| _sorted()_ | The function sorted() sorts a list in order of numerical or alphabetical value. |\n",
    "| passing errors i.e., _try_ and _except_ | A try statement will pass over an error if one is generated by the code in the try block. In the case that an error is passed, code from the except block well be called. This should typically identify the type of error that was passed. |\n",
    "\n",
    "\n",
    "We can sort lists using the sorted list function that orders the list either by number or alphabetically. We reuse lists from the last examples to show this."
   ]
  },
  {
   "cell_type": "code",
   "execution_count": 16,
   "metadata": {},
   "outputs": [
    {
     "name": "stdout",
     "output_type": "stream",
     "text": [
      "list1: [5, 4, 9, 10, 3, 5]\n",
      "list2: ['red', 'blue', 'orange', 'black', 'white', 'golden']\n",
      "sortedList1: [3, 4, 5, 5, 9, 10]\n",
      "sortedList2: ['black', 'blue', 'golden', 'orange', 'red', 'white']\n"
     ]
    }
   ],
   "source": [
    "#sorting.py\n",
    "list1 = [5, 4, 9, 10, 3, 5]\n",
    "list2 = [\"red\", \"blue\", \"orange\", \"black\", \"white\", \"golden\"]\n",
    "\n",
    "print(\"list1:\", list1)\n",
    "print(\"list2:\", list2)\n",
    "\n",
    "sorted_list1 = sorted(list1)\n",
    "sorted_list2 = sorted(list2)\n",
    "\n",
    "print(\"sortedList1:\", sorted_list1)\n",
    "print(\"sortedList2:\", sorted_list2)"
   ]
  },
  {
   "cell_type": "markdown",
   "metadata": {},
   "source": [
    "What happens if we try to sort a that has both strings and integers? You might expect that Python would sort integers and then strings or vice versa. If you try this, you will raise an error:"
   ]
  },
  {
   "cell_type": "code",
   "execution_count": 17,
   "metadata": {},
   "outputs": [
    {
     "name": "stdout",
     "output_type": "stream",
     "text": [
      "list1: [5, 4, 9, 10, 3, 5]\n",
      "list2: ['red', 'blue', 'orange', 'black', 'white', 'golden']\n",
      "list3: [5, 4, 9, 10, 3, 5, 'red', 'blue', 'orange', 'black', 'white', 'golden']\n",
      "sortedList1: [3, 4, 5, 5, 9, 10]\n",
      "sortedList2: ['black', 'blue', 'golden', 'orange', 'red', 'white']\n"
     ]
    },
    {
     "ename": "TypeError",
     "evalue": "'<' not supported between instances of 'str' and 'int'",
     "output_type": "error",
     "traceback": [
      "\u001b[1;31m---------------------------------------------------------------------------\u001b[0m",
      "\u001b[1;31mTypeError\u001b[0m                                 Traceback (most recent call last)",
      "\u001b[1;32m<ipython-input-17-33cfe0647146>\u001b[0m in \u001b[0;36m<module>\u001b[1;34m\u001b[0m\n\u001b[0;32m     14\u001b[0m \u001b[0mprint\u001b[0m\u001b[1;33m(\u001b[0m\u001b[1;34m\"sortedList2:\"\u001b[0m\u001b[1;33m,\u001b[0m \u001b[0msorted_list2\u001b[0m\u001b[1;33m)\u001b[0m\u001b[1;33m\u001b[0m\u001b[1;33m\u001b[0m\u001b[0m\n\u001b[0;32m     15\u001b[0m \u001b[1;33m\u001b[0m\u001b[0m\n\u001b[1;32m---> 16\u001b[1;33m \u001b[0msorted_list3\u001b[0m \u001b[1;33m=\u001b[0m \u001b[0msorted\u001b[0m\u001b[1;33m(\u001b[0m\u001b[0mlist3\u001b[0m\u001b[1;33m)\u001b[0m\u001b[1;33m\u001b[0m\u001b[1;33m\u001b[0m\u001b[0m\n\u001b[0m\u001b[0;32m     17\u001b[0m \u001b[0mprint\u001b[0m\u001b[1;33m(\u001b[0m\u001b[1;34m\"sortedList3:\"\u001b[0m\u001b[1;33m,\u001b[0m \u001b[0msorted_list3\u001b[0m\u001b[1;33m)\u001b[0m\u001b[1;33m\u001b[0m\u001b[1;33m\u001b[0m\u001b[0m\n\u001b[0;32m     18\u001b[0m \u001b[0mprint\u001b[0m\u001b[1;33m(\u001b[0m\u001b[1;34m\"Execution complete!\"\u001b[0m\u001b[1;33m)\u001b[0m\u001b[1;33m\u001b[0m\u001b[1;33m\u001b[0m\u001b[0m\n",
      "\u001b[1;31mTypeError\u001b[0m: '<' not supported between instances of 'str' and 'int'"
     ]
    }
   ],
   "source": [
    "#sortingError.py\n",
    "list1 = [5, 4, 9, 10, 3, 5]\n",
    "list2 = [\"red\", \"blue\", \"orange\", \"black\", \"white\", \"golden\"]\n",
    "list3 = list1 + list2\n",
    "\n",
    "print(\"list1:\", list1)\n",
    "print(\"list2:\", list2)\n",
    "print(\"list3:\", list3)\n",
    "\n",
    "sorted_list1 = sorted(list1)\n",
    "sorted_list2 = sorted(list2)\n",
    "\n",
    "print(\"sortedList1:\", sorted_list1)\n",
    "print(\"sortedList2:\", sorted_list2)\n",
    "\n",
    "sorted_list3 = sorted(list3)\n",
    "print(\"sortedList3:\", sorted_list3)\n",
    "print(\"Execution complete!\")"
   ]
  },
  {
   "cell_type": "markdown",
   "metadata": {},
   "source": [
    "The script returns an error. If this error is raised during execution, it will interrupt the program. One way to deal with this is to ask Python to try to execute some script and to execute some other command if an error would normally be raised:"
   ]
  },
  {
   "cell_type": "code",
   "execution_count": 18,
   "metadata": {},
   "outputs": [
    {
     "name": "stdout",
     "output_type": "stream",
     "text": [
      "list1: [5, 4, 9, 10, 3, 5]\n",
      "list2: ['red', 'blue', 'orange', 'black', 'white', 'golden']\n",
      "list3: [5, 4, 9, 10, 3, 5, 'red', 'blue', 'orange', 'black', 'white', 'golden']\n",
      "sortedList1: [3, 4, 5, 5, 9, 10]\n",
      "sortedList2: ['black', 'blue', 'golden', 'orange', 'red', 'white']\n",
      "TypeError: unorderable types: str() < int() ignoring error\n",
      "Execution complete!\n"
     ]
    }
   ],
   "source": [
    "#sortingError.py\n",
    "list1 = [5, 4, 9, 10, 3, 5]\n",
    "list2 = [\"red\", \"blue\", \"orange\", \"black\", \"white\", \"golden\"]\n",
    "list3 = list1 + list2\n",
    "\n",
    "print(\"list1:\", list1)\n",
    "print(\"list2:\", list2)\n",
    "print(\"list3:\", list3)\n",
    "\n",
    "sorted_list1 = sorted(list1)\n",
    "sorted_list2 = sorted(list2)\n",
    "\n",
    "print(\"sortedList1:\", sorted_list1)\n",
    "print(\"sortedList2:\", sorted_list2)\n",
    "try:\n",
    "    sorted_list3 = sorted(list3)\n",
    "    print(\"sortedList3:\", sorted_list3)\n",
    "except:\n",
    "    print(\"TypeError: unorderable types: str() < int() \"\n",
    "         \"ignoring error\")\n",
    "print(\"Execution complete!\")"
   ]
  },
  {
   "cell_type": "markdown",
   "metadata": {},
   "source": [
    "We successfully avoided the error and instead called an alternate operation defined under except. The use for this will become more obvious as we move along. We will except use them from time to time and note the reason when we do.\n",
    "\n",
    "## Slicing a List\n",
    "\n",
    "\n",
    "| New Concepts | Description |\n",
    "| --- | --- |\n",
    "| slice i.e., _list\\[a:b\\]_|A slice of a list is a copy of a portion (or all) of a list from index a to b – 1.|\n",
    "\n",
    "\n",
    "Sometimes, we may want to access several elements instantly. Python allows us to do this with a slice. Technically, when you call a list in its entirety, you take a slice that includes the entire list. We can do this explicitly like this:"
   ]
  },
  {
   "cell_type": "code",
   "execution_count": 19,
   "metadata": {},
   "outputs": [
    {
     "name": "stdout",
     "output_type": "stream",
     "text": [
      "[3, 1, 5, 6, 1]\n"
     ]
    }
   ],
   "source": [
    "#fullSlice.py\n",
    "some_list = [3, 1, 5, 6, 1]\n",
    "print(some_list[:])"
   ]
  },
  {
   "cell_type": "markdown",
   "metadata": {},
   "source": [
    "Using *some_list\\[:\\]* is equivalent of creating a slice using *some_list\\[min_index: list_length\\]* where *min_index = 0* and *list_length= len(some_list)*:"
   ]
  },
  {
   "cell_type": "code",
   "execution_count": 20,
   "metadata": {},
   "outputs": [
    {
     "name": "stdout",
     "output_type": "stream",
     "text": [
      "minimum: 0\n",
      "maximum: 5\n",
      "Full list using slice [3, 1, 5, 6, 1]\n",
      "Full list without slice [3, 1, 5, 6, 1]\n"
     ]
    }
   ],
   "source": [
    "#fullSlice2.py\n",
    "some_list = [3, 1, 5, 6, 1]\n",
    "min_index = 0\n",
    "max_index = len(some_list)\n",
    "print(\"minimum:\", min_index)\n",
    "print(\"maximum:\", max_index)\n",
    "print(\"Full list using slice\", some_list[min_index:max_index])\n",
    "print(\"Full list without slice\", some_list)"
   ]
  },
  {
   "cell_type": "markdown",
   "metadata": {},
   "source": [
    "This is not very useful if we do not use this to take a smaller subsection of a list. Below, we create a new array that is a subset of the original array. As you might expect by now, *full_list\\[7\\]* calls the 8th element. Since indexing begins with the 0th element, this element is actually counted as the 7th element. Also, similar to the command *for i in range(3, 7)*, the slice calls elements 3, 4, 5, and 6:"
   ]
  },
  {
   "cell_type": "code",
   "execution_count": 21,
   "metadata": {},
   "outputs": [
    {
     "name": "stdout",
     "output_type": "stream",
     "text": [
      "Full List: [1, 2, 3, 4, 5, 6, 7, 8, 9]\n",
      "Partial List: [4, 5, 6, 7]\n",
      "full_list[7]: 8\n"
     ]
    }
   ],
   "source": [
    "#partialSlice.py\n",
    "min_index = 3\n",
    "max_index = 7\n",
    "full_list = [1, 2, 3, 4, 5, 6, 7, 8, 9]\n",
    "partial_list = full_list[min_index:max_index]\n",
    "print(\"Full List:\", full_list)\n",
    "print(\"Partial List:\", partial_list)\n",
    "print(\"full_list[7]:\", full_list[7])"
   ]
  },
  {
   "cell_type": "markdown",
   "metadata": {},
   "source": [
    "## Nested For Loops\n",
    "\n",
    "\n",
    "| New Concepts | Description |\n",
    "| --- | --- |\n",
    "| Nested For Loops | A for loop may contain other for loops. They are useful for multidimensional data structures. |\n",
    "\n",
    "\n",
    "Creative use of for loops can save the programmer a lot of work. While you should be careful not to create so many layers of for loops and if statements that code is difficult to interpret (“Flat is better than nested”), you should be comfortable with the structure of nested for loops and, eventually, their use in structures like dictionaries and generators.\n",
    "\n",
    "A useful way to become acquainted with the power of multiple for loops is to identify what each the result of each iteration of nested for loops. In the code below, the first for loop will count from 0 to 4. For each value of *i*, the second for loop will cycle through values 0 to 4 for _j&nbsp;_.\n"
   ]
  },
  {
   "cell_type": "code",
   "execution_count": 22,
   "metadata": {
    "scrolled": true
   },
   "outputs": [
    {
     "name": "stdout",
     "output_type": "stream",
     "text": [
      "i j\n",
      "0 0\n",
      "0 1\n",
      "0 2\n",
      "0 3\n",
      "0 4\n",
      "1 0\n",
      "1 1\n",
      "1 2\n",
      "1 3\n",
      "1 4\n",
      "2 0\n",
      "2 1\n",
      "2 2\n",
      "2 3\n",
      "2 4\n",
      "3 0\n",
      "3 1\n",
      "3 2\n",
      "3 3\n",
      "3 4\n",
      "4 0\n",
      "4 1\n",
      "4 2\n",
      "4 3\n",
      "4 4\n"
     ]
    }
   ],
   "source": [
    "#nestedForLoop.py\n",
    "print(\"i\", \"j\")\n",
    "for i in range(5):\n",
    "    for j in range(5):\n",
    "        print(i, j)"
   ]
  },
  {
   "cell_type": "markdown",
   "metadata": {},
   "source": [
    "Often, we will want to employ values generated by for loops in a manner other than printing the values generated directly by the for loops. We may, for example, want to create a new value constructed from _i&nbsp;_ and _j&nbsp;_. Below, this value is constructed as the sum of _i&nbsp;_ and _j&nbsp;_. "
   ]
  },
  {
   "cell_type": "code",
   "execution_count": 23,
   "metadata": {},
   "outputs": [
    {
     "name": "stdout",
     "output_type": "stream",
     "text": [
      "i j i+j\n",
      "0 0 0\n",
      "0 1 1\n",
      "0 2 2\n",
      "0 3 3\n",
      "0 4 4\n",
      "1 0 1\n",
      "1 1 2\n",
      "1 2 3\n",
      "1 3 4\n",
      "1 4 5\n",
      "2 0 2\n",
      "2 1 3\n",
      "2 2 4\n",
      "2 3 5\n",
      "2 4 6\n",
      "3 0 3\n",
      "3 1 4\n",
      "3 2 5\n",
      "3 3 6\n",
      "3 4 7\n",
      "4 0 4\n",
      "4 1 5\n",
      "4 2 6\n",
      "4 3 7\n",
      "4 4 8\n"
     ]
    }
   ],
   "source": [
    "#nestedForLoop.py\n",
    "print(\"i\", \"j\", \"i+j\")\n",
    "for i in range(5):\n",
    "    for j in range(5):\n",
    "        val = i + j\n",
    "        print(i, j, val)"
   ]
  },
  {
   "cell_type": "markdown",
   "metadata": {},
   "source": [
    "If we interpret the results as a table, we can better understand the intuition of for loops. Lighter shading indicates lower values of _i&nbsp;_ with shading growing darker as the value of _i&nbsp;_ increases.\n",
    "\n",
    "| &nbsp; | &nbsp; | &nbsp; | &nbsp; |__j__| &nbsp; | &nbsp; | \n",
    "| ---    | ---    | ---    | ---    | --- | ---  | ---    |\n",
    "| &nbsp; | &nbsp; | __0__  | __1__  |__2__|__3__ | __4__  |\n",
    "| &nbsp; | __0__  | 0      |    1   | 2 |   3    |      4 |\n",
    "| &nbsp; | __1__  | 1      |    2   | 3 |   4    |      5 |\n",
    "| __i__  | __2__  | 2      |    3   | 4 |   5    |      6 |\n",
    "| &nbsp; | __3__  | 3      |    4   | 5 |   6    |      7 |\n",
    "| &nbsp; | __4__  | 4      |    5   | 6 |   7    |      8 |\n"
   ]
  },
  {
   "cell_type": "markdown",
   "metadata": {},
   "source": [
    "## Lists, Lists, and More Lists\n",
    "\n",
    "\n",
    "| New Concepts | Description |\n",
    "| --- | --- |\n",
    "| _min(lst)_     | The function _min()_ returns the lowest value from a list of values passed to it. |\n",
    "| _max(lst)_     | The function _max()_ returns that highest value from a list of values passed to it. |\n",
    "| generators i.e., _[val for val in lst]_ |Generators use a nested for loop to create an iterated data structure. |\n",
    "\n",
    "\n",
    "Lists have some convenient features. You can find the maximum and minimum values in a list with the _min()_ and _max()_ functions:"
   ]
  },
  {
   "cell_type": "code",
   "execution_count": 24,
   "metadata": {},
   "outputs": [
    {
     "name": "stdout",
     "output_type": "stream",
     "text": [
      "maximum: 50 minimum: 20\n"
     ]
    }
   ],
   "source": [
    "# minMaxFunctions.py\n",
    "list1 = [20, 30, 40, 50]\n",
    "max_list_value = max(list1)\n",
    "min_list_value = min(list1)\n",
    "print(\"maximum:\", max_list_value, \"minimum:\", min_list_value)"
   ]
  },
  {
   "cell_type": "markdown",
   "metadata": {},
   "source": [
    "We could have used a for loop to find these values. The program below performs the same task:"
   ]
  },
  {
   "cell_type": "code",
   "execution_count": 25,
   "metadata": {},
   "outputs": [
    {
     "name": "stdout",
     "output_type": "stream",
     "text": [
      "maximum: 50 minimum: 20\n"
     ]
    }
   ],
   "source": [
    "#minMaxFuntionsByHand.py\n",
    "list1 = [20, 30, 40, 50]\n",
    "# initial smallest value is infinite\n",
    "# will be replaced if a value from the list is lower\n",
    "min_list_val = float(\"inf\")\n",
    "# initial largest values is negative infinite\n",
    "# will be replaced if a value  from the list is higher\n",
    "max_list_val = float(\"-inf\")\n",
    "\n",
    "for x in list1:\n",
    "    if x < min_list_val:\n",
    "        min_list_val = x\n",
    "    if x > max_list_val:\n",
    "        max_list_val = x\n",
    "\n",
    "print(\"maximum:\", max_list_val, \"minimum:\", min_list_val)"
   ]
  },
  {
   "cell_type": "markdown",
   "metadata": {},
   "source": [
    "We chose to make the starting value of min_list_value large and positive and the starting value of *max_list_value* large and negative. The for loop cycles through these values and assigns the value, _x&nbsp;_, from the list to *min_list_value* if the value is less than the current value assigned to *min_list_value* and to *max_list_value* if the value is greater than the current value assigned to *max_list_value*.\n",
    "\n",
    "Earlier in the chapter, we constructed lists using list comprehension (i.e., the _list()_ function) and by generating lists and setting values with _.append()_ and _.insert()_. We may also use a generator to create a list. Generators are convenient as they provide a compact means of creating a list that is easier to interpret. They follow the same format as the _list()_ function."
   ]
  },
  {
   "cell_type": "code",
   "execution_count": 26,
   "metadata": {},
   "outputs": [
    {
     "name": "stdout",
     "output_type": "stream",
     "text": [
      "<generator object <genexpr> at 0x00000230D200C4A0>\n",
      "[0, 1, 2, 3, 4, 5, 6, 7, 8, 9, 10, 11, 12, 13, 14, 15, 16, 17, 18, 19]\n",
      "[0, 2, 4, 6, 8, 10, 12, 14, 16, 18, 20, 22, 24, 26, 28, 30, 32, 34, 36, 38]\n"
     ]
    }
   ],
   "source": [
    "#listFromGenerator.py\n",
    "generator = (i for i in range(20))\n",
    "print(generator)\n",
    "\n",
    "list1 = list(generator)\n",
    "print(list1)\n",
    "\n",
    "list2 = [2 * i for i in range(20)]\n",
    "print(list2)"
   ]
  },
  {
   "cell_type": "markdown",
   "metadata": {},
   "source": [
    "### Exercises\n",
    "1. Create a list of numbers 100 elements in length that counts by 3s - i.e., [3,6,9,12,...]\n",
    "\n",
    "2. Using the list from question 1, create a second list whose elements are the same values converted to strings. hint: use a for loop and the function str().\n",
    "\n",
    "3. Using the list from question 2, create a variable that concatenates each of the elements in order of index (Hint: result should be like \"36912...\").\n",
    "\n",
    "4. Using .pop() and .append(), create a list whose values are the same as the list from question 1 but in reverse order. (Hint: .pop() removes the last element from a list. The value can be save, i.e., x = lst.pop().)\n",
    "\n",
    "5. Using len(), calculate the midpoint of the list from question 1. Pass this midpoint to slice the list so that the resultant copy includes only the second half of the list from question 1.\n",
    "\n",
    "6. Create a string that includes only every other element, starting from the 0th element, from the string in question 3 while maintaining the order of these elements (Hint: this can be done be using a for loop whose values are descending).\n",
    "\n",
    "7. Explain the difference between a dynamic list in Python (usually referred to as a list) and a tuple.\n",
    "\n",
    "### Exploration\n",
    "\n",
    "1. Use a generator to create a list of the first 100 prime numbers. Include a paragraph explaining how a generator works.\n",
    "\n",
    "2. Using a for loop and the pop function, create a list of the values from the list of prime numbers whose values are descending from highest to lowest.\n",
    "\n",
    "3. Using either of prime numbers, create another list that includes the same numbers but is randomly ordered. Do this without shuffling the initial list (Hint: you will need to import random and import copy). Explain in a paragraph the process that you followed to accomplish the task.\n"
   ]
  }
 ],
 "metadata": {
  "celltoolbar": "Tags",
  "kernelspec": {
   "display_name": "Python 3 (ipykernel)",
   "language": "python",
   "name": "python3"
  },
  "language_info": {
   "codemirror_mode": {
    "name": "ipython",
    "version": 3
   },
   "file_extension": ".py",
   "mimetype": "text/x-python",
   "name": "python",
   "nbconvert_exporter": "python",
   "pygments_lexer": "ipython3",
   "version": "3.9.12"
  }
 },
 "nbformat": 4,
 "nbformat_minor": 2
}
