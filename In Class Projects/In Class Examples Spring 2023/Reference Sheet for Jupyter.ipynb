{
 "cells": [
  {
   "cell_type": "markdown",
   "metadata": {},
   "source": [
    "# Reference Sheet for Jupyter\n",
    "\n",
    "# Opening Jupyter\n",
    "\n",
    "1. Open *PowerShell* or *Command Prompt* (Windows) or *Terminal* (Mac). \n",
    "\n",
    "2. Navigate to the appropriate folder. *cd folder* will move you to the *folder* if it is in the same directory. Or you can enter *cd path_name*, meaning the full address of the folder starting with the drive that holds the folder. *cd ..* moves you up to the next highest folder in the directory.\n",
    "\n",
    "3. Once you are in the appropriate folder, enter *jupyter notebook*. \n",
    "\n",
    "If for any reason this does not work, you can open Jupyter by searching for it using your operating system's search.\n",
    "\n",
    "\n",
    "\n",
    "# Jupyter Commands\n",
    "\n",
    "In Jupyter, you will want cells to be either *Markdown* or *Code*. Treat *Markdown* as a text document. When using *Markdown*, use the following commands.\n",
    "\n",
    "# #Main Heading\n",
    "\n",
    "## ##Subheading\n",
    "\n",
    "### ###Subsubheading\n",
    "\n",
    "#### ####You get the point...\n",
    "\n",
    "> \\> Block Quote\n",
    "\n",
    ">> \\>>Double Block Quote\n",
    "\n",
    ">>> \\>>> Triple Block Quote\n",
    "\n",
    "* For bullet points, start the line with \\* a star like in this line\n",
    "\n",
    "There are [many other commands](https://medium.com/ibm-data-science-experience/markdown-for-jupyter-notebooks-cheatsheet-386c05aeebed), but these will be most useful to start. Mac users see [these notes](https://www.edureka.co/blog/wp-content/uploads/2018/10/Jupyter_Notebook_CheatSheet_Edureka.pdf)."
   ]
  }
 ],
 "metadata": {
  "kernelspec": {
   "display_name": "Python 3 (ipykernel)",
   "language": "python",
   "name": "python3"
  },
  "language_info": {
   "codemirror_mode": {
    "name": "ipython",
    "version": 3
   },
   "file_extension": ".py",
   "mimetype": "text/x-python",
   "name": "python",
   "nbconvert_exporter": "python",
   "pygments_lexer": "ipython3",
   "version": "3.9.12"
  }
 },
 "nbformat": 4,
 "nbformat_minor": 4
}
