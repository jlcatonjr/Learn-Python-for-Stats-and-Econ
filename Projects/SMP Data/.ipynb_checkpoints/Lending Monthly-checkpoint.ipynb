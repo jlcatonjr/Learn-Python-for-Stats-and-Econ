{
 "cells": [
  {
   "cell_type": "code",
   "execution_count": 1,
   "metadata": {},
   "outputs": [
    {
     "name": "stderr",
     "output_type": "stream",
     "text": [
      "C:\\Users\\JLCat\\AppData\\Roaming\\Python\\Python39\\site-packages\\outdated\\utils.py:14: OutdatedPackageWarning: The package outdated is out of date. Your version is 0.2.1, the latest is 0.2.2.\n",
      "Set the environment variable OUTDATED_IGNORE=1 to disable these warnings.\n",
      "  return warn(\n",
      "C:\\Users\\JLCat\\AppData\\Roaming\\Python\\Python39\\site-packages\\outdated\\utils.py:14: OutdatedPackageWarning: The package pingouin is out of date. Your version is 0.5.1, the latest is 0.5.3.\n",
      "Set the environment variable OUTDATED_IGNORE=1 to disable these warnings.\n",
      "  return warn(\n"
     ]
    }
   ],
   "source": [
    "import numpy as np\n",
    "import pandas as pd\n",
    "pd.core.common.is_list_like = pd.api.types.is_list_like\n",
    "import pandas_datareader.data as web\n",
    "import datetime\n",
    "import matplotlib.pyplot as plt\n",
    "import matplotlib.animation as animation\n",
    "from matplotlib.backends.backend_pdf import PdfPages\n",
    "import random\n",
    "import pingouin\n",
    "import os\n",
    "\n",
    "#plots.py\n",
    "# . . .\n",
    "def plot_lines(df, linewidth = 1, figsize = (40,20),\n",
    "               secondary_y = None, legend=True,\n",
    "               h_zero = True, pp = None, \n",
    "               save_fig = False):\n",
    "    \n",
    "    fig, ax = plt.subplots(figsize = figsize)    \n",
    "    # If no secondary_y (axis), plot all variables at once\n",
    "    df.dropna().plot.line(linewidth = linewidth, ax = ax, secondary_y=secondary_y, legend = legend)\n",
    "    # Turn the text on the x-axis so that it reads vertically\n",
    "    ax.tick_params(axis='x', rotation=90)\n",
    "    # Get rid of tick lines perpendicular to the axis for aesthetic\n",
    "    ax.tick_params('both', length=0, which='both')\n",
    "    # transform y-axis values from sci notation to integers\n",
    "    vals = ax.get_yticks()\n",
    "    ax.set_yticklabels([round(x,2) for x in vals]) \n",
    "    if h_zero: ax.axhline(0, ls=\"--\", color = \"k\")\n",
    "    \n",
    "    # format image filename \n",
    "    remove_chars = \"[]:$'\\\\\"\n",
    "    filename = str(list(df.keys()))\n",
    "    for char in remove_chars:\n",
    "        filename = filename.replace(char, \"\")  \n",
    "    if save_fig:\n",
    "        try:\n",
    "            os.mkdir(\"plots\")\n",
    "        except:\n",
    "            pass\n",
    "        plt.savefig(\"plots/\" + filename[:50] + \" line.png\", \n",
    "                bbox_inches = \"tight\")\n",
    "    #[:50] + \" line.png\"\n",
    "    # save image if PdfPages object was passed\n",
    "    if pp != None: pp.savefig(fig, bbox_inches = \"tight\")\n",
    "\n",
    "def plot_scatter(data, s = 75, figsize = (40, 20), save_fig = False, pp = None):\n",
    "    # Create plot for every unique pair of variables\n",
    "    df = data.copy()\n",
    "    for var1 in df:\n",
    "        for var2 in df:\n",
    "            if var1 != var2:\n",
    "                fig, ax = plt.subplots(figsize = figsize)\n",
    "                # Create list of years from index\n",
    "                # Year will be represented by color\n",
    "                if \"Year\" not in df.keys():\n",
    "                    df[\"Year\"] = [int(str(ind)[:4]) for ind in df.index] \n",
    "                df.plot.scatter(x = var1, y = var2, s = s, ax = ax, \n",
    "                                c = \"Year\", cmap = \"viridis\")\n",
    "                # Turn the text on the x-axis so that it reads vertically\n",
    "                ax.tick_params(axis='x', rotation=90)\n",
    "                # Get rid of tick lines perpendicular to the axis for aesthetic\n",
    "                ax.tick_params('both', length=0, which='both')\n",
    "                # save image if PdfPages object was passed\n",
    "                if save_fig:\n",
    "                    try:\n",
    "                        os.mkdir(\"plots\")\n",
    "                    except:\n",
    "                        pass\n",
    "                    plt.savefig(\"plots/\" + str(list(df.keys())).replace(\"[\", \"\").replace(\"]\",\"\")[:40] + \" scatter.png\",\n",
    "                            bbox_inches = \"tight\")\n",
    "                    if pp != None: pp.savefig(fig, bbox_inches = \"tight\")\n",
    "\n",
    "def corr_matrix_heatmap(df, save_fig = False, pp = None):  \n",
    "    #Create a figure to visualize a corr matrix  \n",
    "    fig, ax = plt.subplots(figsize=(20,20))  \n",
    "    # use ax.imshow() to create a heatmap of correlation values  \n",
    "    # seismic mapping shows negative values as blue and positive values as red  \n",
    "    im = ax.imshow(df, norm = plt.cm.colors.Normalize(-1,1), cmap = \"seismic\")  \n",
    "    # create a list of labels, stacking each word in a label by replacing \" \"  \n",
    "    # with \"\\n\"  \n",
    "    labels = df.keys()  \n",
    "    num_vars = len(labels)  \n",
    "    tick_labels = [lab.replace(\" \", \"\\n\") for lab in labels]  \n",
    "    # adjust font size according to the number of variables visualized  \n",
    "    tick_font_size = 120 / num_vars  \n",
    "    val_font_size = 200 / num_vars  \n",
    "#     plt.rcParams.update({'font.size': tick_font_size}) \n",
    "    # prepare space for label of each column  \n",
    "    x_ticks = np.arange(num_vars)  \n",
    "    # select labels and rotate them 90 degrees so that they are vertical  \n",
    "    plt.xticks(x_ticks, tick_labels, fontsize = tick_font_size, rotation = 90)  \n",
    "    # prepare space for label of each row  \n",
    "    y_ticks = np.arange(len(labels))  \n",
    "    # select labels  \n",
    "    plt.yticks(y_ticks, tick_labels, fontsize = tick_font_size)  \n",
    "    # show values in each tile of the heatmap  \n",
    "    for i in range(len(labels)):  \n",
    "        for j in range(len(labels)):  \n",
    "            text = ax.text(i, j, str(round(df.values[i][j],2)),  \n",
    "                           fontsize= val_font_size, ha=\"center\",   \n",
    "                           va=\"center\", color = \"w\")  \n",
    "    #Create title with Times New Roman Font  \n",
    "    title_font = {\"fontname\":\"Times New Roman\"}  \n",
    "    plt.title(\"Correlation\", fontsize = 50, **title_font)  \n",
    "    #Call scale to show value of colors \n",
    "    cbar = fig.colorbar(im)\n",
    "    plt.show()\n",
    "    if save_fig:\n",
    "        try:\n",
    "            os.mkdir(\"plots\")\n",
    "        except:\n",
    "            pass\n",
    "        plt.savefig(\"plots/\" + str(list(df.keys())).replace(\"[\", \"\").replace(\"]\",\"\")[:40] + \" corrMatrix.png\",\n",
    "            bbox_inches = \"tight\")\n",
    "\n",
    "        if pp != None: pp.savefig(fig, bbox_inches=\"tight\")\n",
    "    plt.close()\n",
    "\n",
    "def plot_stacked_lines(df, plot_vars, linewidth = 1, \n",
    "                       figsize = (40, 20),\n",
    "                       pp = None, total_var = False,\n",
    "                      title = False):\n",
    "    fig, ax = plt.subplots(figsize = figsize)\n",
    "    # df.plot.area() created a stacked plot\n",
    "    df[plot_vars].plot.area(stacked = True, linewidth = linewidth,\n",
    "                            ax = ax)\n",
    "    if total_var != False:\n",
    "        df[total_var].plot.line(linewidth = linewidth, ax = ax,\n",
    "                                c = \"k\",label = total_var, \n",
    "                                ls = \"--\")\n",
    "    # place legend in top left corner of plot\n",
    "    # format legend so that there are two columns of names\n",
    "    ax.legend(loc = 2, ncol = 2)\n",
    "    if title != False:\n",
    "        plt.title(title)\n",
    "        \n",
    "def gather_data(data_codes, start, end = datetime.datetime.today(), freq = \"Q\"):\n",
    "    i = 0\n",
    "    # dct.items() calls key and value that key points to\n",
    "    for key, val in data_codes.items():\n",
    "        if i == 0:\n",
    "            # Create dataframe for first variable, then rename column\n",
    "            df = web.DataReader(val, \"fred\", start, end).resample(freq).mean()\n",
    "            df.rename(columns = {val:key}, inplace = True) \n",
    "            i = None\n",
    "        else:\n",
    "            # If dataframe already exists, add new column\n",
    "            df[key] = web.DataReader(val, \"fred\", start, end).resample(freq).mean()\n",
    "            \n",
    "    return df"
   ]
  },
  {
   "cell_type": "code",
   "execution_count": 2,
   "metadata": {},
   "outputs": [],
   "source": [
    "data_codes = {\"Total Debt\":\"TODNS\",\n",
    "              \"Federal Debt\": \"FGSDODNS\",\n",
    "              \"State and Local Debt\":\"SLGSDODNS\",\n",
    "              \"Commercial and Industrial Loans\":\"TOTCI\",\n",
    "              \"Total Loans, Excluding Federal Government\":\"ASTLL\",\n",
    "              \"Nominal GDP\":\"GDP\",\n",
    "              \"Real GDP\":\"GDPC1\",\n",
    "              \"G\":\"GCE\",\n",
    "              \"I\":\"GPDI\",\n",
    "              \"C\":\"PCEC\",\n",
    "              \"NX\":\"NETEXP\",\n",
    "              \"Expected Inflation: 5 Year Breakeven Rate\":\"T5YIE\",\n",
    "              \"CPI: Urban Consumption\":\"CPIAUCSL\",\n",
    "              \"Federal Funds Rate\": \"DFF\",\n",
    "              \"Balance Sheet: Total Assets\": \"WALCL\",\n",
    "              \"Currency in Circulation\": \"WCURCIR\",\n",
    "              \"Unemployment Rate\": \"UNRATE\",\n",
    "              \"Aaa Rate\":\"AAA\",\n",
    "              \"2 Year Treasury Rate\": \"DGS2\",\n",
    "              \"5 Year Treasury Rate\": \"DGS5\",\n",
    "              \"10 Year Treasury Rate\": \"DGS10\",\n",
    "              \"30 Year Treasury Rate\": \"DGS20\"}\n",
    "\n",
    "\n",
    "start = datetime.datetime(1950, 1, 1)\n",
    "end =datetime.datetime.today()\n",
    "\n",
    "annual_div = {\"Q\":4,\n",
    "             \"W\":52,\n",
    "             \"M\":12}\n",
    "# freq refers to data frequency. Choose \"D\", \"W\", \"M\", \"Q\", \"A\"\n",
    "# a number may also be place in front of a letter. \"2D\" indicates\n",
    "#       alternating days\n",
    "if \"data_gathered\" not in locals():\n",
    "    freq = \"M\"\n",
    "    year = annual_div[freq]\n",
    "    data = gather_data(data_codes, start, \n",
    "          end = end, freq = freq)\n",
    "    #data.fillna(0, inplace=True)\n",
    "    data[\"Currency in Circulation\"] = data[\"Currency in Circulation\"].mul(1000)\n",
    "#     for key in data.keys():\n",
    "#         data[key + \" % change\"] = data[key].pct_change(year) * 100\n",
    "#         data[\"Log \" + key]= np.log(data[key])\n",
    "    data[\"Currency in Circulation / Total Assets\"] = data[\"Currency in Circulation\"].div(data[\"Balance Sheet: Total Assets\"])\n",
    "    data[\"Total Debt\"] =data[\"Total Debt\"].mul(1000) \n",
    "    data[\"Federal Debt\"] =data[\"Federal Debt\"].mul(1000) \n",
    "    data[\"State and Local Debt\"] =data[\"State and Local Debt\"].mul(1000)\n",
    "    data[\"Nominal GDP\"]=data[\"Nominal GDP\"].mul(1000)\n",
    "    data[\"Public Debt\"] = data[\"Federal Debt\"].add(data[\"State and Local Debt\"])\n",
    "    data[\"Private Debt\"] = data[\"Total Debt\"].sub(data[\"Public Debt\"])    \n",
    "    data[\"Public Debt / GDP\"] = data[\"Public Debt\"].div(data[\"Nominal GDP\"]).mul(100)\n",
    "    data[\"Private Debt / GDP\"] = data[\"Private Debt\"].div(data[\"Nominal GDP\"]).mul(100)\n",
    "    data[\"Public Debt / Private Debt\"] = data[\"Public Debt\"].div(data[\"Private Debt\"]).mul(100)\n",
    "    data[\"Public Debt / Total Debt\"] = data[\"Public Debt\"].div(data[\"Total Debt\"]).mul(100)\n",
    "    data[\"Aaa and 10 Year Treasury Rate Spread\"] = data[\"Aaa Rate\"].sub(data[\"10 Year Treasury Rate\"]) \n",
    "    data[\"AAA - FFR\"] = data[\"Aaa Rate\"].sub(data[\"Federal Funds Rate\"]) \n",
    "\n",
    "    data[\"Year\"] = data.index\n",
    "    data[\"Year\"] = data[\"Year\"].astype(str).str[:4].astype(int)\n",
    "        \n",
    "    # Create new variables\n",
    "\n",
    "\n",
    "    data_gathered = True\n"
   ]
  },
  {
   "cell_type": "code",
   "execution_count": 3,
   "metadata": {},
   "outputs": [],
   "source": [
    "pct_change_df = data.pct_change(4).mul(100)\n",
    "pct_change_diff_df=pct_change_df.diff(4).mul(100)"
   ]
  },
  {
   "cell_type": "code",
   "execution_count": 7,
   "metadata": {},
   "outputs": [
    {
     "ename": "NameError",
     "evalue": "name 'coporate_rates' is not defined",
     "output_type": "error",
     "traceback": [
      "\u001b[1;31m---------------------------------------------------------------------------\u001b[0m",
      "\u001b[1;31mNameError\u001b[0m                                 Traceback (most recent call last)",
      "\u001b[1;32m~\\AppData\\Local\\Temp\\ipykernel_21964\\2870699132.py\u001b[0m in \u001b[0;36m<module>\u001b[1;34m\u001b[0m\n\u001b[0;32m      3\u001b[0m corporate_rates = pd.read_excel(filename, \n\u001b[0;32m      4\u001b[0m                      header = [4])\n\u001b[1;32m----> 5\u001b[1;33m \u001b[0mcorporate_rates\u001b[0m \u001b[1;33m=\u001b[0m \u001b[0mcoporate_rates\u001b[0m\u001b[1;33m.\u001b[0m\u001b[0miloc\u001b[0m\u001b[1;33m[\u001b[0m\u001b[1;36m1\u001b[0m\u001b[1;33m:\u001b[0m\u001b[1;33m]\u001b[0m\u001b[1;33m.\u001b[0m\u001b[0mrename\u001b[0m\u001b[1;33m(\u001b[0m\u001b[0mcolumns\u001b[0m \u001b[1;33m=\u001b[0m \u001b[1;33m{\u001b[0m\u001b[1;34m\"Unnamed: 0\"\u001b[0m\u001b[1;33m:\u001b[0m\u001b[1;34m\"Date\"\u001b[0m\u001b[1;33m}\u001b[0m\u001b[1;33m)\u001b[0m\u001b[1;33m\u001b[0m\u001b[1;33m\u001b[0m\u001b[0m\n\u001b[0m\u001b[0;32m      6\u001b[0m \u001b[0mcorporate_rates\u001b[0m\u001b[1;33m[\u001b[0m\u001b[1;34m\"Date\"\u001b[0m\u001b[1;33m]\u001b[0m \u001b[1;33m=\u001b[0m \u001b[0mpd\u001b[0m\u001b[1;33m.\u001b[0m\u001b[0mto_datetime\u001b[0m\u001b[1;33m(\u001b[0m\u001b[0mcorporate_rates\u001b[0m\u001b[1;33m[\u001b[0m\u001b[1;34m\"Date\"\u001b[0m\u001b[1;33m]\u001b[0m\u001b[1;33m)\u001b[0m\u001b[1;33m\u001b[0m\u001b[1;33m\u001b[0m\u001b[0m\n\u001b[0;32m      7\u001b[0m \u001b[0mcorporate_rates\u001b[0m \u001b[1;33m=\u001b[0m \u001b[0mcorporate_rates\u001b[0m\u001b[1;33m.\u001b[0m\u001b[0mset_index\u001b[0m\u001b[1;33m(\u001b[0m\u001b[1;34m\"Date\"\u001b[0m\u001b[1;33m)\u001b[0m\u001b[1;33m.\u001b[0m\u001b[0mresample\u001b[0m\u001b[1;33m(\u001b[0m\u001b[0mfreq\u001b[0m\u001b[1;33m)\u001b[0m\u001b[1;33m.\u001b[0m\u001b[0mmean\u001b[0m\u001b[1;33m(\u001b[0m\u001b[1;33m)\u001b[0m\u001b[1;33m\u001b[0m\u001b[1;33m\u001b[0m\u001b[0m\n",
      "\u001b[1;31mNameError\u001b[0m: name 'coporate_rates' is not defined"
     ]
    }
   ],
   "source": [
    "rates = [\"2 Years\", \"5 Years\", \"10 Years\", \"30 Years\"]\n",
    "filename = \"https://home.treasury.gov/system/files/226/hqm_qh_pars.xls\"\n",
    "corporate_rates = pd.read_excel(filename, \n",
    "                     header = [4])\n",
    "corporate_rates = corporate_rates.iloc[1:].rename(columns = {\"Unnamed: 0\":\"Date\"})\n",
    "corporate_rates[\"Date\"] = pd.to_datetime(corporate_rates[\"Date\"])\n",
    "corporate_rates = corporate_rates.set_index(\"Date\").resample(freq).mean()    \n",
    "corporate_rates = corporate_rates[rates]\n",
    "corporate_rates"
   ]
  },
  {
   "cell_type": "code",
   "execution_count": 9,
   "metadata": {
    "scrolled": false
   },
   "outputs": [
    {
     "data": {
      "application/vnd.plotly.v1+json": {
       "config": {
        "plotlyServerURL": "https://plot.ly"
       },
       "data": [
        {
         "hovertemplate": "Maturity=2 Years<br>Date=%{x}<br>Interest Rate=%{y}<extra></extra>",
         "legendgroup": "2 Years",
         "line": {
          "color": "#636efa",
          "dash": "solid"
         },
         "marker": {
          "symbol": "circle"
         },
         "mode": "lines",
         "name": "2 Years",
         "orientation": "v",
         "showlegend": true,
         "type": "scatter",
         "x": [
          "2022-01-31T00:00:00",
          "2022-02-28T00:00:00",
          "2022-03-31T00:00:00",
          "2022-04-30T00:00:00",
          "2022-05-31T00:00:00",
          "2022-06-30T00:00:00",
          "2022-07-31T00:00:00",
          "2022-08-31T00:00:00",
          "2022-09-30T00:00:00",
          "2022-10-31T00:00:00",
          "2022-11-30T00:00:00",
          "2022-12-31T00:00:00",
          "2023-01-31T00:00:00",
          "2023-02-28T00:00:00",
          "2023-03-31T00:00:00",
          "2023-04-30T00:00:00",
          "2023-05-31T00:00:00",
          "2023-06-30T00:00:00",
          "2023-07-31T00:00:00"
         ],
         "xaxis": "x",
         "y": [
          1.31,
          1.85,
          2.46,
          3,
          3.18,
          3.61,
          3.66,
          3.81,
          4.5,
          5.13,
          5.14,
          4.89,
          4.81,
          5.07,
          5.05,
          4.78,
          4.94,
          5.36,
          5.47
         ],
         "yaxis": "y"
        },
        {
         "hovertemplate": "Maturity=5 Years<br>Date=%{x}<br>Interest Rate=%{y}<extra></extra>",
         "legendgroup": "5 Years",
         "line": {
          "color": "#EF553B",
          "dash": "solid"
         },
         "marker": {
          "symbol": "circle"
         },
         "mode": "lines",
         "name": "5 Years",
         "orientation": "v",
         "showlegend": true,
         "type": "scatter",
         "x": [
          "2022-01-31T00:00:00",
          "2022-02-28T00:00:00",
          "2022-03-31T00:00:00",
          "2022-04-30T00:00:00",
          "2022-05-31T00:00:00",
          "2022-06-30T00:00:00",
          "2022-07-31T00:00:00",
          "2022-08-31T00:00:00",
          "2022-09-30T00:00:00",
          "2022-10-31T00:00:00",
          "2022-11-30T00:00:00",
          "2022-12-31T00:00:00",
          "2023-01-31T00:00:00",
          "2023-02-28T00:00:00",
          "2023-03-31T00:00:00",
          "2023-04-30T00:00:00",
          "2023-05-31T00:00:00",
          "2023-06-30T00:00:00",
          "2023-07-31T00:00:00"
         ],
         "xaxis": "x",
         "y": [
          1.98,
          2.37,
          2.85,
          3.51,
          3.75,
          4.1,
          3.95,
          3.99,
          4.69,
          5.29,
          5.1,
          4.76,
          4.61,
          4.83,
          4.88,
          4.6,
          4.71,
          4.98,
          5.07
         ],
         "yaxis": "y"
        },
        {
         "hovertemplate": "Maturity=10 Years<br>Date=%{x}<br>Interest Rate=%{y}<extra></extra>",
         "legendgroup": "10 Years",
         "line": {
          "color": "#00cc96",
          "dash": "solid"
         },
         "marker": {
          "symbol": "circle"
         },
         "mode": "lines",
         "name": "10 Years",
         "orientation": "v",
         "showlegend": true,
         "type": "scatter",
         "x": [
          "2022-01-31T00:00:00",
          "2022-02-28T00:00:00",
          "2022-03-31T00:00:00",
          "2022-04-30T00:00:00",
          "2022-05-31T00:00:00",
          "2022-06-30T00:00:00",
          "2022-07-31T00:00:00",
          "2022-08-31T00:00:00",
          "2022-09-30T00:00:00",
          "2022-10-31T00:00:00",
          "2022-11-30T00:00:00",
          "2022-12-31T00:00:00",
          "2023-01-31T00:00:00",
          "2023-02-28T00:00:00",
          "2023-03-31T00:00:00",
          "2023-04-30T00:00:00",
          "2023-05-31T00:00:00",
          "2023-06-30T00:00:00",
          "2023-07-31T00:00:00"
         ],
         "xaxis": "x",
         "y": [
          2.84,
          3.15,
          3.52,
          4.1,
          4.43,
          4.68,
          4.52,
          4.49,
          5.18,
          5.73,
          5.52,
          5.11,
          4.93,
          5.09,
          5.14,
          4.88,
          5.04,
          5.19,
          5.26
         ],
         "yaxis": "y"
        },
        {
         "hovertemplate": "Maturity=30 Years<br>Date=%{x}<br>Interest Rate=%{y}<extra></extra>",
         "legendgroup": "30 Years",
         "line": {
          "color": "#ab63fa",
          "dash": "solid"
         },
         "marker": {
          "symbol": "circle"
         },
         "mode": "lines",
         "name": "30 Years",
         "orientation": "v",
         "showlegend": true,
         "type": "scatter",
         "x": [
          "2022-01-31T00:00:00",
          "2022-02-28T00:00:00",
          "2022-03-31T00:00:00",
          "2022-04-30T00:00:00",
          "2022-05-31T00:00:00",
          "2022-06-30T00:00:00",
          "2022-07-31T00:00:00",
          "2022-08-31T00:00:00",
          "2022-09-30T00:00:00",
          "2022-10-31T00:00:00",
          "2022-11-30T00:00:00",
          "2022-12-31T00:00:00",
          "2023-01-31T00:00:00",
          "2023-02-28T00:00:00",
          "2023-03-31T00:00:00",
          "2023-04-30T00:00:00",
          "2023-05-31T00:00:00",
          "2023-06-30T00:00:00",
          "2023-07-31T00:00:00"
         ],
         "xaxis": "x",
         "y": [
          3.26,
          3.59,
          3.87,
          4.2,
          4.65,
          4.8,
          4.71,
          4.67,
          5.17,
          5.76,
          5.52,
          5.01,
          4.92,
          5.05,
          5.18,
          5.06,
          5.26,
          5.21,
          5.2
         ],
         "yaxis": "y"
        }
       ],
       "layout": {
        "legend": {
         "title": {
          "text": "Maturity"
         },
         "tracegroupgap": 0
        },
        "margin": {
         "t": 60
        },
        "template": {
         "data": {
          "bar": [
           {
            "error_x": {
             "color": "#2a3f5f"
            },
            "error_y": {
             "color": "#2a3f5f"
            },
            "marker": {
             "line": {
              "color": "#E5ECF6",
              "width": 0.5
             },
             "pattern": {
              "fillmode": "overlay",
              "size": 10,
              "solidity": 0.2
             }
            },
            "type": "bar"
           }
          ],
          "barpolar": [
           {
            "marker": {
             "line": {
              "color": "#E5ECF6",
              "width": 0.5
             },
             "pattern": {
              "fillmode": "overlay",
              "size": 10,
              "solidity": 0.2
             }
            },
            "type": "barpolar"
           }
          ],
          "carpet": [
           {
            "aaxis": {
             "endlinecolor": "#2a3f5f",
             "gridcolor": "white",
             "linecolor": "white",
             "minorgridcolor": "white",
             "startlinecolor": "#2a3f5f"
            },
            "baxis": {
             "endlinecolor": "#2a3f5f",
             "gridcolor": "white",
             "linecolor": "white",
             "minorgridcolor": "white",
             "startlinecolor": "#2a3f5f"
            },
            "type": "carpet"
           }
          ],
          "choropleth": [
           {
            "colorbar": {
             "outlinewidth": 0,
             "ticks": ""
            },
            "type": "choropleth"
           }
          ],
          "contour": [
           {
            "colorbar": {
             "outlinewidth": 0,
             "ticks": ""
            },
            "colorscale": [
             [
              0,
              "#0d0887"
             ],
             [
              0.1111111111111111,
              "#46039f"
             ],
             [
              0.2222222222222222,
              "#7201a8"
             ],
             [
              0.3333333333333333,
              "#9c179e"
             ],
             [
              0.4444444444444444,
              "#bd3786"
             ],
             [
              0.5555555555555556,
              "#d8576b"
             ],
             [
              0.6666666666666666,
              "#ed7953"
             ],
             [
              0.7777777777777778,
              "#fb9f3a"
             ],
             [
              0.8888888888888888,
              "#fdca26"
             ],
             [
              1,
              "#f0f921"
             ]
            ],
            "type": "contour"
           }
          ],
          "contourcarpet": [
           {
            "colorbar": {
             "outlinewidth": 0,
             "ticks": ""
            },
            "type": "contourcarpet"
           }
          ],
          "heatmap": [
           {
            "colorbar": {
             "outlinewidth": 0,
             "ticks": ""
            },
            "colorscale": [
             [
              0,
              "#0d0887"
             ],
             [
              0.1111111111111111,
              "#46039f"
             ],
             [
              0.2222222222222222,
              "#7201a8"
             ],
             [
              0.3333333333333333,
              "#9c179e"
             ],
             [
              0.4444444444444444,
              "#bd3786"
             ],
             [
              0.5555555555555556,
              "#d8576b"
             ],
             [
              0.6666666666666666,
              "#ed7953"
             ],
             [
              0.7777777777777778,
              "#fb9f3a"
             ],
             [
              0.8888888888888888,
              "#fdca26"
             ],
             [
              1,
              "#f0f921"
             ]
            ],
            "type": "heatmap"
           }
          ],
          "heatmapgl": [
           {
            "colorbar": {
             "outlinewidth": 0,
             "ticks": ""
            },
            "colorscale": [
             [
              0,
              "#0d0887"
             ],
             [
              0.1111111111111111,
              "#46039f"
             ],
             [
              0.2222222222222222,
              "#7201a8"
             ],
             [
              0.3333333333333333,
              "#9c179e"
             ],
             [
              0.4444444444444444,
              "#bd3786"
             ],
             [
              0.5555555555555556,
              "#d8576b"
             ],
             [
              0.6666666666666666,
              "#ed7953"
             ],
             [
              0.7777777777777778,
              "#fb9f3a"
             ],
             [
              0.8888888888888888,
              "#fdca26"
             ],
             [
              1,
              "#f0f921"
             ]
            ],
            "type": "heatmapgl"
           }
          ],
          "histogram": [
           {
            "marker": {
             "pattern": {
              "fillmode": "overlay",
              "size": 10,
              "solidity": 0.2
             }
            },
            "type": "histogram"
           }
          ],
          "histogram2d": [
           {
            "colorbar": {
             "outlinewidth": 0,
             "ticks": ""
            },
            "colorscale": [
             [
              0,
              "#0d0887"
             ],
             [
              0.1111111111111111,
              "#46039f"
             ],
             [
              0.2222222222222222,
              "#7201a8"
             ],
             [
              0.3333333333333333,
              "#9c179e"
             ],
             [
              0.4444444444444444,
              "#bd3786"
             ],
             [
              0.5555555555555556,
              "#d8576b"
             ],
             [
              0.6666666666666666,
              "#ed7953"
             ],
             [
              0.7777777777777778,
              "#fb9f3a"
             ],
             [
              0.8888888888888888,
              "#fdca26"
             ],
             [
              1,
              "#f0f921"
             ]
            ],
            "type": "histogram2d"
           }
          ],
          "histogram2dcontour": [
           {
            "colorbar": {
             "outlinewidth": 0,
             "ticks": ""
            },
            "colorscale": [
             [
              0,
              "#0d0887"
             ],
             [
              0.1111111111111111,
              "#46039f"
             ],
             [
              0.2222222222222222,
              "#7201a8"
             ],
             [
              0.3333333333333333,
              "#9c179e"
             ],
             [
              0.4444444444444444,
              "#bd3786"
             ],
             [
              0.5555555555555556,
              "#d8576b"
             ],
             [
              0.6666666666666666,
              "#ed7953"
             ],
             [
              0.7777777777777778,
              "#fb9f3a"
             ],
             [
              0.8888888888888888,
              "#fdca26"
             ],
             [
              1,
              "#f0f921"
             ]
            ],
            "type": "histogram2dcontour"
           }
          ],
          "mesh3d": [
           {
            "colorbar": {
             "outlinewidth": 0,
             "ticks": ""
            },
            "type": "mesh3d"
           }
          ],
          "parcoords": [
           {
            "line": {
             "colorbar": {
              "outlinewidth": 0,
              "ticks": ""
             }
            },
            "type": "parcoords"
           }
          ],
          "pie": [
           {
            "automargin": true,
            "type": "pie"
           }
          ],
          "scatter": [
           {
            "fillpattern": {
             "fillmode": "overlay",
             "size": 10,
             "solidity": 0.2
            },
            "type": "scatter"
           }
          ],
          "scatter3d": [
           {
            "line": {
             "colorbar": {
              "outlinewidth": 0,
              "ticks": ""
             }
            },
            "marker": {
             "colorbar": {
              "outlinewidth": 0,
              "ticks": ""
             }
            },
            "type": "scatter3d"
           }
          ],
          "scattercarpet": [
           {
            "marker": {
             "colorbar": {
              "outlinewidth": 0,
              "ticks": ""
             }
            },
            "type": "scattercarpet"
           }
          ],
          "scattergeo": [
           {
            "marker": {
             "colorbar": {
              "outlinewidth": 0,
              "ticks": ""
             }
            },
            "type": "scattergeo"
           }
          ],
          "scattergl": [
           {
            "marker": {
             "colorbar": {
              "outlinewidth": 0,
              "ticks": ""
             }
            },
            "type": "scattergl"
           }
          ],
          "scattermapbox": [
           {
            "marker": {
             "colorbar": {
              "outlinewidth": 0,
              "ticks": ""
             }
            },
            "type": "scattermapbox"
           }
          ],
          "scatterpolar": [
           {
            "marker": {
             "colorbar": {
              "outlinewidth": 0,
              "ticks": ""
             }
            },
            "type": "scatterpolar"
           }
          ],
          "scatterpolargl": [
           {
            "marker": {
             "colorbar": {
              "outlinewidth": 0,
              "ticks": ""
             }
            },
            "type": "scatterpolargl"
           }
          ],
          "scatterternary": [
           {
            "marker": {
             "colorbar": {
              "outlinewidth": 0,
              "ticks": ""
             }
            },
            "type": "scatterternary"
           }
          ],
          "surface": [
           {
            "colorbar": {
             "outlinewidth": 0,
             "ticks": ""
            },
            "colorscale": [
             [
              0,
              "#0d0887"
             ],
             [
              0.1111111111111111,
              "#46039f"
             ],
             [
              0.2222222222222222,
              "#7201a8"
             ],
             [
              0.3333333333333333,
              "#9c179e"
             ],
             [
              0.4444444444444444,
              "#bd3786"
             ],
             [
              0.5555555555555556,
              "#d8576b"
             ],
             [
              0.6666666666666666,
              "#ed7953"
             ],
             [
              0.7777777777777778,
              "#fb9f3a"
             ],
             [
              0.8888888888888888,
              "#fdca26"
             ],
             [
              1,
              "#f0f921"
             ]
            ],
            "type": "surface"
           }
          ],
          "table": [
           {
            "cells": {
             "fill": {
              "color": "#EBF0F8"
             },
             "line": {
              "color": "white"
             }
            },
            "header": {
             "fill": {
              "color": "#C8D4E3"
             },
             "line": {
              "color": "white"
             }
            },
            "type": "table"
           }
          ]
         },
         "layout": {
          "annotationdefaults": {
           "arrowcolor": "#2a3f5f",
           "arrowhead": 0,
           "arrowwidth": 1
          },
          "autotypenumbers": "strict",
          "coloraxis": {
           "colorbar": {
            "outlinewidth": 0,
            "ticks": ""
           }
          },
          "colorscale": {
           "diverging": [
            [
             0,
             "#8e0152"
            ],
            [
             0.1,
             "#c51b7d"
            ],
            [
             0.2,
             "#de77ae"
            ],
            [
             0.3,
             "#f1b6da"
            ],
            [
             0.4,
             "#fde0ef"
            ],
            [
             0.5,
             "#f7f7f7"
            ],
            [
             0.6,
             "#e6f5d0"
            ],
            [
             0.7,
             "#b8e186"
            ],
            [
             0.8,
             "#7fbc41"
            ],
            [
             0.9,
             "#4d9221"
            ],
            [
             1,
             "#276419"
            ]
           ],
           "sequential": [
            [
             0,
             "#0d0887"
            ],
            [
             0.1111111111111111,
             "#46039f"
            ],
            [
             0.2222222222222222,
             "#7201a8"
            ],
            [
             0.3333333333333333,
             "#9c179e"
            ],
            [
             0.4444444444444444,
             "#bd3786"
            ],
            [
             0.5555555555555556,
             "#d8576b"
            ],
            [
             0.6666666666666666,
             "#ed7953"
            ],
            [
             0.7777777777777778,
             "#fb9f3a"
            ],
            [
             0.8888888888888888,
             "#fdca26"
            ],
            [
             1,
             "#f0f921"
            ]
           ],
           "sequentialminus": [
            [
             0,
             "#0d0887"
            ],
            [
             0.1111111111111111,
             "#46039f"
            ],
            [
             0.2222222222222222,
             "#7201a8"
            ],
            [
             0.3333333333333333,
             "#9c179e"
            ],
            [
             0.4444444444444444,
             "#bd3786"
            ],
            [
             0.5555555555555556,
             "#d8576b"
            ],
            [
             0.6666666666666666,
             "#ed7953"
            ],
            [
             0.7777777777777778,
             "#fb9f3a"
            ],
            [
             0.8888888888888888,
             "#fdca26"
            ],
            [
             1,
             "#f0f921"
            ]
           ]
          },
          "colorway": [
           "#636efa",
           "#EF553B",
           "#00cc96",
           "#ab63fa",
           "#FFA15A",
           "#19d3f3",
           "#FF6692",
           "#B6E880",
           "#FF97FF",
           "#FECB52"
          ],
          "font": {
           "color": "#2a3f5f"
          },
          "geo": {
           "bgcolor": "white",
           "lakecolor": "white",
           "landcolor": "#E5ECF6",
           "showlakes": true,
           "showland": true,
           "subunitcolor": "white"
          },
          "hoverlabel": {
           "align": "left"
          },
          "hovermode": "closest",
          "mapbox": {
           "style": "light"
          },
          "paper_bgcolor": "white",
          "plot_bgcolor": "#E5ECF6",
          "polar": {
           "angularaxis": {
            "gridcolor": "white",
            "linecolor": "white",
            "ticks": ""
           },
           "bgcolor": "#E5ECF6",
           "radialaxis": {
            "gridcolor": "white",
            "linecolor": "white",
            "ticks": ""
           }
          },
          "scene": {
           "xaxis": {
            "backgroundcolor": "#E5ECF6",
            "gridcolor": "white",
            "gridwidth": 2,
            "linecolor": "white",
            "showbackground": true,
            "ticks": "",
            "zerolinecolor": "white"
           },
           "yaxis": {
            "backgroundcolor": "#E5ECF6",
            "gridcolor": "white",
            "gridwidth": 2,
            "linecolor": "white",
            "showbackground": true,
            "ticks": "",
            "zerolinecolor": "white"
           },
           "zaxis": {
            "backgroundcolor": "#E5ECF6",
            "gridcolor": "white",
            "gridwidth": 2,
            "linecolor": "white",
            "showbackground": true,
            "ticks": "",
            "zerolinecolor": "white"
           }
          },
          "shapedefaults": {
           "line": {
            "color": "#2a3f5f"
           }
          },
          "ternary": {
           "aaxis": {
            "gridcolor": "white",
            "linecolor": "white",
            "ticks": ""
           },
           "baxis": {
            "gridcolor": "white",
            "linecolor": "white",
            "ticks": ""
           },
           "bgcolor": "#E5ECF6",
           "caxis": {
            "gridcolor": "white",
            "linecolor": "white",
            "ticks": ""
           }
          },
          "title": {
           "x": 0.05
          },
          "xaxis": {
           "automargin": true,
           "gridcolor": "white",
           "linecolor": "white",
           "ticks": "",
           "title": {
            "standoff": 15
           },
           "zerolinecolor": "white",
           "zerolinewidth": 2
          },
          "yaxis": {
           "automargin": true,
           "gridcolor": "white",
           "linecolor": "white",
           "ticks": "",
           "title": {
            "standoff": 15
           },
           "zerolinecolor": "white",
           "zerolinewidth": 2
          }
         }
        },
        "xaxis": {
         "anchor": "y",
         "domain": [
          0,
          1
         ],
         "title": {
          "text": "Date"
         }
        },
        "yaxis": {
         "anchor": "x",
         "domain": [
          0,
          1
         ],
         "title": {
          "text": "Interest Rate"
         }
        }
       }
      },
      "text/html": [
       "<div>                            <div id=\"a7da506f-530b-4146-9617-6e0528f5bb6a\" class=\"plotly-graph-div\" style=\"height:525px; width:100%;\"></div>            <script type=\"text/javascript\">                require([\"plotly\"], function(Plotly) {                    window.PLOTLYENV=window.PLOTLYENV || {};                                    if (document.getElementById(\"a7da506f-530b-4146-9617-6e0528f5bb6a\")) {                    Plotly.newPlot(                        \"a7da506f-530b-4146-9617-6e0528f5bb6a\",                        [{\"hovertemplate\":\"Maturity=2 Years<br>Date=%{x}<br>Interest Rate=%{y}<extra></extra>\",\"legendgroup\":\"2 Years\",\"line\":{\"color\":\"#636efa\",\"dash\":\"solid\"},\"marker\":{\"symbol\":\"circle\"},\"mode\":\"lines\",\"name\":\"2 Years\",\"orientation\":\"v\",\"showlegend\":true,\"x\":[\"2022-01-31T00:00:00\",\"2022-02-28T00:00:00\",\"2022-03-31T00:00:00\",\"2022-04-30T00:00:00\",\"2022-05-31T00:00:00\",\"2022-06-30T00:00:00\",\"2022-07-31T00:00:00\",\"2022-08-31T00:00:00\",\"2022-09-30T00:00:00\",\"2022-10-31T00:00:00\",\"2022-11-30T00:00:00\",\"2022-12-31T00:00:00\",\"2023-01-31T00:00:00\",\"2023-02-28T00:00:00\",\"2023-03-31T00:00:00\",\"2023-04-30T00:00:00\",\"2023-05-31T00:00:00\",\"2023-06-30T00:00:00\",\"2023-07-31T00:00:00\"],\"xaxis\":\"x\",\"y\":[1.31,1.85,2.46,3.0,3.18,3.61,3.66,3.81,4.5,5.13,5.14,4.89,4.81,5.07,5.05,4.78,4.94,5.36,5.47],\"yaxis\":\"y\",\"type\":\"scatter\"},{\"hovertemplate\":\"Maturity=5 Years<br>Date=%{x}<br>Interest Rate=%{y}<extra></extra>\",\"legendgroup\":\"5 Years\",\"line\":{\"color\":\"#EF553B\",\"dash\":\"solid\"},\"marker\":{\"symbol\":\"circle\"},\"mode\":\"lines\",\"name\":\"5 Years\",\"orientation\":\"v\",\"showlegend\":true,\"x\":[\"2022-01-31T00:00:00\",\"2022-02-28T00:00:00\",\"2022-03-31T00:00:00\",\"2022-04-30T00:00:00\",\"2022-05-31T00:00:00\",\"2022-06-30T00:00:00\",\"2022-07-31T00:00:00\",\"2022-08-31T00:00:00\",\"2022-09-30T00:00:00\",\"2022-10-31T00:00:00\",\"2022-11-30T00:00:00\",\"2022-12-31T00:00:00\",\"2023-01-31T00:00:00\",\"2023-02-28T00:00:00\",\"2023-03-31T00:00:00\",\"2023-04-30T00:00:00\",\"2023-05-31T00:00:00\",\"2023-06-30T00:00:00\",\"2023-07-31T00:00:00\"],\"xaxis\":\"x\",\"y\":[1.98,2.37,2.85,3.51,3.75,4.1,3.95,3.99,4.69,5.29,5.1,4.76,4.61,4.83,4.88,4.6,4.71,4.98,5.07],\"yaxis\":\"y\",\"type\":\"scatter\"},{\"hovertemplate\":\"Maturity=10 Years<br>Date=%{x}<br>Interest Rate=%{y}<extra></extra>\",\"legendgroup\":\"10 Years\",\"line\":{\"color\":\"#00cc96\",\"dash\":\"solid\"},\"marker\":{\"symbol\":\"circle\"},\"mode\":\"lines\",\"name\":\"10 Years\",\"orientation\":\"v\",\"showlegend\":true,\"x\":[\"2022-01-31T00:00:00\",\"2022-02-28T00:00:00\",\"2022-03-31T00:00:00\",\"2022-04-30T00:00:00\",\"2022-05-31T00:00:00\",\"2022-06-30T00:00:00\",\"2022-07-31T00:00:00\",\"2022-08-31T00:00:00\",\"2022-09-30T00:00:00\",\"2022-10-31T00:00:00\",\"2022-11-30T00:00:00\",\"2022-12-31T00:00:00\",\"2023-01-31T00:00:00\",\"2023-02-28T00:00:00\",\"2023-03-31T00:00:00\",\"2023-04-30T00:00:00\",\"2023-05-31T00:00:00\",\"2023-06-30T00:00:00\",\"2023-07-31T00:00:00\"],\"xaxis\":\"x\",\"y\":[2.84,3.15,3.52,4.1,4.43,4.68,4.52,4.49,5.18,5.73,5.52,5.11,4.93,5.09,5.14,4.88,5.04,5.19,5.26],\"yaxis\":\"y\",\"type\":\"scatter\"},{\"hovertemplate\":\"Maturity=30 Years<br>Date=%{x}<br>Interest Rate=%{y}<extra></extra>\",\"legendgroup\":\"30 Years\",\"line\":{\"color\":\"#ab63fa\",\"dash\":\"solid\"},\"marker\":{\"symbol\":\"circle\"},\"mode\":\"lines\",\"name\":\"30 Years\",\"orientation\":\"v\",\"showlegend\":true,\"x\":[\"2022-01-31T00:00:00\",\"2022-02-28T00:00:00\",\"2022-03-31T00:00:00\",\"2022-04-30T00:00:00\",\"2022-05-31T00:00:00\",\"2022-06-30T00:00:00\",\"2022-07-31T00:00:00\",\"2022-08-31T00:00:00\",\"2022-09-30T00:00:00\",\"2022-10-31T00:00:00\",\"2022-11-30T00:00:00\",\"2022-12-31T00:00:00\",\"2023-01-31T00:00:00\",\"2023-02-28T00:00:00\",\"2023-03-31T00:00:00\",\"2023-04-30T00:00:00\",\"2023-05-31T00:00:00\",\"2023-06-30T00:00:00\",\"2023-07-31T00:00:00\"],\"xaxis\":\"x\",\"y\":[3.26,3.59,3.87,4.2,4.65,4.8,4.71,4.67,5.17,5.76,5.52,5.01,4.92,5.05,5.18,5.06,5.26,5.21,5.2],\"yaxis\":\"y\",\"type\":\"scatter\"}],                        {\"template\":{\"data\":{\"histogram2dcontour\":[{\"type\":\"histogram2dcontour\",\"colorbar\":{\"outlinewidth\":0,\"ticks\":\"\"},\"colorscale\":[[0.0,\"#0d0887\"],[0.1111111111111111,\"#46039f\"],[0.2222222222222222,\"#7201a8\"],[0.3333333333333333,\"#9c179e\"],[0.4444444444444444,\"#bd3786\"],[0.5555555555555556,\"#d8576b\"],[0.6666666666666666,\"#ed7953\"],[0.7777777777777778,\"#fb9f3a\"],[0.8888888888888888,\"#fdca26\"],[1.0,\"#f0f921\"]]}],\"choropleth\":[{\"type\":\"choropleth\",\"colorbar\":{\"outlinewidth\":0,\"ticks\":\"\"}}],\"histogram2d\":[{\"type\":\"histogram2d\",\"colorbar\":{\"outlinewidth\":0,\"ticks\":\"\"},\"colorscale\":[[0.0,\"#0d0887\"],[0.1111111111111111,\"#46039f\"],[0.2222222222222222,\"#7201a8\"],[0.3333333333333333,\"#9c179e\"],[0.4444444444444444,\"#bd3786\"],[0.5555555555555556,\"#d8576b\"],[0.6666666666666666,\"#ed7953\"],[0.7777777777777778,\"#fb9f3a\"],[0.8888888888888888,\"#fdca26\"],[1.0,\"#f0f921\"]]}],\"heatmap\":[{\"type\":\"heatmap\",\"colorbar\":{\"outlinewidth\":0,\"ticks\":\"\"},\"colorscale\":[[0.0,\"#0d0887\"],[0.1111111111111111,\"#46039f\"],[0.2222222222222222,\"#7201a8\"],[0.3333333333333333,\"#9c179e\"],[0.4444444444444444,\"#bd3786\"],[0.5555555555555556,\"#d8576b\"],[0.6666666666666666,\"#ed7953\"],[0.7777777777777778,\"#fb9f3a\"],[0.8888888888888888,\"#fdca26\"],[1.0,\"#f0f921\"]]}],\"heatmapgl\":[{\"type\":\"heatmapgl\",\"colorbar\":{\"outlinewidth\":0,\"ticks\":\"\"},\"colorscale\":[[0.0,\"#0d0887\"],[0.1111111111111111,\"#46039f\"],[0.2222222222222222,\"#7201a8\"],[0.3333333333333333,\"#9c179e\"],[0.4444444444444444,\"#bd3786\"],[0.5555555555555556,\"#d8576b\"],[0.6666666666666666,\"#ed7953\"],[0.7777777777777778,\"#fb9f3a\"],[0.8888888888888888,\"#fdca26\"],[1.0,\"#f0f921\"]]}],\"contourcarpet\":[{\"type\":\"contourcarpet\",\"colorbar\":{\"outlinewidth\":0,\"ticks\":\"\"}}],\"contour\":[{\"type\":\"contour\",\"colorbar\":{\"outlinewidth\":0,\"ticks\":\"\"},\"colorscale\":[[0.0,\"#0d0887\"],[0.1111111111111111,\"#46039f\"],[0.2222222222222222,\"#7201a8\"],[0.3333333333333333,\"#9c179e\"],[0.4444444444444444,\"#bd3786\"],[0.5555555555555556,\"#d8576b\"],[0.6666666666666666,\"#ed7953\"],[0.7777777777777778,\"#fb9f3a\"],[0.8888888888888888,\"#fdca26\"],[1.0,\"#f0f921\"]]}],\"surface\":[{\"type\":\"surface\",\"colorbar\":{\"outlinewidth\":0,\"ticks\":\"\"},\"colorscale\":[[0.0,\"#0d0887\"],[0.1111111111111111,\"#46039f\"],[0.2222222222222222,\"#7201a8\"],[0.3333333333333333,\"#9c179e\"],[0.4444444444444444,\"#bd3786\"],[0.5555555555555556,\"#d8576b\"],[0.6666666666666666,\"#ed7953\"],[0.7777777777777778,\"#fb9f3a\"],[0.8888888888888888,\"#fdca26\"],[1.0,\"#f0f921\"]]}],\"mesh3d\":[{\"type\":\"mesh3d\",\"colorbar\":{\"outlinewidth\":0,\"ticks\":\"\"}}],\"scatter\":[{\"fillpattern\":{\"fillmode\":\"overlay\",\"size\":10,\"solidity\":0.2},\"type\":\"scatter\"}],\"parcoords\":[{\"type\":\"parcoords\",\"line\":{\"colorbar\":{\"outlinewidth\":0,\"ticks\":\"\"}}}],\"scatterpolargl\":[{\"type\":\"scatterpolargl\",\"marker\":{\"colorbar\":{\"outlinewidth\":0,\"ticks\":\"\"}}}],\"bar\":[{\"error_x\":{\"color\":\"#2a3f5f\"},\"error_y\":{\"color\":\"#2a3f5f\"},\"marker\":{\"line\":{\"color\":\"#E5ECF6\",\"width\":0.5},\"pattern\":{\"fillmode\":\"overlay\",\"size\":10,\"solidity\":0.2}},\"type\":\"bar\"}],\"scattergeo\":[{\"type\":\"scattergeo\",\"marker\":{\"colorbar\":{\"outlinewidth\":0,\"ticks\":\"\"}}}],\"scatterpolar\":[{\"type\":\"scatterpolar\",\"marker\":{\"colorbar\":{\"outlinewidth\":0,\"ticks\":\"\"}}}],\"histogram\":[{\"marker\":{\"pattern\":{\"fillmode\":\"overlay\",\"size\":10,\"solidity\":0.2}},\"type\":\"histogram\"}],\"scattergl\":[{\"type\":\"scattergl\",\"marker\":{\"colorbar\":{\"outlinewidth\":0,\"ticks\":\"\"}}}],\"scatter3d\":[{\"type\":\"scatter3d\",\"line\":{\"colorbar\":{\"outlinewidth\":0,\"ticks\":\"\"}},\"marker\":{\"colorbar\":{\"outlinewidth\":0,\"ticks\":\"\"}}}],\"scattermapbox\":[{\"type\":\"scattermapbox\",\"marker\":{\"colorbar\":{\"outlinewidth\":0,\"ticks\":\"\"}}}],\"scatterternary\":[{\"type\":\"scatterternary\",\"marker\":{\"colorbar\":{\"outlinewidth\":0,\"ticks\":\"\"}}}],\"scattercarpet\":[{\"type\":\"scattercarpet\",\"marker\":{\"colorbar\":{\"outlinewidth\":0,\"ticks\":\"\"}}}],\"carpet\":[{\"aaxis\":{\"endlinecolor\":\"#2a3f5f\",\"gridcolor\":\"white\",\"linecolor\":\"white\",\"minorgridcolor\":\"white\",\"startlinecolor\":\"#2a3f5f\"},\"baxis\":{\"endlinecolor\":\"#2a3f5f\",\"gridcolor\":\"white\",\"linecolor\":\"white\",\"minorgridcolor\":\"white\",\"startlinecolor\":\"#2a3f5f\"},\"type\":\"carpet\"}],\"table\":[{\"cells\":{\"fill\":{\"color\":\"#EBF0F8\"},\"line\":{\"color\":\"white\"}},\"header\":{\"fill\":{\"color\":\"#C8D4E3\"},\"line\":{\"color\":\"white\"}},\"type\":\"table\"}],\"barpolar\":[{\"marker\":{\"line\":{\"color\":\"#E5ECF6\",\"width\":0.5},\"pattern\":{\"fillmode\":\"overlay\",\"size\":10,\"solidity\":0.2}},\"type\":\"barpolar\"}],\"pie\":[{\"automargin\":true,\"type\":\"pie\"}]},\"layout\":{\"autotypenumbers\":\"strict\",\"colorway\":[\"#636efa\",\"#EF553B\",\"#00cc96\",\"#ab63fa\",\"#FFA15A\",\"#19d3f3\",\"#FF6692\",\"#B6E880\",\"#FF97FF\",\"#FECB52\"],\"font\":{\"color\":\"#2a3f5f\"},\"hovermode\":\"closest\",\"hoverlabel\":{\"align\":\"left\"},\"paper_bgcolor\":\"white\",\"plot_bgcolor\":\"#E5ECF6\",\"polar\":{\"bgcolor\":\"#E5ECF6\",\"angularaxis\":{\"gridcolor\":\"white\",\"linecolor\":\"white\",\"ticks\":\"\"},\"radialaxis\":{\"gridcolor\":\"white\",\"linecolor\":\"white\",\"ticks\":\"\"}},\"ternary\":{\"bgcolor\":\"#E5ECF6\",\"aaxis\":{\"gridcolor\":\"white\",\"linecolor\":\"white\",\"ticks\":\"\"},\"baxis\":{\"gridcolor\":\"white\",\"linecolor\":\"white\",\"ticks\":\"\"},\"caxis\":{\"gridcolor\":\"white\",\"linecolor\":\"white\",\"ticks\":\"\"}},\"coloraxis\":{\"colorbar\":{\"outlinewidth\":0,\"ticks\":\"\"}},\"colorscale\":{\"sequential\":[[0.0,\"#0d0887\"],[0.1111111111111111,\"#46039f\"],[0.2222222222222222,\"#7201a8\"],[0.3333333333333333,\"#9c179e\"],[0.4444444444444444,\"#bd3786\"],[0.5555555555555556,\"#d8576b\"],[0.6666666666666666,\"#ed7953\"],[0.7777777777777778,\"#fb9f3a\"],[0.8888888888888888,\"#fdca26\"],[1.0,\"#f0f921\"]],\"sequentialminus\":[[0.0,\"#0d0887\"],[0.1111111111111111,\"#46039f\"],[0.2222222222222222,\"#7201a8\"],[0.3333333333333333,\"#9c179e\"],[0.4444444444444444,\"#bd3786\"],[0.5555555555555556,\"#d8576b\"],[0.6666666666666666,\"#ed7953\"],[0.7777777777777778,\"#fb9f3a\"],[0.8888888888888888,\"#fdca26\"],[1.0,\"#f0f921\"]],\"diverging\":[[0,\"#8e0152\"],[0.1,\"#c51b7d\"],[0.2,\"#de77ae\"],[0.3,\"#f1b6da\"],[0.4,\"#fde0ef\"],[0.5,\"#f7f7f7\"],[0.6,\"#e6f5d0\"],[0.7,\"#b8e186\"],[0.8,\"#7fbc41\"],[0.9,\"#4d9221\"],[1,\"#276419\"]]},\"xaxis\":{\"gridcolor\":\"white\",\"linecolor\":\"white\",\"ticks\":\"\",\"title\":{\"standoff\":15},\"zerolinecolor\":\"white\",\"automargin\":true,\"zerolinewidth\":2},\"yaxis\":{\"gridcolor\":\"white\",\"linecolor\":\"white\",\"ticks\":\"\",\"title\":{\"standoff\":15},\"zerolinecolor\":\"white\",\"automargin\":true,\"zerolinewidth\":2},\"scene\":{\"xaxis\":{\"backgroundcolor\":\"#E5ECF6\",\"gridcolor\":\"white\",\"linecolor\":\"white\",\"showbackground\":true,\"ticks\":\"\",\"zerolinecolor\":\"white\",\"gridwidth\":2},\"yaxis\":{\"backgroundcolor\":\"#E5ECF6\",\"gridcolor\":\"white\",\"linecolor\":\"white\",\"showbackground\":true,\"ticks\":\"\",\"zerolinecolor\":\"white\",\"gridwidth\":2},\"zaxis\":{\"backgroundcolor\":\"#E5ECF6\",\"gridcolor\":\"white\",\"linecolor\":\"white\",\"showbackground\":true,\"ticks\":\"\",\"zerolinecolor\":\"white\",\"gridwidth\":2}},\"shapedefaults\":{\"line\":{\"color\":\"#2a3f5f\"}},\"annotationdefaults\":{\"arrowcolor\":\"#2a3f5f\",\"arrowhead\":0,\"arrowwidth\":1},\"geo\":{\"bgcolor\":\"white\",\"landcolor\":\"#E5ECF6\",\"subunitcolor\":\"white\",\"showland\":true,\"showlakes\":true,\"lakecolor\":\"white\"},\"title\":{\"x\":0.05},\"mapbox\":{\"style\":\"light\"}}},\"xaxis\":{\"anchor\":\"y\",\"domain\":[0.0,1.0],\"title\":{\"text\":\"Date\"}},\"yaxis\":{\"anchor\":\"x\",\"domain\":[0.0,1.0],\"title\":{\"text\":\"Interest Rate\"}},\"legend\":{\"title\":{\"text\":\"Maturity\"},\"tracegroupgap\":0},\"margin\":{\"t\":60}},                        {\"responsive\": true}                    ).then(function(){\n",
       "                            \n",
       "var gd = document.getElementById('a7da506f-530b-4146-9617-6e0528f5bb6a');\n",
       "var x = new MutationObserver(function (mutations, observer) {{\n",
       "        var display = window.getComputedStyle(gd).display;\n",
       "        if (!display || display === 'none') {{\n",
       "            console.log([gd, 'removed!']);\n",
       "            Plotly.purge(gd);\n",
       "            observer.disconnect();\n",
       "        }}\n",
       "}});\n",
       "\n",
       "// Listen for the removal of the full notebook cells\n",
       "var notebookContainer = gd.closest('#notebook-container');\n",
       "if (notebookContainer) {{\n",
       "    x.observe(notebookContainer, {childList: true});\n",
       "}}\n",
       "\n",
       "// Listen for the clearing of the current output cell\n",
       "var outputEl = gd.closest('.output');\n",
       "if (outputEl) {{\n",
       "    x.observe(outputEl, {childList: true});\n",
       "}}\n",
       "\n",
       "                        })                };                });            </script>        </div>"
      ]
     },
     "metadata": {},
     "output_type": "display_data"
    }
   ],
   "source": [
    "import plotly.express as px\n",
    "plot_df = corporate_rates.loc[\"2022\":,rates ]\n",
    "\n",
    "fig = px.line(plot_df, x = plot_df.index, y = plot_df.keys(), labels = {\"variable\":\"Maturity\",\n",
    "                                                                       \"value\" : \"Interest Rate\"})\n",
    "fig.show()\n",
    "fig.write_html(\"AAAYieldCurve.html\")"
   ]
  },
  {
   "cell_type": "code",
   "execution_count": 10,
   "metadata": {},
   "outputs": [],
   "source": [
    "for key in corporate_rates:\n",
    "    data[key[:-1] + \" AAA Rate\"] = corporate_rates[key]\n",
    "    \n",
    "AAA_rates = [rate + \" AAA Rate\" for rate in rates]\n",
    "UST_rates = [rate + \" Treasury Rate\" for rate in rates]"
   ]
  },
  {
   "cell_type": "code",
   "execution_count": 11,
   "metadata": {},
   "outputs": [
    {
     "ename": "KeyError",
     "evalue": "\"['2 Years Treasury Rate', '5 Years Treasury Rate', '10 Years Treasury Rate', '30 Years Treasury Rate', '2 Years AAA Rate', '5 Years AAA Rate', '10 Years AAA Rate', '30 Years AAA Rate'] not in index\"",
     "output_type": "error",
     "traceback": [
      "\u001b[1;31m---------------------------------------------------------------------------\u001b[0m",
      "\u001b[1;31mKeyError\u001b[0m                                  Traceback (most recent call last)",
      "\u001b[1;32m~\\AppData\\Local\\Temp\\ipykernel_21964\\2882655445.py\u001b[0m in \u001b[0;36m<module>\u001b[1;34m\u001b[0m\n\u001b[1;32m----> 1\u001b[1;33m \u001b[0mrate_data\u001b[0m \u001b[1;33m=\u001b[0m \u001b[0mdata\u001b[0m\u001b[1;33m[\u001b[0m\u001b[0mUST_rates\u001b[0m \u001b[1;33m+\u001b[0m \u001b[0mAAA_rates\u001b[0m \u001b[1;33m+\u001b[0m \u001b[1;33m[\u001b[0m\u001b[1;34m\"Federal Funds Rate\"\u001b[0m\u001b[1;33m]\u001b[0m\u001b[1;33m]\u001b[0m\u001b[1;33m\u001b[0m\u001b[1;33m\u001b[0m\u001b[0m\n\u001b[0m\u001b[0;32m      2\u001b[0m \u001b[0mrate_diffs\u001b[0m \u001b[1;33m=\u001b[0m \u001b[1;33m[\u001b[0m\u001b[0mrate\u001b[0m \u001b[1;33m+\u001b[0m \u001b[1;34m\" Rate Diff\"\u001b[0m \u001b[1;32mfor\u001b[0m \u001b[0mrate\u001b[0m \u001b[1;32min\u001b[0m \u001b[0mrates\u001b[0m\u001b[1;33m]\u001b[0m\u001b[1;33m\u001b[0m\u001b[1;33m\u001b[0m\u001b[0m\n\u001b[0;32m      3\u001b[0m \u001b[1;32mfor\u001b[0m \u001b[0mi\u001b[0m \u001b[1;32min\u001b[0m \u001b[0mrange\u001b[0m\u001b[1;33m(\u001b[0m\u001b[0mlen\u001b[0m\u001b[1;33m(\u001b[0m\u001b[0mrates\u001b[0m\u001b[1;33m)\u001b[0m\u001b[1;33m)\u001b[0m\u001b[1;33m:\u001b[0m\u001b[1;33m\u001b[0m\u001b[1;33m\u001b[0m\u001b[0m\n\u001b[0;32m      4\u001b[0m     \u001b[0mrate\u001b[0m \u001b[1;33m=\u001b[0m \u001b[0mrates\u001b[0m\u001b[1;33m[\u001b[0m\u001b[0mi\u001b[0m\u001b[1;33m]\u001b[0m\u001b[1;33m\u001b[0m\u001b[1;33m\u001b[0m\u001b[0m\n\u001b[0;32m      5\u001b[0m     \u001b[0mAAA_rate\u001b[0m \u001b[1;33m=\u001b[0m \u001b[0mAAA_rates\u001b[0m\u001b[1;33m[\u001b[0m\u001b[0mi\u001b[0m\u001b[1;33m]\u001b[0m\u001b[1;33m\u001b[0m\u001b[1;33m\u001b[0m\u001b[0m\n",
      "\u001b[1;32mC:\\ProgramData\\Anaconda3\\lib\\site-packages\\pandas\\core\\frame.py\u001b[0m in \u001b[0;36m__getitem__\u001b[1;34m(self, key)\u001b[0m\n\u001b[0;32m   3509\u001b[0m             \u001b[1;32mif\u001b[0m \u001b[0mis_iterator\u001b[0m\u001b[1;33m(\u001b[0m\u001b[0mkey\u001b[0m\u001b[1;33m)\u001b[0m\u001b[1;33m:\u001b[0m\u001b[1;33m\u001b[0m\u001b[1;33m\u001b[0m\u001b[0m\n\u001b[0;32m   3510\u001b[0m                 \u001b[0mkey\u001b[0m \u001b[1;33m=\u001b[0m \u001b[0mlist\u001b[0m\u001b[1;33m(\u001b[0m\u001b[0mkey\u001b[0m\u001b[1;33m)\u001b[0m\u001b[1;33m\u001b[0m\u001b[1;33m\u001b[0m\u001b[0m\n\u001b[1;32m-> 3511\u001b[1;33m             \u001b[0mindexer\u001b[0m \u001b[1;33m=\u001b[0m \u001b[0mself\u001b[0m\u001b[1;33m.\u001b[0m\u001b[0mcolumns\u001b[0m\u001b[1;33m.\u001b[0m\u001b[0m_get_indexer_strict\u001b[0m\u001b[1;33m(\u001b[0m\u001b[0mkey\u001b[0m\u001b[1;33m,\u001b[0m \u001b[1;34m\"columns\"\u001b[0m\u001b[1;33m)\u001b[0m\u001b[1;33m[\u001b[0m\u001b[1;36m1\u001b[0m\u001b[1;33m]\u001b[0m\u001b[1;33m\u001b[0m\u001b[1;33m\u001b[0m\u001b[0m\n\u001b[0m\u001b[0;32m   3512\u001b[0m \u001b[1;33m\u001b[0m\u001b[0m\n\u001b[0;32m   3513\u001b[0m         \u001b[1;31m# take() does not accept boolean indexers\u001b[0m\u001b[1;33m\u001b[0m\u001b[1;33m\u001b[0m\u001b[0m\n",
      "\u001b[1;32mC:\\ProgramData\\Anaconda3\\lib\\site-packages\\pandas\\core\\indexes\\base.py\u001b[0m in \u001b[0;36m_get_indexer_strict\u001b[1;34m(self, key, axis_name)\u001b[0m\n\u001b[0;32m   5794\u001b[0m             \u001b[0mkeyarr\u001b[0m\u001b[1;33m,\u001b[0m \u001b[0mindexer\u001b[0m\u001b[1;33m,\u001b[0m \u001b[0mnew_indexer\u001b[0m \u001b[1;33m=\u001b[0m \u001b[0mself\u001b[0m\u001b[1;33m.\u001b[0m\u001b[0m_reindex_non_unique\u001b[0m\u001b[1;33m(\u001b[0m\u001b[0mkeyarr\u001b[0m\u001b[1;33m)\u001b[0m\u001b[1;33m\u001b[0m\u001b[1;33m\u001b[0m\u001b[0m\n\u001b[0;32m   5795\u001b[0m \u001b[1;33m\u001b[0m\u001b[0m\n\u001b[1;32m-> 5796\u001b[1;33m         \u001b[0mself\u001b[0m\u001b[1;33m.\u001b[0m\u001b[0m_raise_if_missing\u001b[0m\u001b[1;33m(\u001b[0m\u001b[0mkeyarr\u001b[0m\u001b[1;33m,\u001b[0m \u001b[0mindexer\u001b[0m\u001b[1;33m,\u001b[0m \u001b[0maxis_name\u001b[0m\u001b[1;33m)\u001b[0m\u001b[1;33m\u001b[0m\u001b[1;33m\u001b[0m\u001b[0m\n\u001b[0m\u001b[0;32m   5797\u001b[0m \u001b[1;33m\u001b[0m\u001b[0m\n\u001b[0;32m   5798\u001b[0m         \u001b[0mkeyarr\u001b[0m \u001b[1;33m=\u001b[0m \u001b[0mself\u001b[0m\u001b[1;33m.\u001b[0m\u001b[0mtake\u001b[0m\u001b[1;33m(\u001b[0m\u001b[0mindexer\u001b[0m\u001b[1;33m)\u001b[0m\u001b[1;33m\u001b[0m\u001b[1;33m\u001b[0m\u001b[0m\n",
      "\u001b[1;32mC:\\ProgramData\\Anaconda3\\lib\\site-packages\\pandas\\core\\indexes\\base.py\u001b[0m in \u001b[0;36m_raise_if_missing\u001b[1;34m(self, key, indexer, axis_name)\u001b[0m\n\u001b[0;32m   5857\u001b[0m \u001b[1;33m\u001b[0m\u001b[0m\n\u001b[0;32m   5858\u001b[0m             \u001b[0mnot_found\u001b[0m \u001b[1;33m=\u001b[0m \u001b[0mlist\u001b[0m\u001b[1;33m(\u001b[0m\u001b[0mensure_index\u001b[0m\u001b[1;33m(\u001b[0m\u001b[0mkey\u001b[0m\u001b[1;33m)\u001b[0m\u001b[1;33m[\u001b[0m\u001b[0mmissing_mask\u001b[0m\u001b[1;33m.\u001b[0m\u001b[0mnonzero\u001b[0m\u001b[1;33m(\u001b[0m\u001b[1;33m)\u001b[0m\u001b[1;33m[\u001b[0m\u001b[1;36m0\u001b[0m\u001b[1;33m]\u001b[0m\u001b[1;33m]\u001b[0m\u001b[1;33m.\u001b[0m\u001b[0munique\u001b[0m\u001b[1;33m(\u001b[0m\u001b[1;33m)\u001b[0m\u001b[1;33m)\u001b[0m\u001b[1;33m\u001b[0m\u001b[1;33m\u001b[0m\u001b[0m\n\u001b[1;32m-> 5859\u001b[1;33m             \u001b[1;32mraise\u001b[0m \u001b[0mKeyError\u001b[0m\u001b[1;33m(\u001b[0m\u001b[1;34mf\"{not_found} not in index\"\u001b[0m\u001b[1;33m)\u001b[0m\u001b[1;33m\u001b[0m\u001b[1;33m\u001b[0m\u001b[0m\n\u001b[0m\u001b[0;32m   5860\u001b[0m \u001b[1;33m\u001b[0m\u001b[0m\n\u001b[0;32m   5861\u001b[0m     \u001b[1;33m@\u001b[0m\u001b[0moverload\u001b[0m\u001b[1;33m\u001b[0m\u001b[1;33m\u001b[0m\u001b[0m\n",
      "\u001b[1;31mKeyError\u001b[0m: \"['2 Years Treasury Rate', '5 Years Treasury Rate', '10 Years Treasury Rate', '30 Years Treasury Rate', '2 Years AAA Rate', '5 Years AAA Rate', '10 Years AAA Rate', '30 Years AAA Rate'] not in index\""
     ]
    }
   ],
   "source": [
    "rate_data = data[UST_rates + AAA_rates + [\"Federal Funds Rate\"]]\n",
    "rate_diffs = [rate + \" Rate Diff\" for rate in rates]\n",
    "for i in range(len(rates)):\n",
    "    rate = rates[i]\n",
    "    AAA_rate = AAA_rates[i]\n",
    "    UST_rate = UST_rates[i]\n",
    "    rate_diff = rate_diffs[i]\n",
    "    rate_data[rate] = rate_data[AAA_rate].sub(rate_data[UST_rate])\n",
    "rate_data.dropna(inplace= True)\n",
    "delta_rate_data = rate_data.diff(12)\n",
    "rate_data[\"Year\"] = rate_data.index\n",
    "delta_rate_data[\"Year\"] = delta_rate_data.index"
   ]
  },
  {
   "cell_type": "code",
   "execution_count": 12,
   "metadata": {},
   "outputs": [
    {
     "ename": "NameError",
     "evalue": "name 'rate_data' is not defined",
     "output_type": "error",
     "traceback": [
      "\u001b[1;31m---------------------------------------------------------------------------\u001b[0m",
      "\u001b[1;31mNameError\u001b[0m                                 Traceback (most recent call last)",
      "\u001b[1;32m~\\AppData\\Local\\Temp\\ipykernel_21964\\4262740144.py\u001b[0m in \u001b[0;36m<module>\u001b[1;34m\u001b[0m\n\u001b[0;32m     17\u001b[0m \u001b[1;33m\u001b[0m\u001b[0m\n\u001b[0;32m     18\u001b[0m \u001b[0mfig\u001b[0m\u001b[1;33m,\u001b[0m \u001b[0max\u001b[0m \u001b[1;33m=\u001b[0m \u001b[0mplt\u001b[0m\u001b[1;33m.\u001b[0m\u001b[0msubplots\u001b[0m\u001b[1;33m(\u001b[0m\u001b[0mfigsize\u001b[0m \u001b[1;33m=\u001b[0m \u001b[1;33m(\u001b[0m\u001b[1;36m14\u001b[0m\u001b[1;33m,\u001b[0m\u001b[1;36m8\u001b[0m\u001b[1;33m)\u001b[0m\u001b[1;33m)\u001b[0m\u001b[1;33m\u001b[0m\u001b[1;33m\u001b[0m\u001b[0m\n\u001b[1;32m---> 19\u001b[1;33m \u001b[0mdates\u001b[0m \u001b[1;33m=\u001b[0m\u001b[0mlist\u001b[0m\u001b[1;33m(\u001b[0m\u001b[0mrate_data\u001b[0m\u001b[1;33m.\u001b[0m\u001b[0mindex\u001b[0m\u001b[1;33m)\u001b[0m\u001b[1;33m\u001b[0m\u001b[1;33m\u001b[0m\u001b[0m\n\u001b[0m\u001b[0;32m     20\u001b[0m \u001b[0mnum_dates\u001b[0m \u001b[1;33m=\u001b[0m \u001b[0mlen\u001b[0m\u001b[1;33m(\u001b[0m\u001b[0mdates\u001b[0m\u001b[1;33m)\u001b[0m\u001b[1;33m\u001b[0m\u001b[1;33m\u001b[0m\u001b[0m\n\u001b[0;32m     21\u001b[0m \u001b[0mrate_data\u001b[0m\u001b[1;33m.\u001b[0m\u001b[0mloc\u001b[0m\u001b[1;33m[\u001b[0m\u001b[1;33m:\u001b[0m\u001b[1;33m,\u001b[0m \u001b[0mrates\u001b[0m\u001b[1;33m]\u001b[0m\u001b[1;33m.\u001b[0m\u001b[0mplot\u001b[0m\u001b[1;33m.\u001b[0m\u001b[0mline\u001b[0m\u001b[1;33m(\u001b[0m\u001b[0max\u001b[0m \u001b[1;33m=\u001b[0m \u001b[0max\u001b[0m\u001b[1;33m,\u001b[0m \u001b[0malpha\u001b[0m \u001b[1;33m=\u001b[0m \u001b[1;36m.2\u001b[0m\u001b[1;33m,\u001b[0m \u001b[0mlinewidth\u001b[0m \u001b[1;33m=\u001b[0m \u001b[1;36m2\u001b[0m\u001b[1;33m,\u001b[0m \u001b[0mlegend\u001b[0m \u001b[1;33m=\u001b[0m \u001b[1;32mFalse\u001b[0m\u001b[1;33m)\u001b[0m\u001b[1;33m\u001b[0m\u001b[1;33m\u001b[0m\u001b[0m\n",
      "\u001b[1;31mNameError\u001b[0m: name 'rate_data' is not defined"
     ]
    },
    {
     "data": {
      "image/png": "[encoded data removed]",
      "text/plain": [
       "<Figure size 1400x800 with 1 Axes>"
      ]
     },
     "metadata": {},
     "output_type": "display_data"
    }
   ],
   "source": [
    "\n",
    "# for key in delta_rate_data:\n",
    "#     if key != \"Federal Funds Rate\":\n",
    "#         fig, ax = plt.subplots(figsize = (14,8))\n",
    "#         rate_data.loc[\"2008-07-31\":\"2020\"].plot.scatter(x = \"Federal Funds Rate\", \n",
    "#                                                         y = key, \n",
    "#                                                         c = \"Year\",\n",
    "#                                                         cmap = \"viridis\",\n",
    "#                                                         ax = ax)\n",
    "#         rate_data.loc[\"2000\":\"2008-07-31\"].plot.scatter(x = \"Federal Funds Rate\", \n",
    "#                                                         y = key, \n",
    "#                                                         ax = ax,\n",
    "#                                                         c = \"k\", \n",
    "#                                                         alpha = .2)\n",
    "#         pp.savefig(fig, bbox_inches = \"tight\")\n",
    "#         plt.show()\n",
    "#         plt.close()\n",
    "\n",
    "fig, ax = plt.subplots(figsize = (14,8))\n",
    "dates =list(rate_data.index)\n",
    "num_dates = len(dates)\n",
    "rate_data.loc[:, rates].plot.line(ax = ax, alpha = .2, linewidth = 2, legend = False)\n",
    "rate_data.loc[\"2008-07-31\":, rates].plot.line(ax = ax, \n",
    "                                                   alpha = .8,\n",
    "                                                   color = [\"C\" + str(i) for i in range(5)], \n",
    "                                                   linewidth = 2,\n",
    "                                                   label = [diff.replace(\" Diff\",\"\") for diff in rate_diffs ])\n",
    "ax.set_title(\"AAA Premium\\nover U.S. Treasury Rate\", fontsize = 36)\n",
    "\n",
    "# pp.savefig(fig, bbox_inches = \"tight\")\n",
    "plt.show()\n",
    "plt.close()\n",
    "\n",
    "\n",
    "fig, ax = plt.subplots(figsize = (14,8))\n",
    "dates =list(rate_data.index)\n",
    "num_dates = len(dates)\n",
    "rate_data.loc[:, rates].rolling(12).mean().dropna().plot.line(ax = ax, alpha = .6, linewidth = 2, legend = False)\n",
    "rate_data.loc[\"2008-07-31\":, rates].rolling(12).mean().dropna().plot.line(ax = ax, \n",
    "                                                   alpha = .8,\n",
    "                                                   color = [\"C\" + str(i) for i in range(5)], \n",
    "                                                   linewidth = 2,\n",
    "                                                   label = [diff.replace(\" Diff\",\"\") for diff in rate_diffs ])\n",
    "\n",
    "\n",
    "ax.set_title(\"Average AAA Rate Premium\\nover U.S. Treasury Rate\\n (12 Month MA)\", fontsize = 36)\n",
    "ax.set_yticklabels(str(label) + \"%\" for label in ax.get_yticks())\n",
    "ax.tick_params(axis=u'both', which=u'both',length=0)\n",
    "# pp.savefig(fig, bbox_inches = \"tight\")\n",
    "plt.show()\n",
    "plt.close()\n",
    "\n",
    "# pp.close()"
   ]
  },
  {
   "cell_type": "code",
   "execution_count": 13,
   "metadata": {},
   "outputs": [
    {
     "ename": "NameError",
     "evalue": "name 'rate_data' is not defined",
     "output_type": "error",
     "traceback": [
      "\u001b[1;31m---------------------------------------------------------------------------\u001b[0m",
      "\u001b[1;31mNameError\u001b[0m                                 Traceback (most recent call last)",
      "\u001b[1;32m~\\AppData\\Local\\Temp\\ipykernel_21964\\283836033.py\u001b[0m in \u001b[0;36m<module>\u001b[1;34m\u001b[0m\n\u001b[0;32m      6\u001b[0m \u001b[0mlabel2\u001b[0m \u001b[1;33m=\u001b[0m \u001b[1;34m\"Q1 1995 - Q2 2008\"\u001b[0m\u001b[1;33m\u001b[0m\u001b[1;33m\u001b[0m\u001b[0m\n\u001b[0;32m      7\u001b[0m \u001b[0mlabel3\u001b[0m \u001b[1;33m=\u001b[0m \u001b[1;34m\"Q3 2008 - Present\"\u001b[0m\u001b[1;33m\u001b[0m\u001b[1;33m\u001b[0m\u001b[0m\n\u001b[1;32m----> 8\u001b[1;33m \u001b[0mrate_data\u001b[0m\u001b[1;33m.\u001b[0m\u001b[0mloc\u001b[0m\u001b[1;33m[\u001b[0m\u001b[1;33m:\u001b[0m\u001b[1;34m\"1994-10-31\"\u001b[0m\u001b[1;33m,\u001b[0m \u001b[0mrates\u001b[0m\u001b[1;33m]\u001b[0m\u001b[1;33m.\u001b[0m\u001b[0mmean\u001b[0m\u001b[1;33m(\u001b[0m\u001b[1;33m)\u001b[0m\u001b[1;33m.\u001b[0m\u001b[0mplot\u001b[0m\u001b[1;33m(\u001b[0m\u001b[0max\u001b[0m \u001b[1;33m=\u001b[0m \u001b[0max\u001b[0m\u001b[1;33m,\u001b[0m \u001b[0mlabel\u001b[0m \u001b[1;33m=\u001b[0m \u001b[0mlabel1\u001b[0m\u001b[1;33m)\u001b[0m\u001b[1;33m\u001b[0m\u001b[1;33m\u001b[0m\u001b[0m\n\u001b[0m\u001b[0;32m      9\u001b[0m \u001b[0mrate_data\u001b[0m\u001b[1;33m.\u001b[0m\u001b[0mloc\u001b[0m\u001b[1;33m[\u001b[0m\u001b[1;34m\"1995-01-31\"\u001b[0m\u001b[1;33m:\u001b[0m\u001b[1;34m\"2008-07-31\"\u001b[0m\u001b[1;33m,\u001b[0m \u001b[0mrates\u001b[0m\u001b[1;33m]\u001b[0m\u001b[1;33m.\u001b[0m\u001b[0mmean\u001b[0m\u001b[1;33m(\u001b[0m\u001b[1;33m)\u001b[0m\u001b[1;33m.\u001b[0m\u001b[0mplot\u001b[0m\u001b[1;33m(\u001b[0m\u001b[0max\u001b[0m \u001b[1;33m=\u001b[0m \u001b[0max\u001b[0m\u001b[1;33m,\u001b[0m \u001b[0mlabel\u001b[0m \u001b[1;33m=\u001b[0m \u001b[0mlabel2\u001b[0m\u001b[1;33m)\u001b[0m\u001b[1;33m\u001b[0m\u001b[1;33m\u001b[0m\u001b[0m\n\u001b[0;32m     10\u001b[0m \u001b[0mrate_data\u001b[0m\u001b[1;33m.\u001b[0m\u001b[0mloc\u001b[0m\u001b[1;33m[\u001b[0m\u001b[1;34m\"2008-10-31\"\u001b[0m\u001b[1;33m:\u001b[0m\u001b[1;33m,\u001b[0m \u001b[0mrates\u001b[0m\u001b[1;33m]\u001b[0m\u001b[1;33m.\u001b[0m\u001b[0mmean\u001b[0m\u001b[1;33m(\u001b[0m\u001b[1;33m)\u001b[0m\u001b[1;33m.\u001b[0m\u001b[0mplot\u001b[0m\u001b[1;33m(\u001b[0m\u001b[0max\u001b[0m \u001b[1;33m=\u001b[0m \u001b[0max\u001b[0m\u001b[1;33m,\u001b[0m \u001b[0mlabel\u001b[0m \u001b[1;33m=\u001b[0m \u001b[0mlabel3\u001b[0m\u001b[1;33m)\u001b[0m\u001b[1;33m\u001b[0m\u001b[1;33m\u001b[0m\u001b[0m\n",
      "\u001b[1;31mNameError\u001b[0m: name 'rate_data' is not defined"
     ]
    },
    {
     "data": {
      "image/png": "[encoded data removed]",
      "text/plain": [
       "<Figure size 1400x800 with 1 Axes>"
      ]
     },
     "metadata": {},
     "output_type": "display_data"
    }
   ],
   "source": [
    "plt.rcParams['axes.xmargin'] = 0\n",
    "plt.rcParams['axes.ymargin'] = 0\n",
    "\n",
    "fig, ax = plt.subplots(figsize = (14,8))\n",
    "label1 = \"Q1 1984 - Q4 1994\"\n",
    "label2 = \"Q1 1995 - Q2 2008\"\n",
    "label3 = \"Q3 2008 - Present\"\n",
    "rate_data.loc[:\"1994-10-31\", rates].mean().plot(ax = ax, label = label1)\n",
    "rate_data.loc[\"1995-01-31\":\"2008-07-31\", rates].mean().plot(ax = ax, label = label2)\n",
    "rate_data.loc[\"2008-10-31\":, rates].mean().plot(ax = ax, label = label3)\n",
    "ax.text(1.9, .95, label1, color = \"C0\")\n",
    "ax.text(1.9, 1.2, label2, color = \"C1\")\n",
    "ax.text(1.2, 1.6, label3, color = \"C2\")\n",
    "\n",
    "plt.title(\"Average AAA Rate Premium\\nover U.S. Treasury Rate\")\n",
    "ax.set_yticklabels(str(round(label, 1)) + \"%\" for label in ax.get_yticks())\n",
    "ax.tick_params(axis=u'both', which=u'both',length=0)\n"
   ]
  },
  {
   "cell_type": "code",
   "execution_count": null,
   "metadata": {},
   "outputs": [],
   "source": [
    "rate_data.loc[:\"1994-10-31\", rates].mean()"
   ]
  },
  {
   "cell_type": "code",
   "execution_count": null,
   "metadata": {},
   "outputs": [],
   "source": [
    "rate_data.loc[\"1995-01-31\":\"2008-07-31\", rates].mean()"
   ]
  },
  {
   "cell_type": "code",
   "execution_count": null,
   "metadata": {},
   "outputs": [],
   "source": [
    "rate_data.loc[\"2008-10-31\":, rates].mean()"
   ]
  },
  {
   "cell_type": "code",
   "execution_count": null,
   "metadata": {},
   "outputs": [],
   "source": [
    "fig, ax = plt.subplots(figsize = (14,8))\n",
    "rate_data.loc[:\"2007\", rates].mean().plot(ax = ax, label = \"1984 - 2007\")\n",
    "rate_data.loc[\"2010\":, rates].mean().plot(ax = ax, label = \"2010 - Present\")\n",
    "plt.legend()\n",
    "plt.title(\"Average AAA Rate Premium\\nover U.S. Treasury Rate\")\n",
    "ax.set_yticklabels(str(round(label, 1)) + \"%\" for label in ax.get_yticks())\n",
    "ax.tick_params(axis=u'both', which=u'both',length=0)\n"
   ]
  },
  {
   "cell_type": "code",
   "execution_count": null,
   "metadata": {},
   "outputs": [],
   "source": [
    "for i in [2,5,10, 30]:\n",
    "    data[str(i) + \" Year Premium\"] = rate_data[str(i) + \" Year\"]"
   ]
  },
  {
   "cell_type": "code",
   "execution_count": null,
   "metadata": {},
   "outputs": [],
   "source": [
    "data[\"Private Debt / GDP\"] = data[\"Private Debt\"].div(data[\"Nominal GDP\"]).mul(100)\n",
    "\n",
    "data.resample(\"Q\").mean().diff(4).plot.scatter(x = \"Private Debt / GDP\", y = \"30 Year Premium\")"
   ]
  },
  {
   "cell_type": "code",
   "execution_count": null,
   "metadata": {},
   "outputs": [],
   "source": []
  },
  {
   "cell_type": "code",
   "execution_count": null,
   "metadata": {},
   "outputs": [],
   "source": [
    "key = \"Public Debt / Total Debt\"\n",
    "fig, ax = plt.subplots(figsize = (14,8))\n",
    "data[key].resample(\"Q\").mean().loc[\"1984\":].plot(linewidth = 3, ax = ax)\n",
    "ax.set_yticklabels(str(int(label)) + \"%\" for label in ax.get_yticks())\n",
    "ax.set_title(key)\n",
    "ax.tick_params(axis=u'both', which=u'both',length=0)"
   ]
  },
  {
   "cell_type": "code",
   "execution_count": null,
   "metadata": {},
   "outputs": [],
   "source": [
    "data[\"Public Debt / Total Debt\"]"
   ]
  },
  {
   "cell_type": "code",
   "execution_count": null,
   "metadata": {
    "scrolled": false
   },
   "outputs": [],
   "source": [
    "import pingouin\n",
    "plt.rcParams.update({'font.size': 28})\n",
    "plt.rcParams['axes.xmargin'] = 0  \n",
    "plt.rcParams['axes.ymargin'] = 0\n",
    "fig, ax = plt.subplots(figsize = (14,8))\n",
    "plot_df = pct_change_df#.diff(4)#.diff(4)\n",
    "\n",
    "key = \"AAA - FFR\"\n",
    "max1 = plot_df[key].min() * -1\n",
    "max2 = plot_df[key].max()\n",
    "max_c = max1 if max1 > max2 else max2\n",
    "plot_df.plot.scatter(x=\"Private Debt\",\n",
    "                     y = \"Real GDP Growth %\", \n",
    "                     c =key,\n",
    "                     s = 100,\n",
    "                     alpha = .9,\n",
    "                     cmap = \"coolwarm\",  \n",
    "                     norm = plt.cm.colors.Normalize(max_c * -1, max_c),\n",
    "                     ax = ax)\n",
    "ax.set_xlabel(\"Private Debt Growth %\")\n",
    "# plot_df1.plot.scatter(x=\"Aaa and Federal Funds Rate Spread\",\n",
    "#                      y =\"Real GDP Growth %\", \n",
    "#                      c = \"Public Debt\",\n",
    "#                       alpha = .3,\n",
    "#                       legend = False,\n",
    "#                      ax = ax)\n",
    "\n",
    "ax.axhline(0 , ls = \"--\", c= \"k\", alpha = .5)\n",
    "ax.axvline(0 , ls = \"--\", c= \"k\", alpha = .5)\n",
    "\n",
    "# ax.set_title(\"Year-over-Year Change\")\n",
    "# ax.set_xticklabels([str(int(val)) + \"% \" for val in ax.get_xticks()])\n",
    "# ax.set_yticklabels([str(int(val)) + \"% \" for val in ax.get_yticks()])\n"
   ]
  },
  {
   "cell_type": "code",
   "execution_count": null,
   "metadata": {},
   "outputs": [],
   "source": [
    "import pingouin\n",
    "fig, ax = plt.subplots(figsize = (14,8))\n",
    "plot_df = pct_change_df.diff(4)#.diff(4)\n",
    "color_key = \"Public Debt\"\n",
    "rename_color_key = color_key + \" Growth %\"\n",
    "plot_df.rename(columns={color_key:rename_color_key}, inplace = True)\n",
    "max1 = plot_df[rename_color_key].min() * -1\n",
    "max2 = plot_df[rename_color_key].max()\n",
    "max_c = max1 if max1 > max2 else max2\n",
    "\n",
    "plot_df.plot.scatter(x=\"FFR\",\n",
    "                     y =\"AAA - FFR\", \n",
    "                     c = rename_color_key,\n",
    "                     cmap = \"coolwarm\", \n",
    "                     norm = plt.cm.colors.Normalize(max_c * -1, max_c),\n",
    "                     s = 100,\n",
    "                     alpha = .9,\n",
    "                     ax = ax)\n",
    "# plot_df1.plot.scatter(x=\"Aaa and Federal Funds Rate Spread\",\n",
    "#                      y =\"Real GDP Growth %\", \n",
    "#                      c = \"Public Debt\",\n",
    "#                       alpha = .3,\n",
    "#                       legend = False,\n",
    "#                      ax = ax)\n",
    "\n",
    "ax.axhline(0 , ls = \"--\", c= \"k\", alpha = .5)\n",
    "ax.axvline(0 , ls = \"--\", c= \"k\", alpha = .5)\n",
    "\n",
    "ax.set_title(\"Year-over-Year Change\")\n",
    "# ax.set_xticklabels([str(int(val)) + \"% \" for val in ax.get_xticks()])\n",
    "# ax.set_yticklabels([str(int(val)) + \"% \" for val in ax.get_yticks()])\n",
    "\n"
   ]
  },
  {
   "cell_type": "code",
   "execution_count": null,
   "metadata": {},
   "outputs": [],
   "source": [
    "fig, ax = plt.subplots(figsize = (14, 8))\n",
    "data[[\"Public Debt / Total Debt\", \"Private Debt / Total Debt\"]].plot.area(ax = ax)"
   ]
  },
  {
   "cell_type": "code",
   "execution_count": null,
   "metadata": {},
   "outputs": [],
   "source": [
    "data[[\"Public Debt / Total Debt\", \"Private Debt / Total Debt\"]].min()"
   ]
  },
  {
   "cell_type": "code",
   "execution_count": null,
   "metadata": {},
   "outputs": [],
   "source": [
    "import pingouin\n",
    "fig, ax = plt.subplots(figsize = (14,8))\n",
    "plot_df = pct_change_df.diff(4)#.diff(4)\n",
    "plot_df.plot.scatter(x=\"Public Debt / GDP\",\n",
    "                     y =\"Real GDP Growth %\", \n",
    "                     c = \"Aaa and Federal Funds Rate Spread\",\n",
    "                     cmap = \"viridis\",\n",
    "                     ax = ax)\n",
    "ax.set_title(\"Change in Year-over-Year Change\")\n",
    "# ax.set_xticklabels([str(int(val)) + \"% \" for val in ax.get_xticks()])\n",
    "# ax.set_yticklabels([str(int(val)) + \"% \" for val in ax.get_yticks()])\n",
    "plot_df[[\"Aaa and Federal Funds Rate Spread\",\n",
    "         \"Public Debt / Total Debt\",\n",
    "         \"Real GDP\"]].pcorr()"
   ]
  },
  {
   "cell_type": "code",
   "execution_count": null,
   "metadata": {},
   "outputs": [],
   "source": [
    "import pingouin\n",
    "import networkx as nx\n",
    "from matplotlib.patches import ArrowStyle\n",
    "from pgmpy.estimators import PC\n",
    "from sklearn import linear_model\n",
    "\n",
    "year = 4\n",
    "def add_lags(data, lags=12 / year):\n",
    "    for key in data:\n",
    "        for i in range(1, lags + 1):\n",
    "            new_key = key +\" Lag\" * i\n",
    "            data[new_key] = var_data[key].shift(year * i)\n",
    "\n",
    "class LinearRegression(linear_model.LinearRegression):\n",
    "    \"\"\"\n",
    "    LinearRegression class after sklearn's, but calculate t-statistics\n",
    "    and p-values for model coefficients (betas).\n",
    "    Additional attributes available after .fit()\n",
    "    are `t` and `p` which are of the shape (y.shape[1], X.shape[1])\n",
    "    which is (n_features, n_coefs)\n",
    "    This class sets the intercept to 0 by default, since usually we include it\n",
    "    in X.\n",
    "    \"\"\"\n",
    "\n",
    "    def __init__(self, *args, **kwargs):\n",
    "        if not \"fit_intercept\" in kwargs:\n",
    "            kwargs['fit_intercept'] = False\n",
    "        super(LinearRegression, self)\\\n",
    "                .__init__(*args, **kwargs)\n",
    "\n",
    "    def fit(self, X, y, n_jobs=1):\n",
    "        self = super(LinearRegression, self).fit(X, y, n_jobs)\n",
    "        self.predictor = self.predict(X) \n",
    "        # calculate matrix of same shape as y, use for ssr calculation\n",
    "        mean_y = np.mean(y, axis = 0)\n",
    "        mean_y = np.full((self.predictor.shape[0], self.predictor.shape[1]), mean_y)\n",
    "        self.errors = y - self.predictor\n",
    "        self.residuals = self.predictor - np.full((self.predictor.shape[0], self.predictor.shape[1]), mean_y)\n",
    "        sse = np.sum(self.errors ** 2, axis=0) / float(X.shape[0] - X.shape[1])\n",
    "        ssr = np.sum((self.residuals) ** 2, axis=0) / float(X.shape[0] - X.shape[1])\n",
    "        sst = sse + ssr \n",
    "        se = np.array([\n",
    "            np.sqrt(np.diagonal(sse[i] * np.linalg.inv(np.dot(X.T, X))))\n",
    "                                                    for i in range(sse.shape[0])])\n",
    "        \n",
    "        self.t = self.coef_ / se\n",
    "        self.p = 2 * (1 - stats.t.cdf(np.abs(self.t), y.shape[0] - X.shape[1]))        \n",
    "        self.rsquared = ssr / sst\n",
    "        print(self.rsquared)\n",
    "        self.predictor = np.matmul(self.predictor, self.coef_)\n",
    "        self.residuals = np.matmul(self.residuals, self.coef_)\n",
    "        return self\n",
    "def multivariate(endog, exog, sig_vals, constant = True):\n",
    "    \n",
    "    if constant:\n",
    "        exog[\"Constant\"] = 1\n",
    "    endog_keys= list(endog.keys())\n",
    "    exog_keys = list(exog.keys())\n",
    "    reg = LinearRegression().fit(exog, endog)\n",
    "    residuals = pd.DataFrame(reg.residuals).corr()\n",
    "    res_keys = list(residuals.keys())\n",
    "    residuals.rename(columns={res_keys[i]:endog_keys[i] for i in range(len(endog_keys))}, \n",
    "                     index = {res_keys[i]:endog_keys[i] for i in range(len(endog_keys))}, inplace = True)\n",
    "    residuals = residuals.loc[endog_keys, endog_keys]\n",
    "    print(residuals)\n",
    "    results = {\"coef_\":{},\n",
    "               \"t\":{}, \n",
    "               \"p\":{}}\n",
    "    for key in results:\n",
    "        for i in range(len(endog_keys)):\n",
    "            endog = endog_keys[i]\n",
    "            results[key][endog]={}\n",
    "            for j in range(len(exog_keys)):\n",
    "                exog = exog_keys[j]\n",
    "                results[key][endog][exog_keys[j]] = getattr(reg,key)[i][j]\n",
    "            \n",
    "# pd.DataFrame([reg.coef_[0],reg.t[0], reg.p[0]], index= endog_keys, columns = exog_keys).T\n",
    "    keys1 = list(results[\"coef_\"].keys())\n",
    "    for endog in keys1:\n",
    "        keys2 = list(results[\"coef_\"][endog].keys())\n",
    "        for exog in keys2:\n",
    "            label = \"\"\n",
    "            pvalue = results[\"p\"][endog][exog]\n",
    "            for sig_val in sig_vals:\n",
    "                if pvalue < sig_val: \n",
    "                    label = label + \"*\"\n",
    "            results[\"coef_\"][endog][exog] = str(round(results[\"coef_\"][endog][exog],3)) + label \n",
    "        results[\"coef_\"][endog][\"r2\"] = reg.rsquared[endog]\n",
    "\n",
    "    return results[\"coef_\"]#, results[\"p\"]\n",
    "\n",
    "\n",
    "def DAG_VAR(var_data, sink_source, filename, pp):\n",
    "    reg_dict={}\n",
    "    residuals = {}\n",
    "    edges_weights = {}\n",
    "    sig_vals = [.05, .01, .001]\n",
    "    \n",
    "    for sink, source in sink_source.items():\n",
    "        variables = [sink] + source\n",
    "        for k in range(len(variables)):\n",
    "            key = variables[k]\n",
    "            variables.append(key + \" Lag\")\n",
    "            if key in sink_source.keys():\n",
    "                if sink in sink_source[key] and sink not in variables:\n",
    "                    variables.append(key)\n",
    "        select_data = var_data[variables]\n",
    "        select_data.dropna(inplace = True)\n",
    "        endog_keys = [key for key in variables if \"Lag\" not in key]\n",
    "        exog_keys = [key for key in variables if \"Lag\" in key]\n",
    "        endog = select_data[endog_keys]\n",
    "        exog = select_data[exog_keys]\n",
    "        reg_dict[sink] = multivariate(endog, exog, sig_vals, constant = False)\n",
    "        pd.DataFrame(reg_dict[sink])\n",
    "        for sce in source:\n",
    "#             print(sce, sink)\n",
    "#             print(reg_dict[sink])#[sce+ \" Lag\"])\n",
    "            edges_weights[(sce, sink)] = reg_dict[sink][sink][sce+ \" Lag\"]\n",
    "    graph_DAG(edges = list(edges_weights.keys()), \n",
    "              df = select_data,\n",
    "              edge_labels = edges_weights,\n",
    "             pp = pp,\n",
    "             title = \"VAR Estimates\\n\"+diff.replace(\" \", \"\") + \"\\n\" + dates)\n",
    "    for sink, dct in reg_dict.items():\n",
    "        print(sink, pd.DataFrame(dct), \"\", sep = \"\\n\")\n",
    "        \n",
    "        lag_keys = [key + \" Lag\" for key in dct] \n",
    "        if \"Constant\" in dct: lag_keys = lag_keys + [\"Constant\"]\n",
    "        excel_df = pd.DataFrame(dct).T[lag_keys +[\"r2\"]].T\n",
    "        fname = sink + filename  \n",
    "        excel_df.to_excel(fname.replace(\"/\",\"\").replace(\"\\\\\",\"\")+\".xlsx\")\n",
    "        \n",
    "def DAG(dag_data, variant, ci_test, sig):\n",
    "    c = PC(dag_data)\n",
    "#     edges = c.skeleton_to_pdag(*c.build_skeleton())\n",
    "    max_cond_vars = len(dag_data.keys()) - 2\n",
    "    model = c.estimate(return_type = \"pdag\",variant= variant, \n",
    "                       significance_level = sig, \n",
    "                       max_cond_vars = max_cond_vars, ci_test = ci_test)\n",
    "    edges = model.edges()\n",
    "    \n",
    "    return edges\n",
    "\n",
    "def graph_DAG(edges, df, pp, edge_labels = False, title = \"\"):\n",
    "    def build_edge_labels(edges, df):\n",
    "        edge_labels = {}\n",
    "        for edge in edges:\n",
    "            controls = [key for key in df.keys() if key not in edge]\n",
    "            controls = list(set(controls))\n",
    "            keep_controls = []\n",
    "            for control in controls:\n",
    "                control_edges = [ctrl_edge for ctrl_edge in edges if control == ctrl_edge[0] ]\n",
    "                if (control, edge[1]) in control_edges:\n",
    "                    keep_controls.append(control)                \n",
    "#             print(edge, keep_controls)\n",
    "            pcorr = df.partial_corr(x = edge[0], y = edge[1], covar=keep_controls,\n",
    "                                  method = \"pearson\")\n",
    "            label = str(round(pcorr[\"r\"][0],2))\n",
    "            pvalue = pcorr[\"p-val\"][0]\n",
    "#             pcorr = df[[edge[0], edge[1]]+keep_controls].pcorr()\n",
    "#             label = pcorr[edge[0]].loc[edge[1]]\n",
    "\n",
    "            sig_vals = [.05, .01, .001]\n",
    "            for sig_val in sig_vals:\n",
    "                if pvalue < sig_val: \n",
    "                    label = label + \"*\"   \n",
    "            \n",
    "            edge_labels[edge] = label\n",
    "        return edge_labels\n",
    "    graph = nx.DiGraph()\n",
    "    if edge_labels == False:\n",
    "        edge_labels = build_edge_labels(edges, df) \n",
    "    graph.add_edges_from(edges)\n",
    "    color_map = [\"C0\" for g in graph]\n",
    "\n",
    "    fig, ax = plt.subplots(figsize = (20,20))\n",
    "    graph.nodes()\n",
    "    plt.tight_layout()\n",
    "    pos = nx.spring_layout(graph)#, k = 5/(len(sig_corr.keys())**.5))\n",
    "\n",
    "    nx.draw_networkx(graph, pos, node_color=color_map, node_size = 2500,\n",
    "                     with_labels=True,  arrows=True,\n",
    "                     font_color = \"k\",\n",
    "                     font_size = 26, alpha = 1,\n",
    "                     width = 1, edge_color = \"C1\",\n",
    "                     arrowstyle=ArrowStyle(\"Fancy, head_length=3, head_width=1.5, tail_width=.1\"),\n",
    "                     connectionstyle='arc3, rad = 0.05',\n",
    "                     ax = ax)\n",
    "    \n",
    "    plt.title(title, fontsize = 30)\n",
    "#     print(edge_labels)\n",
    "    edge_labels2 = []\n",
    "    for u, v, d in graph.edges(data=True):\n",
    "        if pos[u][0] > pos[v][0]:  \n",
    "            if (v,u) in edge_labels.keys():\n",
    "                edge_labels2.append(((u, v,), f'{edge_labels[u,v]}\\n\\n\\n{edge_labels[(v,u)]}'))  \n",
    "        if (v,u) not in edge_labels.keys():\n",
    "            edge_labels2.append(((u,v,), f'{edge_labels[(u,v)]}'))\n",
    "    edge_labels = dict(edge_labels2)\n",
    "\n",
    "    nx.draw_networkx_edge_labels(graph, pos, edge_labels=edge_labels, font_color='C2')\n",
    "    \n",
    "    nx.draw_networkx_edge_labels(graph,pos,\n",
    "                                 edge_labels=edge_labels,\n",
    "                                 font_color='green',\n",
    "                                 font_size=20)\n",
    "    pp.savefig(fig, bbox_inches = \"tight\")  \n",
    "    plt.show()\n",
    "    plt.close()\n",
    "def identify_sink_nodes(edges):\n",
    "    unzipped_edges = list(zip(*edges))\n",
    "    source_nodes = unzipped_edges[0]\n",
    "    sink_nodes = unzipped_edges[1]\n",
    "#     sink_nodes = [node for node in sink_nodes if node not in source_nodes]\n",
    "    caused_causal = {node:[] for node in sink_nodes}\n",
    "    for source, sink in edges:\n",
    "        caused_causal[sink].append(source)\n",
    "    return caused_causal \n"
   ]
  },
  {
   "cell_type": "code",
   "execution_count": null,
   "metadata": {},
   "outputs": [],
   "source": [
    "variant = \"parallel\"\n",
    "sig = .05\n",
    "ci_test = \"pearsonr\"\n",
    "pp = PdfPages(\"GDPAndPublicDebt.pdf\")\n",
    "plot_df = pct_change_df.diff(4)\n",
    "\n",
    "plot_df = plot_df[[\"Public Debt / Total Debt\",\"Real GDP\",\"Aaa and Federal Funds Rate Spread\"]].dropna()#.pcorr()\n",
    "edges = DAG(plot_df, variant, ci_test, sig)\n",
    "# add_lags(var_data, lags)\n",
    "# sink_source = identify_sink_nodes(edges)\n",
    "# filename =\"PublicDebtAndGDP\" \n",
    "# DAG_VAR(plot_df.dropna(), sink_source, filename, pp)\n",
    "\n",
    "fig, ax = plt.subplots(figsize = (14,8))\n",
    "\n",
    "plot_df.plot.scatter(x=\"Aaa and Federal Funds Rate Spread\",\n",
    "                     y =\"Real GDP\", \n",
    "                     c = \"Public Debt / Total Debt\",\n",
    "                     cmap = \"viridis\",\n",
    "                     ax = ax)\n",
    "ax.set_title(\"Year-over-Year Change\")\n",
    "# ax.set_xticklabels([str(int(val)) + \"% \" for val in ax.get_xticks()])\n",
    "# ax.set_yticklabels([str(int(val)) + \"% \" for val in ax.get_yticks()])\n",
    "\n",
    "\n",
    "graph_DAG(edges, plot_df.rename(columns={key:key.replace(\" \",\"\\n\")}),pp=pp)\n",
    "plot_df.pcorr()"
   ]
  },
  {
   "cell_type": "code",
   "execution_count": null,
   "metadata": {},
   "outputs": [],
   "source": [
    "plt.rcParams.update({'font.size': 28})\n",
    "plt.rcParams['axes.xmargin'] = 0  \n",
    "plt.rcParams['axes.ymargin'] = 0  \n",
    "plot_df = data.copy()\n",
    "plot_keys = [\"Public Debt\", \"Private Debt\"]\n",
    "units_per_year = 4\n",
    "ma_years = 10 \n",
    "for key in plot_keys:\n",
    "    plot_df[key] = plot_df[key].div(plot_df[\"Nominal GDP\"])\n",
    "plot_df[\"Real GDP\"] = plot_df[\"Real GDP\"].rolling(units_per_year * ma_years).mean()\n",
    "fig, ax = plt.subplots(figsize = (14,8))\n",
    "plot_df[plot_keys].plot.area(ax=ax, \n",
    "                             stacked=True, \n",
    "                             linewidth=0.).legend(loc = \"lower left\")\n",
    "ax2 = ax.twinx()\n",
    "plot_df.diff(units_per_year).loc[\"1960\":,\"Aaa and 10 Year Treasury Rate Spread\"].plot.line(color = \"C3\",\n",
    "                                                        ax = ax2, \n",
    "                                                        legend = False)\n",
    "ax.set_yticklabels([str(round(val,2)) + \"% \" for val in ax.get_yticks()])\n",
    "ax2.set_yticklabels([str(round(val, 2)) + \"% \" for val in ax2.get_yticks()])\n",
    "plt.show()"
   ]
  },
  {
   "cell_type": "code",
   "execution_count": null,
   "metadata": {
    "scrolled": true
   },
   "outputs": [],
   "source": [
    "pct_change_df"
   ]
  },
  {
   "cell_type": "code",
   "execution_count": null,
   "metadata": {
    "scrolled": true
   },
   "outputs": [],
   "source": [
    "pct_change_diff_df"
   ]
  },
  {
   "cell_type": "code",
   "execution_count": null,
   "metadata": {},
   "outputs": [],
   "source": [
    "import matplotlib.pyplot as plt\n",
    "GDP_vars = [\"G\", \"I\", \"C\" ,\"NX\"]\n",
    "df = data[GDP_vars]\n",
    "fig, ax = plt.subplots(figsize = (14,8))\n",
    "# split dataframe df into negative only and positive only values\n",
    "df_neg, df_pos = df.clip(upper=0), df.clip(lower=0)\n",
    "# stacked area plot of positive values\n",
    "df_pos.plot.area(ax=ax, stacked=True, linewidth=0., legend = True)\n",
    "# reset the color cycle\n",
    "ax.set_prop_cycle(None)\n",
    "# stacked area plot of negative values, prepend column names with '_' such that they don't appear in the legend\n",
    "df_neg.rename(columns=lambda x: '_' + x).plot.area(ax=ax, stacked=True, linewidth=0.)\n",
    "# rescale the y axis\n",
    "ax.set_ylim([df_neg.sum(axis=1).min(), df_pos.sum(axis=1).max()])\n",
    "# data[\"PY\"].plot.line(ax = ax, ls = \"--\")\n"
   ]
  },
  {
   "cell_type": "code",
   "execution_count": null,
   "metadata": {},
   "outputs": [],
   "source": [
    "plt.rcParams.update({'font.size': 24})\n",
    "fig, ax = plt.subplots(2,1,figsize = (18,18))\n",
    "\n",
    "pct_change_df[[\"G\",\"I\",\"Nominal Income\"]].plot(ax = ax[0], legend = False)\n",
    "ax[0].set_title(\"Growth Rate\")\n",
    "ax[0].set_yticklabels([str(int(round(val))) + \"% \" for val in ax[0].get_yticks()])\n",
    "\n",
    "pct_change_diff_df[[\"G\",\"I\",\"PY\"]].plot(ax = ax[1], legend = False)\n",
    "ax[1].set_title(\"Change in Growth Rate\")\n",
    "ax[1].set_yticklabels([str(int(val)) + \"% \" for val in ax[1].get_yticks()])"
   ]
  },
  {
   "cell_type": "code",
   "execution_count": null,
   "metadata": {},
   "outputs": [],
   "source": [
    "plt.rcParams.update({'font.size': 28})\n",
    "data[\"C+I+NX\"] = data[\"C\"].add(data[\"I\"]).add(data[\"NX\"])\n",
    "df = data.copy()\n",
    "for key in [\"G\",\"C+I+NX\"]:\n",
    "    df[key] = df[key].div(df[\"Public Debt\"])\n",
    "fig, ax = plt.subplots(figsize = (14,8))\n",
    "ax2 = ax.twinx()\n",
    "df[[\"C+I+NX\", \"G\"]].plot.area(ax=ax, stacked=True, linewidth=0., )\n",
    "plot_df[\"Public Debt\"] = plot_df[\"Public Debt\"].rolling(units_per_year * ma_years).mean()\n",
    "\n",
    "plot_df.pct_change(4).loc[\"1985\":,\" GDP\"].plot.line(color = \"C3\",\n",
    "                                                        ax = ax2, \n",
    "                                                        legend = False)\n",
    "ax.set_yticklabels([str(int(val * 100)) + \"% \" for val in ax.get_yticks()])\n"
   ]
  },
  {
   "cell_type": "code",
   "execution_count": null,
   "metadata": {
    "scrolled": true
   },
   "outputs": [],
   "source": [
    "keys = [\"C\", \"I\", \"G\", \"PY\"]# / GDP\"]\n",
    "                   \n",
    "for x in keys:\n",
    "    for y in keys:\n",
    "        if x != y:\n",
    "            for z in keys:\n",
    "                if x != z and y != z:\n",
    "                    fig, ax = plt.subplots(figsize = (14,8))\n",
    "                    pct_change_diff_df.iloc[:].plot.scatter(x = x,y=y, c = z,# s = \"NGDP\",\n",
    "                                                         cmap = \"viridis\",\n",
    "                                                         ax = ax)\n"
   ]
  },
  {
   "cell_type": "code",
   "execution_count": null,
   "metadata": {},
   "outputs": [],
   "source": [
    "import statsmodels.api as sm\n",
    "import matplotlib.pyplot as plt\n",
    "plt.rcParams['axes.xmargin'] = .01\n",
    "plt.rcParams['axes.ymargin'] = .01  \n",
    "\n",
    "Y_vars = [\"PY\",\"I\"]\n",
    "for y in Y_vars:\n",
    "    x_vars= [\"G\"]\n",
    "    y_var = [y]\n",
    "    reg_df = pct_change_diff_df[x_vars+Y_vars].diff(4).dropna()\n",
    "    Y = reg_df[y_var]\n",
    "    X = reg_df[x_vars]\n",
    "    X[\"Constant\"] = 1\n",
    "    \n",
    "    model= sm.OLS(Y,X)\n",
    "    results = model.fit()\n",
    "    print(results.summary())\n",
    "    reg_df[y + \"-hat\"] = results.predict()\n",
    "    \n",
    "    color_var = \"PY\" if y == \"I\" else \"I\"\n",
    "    fig, ax = plt.subplots(figsize = (14,8))\n",
    "    reg_df.plot.scatter(x = x_vars[0], \n",
    "                        y = y_var[0], \n",
    "                        c = color_var, \n",
    "                        cmap = \"viridis\", \n",
    "                        ax = ax)\n",
    "    ax.plot(reg_df[x_vars[0]], reg_df[y_var[0]+ \"-hat\"],\n",
    "            color = \"k\", \n",
    "            linewidth = 3,\n",
    "           alpha = .7)\n",
    "    ax.axhline(0, ls = \"--\", color = \"k\", alpha = .8)\n",
    "    ax.axvline(0, ls = \"--\", color = \"k\", alpha = .8)\n",
    "    x_vals = ax.get_xticks()\n",
    "    ax.set_xticklabels([str(int(x))+\"%\" for x in x_vals])\n",
    "    y_vals = ax.get_yticks()\n",
    "    ax.set_yticklabels([str(int(y))+\"%\" for y in y_vals])\n",
    "    plt.show()\n",
    "    plt.close()"
   ]
  },
  {
   "cell_type": "code",
   "execution_count": null,
   "metadata": {},
   "outputs": [],
   "source": [
    "plt.rcParams.update({'font.size': 28})\n",
    "data[[\"Public Debt\", \"Private Debt\", \"Nominal GDP\"]].plot(logy = True)"
   ]
  },
  {
   "cell_type": "code",
   "execution_count": null,
   "metadata": {},
   "outputs": [],
   "source": [
    "data[[\"Private Debt / GDP\", \"Federal Debt / GDP\", \"Public Debt / GDP\", \"Federal Debt / Total Debt\"]].plot()\n"
   ]
  },
  {
   "cell_type": "code",
   "execution_count": null,
   "metadata": {},
   "outputs": [],
   "source": [
    "fig, ax = plt.subplots(figsize = (20,10))\n",
    "\n",
    "ax2 = ax.twinx()\n",
    "x = int(len(data) / 2)\n",
    "NGDP_name =  \"Real GDP % change\"\n",
    "debt_name = \"Private Debt / Total Debt\"\n",
    "# plt.text(data.index[x],data.iloc[x][NGDP_name]/ 14.4,NGDP_name, fontsize = 28,ha = \"center\", color = \"C0\")\n",
    "# plt.text(data.index[x],data.iloc[x][NGDP_name] / 10.2,debt_name, fontsize = 28,ha = \"center\", color = \"C1\")\n",
    "# data[\"Real GDP % change\"].dropna().plot.line(linewidth = 5,\n",
    "#                                           ax = ax,\n",
    "#                                           legend = False)\n",
    "data[\"Private Debt / Total Debt\"].dropna().plot.line(linewidth = 5,\n",
    "                                           ax = ax2,\n",
    "                                           legend = False,\n",
    "                                           color = \"C1\")\n",
    "ax.set_yticklabels([str(int(x)) + \"%\" for x in ax.get_yticks()])\n",
    "ax2.set_yticklabels([str(int(x * 100)) + \"%\" for x in ax2.get_yticks()])\n",
    "plt.tight_layout()"
   ]
  },
  {
   "cell_type": "code",
   "execution_count": null,
   "metadata": {
    "scrolled": false
   },
   "outputs": [],
   "source": [
    "fig, ax = plt.subplots(figsize = (20,10))\n",
    "data.pct_change(4).plot.scatter(x = \"Aaa Rate\", \n",
    "                  y = \"Federal Funds Rate\", \n",
    "                  c = \"Public Debt\", \n",
    "                  s=100, \n",
    "                  alpha =.8,\n",
    "                  ax = ax, \n",
    "                  colormap = \"viridis\")"
   ]
  },
  {
   "cell_type": "code",
   "execution_count": null,
   "metadata": {},
   "outputs": [],
   "source": [
    "fig, ax = plt.subplots(figsize = (20,10))\n",
    "data.plot.scatter(x = \"Private Debt / Total Debt diff\", \n",
    "                  y = \"Aaa and Federal Funds Rate Spread diff\", \n",
    "                  c = \"Currency in Circulation / Total Assets diff\", \n",
    "                  s=100, \n",
    "                  alpha =.8,\n",
    "                  ax = ax, \n",
    "                  colormap = \"viridis\")"
   ]
  },
  {
   "cell_type": "code",
   "execution_count": null,
   "metadata": {},
   "outputs": [],
   "source": [
    "fig, ax = plt.subplots(figsize = (20,10))\n",
    "data.plot.scatter(y = \"Real GDP % change\", \n",
    "                  x = \"Aaa and Federal Funds Rate Spread diff\", \n",
    "                  c = \"Private Debt / Public Debt diff\", \n",
    "                  s=100, \n",
    "                  alpha =.8,\n",
    "                  ax = ax, \n",
    "                  colormap = \"viridis\")\n"
   ]
  },
  {
   "cell_type": "code",
   "execution_count": null,
   "metadata": {},
   "outputs": [],
   "source": [
    "fig, ax = plt.subplots(figsize = (20,10))\n",
    "data.plot.scatter(y = \"Nominal GDP % change\", \n",
    "                  x = \"Private Debt / Public Debt diff\",\n",
    "                  c = \"Real GDP % change\", \n",
    "                  s=100, \n",
    "                  alpha =.8,\n",
    "                  ax = ax, \n",
    "                  colormap = \"viridis\")\n"
   ]
  },
  {
   "cell_type": "code",
   "execution_count": null,
   "metadata": {},
   "outputs": [],
   "source": [
    "fig, ax = plt.subplots(figsize = (20,10))\n",
    "data.plot.scatter(x = \"Currency in Circulation / Total Assets diff\", \n",
    "                  y = \"Aaa and Federal Funds Rate Spread diff\", \n",
    "                  c = \"Private Debt / Total Debt diff\", \n",
    "                  s=100, \n",
    "                  alpha =.8,\n",
    "                  ax = ax, \n",
    "                  colormap = \"viridis\")"
   ]
  },
  {
   "cell_type": "code",
   "execution_count": null,
   "metadata": {},
   "outputs": [],
   "source": [
    "fig, ax = plt.subplots(figsize = (20,10))\n",
    "data.plot.scatter(x = \"Federal Funds Rate diff\", \n",
    "                  y = \"Aaa and Federal Funds Rate Spread diff\", \n",
    "                  c = \"Nominal GDP % change\", \n",
    "                  s=100, \n",
    "                  alpha =.8,\n",
    "                  ax = ax, \n",
    "                  colormap = \"viridis\")"
   ]
  },
  {
   "cell_type": "code",
   "execution_count": null,
   "metadata": {
    "scrolled": true
   },
   "outputs": [],
   "source": [
    "plot_scatter(data[[\"Private Debt / Public Debt diff\",\n",
    "                   \"Aaa and Federal Funds Rate Spread\",\n",
    "                   \"Nominal GDP % change\"]], s = 500)"
   ]
  },
  {
   "cell_type": "code",
   "execution_count": null,
   "metadata": {},
   "outputs": [],
   "source": [
    "data[[\"Nominal GDP % change\", \"Private Debt / Public Debt\"]].corr()"
   ]
  },
  {
   "cell_type": "code",
   "execution_count": null,
   "metadata": {},
   "outputs": [],
   "source": [
    "# set default fontsize for text in plot\n",
    "plt.rcParams.update({'font.size': 24})\n",
    "plt.rcParams['axes.ymargin'] = .05\n",
    "plt.rcParams['axes.xmargin'] = .05"
   ]
  },
  {
   "cell_type": "code",
   "execution_count": null,
   "metadata": {},
   "outputs": [],
   "source": [
    "import pingouin\n",
    "import matplotlib.pyplot as plt\n",
    "import numpy as np\n",
    "import seaborn as sn\n",
    "from matplotlib.patches import Rectangle\n",
    "from pgmpy.estimators import PC\n",
    "from pgmpy.base import DAG\n",
    "import matplotlib.pyplot as plt\n",
    "from matplotlib.patches import ArrowStyle\n",
    "import networkx as nx\n",
    "plt.rcParams.update({\"font.size\":20})\n",
    "\n",
    "def graph_DAG(edges, df,  edge_labels = False, title = \"\"):\n",
    "    def build_edge_labels(edges, df):\n",
    "        edge_labels = {}\n",
    "        for edge in edges:\n",
    "            controls = [key for key in df.keys() if key not in edge]\n",
    "            controls = list(set(controls))\n",
    "            keep_controls = []\n",
    "            for control in controls:\n",
    "                control_edges = [ctrl_edge for ctrl_edge in edges if control == ctrl_edge[0] ]\n",
    "                if (control, edge[1]) in control_edges:\n",
    "                    print(\"keep control:\", control)\n",
    "                    keep_controls.append(control)                \n",
    "            print(edge, keep_controls)\n",
    "            pcorr = df.partial_corr(x = edge[0], y = edge[1], covar=keep_controls,\n",
    "                                  method = \"pearson\")\n",
    "            label = str(round(pcorr[\"r\"][0],2))\n",
    "            pvalue = pcorr[\"p-val\"][0]\n",
    "#             pcorr = df[[edge[0], edge[1]]+keep_controls].pcorr()\n",
    "#             label = pcorr[edge[0]].loc[edge[1]]\n",
    "\n",
    "            sig_vals = [.05, .01, .001]\n",
    "            for sig_val in sig_vals:\n",
    "                if pvalue < sig_val: \n",
    "                    label = label + \"*\"   \n",
    "            \n",
    "            edge_labels[edge] = label\n",
    "        return edge_labels\n",
    "    graph = nx.DiGraph()\n",
    "    if edge_labels == False:\n",
    "        edge_labels = build_edge_labels(edges, df) \n",
    "    graph.add_edges_from(edges)\n",
    "    color_map = [\"C0\" for g in graph]\n",
    "\n",
    "    fig, ax = plt.subplots(figsize = (20,20))\n",
    "    graph.nodes()\n",
    "    plt.tight_layout()\n",
    "    pos = nx.spring_layout(graph)#, k = 5/(len(sig_corr.keys())**.5))\n",
    "\n",
    "    plt.title(title, fontsize = 30)\n",
    "    nx.draw_networkx(graph, pos, node_color=color_map, node_size = 2500,\n",
    "                     with_labels=True,  arrows=True,\n",
    "                     font_color = \"white\",\n",
    "                     font_size = 26, alpha = 1,\n",
    "                     width = 1, edge_color = \"C1\",\n",
    "                     arrowstyle=ArrowStyle(\"Fancy, head_length=3, head_width=1.5, tail_width=.1\"), ax = ax)\n",
    "    nx.draw_networkx_edge_labels(graph,pos,\n",
    "                                 edge_labels=edge_labels,\n",
    "                                 font_color='green',\n",
    "                                 font_size=20)\n",
    "#     pp.savefig(fig, bbox_inches = \"tight\")  \n",
    "    plt.show()\n",
    "    plt.close()\n",
    "    \n",
    "def calculate_pcorr(data, keys):\n",
    "    pcorr_df = data[keys]\n",
    "\n",
    "    pcorr_dct = {}\n",
    "    p_val_dct = {}\n",
    "    for key1 in keys:\n",
    "        p_val_dct[key1] = {}\n",
    "        pcorr_dct[key1] = {}\n",
    "        for key2 in keys:\n",
    "            if key1 != key2:\n",
    "                other_vars = [z for z in pcorr_df.keys() if z != key1 and z != key2 ]\n",
    "                stats = pingouin.partial_corr(data=pcorr_df, \n",
    "                                              x = key1, \n",
    "                                              y = key2, \n",
    "                                              covars=other_vars)\n",
    "                p_val_dct[key1][key2] = stats[\"p-val\"].values[0]\n",
    "\n",
    "                pcorr_dct[key1][key2] = pcorr_df.pcorr()[key1][key2]\n",
    "            else:\n",
    "                p_val_dct[key1][key2] = 1\n",
    "                pcorr_dct[key1][key2] = 1\n",
    "\n",
    "    p_val_df = pd.DataFrame(p_val_dct)\n",
    "    pcorr_df = pd.DataFrame(pcorr_dct)\n",
    "    return pcorr_df, p_val_df\n"
   ]
  },
  {
   "cell_type": "code",
   "execution_count": null,
   "metadata": {
    "scrolled": false
   },
   "outputs": [],
   "source": [
    "keys = [\"C\",\"I\",\"G\",\"PY\"]\n",
    "pcorr_df, p_val_df = calculate_pcorr(pct_change_diff_df, keys)\n",
    "dag_df = pct_change_diff_df[keys]\n",
    "dag_df = dag_df.dropna().rename(\n",
    "    columns={\n",
    "        col:col.replace(\" \", \"\\n\") for col in keys})\n",
    "variant = \"parallel\"\n",
    "sig = 0.2\n",
    "ci_test = \"pearsonr\"\n",
    "c = PC(dag_df)\n",
    "max_cond_vars = len(keys) - 2\n",
    "model = c.estimate(return_type = \"dag\",#variant= variant, \n",
    "                   significance_level = sig, \n",
    "                   max_cond_vars = max_cond_vars, ci_test = ci_test)\n",
    "edges = model.edges()\n",
    "graph_DAG(edges, dag_df, edge_labels = False)  "
   ]
  },
  {
   "cell_type": "code",
   "execution_count": null,
   "metadata": {},
   "outputs": [],
   "source": [
    "keys = [\"Private Debt / Total Debt diff\",\n",
    "        \"Nominal GDP % change\",\n",
    "        #\"Nominal GDP % change year-over-year\",\n",
    "        \"Aaa and Federal Funds Rate Spread diff\",\n",
    "#         \"Federal Funds Rate diff year-over-year\",\n",
    "        \"Currency in Circulation / Total Assets diff\"]\n",
    "pcorr_df, p_val_df = calculate_pcorr(data, keys)\n",
    "dag_df = data[keys]\n",
    "dag_df = dag_df.dropna().rename(\n",
    "    columns={\n",
    "        col:col.replace(\" \", \"\\n\") for col in keys})\n",
    "variant = \"parallel\"\n",
    "sig = 0.05\n",
    "ci_test = \"pearsonr\"\n",
    "c = PC(dag_df)\n",
    "max_cond_vars = len(keys) - 2\n",
    "model = c.estimate(return_type = \"dag\",variant= variant, \n",
    "                   significance_level = sig, \n",
    "                   max_cond_vars = max_cond_vars, ci_test = ci_test)\n",
    "edges = model.edges()\n",
    "graph_DAG(edges, dag_df)  "
   ]
  },
  {
   "cell_type": "code",
   "execution_count": null,
   "metadata": {},
   "outputs": [],
   "source": []
  },
  {
   "cell_type": "code",
   "execution_count": null,
   "metadata": {},
   "outputs": [],
   "source": []
  },
  {
   "cell_type": "code",
   "execution_count": null,
   "metadata": {},
   "outputs": [],
   "source": []
  }
 ],
 "metadata": {
  "kernelspec": {
   "display_name": "Python 3 (ipykernel)",
   "language": "python",
   "name": "python3"
  },
  "language_info": {
   "codemirror_mode": {
    "name": "ipython",
    "version": 3
   },
   "file_extension": ".py",
   "mimetype": "text/x-python",
   "name": "python",
   "nbconvert_exporter": "python",
   "pygments_lexer": "ipython3",
   "version": "3.9.13"
  }
 },
 "nbformat": 4,
 "nbformat_minor": 4
}
