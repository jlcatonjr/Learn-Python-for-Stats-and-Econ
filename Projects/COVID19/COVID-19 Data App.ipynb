{
 "cells": [
  {
   "cell_type": "code",
   "execution_count": 1,
   "metadata": {},
   "outputs": [],
   "source": [
    "import pandas as pd\n",
    "import geopandas as gpd\n",
    "import numpy as np\n",
    "covid_data =pd.read_parquet(\"COVID19DataForVoila.parquet.gzip\")\n",
    "covid_panel = covid_data.copy()"
   ]
  },
  {
   "cell_type": "code",
   "execution_count": 2,
   "metadata": {},
   "outputs": [],
   "source": [
    "state_dict = {\n",
    "    'Alabama': 'AL', 'Alaska': 'AK', 'Arizona': 'AZ',\n",
    "    'Arkansas': 'AR', 'California': 'CA', 'Colorado': 'CO', 'Connecticut': 'CT', \n",
    "    'Delaware': 'DE', 'District of Columbia': 'DC', 'Florida': 'FL', \n",
    "    'Georgia': 'GA', 'Hawaii': 'HI', 'Idaho': 'ID', 'Illinois': 'IL',\n",
    "    'Indiana': 'IN', 'Iowa': 'IA','Kansas': 'KS', 'Kentucky': 'KY',\n",
    "    'Louisiana': 'LA', 'Maine': 'ME', 'Maryland': 'MD', 'Massachusetts': 'MA',\n",
    "    'Michigan': 'MI', 'Minnesota': 'MN', 'Mississippi': 'MS', 'Missouri': 'MO',\n",
    "    'Montana': 'MT', 'Nebraska': 'NE', 'Nevada': 'NV', 'New Hampshire': 'NH',\n",
    "    'New Jersey': 'NJ', 'New Mexico': 'NM', 'New York': 'NY', 'North Carolina': 'NC',\n",
    "    'North Dakota': 'ND', 'Ohio': 'OH', 'Oklahoma': 'OK',\n",
    "    'Oregon': 'OR', 'Pennsylvania': 'PA', 'Rhode Island': 'RI',\n",
    "    'South Carolina': 'SC', 'South Dakota': 'SD', 'Tennessee': 'TN', 'Texas': 'TX',\n",
    "    'Utah': 'UT', 'Vermont': 'VT', 'Virginia': 'VA',\n",
    "    'Washington': 'WA', 'West Virginia': 'WV', 'Wisconsin': 'WI', 'Wyoming': 'WY'}"
   ]
  },
  {
   "cell_type": "code",
   "execution_count": 3,
   "metadata": {},
   "outputs": [],
   "source": [
    "state_df = covid_data.reset_index()[[\"cumulative_cases\", \n",
    "                                         \"cumulative_deaths\", \n",
    "                                         \"total_population\", \n",
    "                                         \"state\", \n",
    "                                         \"date\"]].copy()\n",
    "state_df = state_df.groupby([\"state\", \"date\"]).sum()\n",
    "US_df =state_df.groupby(\"date\").sum()\n",
    "US_df[\"state\"] = \"United States\"\n",
    "US_df = US_df.reset_index().set_index([\"state\", \"date\"])\n",
    "state_df = state_df.append(US_df)"
   ]
  },
  {
   "cell_type": "code",
   "execution_count": 4,
   "metadata": {},
   "outputs": [],
   "source": [
    "state_df[\"Cases per Million\"] = state_df[\n",
    "    \"cumulative_cases\"].div(state_df[\"total_population\"]) * 10 ** 6\n",
    "state_df[\"Deaths per Million\"] = state_df[\n",
    "    \"cumulative_deaths\"].div(state_df[\"total_population\"])* 10 ** 6\n",
    "\n",
    "state_df[\"Daily Cases per Million MA\"] = state_df[\n",
    "    \"cumulative_cases\"].groupby(\"state\").diff(1).div(\n",
    "    state_df[\"total_population\"]).rolling(7).mean() * 10 ** 6\n",
    "\n",
    "state_df[\"Daily Deaths per Million MA\"] = state_df[\n",
    "    \"cumulative_deaths\"].groupby(\"state\").diff(1).div(\n",
    "    state_df[\"total_population\"]).rolling(7).mean() * 10 ** 6\n",
    "\n",
    "state_df.fillna(0, inplace = True)\n",
    "state_df.reset_index(inplace = True)\n",
    "state_df.set_index([\"date\", \"state\"], inplace = True)\n",
    "state_df_pivot = pd.pivot_table(state_df.reset_index(), \n",
    "               values=['Cases per Million', \"Deaths per Million\",\n",
    "                       \"Daily Cases per Million MA\", \"Daily Deaths per Million MA\"], \n",
    "               index=['date'], columns=['state'])"
   ]
  },
  {
   "cell_type": "code",
   "execution_count": 5,
   "metadata": {},
   "outputs": [],
   "source": [
    "covid_data = pd.pivot_table(covid_data.reset_index(), \n",
    "               values=['Cases per Million', \"Deaths per Million\",\n",
    "                       \"Daily Cases per Million MA\", \"Daily Deaths per Million MA\"], \n",
    "               index=['fips_code'], columns=['date'])"
   ]
  },
  {
   "cell_type": "code",
   "execution_count": 6,
   "metadata": {},
   "outputs": [],
   "source": [
    "def import_geo_data(filename, index_col = \"Date\", FIPS_name = \"FIPS\"):\n",
    "    # import county level shapefile\n",
    "    map_data = gpd.read_file(filename = filename,                                   \n",
    "                                   index_col = index_col)\n",
    "    # rename fips code to match variable name in COVID-19 data\n",
    "    map_data.rename(columns={\"State\":\"state\"},\n",
    "                    inplace = True)\n",
    "    # Combine statefips and county fips to create a single fips value\n",
    "    # that identifies each particular county without referencing the \n",
    "    # state separately\n",
    "    map_data[FIPS_name] = map_data[\"STATEFP\"].astype(str) + \\\n",
    "        map_data[\"COUNTYFP\"].astype(str)\n",
    "    map_data[FIPS_name] = map_data[FIPS_name].astype(np.int64)\n",
    "    # set FIPS as index\n",
    "    map_data.set_index(FIPS_name, inplace=True)\n",
    "    \n",
    "    return map_data\n"
   ]
  },
  {
   "cell_type": "code",
   "execution_count": 7,
   "metadata": {},
   "outputs": [],
   "source": [
    "map_data = import_geo_data(filename = \"countiesWithStatesAndPopulation.shp\",\n",
    "    index_col = \"date\", FIPS_name= \"fips_code\")\n",
    "counties = covid_data.index\n",
    "covid_map_data= map_data.loc[counties]\n",
    "for key, val in covid_data.items():\n",
    "    covid_map_data[key] = val"
   ]
  },
  {
   "cell_type": "code",
   "execution_count": 9,
   "metadata": {},
   "outputs": [
    {
     "data": {
      "application/vnd.jupyter.widget-view+json": {
       "model_id": "a0cc339720a04d4082655a43bff4b682",
       "version_major": 2,
       "version_minor": 0
      },
      "text/plain": [
       "interactive(children=(Dropdown(description='date', options=(Timestamp('2020-01-22 00:00:00'), Timestamp('2020-…"
      ]
     },
     "metadata": {},
     "output_type": "display_data"
    },
    {
     "data": {
      "text/plain": [
       "<function ipywidgets.widgets.interaction._InteractFactory.__call__.<locals>.<lambda>(*args, **kwargs)>"
      ]
     },
     "execution_count": 9,
     "metadata": {},
     "output_type": "execute_result"
    }
   ],
   "source": [
    "%matplotlib inline\n",
    "import matplotlib.pyplot as plt\n",
    "from ipywidgets import *\n",
    "from ipywidgets.embed import embed_minimal_html\n",
    "from mpl_toolkits.axes_grid1.inset_locator import inset_axes\n",
    "from mpl_toolkits.axes_grid1 import make_axes_locatable\n",
    "from matplotlib import cm\n",
    "import matplotlib.ticker as mtick\n",
    "\n",
    "plt.rcParams[\"font.size\"] = 30\n",
    "class geoPlot():\n",
    "    def __init__(self, map_data, panel_data, state_data):\n",
    "        self.interact_map_data = map_data.fillna(0)\n",
    "        self.state_data = state_data\n",
    "        self.panel_data = panel_data\n",
    "        self.keys = [\"Deaths per Million\", \"Cases per Million\", \n",
    "                     \"Daily Cases per Million MA\", \"Daily Deaths per Million MA\"]\n",
    "        self.dates = self.panel_data.groupby(\"date\").mean().index\n",
    "        self.states = list(state_dict.keys())\n",
    "        self.states.insert(0, \"United States\")\n",
    "        self.vmax = {key: self.panel_data[key].max() for key in self.keys}\n",
    "\n",
    "        \n",
    "    def geo_plot(self, date, column, state):\n",
    "        def setup_cbar():\n",
    "            self.cmap = cm.get_cmap('Reds', 10)\n",
    "            self.norm = cm.colors.Normalize(vmin = 0, vmax = self.vmax[column])\n",
    "\n",
    "\n",
    "            size = \"5%\" \n",
    "            sm = cm.ScalarMappable(cmap=self.cmap, norm=self.norm)\n",
    "            # empty array for the data range\n",
    "            sm._A = []\n",
    "            # make space for colorbar\n",
    "            divider = make_axes_locatable(self.ax[1])\n",
    "            cax = divider.append_axes(\"right\", size = size, pad = 0.1)\n",
    "            # add colorbar to figure\n",
    "            cbar = self.fig.colorbar(sm, cax=cax, cmap = self.cmap)\n",
    "            cbar.ax.tick_params(labelsize=18)\n",
    "            vals = list(cbar.ax.get_yticks())\n",
    "            vals.append(self.vmax[column])\n",
    "            # format display of values on colorbar\n",
    "            cbar.ax.yaxis.set_major_formatter(mtick.Formatter())\n",
    "            # format colorbar values as int\n",
    "            cbar.ax.set_yticklabels([int(x) for x in vals])\n",
    "            cbar.ax.set_ylabel(column, fontsize = 20)\n",
    "            \n",
    "        self.fig, self.ax = plt.subplots(2,1, figsize=(16,16))\n",
    "        setup_cbar()\n",
    "        self.state_data[column].plot(ax = self.ax[0], legend = False,\n",
    "                                    color = \"k\", alpha = .3, linewidth = .5)\n",
    "        self.ax[0].set_title(str(date)[:10]+ \"\\n\" + column , fontsize = 36)\n",
    "        self.date_line = self.ax[0].axvline(date, linewidth = 3, color = \"C0\", ls = \"--\")   \n",
    "    \n",
    "        if state == \"United States\":\n",
    "            self.state_data[column][\"United States\"].plot(ax = self.ax[0], legend = False,\n",
    "                                    color = \"C3\", alpha = 1, linewidth = 5)\n",
    "            self.interact_map_data[~self.interact_map_data[\"state\"].str.contains(\n",
    "                \"Alaska|Hawaii\")].plot(column =  (column, date), ax=self.ax[1],\n",
    "                                       cmap = self.cmap, vmin = 0, vmax = self.vmax[column])\n",
    "            self.axins = {}\n",
    "            self.axins[\"Alaska\"] = inset_axes(self.ax[1], width=\"17%\", height=\"35%\", loc=\"lower left\")\n",
    "            self.axins[\"Hawaii\"] = inset_axes(self.ax[1], width=\"50%\", height=\"40%\", loc=\"lower left\")\n",
    "            for st in self.axins.keys():\n",
    "                self.axins[st].set_xticks([])\n",
    "                self.axins[st].set_yticks([])\n",
    "                self.axins[st].axis(\"off\")\n",
    "                self.interact_map_data[self.interact_map_data[\"state\"].str.contains(st)].plot(\n",
    "                    column = (column,date),  ax = self.axins[st], cmap = self.cmap,\n",
    "                    vmin = 0, vmax = self.vmax[column])\n",
    "            \n",
    "            self.axins[\"Hawaii\"].set_xlim(-161, -155)\n",
    "            self.axins[\"Alaska\"].set_ylim(53, 71)\n",
    "        else:\n",
    "            self.interact_map_data[self.interact_map_data[\n",
    "                \"state\"] ==state].plot(column =  (column,date),  ax=self.ax[1], cmap = self.cmap,\n",
    "                                                 vmin = 0, vmax = self.vmax[column])\n",
    "            self.state_data[column, state].plot(ax = self.ax[0], legend = False,\n",
    "                                        cmap = self.cmap,color = \"C3\", alpha = 1, linewidth = 5)\n",
    "        self.ax[0].set_xlabel(\"\")\n",
    "        self.ax[1].set_title(state , fontsize = 36)\n",
    "interactive_map = geoPlot(covid_map_data, covid_panel, state_df_pivot)\n",
    "interact(interactive_map.geo_plot, date = interactive_map.dates, \n",
    "            column = interactive_map.keys, \n",
    "            state = interactive_map.states)\n"
   ]
  }
 ],
 "metadata": {
  "kernelspec": {
   "display_name": "Python 3 (ipykernel)",
   "language": "python",
   "name": "python3"
  },
  "language_info": {
   "codemirror_mode": {
    "name": "ipython",
    "version": 3
   },
   "file_extension": ".py",
   "mimetype": "text/x-python",
   "name": "python",
   "nbconvert_exporter": "python",
   "pygments_lexer": "ipython3",
   "version": "3.9.13"
  }
 },
 "nbformat": 4,
 "nbformat_minor": 2
}
