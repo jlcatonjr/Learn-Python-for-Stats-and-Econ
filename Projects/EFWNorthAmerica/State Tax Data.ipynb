{
 "cells": [
  {
   "cell_type": "code",
   "execution_count": 1,
   "id": "3b281db2",
   "metadata": {},
   "outputs": [
    {
     "ename": "FileNotFoundError",
     "evalue": "[Errno 2] No such file or directory: 'StateGDP.csv'",
     "output_type": "error",
     "traceback": [
      "\u001b[1;31m---------------------------------------------------------------------------\u001b[0m",
      "\u001b[1;31mFileNotFoundError\u001b[0m                         Traceback (most recent call last)",
      "Cell \u001b[1;32mIn[1], line 5\u001b[0m\n\u001b[0;32m      3\u001b[0m storage_options \u001b[38;5;241m=\u001b[39m {\u001b[38;5;124m'\u001b[39m\u001b[38;5;124mUser-Agent\u001b[39m\u001b[38;5;124m'\u001b[39m: \u001b[38;5;124m'\u001b[39m\u001b[38;5;124mMozilla/5.0\u001b[39m\u001b[38;5;124m'\u001b[39m}\n\u001b[0;32m      4\u001b[0m url \u001b[38;5;241m=\u001b[39m \u001b[38;5;124m\"\u001b[39m\u001b[38;5;124mhttps://www.fraserinstitute.org/sites/default/files/economic-freedom-of-north-america-2022-for-website-allgovs.xlsx\u001b[39m\u001b[38;5;124m\"\u001b[39m\n\u001b[1;32m----> 5\u001b[0m GDP \u001b[38;5;241m=\u001b[39m pd\u001b[38;5;241m.\u001b[39mread_csv(\u001b[38;5;124m\"\u001b[39m\u001b[38;5;124mStateGDP.csv\u001b[39m\u001b[38;5;124m\"\u001b[39m)\n\u001b[0;32m      6\u001b[0m efw \u001b[38;5;241m=\u001b[39m pd\u001b[38;5;241m.\u001b[39mread_excel(url, storage_options\u001b[38;5;241m=\u001b[39mstorage_options, sheet_name\u001b[38;5;241m=\u001b[39m\u001b[38;5;28;01mNone\u001b[39;00m)\n\u001b[0;32m      7\u001b[0m codes \u001b[38;5;241m=\u001b[39m pd\u001b[38;5;241m.\u001b[39mread_csv(\u001b[38;5;124m\"\u001b[39m\u001b[38;5;124mtaxitemcodesanddescriptions.csv\u001b[39m\u001b[38;5;124m\"\u001b[39m, header \u001b[38;5;241m=\u001b[39m [\u001b[38;5;241m0\u001b[39m], index_col \u001b[38;5;241m=\u001b[39m [\u001b[38;5;241m0\u001b[39m])\n",
      "File \u001b[1;32mC:\\ProgramData\\anaconda3\\Lib\\site-packages\\pandas\\io\\parsers\\readers.py:912\u001b[0m, in \u001b[0;36mread_csv\u001b[1;34m(filepath_or_buffer, sep, delimiter, header, names, index_col, usecols, dtype, engine, converters, true_values, false_values, skipinitialspace, skiprows, skipfooter, nrows, na_values, keep_default_na, na_filter, verbose, skip_blank_lines, parse_dates, infer_datetime_format, keep_date_col, date_parser, date_format, dayfirst, cache_dates, iterator, chunksize, compression, thousands, decimal, lineterminator, quotechar, quoting, doublequote, escapechar, comment, encoding, encoding_errors, dialect, on_bad_lines, delim_whitespace, low_memory, memory_map, float_precision, storage_options, dtype_backend)\u001b[0m\n\u001b[0;32m    899\u001b[0m kwds_defaults \u001b[38;5;241m=\u001b[39m _refine_defaults_read(\n\u001b[0;32m    900\u001b[0m     dialect,\n\u001b[0;32m    901\u001b[0m     delimiter,\n\u001b[1;32m   (...)\u001b[0m\n\u001b[0;32m    908\u001b[0m     dtype_backend\u001b[38;5;241m=\u001b[39mdtype_backend,\n\u001b[0;32m    909\u001b[0m )\n\u001b[0;32m    910\u001b[0m kwds\u001b[38;5;241m.\u001b[39mupdate(kwds_defaults)\n\u001b[1;32m--> 912\u001b[0m \u001b[38;5;28;01mreturn\u001b[39;00m _read(filepath_or_buffer, kwds)\n",
      "File \u001b[1;32mC:\\ProgramData\\anaconda3\\Lib\\site-packages\\pandas\\io\\parsers\\readers.py:577\u001b[0m, in \u001b[0;36m_read\u001b[1;34m(filepath_or_buffer, kwds)\u001b[0m\n\u001b[0;32m    574\u001b[0m _validate_names(kwds\u001b[38;5;241m.\u001b[39mget(\u001b[38;5;124m\"\u001b[39m\u001b[38;5;124mnames\u001b[39m\u001b[38;5;124m\"\u001b[39m, \u001b[38;5;28;01mNone\u001b[39;00m))\n\u001b[0;32m    576\u001b[0m \u001b[38;5;66;03m# Create the parser.\u001b[39;00m\n\u001b[1;32m--> 577\u001b[0m parser \u001b[38;5;241m=\u001b[39m TextFileReader(filepath_or_buffer, \u001b[38;5;241m*\u001b[39m\u001b[38;5;241m*\u001b[39mkwds)\n\u001b[0;32m    579\u001b[0m \u001b[38;5;28;01mif\u001b[39;00m chunksize \u001b[38;5;129;01mor\u001b[39;00m iterator:\n\u001b[0;32m    580\u001b[0m     \u001b[38;5;28;01mreturn\u001b[39;00m parser\n",
      "File \u001b[1;32mC:\\ProgramData\\anaconda3\\Lib\\site-packages\\pandas\\io\\parsers\\readers.py:1407\u001b[0m, in \u001b[0;36mTextFileReader.__init__\u001b[1;34m(self, f, engine, **kwds)\u001b[0m\n\u001b[0;32m   1404\u001b[0m     \u001b[38;5;28mself\u001b[39m\u001b[38;5;241m.\u001b[39moptions[\u001b[38;5;124m\"\u001b[39m\u001b[38;5;124mhas_index_names\u001b[39m\u001b[38;5;124m\"\u001b[39m] \u001b[38;5;241m=\u001b[39m kwds[\u001b[38;5;124m\"\u001b[39m\u001b[38;5;124mhas_index_names\u001b[39m\u001b[38;5;124m\"\u001b[39m]\n\u001b[0;32m   1406\u001b[0m \u001b[38;5;28mself\u001b[39m\u001b[38;5;241m.\u001b[39mhandles: IOHandles \u001b[38;5;241m|\u001b[39m \u001b[38;5;28;01mNone\u001b[39;00m \u001b[38;5;241m=\u001b[39m \u001b[38;5;28;01mNone\u001b[39;00m\n\u001b[1;32m-> 1407\u001b[0m \u001b[38;5;28mself\u001b[39m\u001b[38;5;241m.\u001b[39m_engine \u001b[38;5;241m=\u001b[39m \u001b[38;5;28mself\u001b[39m\u001b[38;5;241m.\u001b[39m_make_engine(f, \u001b[38;5;28mself\u001b[39m\u001b[38;5;241m.\u001b[39mengine)\n",
      "File \u001b[1;32mC:\\ProgramData\\anaconda3\\Lib\\site-packages\\pandas\\io\\parsers\\readers.py:1661\u001b[0m, in \u001b[0;36mTextFileReader._make_engine\u001b[1;34m(self, f, engine)\u001b[0m\n\u001b[0;32m   1659\u001b[0m     \u001b[38;5;28;01mif\u001b[39;00m \u001b[38;5;124m\"\u001b[39m\u001b[38;5;124mb\u001b[39m\u001b[38;5;124m\"\u001b[39m \u001b[38;5;129;01mnot\u001b[39;00m \u001b[38;5;129;01min\u001b[39;00m mode:\n\u001b[0;32m   1660\u001b[0m         mode \u001b[38;5;241m+\u001b[39m\u001b[38;5;241m=\u001b[39m \u001b[38;5;124m\"\u001b[39m\u001b[38;5;124mb\u001b[39m\u001b[38;5;124m\"\u001b[39m\n\u001b[1;32m-> 1661\u001b[0m \u001b[38;5;28mself\u001b[39m\u001b[38;5;241m.\u001b[39mhandles \u001b[38;5;241m=\u001b[39m get_handle(\n\u001b[0;32m   1662\u001b[0m     f,\n\u001b[0;32m   1663\u001b[0m     mode,\n\u001b[0;32m   1664\u001b[0m     encoding\u001b[38;5;241m=\u001b[39m\u001b[38;5;28mself\u001b[39m\u001b[38;5;241m.\u001b[39moptions\u001b[38;5;241m.\u001b[39mget(\u001b[38;5;124m\"\u001b[39m\u001b[38;5;124mencoding\u001b[39m\u001b[38;5;124m\"\u001b[39m, \u001b[38;5;28;01mNone\u001b[39;00m),\n\u001b[0;32m   1665\u001b[0m     compression\u001b[38;5;241m=\u001b[39m\u001b[38;5;28mself\u001b[39m\u001b[38;5;241m.\u001b[39moptions\u001b[38;5;241m.\u001b[39mget(\u001b[38;5;124m\"\u001b[39m\u001b[38;5;124mcompression\u001b[39m\u001b[38;5;124m\"\u001b[39m, \u001b[38;5;28;01mNone\u001b[39;00m),\n\u001b[0;32m   1666\u001b[0m     memory_map\u001b[38;5;241m=\u001b[39m\u001b[38;5;28mself\u001b[39m\u001b[38;5;241m.\u001b[39moptions\u001b[38;5;241m.\u001b[39mget(\u001b[38;5;124m\"\u001b[39m\u001b[38;5;124mmemory_map\u001b[39m\u001b[38;5;124m\"\u001b[39m, \u001b[38;5;28;01mFalse\u001b[39;00m),\n\u001b[0;32m   1667\u001b[0m     is_text\u001b[38;5;241m=\u001b[39mis_text,\n\u001b[0;32m   1668\u001b[0m     errors\u001b[38;5;241m=\u001b[39m\u001b[38;5;28mself\u001b[39m\u001b[38;5;241m.\u001b[39moptions\u001b[38;5;241m.\u001b[39mget(\u001b[38;5;124m\"\u001b[39m\u001b[38;5;124mencoding_errors\u001b[39m\u001b[38;5;124m\"\u001b[39m, \u001b[38;5;124m\"\u001b[39m\u001b[38;5;124mstrict\u001b[39m\u001b[38;5;124m\"\u001b[39m),\n\u001b[0;32m   1669\u001b[0m     storage_options\u001b[38;5;241m=\u001b[39m\u001b[38;5;28mself\u001b[39m\u001b[38;5;241m.\u001b[39moptions\u001b[38;5;241m.\u001b[39mget(\u001b[38;5;124m\"\u001b[39m\u001b[38;5;124mstorage_options\u001b[39m\u001b[38;5;124m\"\u001b[39m, \u001b[38;5;28;01mNone\u001b[39;00m),\n\u001b[0;32m   1670\u001b[0m )\n\u001b[0;32m   1671\u001b[0m \u001b[38;5;28;01massert\u001b[39;00m \u001b[38;5;28mself\u001b[39m\u001b[38;5;241m.\u001b[39mhandles \u001b[38;5;129;01mis\u001b[39;00m \u001b[38;5;129;01mnot\u001b[39;00m \u001b[38;5;28;01mNone\u001b[39;00m\n\u001b[0;32m   1672\u001b[0m f \u001b[38;5;241m=\u001b[39m \u001b[38;5;28mself\u001b[39m\u001b[38;5;241m.\u001b[39mhandles\u001b[38;5;241m.\u001b[39mhandle\n",
      "File \u001b[1;32mC:\\ProgramData\\anaconda3\\Lib\\site-packages\\pandas\\io\\common.py:859\u001b[0m, in \u001b[0;36mget_handle\u001b[1;34m(path_or_buf, mode, encoding, compression, memory_map, is_text, errors, storage_options)\u001b[0m\n\u001b[0;32m    854\u001b[0m \u001b[38;5;28;01melif\u001b[39;00m \u001b[38;5;28misinstance\u001b[39m(handle, \u001b[38;5;28mstr\u001b[39m):\n\u001b[0;32m    855\u001b[0m     \u001b[38;5;66;03m# Check whether the filename is to be opened in binary mode.\u001b[39;00m\n\u001b[0;32m    856\u001b[0m     \u001b[38;5;66;03m# Binary mode does not support 'encoding' and 'newline'.\u001b[39;00m\n\u001b[0;32m    857\u001b[0m     \u001b[38;5;28;01mif\u001b[39;00m ioargs\u001b[38;5;241m.\u001b[39mencoding \u001b[38;5;129;01mand\u001b[39;00m \u001b[38;5;124m\"\u001b[39m\u001b[38;5;124mb\u001b[39m\u001b[38;5;124m\"\u001b[39m \u001b[38;5;129;01mnot\u001b[39;00m \u001b[38;5;129;01min\u001b[39;00m ioargs\u001b[38;5;241m.\u001b[39mmode:\n\u001b[0;32m    858\u001b[0m         \u001b[38;5;66;03m# Encoding\u001b[39;00m\n\u001b[1;32m--> 859\u001b[0m         handle \u001b[38;5;241m=\u001b[39m \u001b[38;5;28mopen\u001b[39m(\n\u001b[0;32m    860\u001b[0m             handle,\n\u001b[0;32m    861\u001b[0m             ioargs\u001b[38;5;241m.\u001b[39mmode,\n\u001b[0;32m    862\u001b[0m             encoding\u001b[38;5;241m=\u001b[39mioargs\u001b[38;5;241m.\u001b[39mencoding,\n\u001b[0;32m    863\u001b[0m             errors\u001b[38;5;241m=\u001b[39merrors,\n\u001b[0;32m    864\u001b[0m             newline\u001b[38;5;241m=\u001b[39m\u001b[38;5;124m\"\u001b[39m\u001b[38;5;124m\"\u001b[39m,\n\u001b[0;32m    865\u001b[0m         )\n\u001b[0;32m    866\u001b[0m     \u001b[38;5;28;01melse\u001b[39;00m:\n\u001b[0;32m    867\u001b[0m         \u001b[38;5;66;03m# Binary mode\u001b[39;00m\n\u001b[0;32m    868\u001b[0m         handle \u001b[38;5;241m=\u001b[39m \u001b[38;5;28mopen\u001b[39m(handle, ioargs\u001b[38;5;241m.\u001b[39mmode)\n",
      "\u001b[1;31mFileNotFoundError\u001b[0m: [Errno 2] No such file or directory: 'StateGDP.csv'"
     ]
    }
   ],
   "source": [
    "import numpy as np\n",
    "import pandas as pd\n",
    "storage_options = {'User-Agent': 'Mozilla/5.0'}\n",
    "url = \"https://www.fraserinstitute.org/sites/default/files/economic-freedom-of-north-america-2022-for-website-allgovs.xlsx\"\n",
    "GDP = pd.read_csv(\"StateGDP.csv\")\n",
    "efw = pd.read_excel(url, storage_options=storage_options, sheet_name=None)\n",
    "codes = pd.read_csv(\"taxitemcodesanddescriptions.csv\", header = [0], index_col = [0])"
   ]
  },
  {
   "cell_type": "code",
   "execution_count": null,
   "id": "eba91332",
   "metadata": {},
   "outputs": [],
   "source": [
    "state_dict = {\n",
    "    'Alabama': 'AL', 'Alaska': 'AK', 'Arizona': 'AZ',\n",
    "    'Arkansas': 'AR', 'California': 'CA', 'Colorado': 'CO', \n",
    "    'Connecticut': 'CT', 'Delaware': 'DE', 'Florida': 'FL', \n",
    "    'Georgia': 'GA', 'Hawaii': 'HI', 'Idaho': 'ID', 'Illinois': 'IL',\n",
    "    'Indiana': 'IN', 'Iowa': 'IA','Kansas': 'KS', 'Kentucky': 'KY',\n",
    "    'Louisiana': 'LA', 'Maine': 'ME', 'Maryland': 'MD', 'Massachusetts': 'MA',\n",
    "    'Michigan': 'MI', 'Minnesota': 'MN', 'Mississippi': 'MS', 'Missouri': 'MO',\n",
    "    'Montana': 'MT', 'Nebraska': 'NE', 'Nevada': 'NV', 'New Hampshire': 'NH',\n",
    "    'New Jersey': 'NJ', 'New Mexico': 'NM', 'New York': 'NY', 'North Carolina': 'NC',\n",
    "    'North Dakota': 'ND', 'Ohio': 'OH', 'Oklahoma': 'OK',\n",
    "    'Oregon': 'OR', 'Pennsylvania': 'PA', 'Rhode Island': 'RI',\n",
    "    'South Carolina': 'SC', 'South Dakota': 'SD', 'Tennessee': 'TN', 'Texas': 'TX',\n",
    "    'Utah': 'UT', 'Vermont': 'VT', 'Virginia': 'VA',\n",
    "    'Washington': 'WA', 'West Virginia': 'WV', 'Wisconsin': 'WI', 'Wyoming': 'WY'}\n",
    "\n",
    "fips_dict = {\n",
    " '01': 'AL', '02': 'AK', '04': 'AZ', '05': 'AR',\n",
    " '06': 'CA', '08': 'CO', '09': 'CT', '10': 'DE',\n",
    " '12': 'FL', '13': 'GA', '15': 'HI', '16': 'ID',\n",
    " '17': 'IL', '18': 'IN', '19': 'IA', '20': 'KS',\n",
    " '21': 'KY', '22': 'LA', '23': 'ME', '24': 'MD',\n",
    " '25': 'MA', '26': 'MI', '27': 'MN', '28': 'MS',\n",
    " '29': 'MO', '30': 'MT', '31': 'NE', '32': 'NV',\n",
    " '33': 'NH', '34': 'NJ', '35': 'NM', '36': 'NY',\n",
    " '37': 'NC', '38': 'ND', '39': 'OH', '40': 'OK',\n",
    " '41': 'OR', '42': 'PA', '44': 'RI', '45': 'SC',\n",
    " '46': 'SD', '47': 'TN', '48': 'TX', '49': 'UT',\n",
    " '50': 'VT', '51': 'VA', '53': 'WA', '54': 'WV',\n",
    " '55': 'WI', '56': 'WY'}\n",
    "# '60': 'AS', '66': 'GU',\n",
    "#  '69': 'MP', '72': 'PR', '78': 'VI'}\n",
    "state_df = pd.DataFrame(state_dict, index = [\"Abbr\"]).T\n",
    "fips_df = pd.DataFrame(fips_dict, index = [\"State\"]).T\n",
    "state_names, state_abbrev = state_df.index, list(state_df[\"Abbr\"].values)\n",
    "state_df.T# state_abbrev"
   ]
  },
  {
   "cell_type": "code",
   "execution_count": null,
   "id": "c5a6847f",
   "metadata": {},
   "outputs": [],
   "source": [
    "#FRED.py\n",
    "import pandas as pd\n",
    "import pandas_datareader.data as web\n",
    "import datetime\n",
    "\n",
    "def gather_data(data_codes, \n",
    "                start, \n",
    "                end = datetime.datetime.today(), \n",
    "                freq = \"M\"):\n",
    "    i = 0\n",
    "    # dct.items() calls key and value that key points to\n",
    "    for key, val in data_codes.items():\n",
    "        if i == 0:\n",
    "            # Create dataframe for first variable, then rename column\n",
    "            df = web.DataReader(\n",
    "                val, \"fred\", start, end).resample(freq).mean()\n",
    "            df.rename(columns = {val:key}, inplace = True) \n",
    "            # setting i to None will cause the next block of code to execute,\n",
    "            # placing data within df instead of creating a new dataframe for\n",
    "            # each variable\n",
    "            i = None\n",
    "        else:\n",
    "            # If dataframe already exists, add new column\n",
    "            df[key] = web.DataReader(val, \"fred\", start, end).resample(freq).mean()\n",
    "\n",
    "    return df"
   ]
  },
  {
   "cell_type": "code",
   "execution_count": null,
   "id": "7811a587",
   "metadata": {},
   "outputs": [],
   "source": [
    "data_codes  = {state: f\"{state}POP\" for state in state_dict.values()}\n",
    "# Select start and end dates\n",
    "start = datetime.datetime(2002, 1, 1)\n",
    "end = datetime.datetime.today()\n",
    "\n",
    "# freq refers to data frequency. Choose \"D\", \"W\", \"M\", \"Q\", \"A\"\n",
    "# a number may also be place in front of a letter. \"2D\" indicates\n",
    "#       alternating days\n",
    "pop = gather_data(data_codes = data_codes, start = start, end = end, freq = \"A\")"
   ]
  },
  {
   "cell_type": "code",
   "execution_count": null,
   "id": "8b3469d7",
   "metadata": {},
   "outputs": [],
   "source": [
    "pop"
   ]
  },
  {
   "cell_type": "code",
   "execution_count": null,
   "id": "d2d61072",
   "metadata": {},
   "outputs": [],
   "source": [
    "years = [1985,\n",
    " 1990,\n",
    " 1995,\n",
    " 2000,\n",
    " 2001,\n",
    " 2002,\n",
    " 2003,\n",
    " 2004,\n",
    " 2005,\n",
    " 2006,\n",
    " 2007,\n",
    " 2008,\n",
    " 2009,\n",
    " 2010,\n",
    " 2011,\n",
    " 2012,\n",
    " 2013,\n",
    " 2014,\n",
    " 2015,\n",
    " 2016,\n",
    " 2017,\n",
    " 2018,\n",
    " 2019,\n",
    " 2020]\n",
    "efw = efw[\"Overall-scores(allgovs)\"].dropna(subset = \"Unnamed: 104\").rename(columns = {\"Overall allg Scores\":\"State\"})\n",
    "panel = efw[efw[\"Unnamed: 104\"].str.contains(\", US\")]\n",
    "panel = panel[[\"State\"] + years]\n",
    "panel[\"State\"] = panel[\"State\"].apply(lambda x:state_dict[x])\n",
    "panel = panel.melt(id_vars=[\"State\"], \n",
    "        var_name=\"Year\", \n",
    "        value_name=\"EFW\").set_index([\"State\", \"Year\"]).round(2)\n",
    "panel"
   ]
  },
  {
   "cell_type": "code",
   "execution_count": null,
   "id": "3178c1ba",
   "metadata": {},
   "outputs": [],
   "source": [
    "GDP_years = list(GDP.keys())[-24:]\n",
    "GDP = GDP[GDP[\"GeoName\"].isin(state_names)]\n",
    "GDP[\"State\"] = GDP[\"GeoName\"].apply(lambda x: state_dict[x])\n",
    "GDP = GDP[[\"State\",\"LineCode\"] + GDP_years]\n",
    "GDP = GDP.melt(id_vars=[\"State\", \"LineCode\"], \n",
    "        var_name=\"Year\", \n",
    "        value_name=\"GDP\")\n",
    "\n",
    "GDP[\"Year\"] = GDP[\"Year\"].astype(int)\n",
    "GDP.set_index([\"State\", \"Year\"], inplace = True)\n",
    "panel.loc[panel.index.isin(GDP.index),\"GDP\"] = GDP[\"GDP\"][GDP[\"LineCode\"]==1].astype(float)\n",
    "panel"
   ]
  },
  {
   "cell_type": "code",
   "execution_count": null,
   "id": "0a459cd8",
   "metadata": {},
   "outputs": [],
   "source": [
    "list(efw.keys())"
   ]
  },
  {
   "cell_type": "code",
   "execution_count": null,
   "id": "d4e0360f",
   "metadata": {},
   "outputs": [],
   "source": [
    "# Maybe labels from 97 keys were entered by an intern who was filling in for the usual data person who was on leave,\n",
    "fix_97_keys = pd.DataFrame({'VI':\"VA\", \"AR\":\"AZ\", \n",
    "                            'AR    .1':\"AR\", \"LS\":\"LA\",\n",
    "                            \"GE\":\"GA\"}, \n",
    "                           index = [\"Correction\"]).T\n",
    "fix_97_keys"
   ]
  },
  {
   "cell_type": "code",
   "execution_count": null,
   "id": "c855e3b9",
   "metadata": {},
   "outputs": [],
   "source": [
    "# urls = [\"https://www2.census.gov/govs/statetax/\" +str(i)[-2:] + \"staxcd.txt\" for i in range(92,122)]\n",
    "tax_dfs = {}\n",
    "for year in range(1992,2022):\n",
    "    key = str(year)[-2:] \n",
    "    try:    \n",
    "        url = \"https://www2.census.gov/govs/statetax/\" +key + \"staxcd.txt\"\n",
    "        tax_dfs[year] = pd.read_csv(url, index_col = [0])\n",
    "        tax_dfs[year].rename(columns = {col:col.strip().replace(\"-State\",\"\") for col in tax_dfs[year].columns}, inplace = True)\n",
    "        tax_dfs[year].rename(columns = {name:state_df.loc[name].values[0] for name in state_names}, inplace = True)\n",
    "        if key == \"97\":\n",
    "            tax_dfs[year].rename(columns = {\n",
    "                wrong_key:fix_97_keys.loc[wrong_key].values[0] for wrong_key in fix_97_keys.index}, \n",
    "                                inplace = True)\n",
    "        # adjust units from 1000s to millions\n",
    "        tax_dfs[year] = tax_dfs[year][state_abbrev].div(1000)\n",
    "#         tax_dfs[key].rename(columns = {col:col.strip() for col in tax_dfs[key].columns}, inplace = True)\n",
    "    except:\n",
    "        print(\"failed to download \" + url)\n",
    "tax_dfs.keys()"
   ]
  },
  {
   "cell_type": "code",
   "execution_count": null,
   "id": "c920d8ff",
   "metadata": {},
   "outputs": [],
   "source": [
    "code_dfs = {}\n",
    "for code in codes.index:\n",
    "    code_dfs[code] = {}\n",
    "    for year in tax_dfs.keys():\n",
    "        code_dfs[code][year] = tax_dfs[year].loc[code] \n",
    "    code_dfs[code] = pd.DataFrame(code_dfs[code])"
   ]
  },
  {
   "cell_type": "code",
   "execution_count": null,
   "id": "4c014ef4",
   "metadata": {},
   "outputs": [],
   "source": [
    "code_dfs[\"TotalTax\"] = {}\n",
    "\n",
    "for key, df in tax_dfs.items():\n",
    "    code_dfs[\"TotalTax\"][key] = df.sum()\n",
    "code_dfs[\"TotalTax\"]"
   ]
  },
  {
   "cell_type": "code",
   "execution_count": null,
   "id": "4f2fe733",
   "metadata": {},
   "outputs": [],
   "source": [
    "tax_names = list(code_dfs.keys())\n",
    "for code, df in code_dfs.items():\n",
    "    code_dfs[code] = pd.DataFrame(df)\n",
    "    code_dfs[code].index.name = \"State\"\n",
    "    code_dfs[code] = code_dfs[code].reset_index().melt(id_vars=[\"State\"], \n",
    "        var_name=\"Year\", \n",
    "        value_name=code).set_index([\"State\", \"Year\"])\n",
    "    #     panel.loc[panel.index.isin(code_dfs[code].index),code] = code_dfs[code]\n",
    "# panel = panel[code].copy()\n",
    "for code, df in code_dfs.items():\n",
    "    panel[code] = code_dfs[code]\n",
    "    \n",
    "#     panel[code + \"/GDP\"] = panel[code].div(panel[\"GDP\"]).mul(100)"
   ]
  },
  {
   "cell_type": "code",
   "execution_count": null,
   "id": "dcb78eb4",
   "metadata": {},
   "outputs": [],
   "source": [
    "pct_gdp_panel = panel.apply(lambda x: x / panel[\"GDP\"])\n",
    "pct_gdp_panel.dropna()"
   ]
  },
  {
   "cell_type": "code",
   "execution_count": null,
   "id": "eb7b73fb",
   "metadata": {},
   "outputs": [],
   "source": [
    "import matplotlib.pyplot as plt\n",
    "plot_df = panel.groupby(\"Year\").sum().loc[\"2000\":\"2015\"]\n",
    "tax_names = list(code_dfs.keys())\n",
    "fig, ax = plt.subplots(figsize = (20,10))\n",
    "plot_df[tax_names[:-1]].plot.area(\n",
    "    legend = False, \n",
    "    ax = ax)\n",
    "# plot_df[tax_names[-1]].plot.line(ls = \"--\", \n",
    "#                                  linewidth = 5, \n",
    "#                                  color = \"k\",\n",
    "#                                  ax = ax)"
   ]
  },
  {
   "cell_type": "code",
   "execution_count": null,
   "id": "81903031",
   "metadata": {},
   "outputs": [],
   "source": [
    "fig, ax = plt.subplots(figsize = (20,10))\n",
    "plot_df[tax_names[:-1]].plot.area(\n",
    "    legend = False, \n",
    "    ax = ax)\n"
   ]
  },
  {
   "cell_type": "code",
   "execution_count": null,
   "id": "010ec624",
   "metadata": {},
   "outputs": [],
   "source": [
    "\n",
    "fig, ax = plt.subplots(figsize = (20,20))\n",
    "pd.plotting.scatter_matrix(panel[[\"EFW\",\"GDP\",\"TotalTax/GDP\",\"T01/GDP\"]].diff(5)\n",
    "                           , alpha = .5, s = 200 / 3, ax=ax)  \n",
    "panel[[\"EFW\",\"GDP\",\"TotalTax/GDP\",\"T01/GDP\"]].corr()"
   ]
  },
  {
   "cell_type": "code",
   "execution_count": null,
   "id": "df495f30",
   "metadata": {},
   "outputs": [],
   "source": [
    "log_data = np.log(panel[[\"GDP\",\"TotalTax\",\"T01\"]])\n",
    "log_data.describe()"
   ]
  },
  {
   "cell_type": "code",
   "execution_count": null,
   "id": "2c2b5bb7",
   "metadata": {},
   "outputs": [],
   "source": []
  }
 ],
 "metadata": {
  "kernelspec": {
   "display_name": "Python 3 (ipykernel)",
   "language": "python",
   "name": "python3"
  },
  "language_info": {
   "codemirror_mode": {
    "name": "ipython",
    "version": 3
   },
   "file_extension": ".py",
   "mimetype": "text/x-python",
   "name": "python",
   "nbconvert_exporter": "python",
   "pygments_lexer": "ipython3",
   "version": "3.11.5"
  }
 },
 "nbformat": 4,
 "nbformat_minor": 5
}
