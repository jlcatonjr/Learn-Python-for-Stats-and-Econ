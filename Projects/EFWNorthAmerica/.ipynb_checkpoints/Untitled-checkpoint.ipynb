{
 "cells": [
  {
   "cell_type": "code",
   "execution_count": 1,
   "id": "3bfa1e76",
   "metadata": {},
   "outputs": [],
   "source": [
    "import beaapi\n"
   ]
  },
  {
   "cell_type": "code",
   "execution_count": 11,
   "id": "073b5358",
   "metadata": {},
   "outputs": [
    {
     "ename": "BEAAPIResponseError",
     "evalue": "The Dataset requested is currently disabled - try again later.",
     "output_type": "error",
     "traceback": [
      "\u001b[1;31m---------------------------------------------------------------------------\u001b[0m",
      "\u001b[1;31mBEAAPIResponseError\u001b[0m                       Traceback (most recent call last)",
      "\u001b[1;32m~\\AppData\\Local\\Temp\\ipykernel_3040\\4080025285.py\u001b[0m in \u001b[0;36m<module>\u001b[1;34m\u001b[0m\n\u001b[1;32m----> 1\u001b[1;33m \u001b[0mlist_of_params\u001b[0m \u001b[1;33m=\u001b[0m \u001b[0mbeaapi\u001b[0m\u001b[1;33m.\u001b[0m\u001b[0mget_parameter_list\u001b[0m\u001b[1;33m(\u001b[0m\u001b[0mkey\u001b[0m\u001b[1;33m,\u001b[0m \u001b[1;34m'RegionalData'\u001b[0m\u001b[1;33m)\u001b[0m\u001b[1;33m\u001b[0m\u001b[1;33m\u001b[0m\u001b[0m\n\u001b[0m\u001b[0;32m      2\u001b[0m \u001b[0mdisplay\u001b[0m\u001b[1;33m(\u001b[0m\u001b[0mlist_of_params\u001b[0m\u001b[1;33m)\u001b[0m\u001b[1;33m\u001b[0m\u001b[1;33m\u001b[0m\u001b[0m\n",
      "\u001b[1;32m~\\AppData\\Roaming\\Python\\Python39\\site-packages\\beaapi\\get_parameter_list.py\u001b[0m in \u001b[0;36mget_parameter_list\u001b[1;34m(userid, datasetname, throttle)\u001b[0m\n\u001b[0;32m     41\u001b[0m     }\n\u001b[0;32m     42\u001b[0m \u001b[1;33m\u001b[0m\u001b[0m\n\u001b[1;32m---> 43\u001b[1;33m     bea_response = api_request(bea_meta_specs, as_dict=True, as_table=False,\n\u001b[0m\u001b[0;32m     44\u001b[0m                                is_meta=True, throttle=throttle)\n\u001b[0;32m     45\u001b[0m     \u001b[1;32massert\u001b[0m \u001b[0misinstance\u001b[0m\u001b[1;33m(\u001b[0m\u001b[0mbea_response\u001b[0m\u001b[1;33m,\u001b[0m \u001b[0mdict\u001b[0m\u001b[1;33m)\u001b[0m\u001b[1;33m\u001b[0m\u001b[1;33m\u001b[0m\u001b[0m\n",
      "\u001b[1;32m~\\AppData\\Roaming\\Python\\Python39\\site-packages\\beaapi\\api_request.py\u001b[0m in \u001b[0;36mapi_request\u001b[1;34m(beaspec, as_string, as_dict, as_table, is_meta, throttle, **kwargs)\u001b[0m\n\u001b[0;32m    154\u001b[0m                 \u001b[1;32mif\u001b[0m \u001b[0mthrottle\u001b[0m\u001b[1;33m:\u001b[0m\u001b[1;33m\u001b[0m\u001b[1;33m\u001b[0m\u001b[0m\n\u001b[0;32m    155\u001b[0m                     \u001b[0mthrottling_data\u001b[0m\u001b[1;33m[\u001b[0m\u001b[0muserid\u001b[0m\u001b[1;33m]\u001b[0m\u001b[1;33m.\u001b[0m\u001b[0mlog_query\u001b[0m\u001b[1;33m(\u001b[0m\u001b[0me\u001b[0m\u001b[1;33m.\u001b[0m\u001b[0mresponse_size\u001b[0m\u001b[1;33m,\u001b[0m \u001b[1;32mTrue\u001b[0m\u001b[1;33m)\u001b[0m\u001b[1;33m\u001b[0m\u001b[1;33m\u001b[0m\u001b[0m\n\u001b[1;32m--> 156\u001b[1;33m                 \u001b[1;32mraise\u001b[0m \u001b[0me\u001b[0m\u001b[1;33m\u001b[0m\u001b[1;33m\u001b[0m\u001b[0m\n\u001b[0m",
      "\u001b[1;32m~\\AppData\\Roaming\\Python\\Python39\\site-packages\\beaapi\\api_request.py\u001b[0m in \u001b[0;36mapi_request\u001b[1;34m(beaspec, as_string, as_dict, as_table, is_meta, throttle, **kwargs)\u001b[0m\n\u001b[0;32m    134\u001b[0m                 \u001b[1;32mif\u001b[0m \u001b[1;33m(\u001b[0m\u001b[0mas_dict\u001b[0m\u001b[1;33m)\u001b[0m\u001b[1;33m:\u001b[0m\u001b[1;33m\u001b[0m\u001b[1;33m\u001b[0m\u001b[0m\n\u001b[0;32m    135\u001b[0m                     \u001b[1;32mfrom\u001b[0m \u001b[0mbeaapi\u001b[0m\u001b[1;33m.\u001b[0m\u001b[0mresponse_to_dict\u001b[0m \u001b[1;32mimport\u001b[0m \u001b[0mresponse_to_dict\u001b[0m\u001b[1;33m\u001b[0m\u001b[1;33m\u001b[0m\u001b[0m\n\u001b[1;32m--> 136\u001b[1;33m                     \u001b[0mbea_response\u001b[0m \u001b[1;33m=\u001b[0m \u001b[0mresponse_to_dict\u001b[0m\u001b[1;33m(\u001b[0m\u001b[0mbea_payload\u001b[0m\u001b[1;33m,\u001b[0m \u001b[0mis_meta\u001b[0m\u001b[1;33m=\u001b[0m\u001b[0mis_meta\u001b[0m\u001b[1;33m)\u001b[0m\u001b[1;33m\u001b[0m\u001b[1;33m\u001b[0m\u001b[0m\n\u001b[0m\u001b[0;32m    137\u001b[0m                     \u001b[1;32mif\u001b[0m \u001b[0mthrottle\u001b[0m\u001b[1;33m:\u001b[0m\u001b[1;33m\u001b[0m\u001b[1;33m\u001b[0m\u001b[0m\n\u001b[0;32m    138\u001b[0m                         \u001b[0mrs\u001b[0m \u001b[1;33m=\u001b[0m \u001b[0mbea_response\u001b[0m\u001b[1;33m[\u001b[0m\u001b[1;34m\"response_size\"\u001b[0m\u001b[1;33m]\u001b[0m\u001b[1;33m\u001b[0m\u001b[1;33m\u001b[0m\u001b[0m\n",
      "\u001b[1;32m~\\AppData\\Roaming\\Python\\Python39\\site-packages\\beaapi\\response_to_dict.py\u001b[0m in \u001b[0;36mresponse_to_dict\u001b[1;34m(bea_payload, is_meta)\u001b[0m\n\u001b[0;32m    126\u001b[0m     \u001b[1;32mif\u001b[0m\u001b[1;33m(\u001b[0m\u001b[1;34m'error'\u001b[0m \u001b[1;32min\u001b[0m \u001b[1;33m(\u001b[0m\u001b[0mmap\u001b[0m\u001b[1;33m(\u001b[0m\u001b[1;32mlambda\u001b[0m \u001b[0mx\u001b[0m\u001b[1;33m:\u001b[0m \u001b[0mx\u001b[0m\u001b[1;33m.\u001b[0m\u001b[0mlower\u001b[0m\u001b[1;33m(\u001b[0m\u001b[1;33m)\u001b[0m\u001b[1;33m,\u001b[0m \u001b[0mbea_response\u001b[0m\u001b[1;33m[\u001b[0m\u001b[1;34m'BEAAPI'\u001b[0m\u001b[1;33m]\u001b[0m\u001b[1;33m[\u001b[0m\u001b[1;34m'Results'\u001b[0m\u001b[1;33m]\u001b[0m\u001b[1;33m.\u001b[0m\u001b[0mkeys\u001b[0m\u001b[1;33m(\u001b[0m\u001b[1;33m)\u001b[0m\u001b[1;33m)\u001b[0m\u001b[1;33m)\u001b[0m\u001b[1;33m)\u001b[0m\u001b[1;33m:\u001b[0m\u001b[1;33m\u001b[0m\u001b[1;33m\u001b[0m\u001b[0m\n\u001b[0;32m    127\u001b[0m         \u001b[0merr\u001b[0m \u001b[1;33m=\u001b[0m \u001b[0mgen_error\u001b[0m\u001b[1;33m(\u001b[0m\u001b[0mbea_response\u001b[0m\u001b[1;33m[\u001b[0m\u001b[1;34m'BEAAPI'\u001b[0m\u001b[1;33m]\u001b[0m\u001b[1;33m[\u001b[0m\u001b[1;34m'Results'\u001b[0m\u001b[1;33m]\u001b[0m\u001b[1;33m[\u001b[0m\u001b[1;34m'Error'\u001b[0m\u001b[1;33m]\u001b[0m\u001b[1;33m,\u001b[0m \u001b[0mresponse_size\u001b[0m\u001b[1;33m)\u001b[0m\u001b[1;33m\u001b[0m\u001b[1;33m\u001b[0m\u001b[0m\n\u001b[1;32m--> 128\u001b[1;33m         \u001b[1;32mraise\u001b[0m \u001b[0merr\u001b[0m\u001b[1;33m\u001b[0m\u001b[1;33m\u001b[0m\u001b[0m\n\u001b[0m\u001b[0;32m    129\u001b[0m \u001b[1;33m\u001b[0m\u001b[0m\n\u001b[0;32m    130\u001b[0m     \u001b[1;32mif\u001b[0m \u001b[0mis_meta\u001b[0m\u001b[1;33m:\u001b[0m\u001b[1;33m\u001b[0m\u001b[1;33m\u001b[0m\u001b[0m\n",
      "\u001b[1;31mBEAAPIResponseError\u001b[0m: The Dataset requested is currently disabled - try again later."
     ]
    }
   ],
   "source": [
    "list_of_params = beaapi.get_parameter_list(key, 'RegionalData')\n",
    "display(list_of_params)"
   ]
  },
  {
   "cell_type": "code",
   "execution_count": 6,
   "id": "add347ae",
   "metadata": {},
   "outputs": [
    {
     "data": {
      "text/plain": [
       "['BACKOFF_SECS',\n",
       " 'BEAAPIError',\n",
       " 'BEAAPIFailure',\n",
       " 'BEAAPIPkgException',\n",
       " 'BEAAPIResponseError',\n",
       " 'MAX_DATA_PER_MINUTE',\n",
       " 'MAX_ERRORS_PER_MINUTE',\n",
       " 'MAX_REQUESTS_PER_MINUTE',\n",
       " 'ThrottlingCaller',\n",
       " '__all__',\n",
       " '__builtins__',\n",
       " '__cached__',\n",
       " '__doc__',\n",
       " '__file__',\n",
       " '__loader__',\n",
       " '__name__',\n",
       " '__package__',\n",
       " '__path__',\n",
       " '__spec__',\n",
       " '__version__',\n",
       " 'api_request',\n",
       " 'beaapi_error',\n",
       " 'get_data',\n",
       " 'get_data_set_list',\n",
       " 'get_parameter_list',\n",
       " 'get_parameter_values',\n",
       " 'get_parameter_values_filtered',\n",
       " 'response_to_dict',\n",
       " 'search_metadata',\n",
       " 'throttling_caller',\n",
       " 'to_wide_vars_in_cols',\n",
       " 'to_wide_vars_in_rows',\n",
       " 'update_metadata']"
      ]
     },
     "execution_count": 6,
     "metadata": {},
     "output_type": "execute_result"
    }
   ],
   "source": [
    "dir(beaapi)"
   ]
  },
  {
   "cell_type": "code",
   "execution_count": 10,
   "id": "e7725cbc",
   "metadata": {},
   "outputs": [
    {
     "ename": "BEAAPIResponseError",
     "evalue": "When requesting a list of parameter values, the Parameter name must be included in the request - invalid parameter name.",
     "output_type": "error",
     "traceback": [
      "\u001b[1;31m---------------------------------------------------------------------------\u001b[0m",
      "\u001b[1;31mBEAAPIResponseError\u001b[0m                       Traceback (most recent call last)",
      "\u001b[1;32m~\\AppData\\Local\\Temp\\ipykernel_3040\\529726510.py\u001b[0m in \u001b[0;36m<module>\u001b[1;34m\u001b[0m\n\u001b[1;32m----> 1\u001b[1;33m \u001b[0mbeaapi\u001b[0m\u001b[1;33m.\u001b[0m\u001b[0mget_parameter_values\u001b[0m\u001b[1;33m(\u001b[0m\u001b[0mkey\u001b[0m\u001b[1;33m,\u001b[0m \u001b[1;34m'Regional'\u001b[0m\u001b[1;33m,\u001b[0m \u001b[1;34m'CAGDP9'\u001b[0m\u001b[1;33m)\u001b[0m\u001b[1;33m\u001b[0m\u001b[1;33m\u001b[0m\u001b[0m\n\u001b[0m\u001b[0;32m      2\u001b[0m \u001b[1;31m# beaapi.get_data(key,\"CAGDP9\")\u001b[0m\u001b[1;33m\u001b[0m\u001b[1;33m\u001b[0m\u001b[0m\n",
      "\u001b[1;32m~\\AppData\\Roaming\\Python\\Python39\\site-packages\\beaapi\\get_parameter_values.py\u001b[0m in \u001b[0;36mget_parameter_values\u001b[1;34m(userid, datasetname, parametername, throttle)\u001b[0m\n\u001b[0;32m     47\u001b[0m     }\n\u001b[0;32m     48\u001b[0m \u001b[1;33m\u001b[0m\u001b[0m\n\u001b[1;32m---> 49\u001b[1;33m     bea_response = api_request(bea_meta_specs, as_dict=True, as_table=False,\n\u001b[0m\u001b[0;32m     50\u001b[0m                                is_meta=True, throttle=throttle)\n\u001b[0;32m     51\u001b[0m     \u001b[1;32massert\u001b[0m \u001b[0misinstance\u001b[0m\u001b[1;33m(\u001b[0m\u001b[0mbea_response\u001b[0m\u001b[1;33m,\u001b[0m \u001b[0mdict\u001b[0m\u001b[1;33m)\u001b[0m\u001b[1;33m\u001b[0m\u001b[1;33m\u001b[0m\u001b[0m\n",
      "\u001b[1;32m~\\AppData\\Roaming\\Python\\Python39\\site-packages\\beaapi\\api_request.py\u001b[0m in \u001b[0;36mapi_request\u001b[1;34m(beaspec, as_string, as_dict, as_table, is_meta, throttle, **kwargs)\u001b[0m\n\u001b[0;32m    154\u001b[0m                 \u001b[1;32mif\u001b[0m \u001b[0mthrottle\u001b[0m\u001b[1;33m:\u001b[0m\u001b[1;33m\u001b[0m\u001b[1;33m\u001b[0m\u001b[0m\n\u001b[0;32m    155\u001b[0m                     \u001b[0mthrottling_data\u001b[0m\u001b[1;33m[\u001b[0m\u001b[0muserid\u001b[0m\u001b[1;33m]\u001b[0m\u001b[1;33m.\u001b[0m\u001b[0mlog_query\u001b[0m\u001b[1;33m(\u001b[0m\u001b[0me\u001b[0m\u001b[1;33m.\u001b[0m\u001b[0mresponse_size\u001b[0m\u001b[1;33m,\u001b[0m \u001b[1;32mTrue\u001b[0m\u001b[1;33m)\u001b[0m\u001b[1;33m\u001b[0m\u001b[1;33m\u001b[0m\u001b[0m\n\u001b[1;32m--> 156\u001b[1;33m                 \u001b[1;32mraise\u001b[0m \u001b[0me\u001b[0m\u001b[1;33m\u001b[0m\u001b[1;33m\u001b[0m\u001b[0m\n\u001b[0m",
      "\u001b[1;32m~\\AppData\\Roaming\\Python\\Python39\\site-packages\\beaapi\\api_request.py\u001b[0m in \u001b[0;36mapi_request\u001b[1;34m(beaspec, as_string, as_dict, as_table, is_meta, throttle, **kwargs)\u001b[0m\n\u001b[0;32m    134\u001b[0m                 \u001b[1;32mif\u001b[0m \u001b[1;33m(\u001b[0m\u001b[0mas_dict\u001b[0m\u001b[1;33m)\u001b[0m\u001b[1;33m:\u001b[0m\u001b[1;33m\u001b[0m\u001b[1;33m\u001b[0m\u001b[0m\n\u001b[0;32m    135\u001b[0m                     \u001b[1;32mfrom\u001b[0m \u001b[0mbeaapi\u001b[0m\u001b[1;33m.\u001b[0m\u001b[0mresponse_to_dict\u001b[0m \u001b[1;32mimport\u001b[0m \u001b[0mresponse_to_dict\u001b[0m\u001b[1;33m\u001b[0m\u001b[1;33m\u001b[0m\u001b[0m\n\u001b[1;32m--> 136\u001b[1;33m                     \u001b[0mbea_response\u001b[0m \u001b[1;33m=\u001b[0m \u001b[0mresponse_to_dict\u001b[0m\u001b[1;33m(\u001b[0m\u001b[0mbea_payload\u001b[0m\u001b[1;33m,\u001b[0m \u001b[0mis_meta\u001b[0m\u001b[1;33m=\u001b[0m\u001b[0mis_meta\u001b[0m\u001b[1;33m)\u001b[0m\u001b[1;33m\u001b[0m\u001b[1;33m\u001b[0m\u001b[0m\n\u001b[0m\u001b[0;32m    137\u001b[0m                     \u001b[1;32mif\u001b[0m \u001b[0mthrottle\u001b[0m\u001b[1;33m:\u001b[0m\u001b[1;33m\u001b[0m\u001b[1;33m\u001b[0m\u001b[0m\n\u001b[0;32m    138\u001b[0m                         \u001b[0mrs\u001b[0m \u001b[1;33m=\u001b[0m \u001b[0mbea_response\u001b[0m\u001b[1;33m[\u001b[0m\u001b[1;34m\"response_size\"\u001b[0m\u001b[1;33m]\u001b[0m\u001b[1;33m\u001b[0m\u001b[1;33m\u001b[0m\u001b[0m\n",
      "\u001b[1;32m~\\AppData\\Roaming\\Python\\Python39\\site-packages\\beaapi\\response_to_dict.py\u001b[0m in \u001b[0;36mresponse_to_dict\u001b[1;34m(bea_payload, is_meta)\u001b[0m\n\u001b[0;32m    126\u001b[0m     \u001b[1;32mif\u001b[0m\u001b[1;33m(\u001b[0m\u001b[1;34m'error'\u001b[0m \u001b[1;32min\u001b[0m \u001b[1;33m(\u001b[0m\u001b[0mmap\u001b[0m\u001b[1;33m(\u001b[0m\u001b[1;32mlambda\u001b[0m \u001b[0mx\u001b[0m\u001b[1;33m:\u001b[0m \u001b[0mx\u001b[0m\u001b[1;33m.\u001b[0m\u001b[0mlower\u001b[0m\u001b[1;33m(\u001b[0m\u001b[1;33m)\u001b[0m\u001b[1;33m,\u001b[0m \u001b[0mbea_response\u001b[0m\u001b[1;33m[\u001b[0m\u001b[1;34m'BEAAPI'\u001b[0m\u001b[1;33m]\u001b[0m\u001b[1;33m[\u001b[0m\u001b[1;34m'Results'\u001b[0m\u001b[1;33m]\u001b[0m\u001b[1;33m.\u001b[0m\u001b[0mkeys\u001b[0m\u001b[1;33m(\u001b[0m\u001b[1;33m)\u001b[0m\u001b[1;33m)\u001b[0m\u001b[1;33m)\u001b[0m\u001b[1;33m)\u001b[0m\u001b[1;33m:\u001b[0m\u001b[1;33m\u001b[0m\u001b[1;33m\u001b[0m\u001b[0m\n\u001b[0;32m    127\u001b[0m         \u001b[0merr\u001b[0m \u001b[1;33m=\u001b[0m \u001b[0mgen_error\u001b[0m\u001b[1;33m(\u001b[0m\u001b[0mbea_response\u001b[0m\u001b[1;33m[\u001b[0m\u001b[1;34m'BEAAPI'\u001b[0m\u001b[1;33m]\u001b[0m\u001b[1;33m[\u001b[0m\u001b[1;34m'Results'\u001b[0m\u001b[1;33m]\u001b[0m\u001b[1;33m[\u001b[0m\u001b[1;34m'Error'\u001b[0m\u001b[1;33m]\u001b[0m\u001b[1;33m,\u001b[0m \u001b[0mresponse_size\u001b[0m\u001b[1;33m)\u001b[0m\u001b[1;33m\u001b[0m\u001b[1;33m\u001b[0m\u001b[0m\n\u001b[1;32m--> 128\u001b[1;33m         \u001b[1;32mraise\u001b[0m \u001b[0merr\u001b[0m\u001b[1;33m\u001b[0m\u001b[1;33m\u001b[0m\u001b[0m\n\u001b[0m\u001b[0;32m    129\u001b[0m \u001b[1;33m\u001b[0m\u001b[0m\n\u001b[0;32m    130\u001b[0m     \u001b[1;32mif\u001b[0m \u001b[0mis_meta\u001b[0m\u001b[1;33m:\u001b[0m\u001b[1;33m\u001b[0m\u001b[1;33m\u001b[0m\u001b[0m\n",
      "\u001b[1;31mBEAAPIResponseError\u001b[0m: When requesting a list of parameter values, the Parameter name must be included in the request - invalid parameter name."
     ]
    }
   ],
   "source": [
    "beaapi.get_parameter_values(key, 'RegionalData', 'CAGDP9')\n",
    "# beaapi.get_data(key,\"CAGDP9\")"
   ]
  },
  {
   "cell_type": "code",
   "execution_count": null,
   "id": "a24285a3",
   "metadata": {},
   "outputs": [],
   "source": [
    "data.Regional(GeoFips = \"COUNTY\",\n",
    "              LineCode = \"1\",\n",
    "              TableName = \"CAGDP9\", \n",
    "              Year = \"2010\")"
   ]
  }
 ],
 "metadata": {
  "kernelspec": {
   "display_name": "Python 3 (ipykernel)",
   "language": "python",
   "name": "python3"
  },
  "language_info": {
   "codemirror_mode": {
    "name": "ipython",
    "version": 3
   },
   "file_extension": ".py",
   "mimetype": "text/x-python",
   "name": "python",
   "nbconvert_exporter": "python",
   "pygments_lexer": "ipython3",
   "version": "3.9.13"
  }
 },
 "nbformat": 4,
 "nbformat_minor": 5
}
