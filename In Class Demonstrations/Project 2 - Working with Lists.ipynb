{
 "cells": [
  {
   "cell_type": "code",
   "execution_count": 1,
   "id": "69c12ba3",
   "metadata": {},
   "outputs": [],
   "source": [
    "empty_list = []\n",
    "int_list = [1,2,3,4,5]\n",
    "float_list = [1.0, 2.0, 3.0, 4.0, 5.0]\n",
    "string_list = [\"Many words\", \"impoverished meaning\"]\n",
    "mixed_list = [1, 2.0, \"3\"]"
   ]
  },
  {
   "cell_type": "code",
   "execution_count": 4,
   "id": "f5bfaac8",
   "metadata": {},
   "outputs": [
    {
     "name": "stdout",
     "output_type": "stream",
     "text": [
      "<class 'list'>\n",
      "<class 'list'>\n",
      "<class 'list'>\n",
      "<class 'list'>\n",
      "<class 'list'>\n"
     ]
    }
   ],
   "source": [
    "print(type(empty_list))\n",
    "print(type(int_list))\n",
    "print(type(float_list))\n",
    "print(type(string_list))\n",
    "print(type(mixed_list))"
   ]
  },
  {
   "cell_type": "code",
   "execution_count": 7,
   "id": "a6b99f73",
   "metadata": {},
   "outputs": [
    {
     "name": "stdout",
     "output_type": "stream",
     "text": [
      "<class 'list'> [1, 2.0, '3']\n",
      "<class 'int'> 1\n",
      "<class 'float'> 2.0\n",
      "<class 'str'> 3\n"
     ]
    }
   ],
   "source": [
    "print(type(mixed_list), mixed_list)\n",
    "for value in mixed_list:\n",
    "    print(type(value), value)"
   ]
  },
  {
   "cell_type": "code",
   "execution_count": null,
   "id": "8ca9ca4f",
   "metadata": {},
   "outputs": [],
   "source": []
  }
 ],
 "metadata": {
  "kernelspec": {
   "display_name": "Python 3 (ipykernel)",
   "language": "python",
   "name": "python3"
  },
  "language_info": {
   "codemirror_mode": {
    "name": "ipython",
    "version": 3
   },
   "file_extension": ".py",
   "mimetype": "text/x-python",
   "name": "python",
   "nbconvert_exporter": "python",
   "pygments_lexer": "ipython3",
   "version": "3.9.13"
  }
 },
 "nbformat": 4,
 "nbformat_minor": 5
}
