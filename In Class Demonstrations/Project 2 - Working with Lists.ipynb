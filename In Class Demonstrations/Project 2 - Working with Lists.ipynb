{
 "cells": [
  {
   "cell_type": "markdown",
   "id": "d70bf462",
   "metadata": {},
   "source": [
    "# Project 2: Working with Lists"
   ]
  },
  {
   "cell_type": "code",
   "execution_count": 1,
   "id": "69c12ba3",
   "metadata": {},
   "outputs": [],
   "source": [
    "empty_list = []\n",
    "int_list = [1,2,3,4,5]\n",
    "float_list = [1.0, 2.0, 3.0, 4.0, 5.0]\n",
    "string_list = [\"Many words\", \"impoverished meaning\"]\n",
    "mixed_list = [1, 2.0, \"3\"]"
   ]
  },
  {
   "cell_type": "code",
   "execution_count": 4,
   "id": "f5bfaac8",
   "metadata": {},
   "outputs": [
    {
     "name": "stdout",
     "output_type": "stream",
     "text": [
      "<class 'list'>\n",
      "<class 'list'>\n",
      "<class 'list'>\n",
      "<class 'list'>\n",
      "<class 'list'>\n"
     ]
    }
   ],
   "source": [
    "print(type(empty_list))\n",
    "print(type(int_list))\n",
    "print(type(float_list))\n",
    "print(type(string_list))\n",
    "print(type(mixed_list))"
   ]
  },
  {
   "cell_type": "code",
   "execution_count": 7,
   "id": "a6b99f73",
   "metadata": {},
   "outputs": [
    {
     "name": "stdout",
     "output_type": "stream",
     "text": [
      "<class 'list'> [1, 2.0, '3']\n",
      "<class 'int'> 1\n",
      "<class 'float'> 2.0\n",
      "<class 'str'> 3\n"
     ]
    }
   ],
   "source": [
    "print(type(mixed_list), mixed_list)\n",
    "for value in mixed_list:\n",
    "    print(type(value), value)"
   ]
  },
  {
   "cell_type": "markdown",
   "id": "2faf3bf4",
   "metadata": {},
   "source": [
    "## Concatenating Lists\n",
    "\n",
    "Concatenating two separates lists joins those lists into a single list.\n",
    "\n",
    "Has same affect as appending the second list to the first list."
   ]
  },
  {
   "cell_type": "code",
   "execution_count": 1,
   "id": "8ca9ca4f",
   "metadata": {},
   "outputs": [
    {
     "data": {
      "text/plain": [
       "'ab'"
      ]
     },
     "execution_count": 1,
     "metadata": {},
     "output_type": "execute_result"
    }
   ],
   "source": [
    "\"a\" + \"b\""
   ]
  },
  {
   "cell_type": "code",
   "execution_count": 2,
   "id": "c8b820f8",
   "metadata": {},
   "outputs": [
    {
     "data": {
      "text/plain": [
       "['a', 'b']"
      ]
     },
     "execution_count": 2,
     "metadata": {},
     "output_type": "execute_result"
    }
   ],
   "source": [
    "[\"a\"] + [\"b\"]"
   ]
  },
  {
   "cell_type": "code",
   "execution_count": 3,
   "id": "8fc471f8",
   "metadata": {},
   "outputs": [
    {
     "data": {
      "text/plain": [
       "['a', 'b']"
      ]
     },
     "execution_count": 3,
     "metadata": {},
     "output_type": "execute_result"
    }
   ],
   "source": [
    "x = [\"a\"]\n",
    "\n",
    "x = x + [\"b\"]\n",
    "x"
   ]
  },
  {
   "cell_type": "markdown",
   "id": "10e3b02e",
   "metadata": {},
   "source": [
    "### Transform a string of characters into a list of string characters"
   ]
  },
  {
   "cell_type": "code",
   "execution_count": 6,
   "id": "0f1e0266",
   "metadata": {},
   "outputs": [
    {
     "name": "stdout",
     "output_type": "stream",
     "text": [
      "['a', 'b', 'c', 'd', 'e', 'f', 'g', 'h', 'i', 'j', 'k', 'l', 'm', 'n', 'o', 'p', 'q', 'r', 's', 't', 'u', 'v', 'w', 'x', 'y', 'z']\n"
     ]
    }
   ],
   "source": [
    "alphabet = \"abcdefghijklmnopqrstuvwxyz\"\n",
    "alpha_list = []\n",
    "\n",
    "# For loop will cycle through each character (letter) in the string, alphabet\n",
    "#  each character will be represented by the variable: letter\n",
    "for letter in alphabet:\n",
    "#     print(letter)\n",
    "    alpha_list = alpha_list + [letter]\n",
    "print(alpha_list)"
   ]
  },
  {
   "cell_type": "code",
   "execution_count": 7,
   "id": "a5ec215f",
   "metadata": {},
   "outputs": [
    {
     "data": {
      "text/plain": [
       "[1, 2, 3, 4, 5, 6, 7, 8, 9, 10]"
      ]
     },
     "execution_count": 7,
     "metadata": {},
     "output_type": "execute_result"
    }
   ],
   "source": [
    "list1 = [1,2,3,4,5]\n",
    "list2 = [6,7,8,9,10]\n",
    "list1 + list2"
   ]
  },
  {
   "cell_type": "markdown",
   "id": "479f16f3",
   "metadata": {},
   "source": [
    "### Transform a list of strings into a single string with spaces between each word."
   ]
  },
  {
   "cell_type": "code",
   "execution_count": 16,
   "id": "28cd2e5a",
   "metadata": {},
   "outputs": [
    {
     "name": "stdout",
     "output_type": "stream",
     "text": [
      "This \n",
      "This is \n",
      "This is a \n",
      "This is a list \n",
      "This is a list of \n",
      "This is a list of strings. \n"
     ]
    },
    {
     "data": {
      "text/plain": [
       "'This is a list of strings.'"
      ]
     },
     "execution_count": 16,
     "metadata": {},
     "output_type": "execute_result"
    }
   ],
   "source": [
    "str_list = [\"This\", \"is\",\"a\",\"list\",\"of\",\"strings.\"]\n",
    "new_string = \"\"\n",
    "# the for loop will cycle through each string in the list separately\n",
    "# each string will be identified by the variable: string\n",
    "for string in str_list:\n",
    "    # joint each separate string to the object, new_string\n",
    "    new_string = new_string + string + \" \"\n",
    "    print(new_string)\n",
    "new_string.strip()"
   ]
  },
  {
   "cell_type": "markdown",
   "id": "f29a574d",
   "metadata": {},
   "source": [
    "### *range(min, max + 1, interval)*"
   ]
  },
  {
   "cell_type": "code",
   "execution_count": 18,
   "id": "01fb447e",
   "metadata": {},
   "outputs": [
    {
     "name": "stdout",
     "output_type": "stream",
     "text": [
      "0\n",
      "1\n",
      "2\n",
      "3\n",
      "4\n",
      "5\n",
      "6\n",
      "7\n",
      "8\n",
      "9\n"
     ]
    }
   ],
   "source": [
    "for i in range(10):\n",
    "    print(i)"
   ]
  },
  {
   "cell_type": "code",
   "execution_count": 19,
   "id": "4d255ac5",
   "metadata": {},
   "outputs": [
    {
     "name": "stdout",
     "output_type": "stream",
     "text": [
      "0\n",
      "1\n",
      "2\n",
      "3\n",
      "4\n",
      "5\n",
      "6\n",
      "7\n",
      "8\n",
      "9\n"
     ]
    }
   ],
   "source": [
    "for i in range(0,10):\n",
    "    print(i)"
   ]
  },
  {
   "cell_type": "code",
   "execution_count": 37,
   "id": "fae5040a",
   "metadata": {},
   "outputs": [
    {
     "data": {
      "text/plain": [
       "[-10, -9, -8, -7, -6, -5, -4, -3, -2, -1, 0, 1, 2, 3, 4, 5, 6, 7, 8, 9, 10]"
      ]
     },
     "execution_count": 37,
     "metadata": {},
     "output_type": "execute_result"
    }
   ],
   "source": [
    "minrange = -10\n",
    "maxrange = 10\n",
    "range_lst = list(range(minrange,maxrange + 1))\n",
    "range_lst"
   ]
  },
  {
   "cell_type": "code",
   "execution_count": 29,
   "id": "45882ab7",
   "metadata": {},
   "outputs": [
    {
     "data": {
      "text/plain": [
       "range(0, 10)"
      ]
     },
     "execution_count": 29,
     "metadata": {},
     "output_type": "execute_result"
    }
   ],
   "source": [
    "range(0,10)"
   ]
  },
  {
   "cell_type": "code",
   "execution_count": 31,
   "id": "ebdcc117",
   "metadata": {},
   "outputs": [
    {
     "name": "stdout",
     "output_type": "stream",
     "text": [
      "0\n",
      "1\n",
      "2\n",
      "3\n",
      "4\n",
      "5\n",
      "6\n",
      "7\n",
      "8\n",
      "9\n"
     ]
    }
   ],
   "source": [
    "for i in range_lst:\n",
    "    print(i)"
   ]
  },
  {
   "cell_type": "code",
   "execution_count": 39,
   "id": "3d714943",
   "metadata": {},
   "outputs": [
    {
     "name": "stdout",
     "output_type": "stream",
     "text": [
      "[-100, -97, -94, -91, -88, -85, -82, -79, -76, -73, -70, -67, -64, -61, -58, -55, -52, -49, -46, -43, -40, -37, -34, -31, -28, -25, -22, -19, -16, -13, -10, -7, -4, -1, 2, 5, 8, 11, 14, 17, 20, 23, 26, 29, 32, 35, 38, 41, 44, 47, 50, 53, 56, 59, 62, 65, 68, 71, 74, 77, 80, 83, 86, 89, 92, 95, 98]\n"
     ]
    }
   ],
   "source": [
    "minrange = -100\n",
    "maxrange = 100\n",
    "interval = 3\n",
    "range_lst = list(range(minrange,maxrange + 1, interval))\n",
    "print(range_lst)"
   ]
  },
  {
   "cell_type": "markdown",
   "id": "916e6411",
   "metadata": {},
   "source": [
    "### interval can be used in range(), but it can also be used in calling a slice of a list where only every i elements are called "
   ]
  },
  {
   "cell_type": "code",
   "execution_count": 42,
   "id": "32e4884d",
   "metadata": {},
   "outputs": [
    {
     "name": "stdout",
     "output_type": "stream",
     "text": [
      "[-100, -99, -98, -97, -96, -95, -94, -93, -92, -91, -90, -89, -88, -87, -86, -85, -84, -83, -82, -81, -80, -79, -78, -77, -76, -75, -74, -73, -72, -71, -70, -69, -68, -67, -66, -65, -64, -63, -62, -61, -60, -59, -58, -57, -56, -55, -54, -53, -52, -51, -50, -49, -48, -47, -46, -45, -44, -43, -42, -41, -40, -39, -38, -37, -36, -35, -34, -33, -32, -31, -30, -29, -28, -27, -26, -25, -24, -23, -22, -21, -20, -19, -18, -17, -16, -15, -14, -13, -12, -11, -10, -9, -8, -7, -6, -5, -4, -3, -2, -1, 0, 1, 2, 3, 4, 5, 6, 7, 8, 9, 10, 11, 12, 13, 14, 15, 16, 17, 18, 19, 20, 21, 22, 23, 24, 25, 26, 27, 28, 29, 30, 31, 32, 33, 34, 35, 36, 37, 38, 39, 40, 41, 42, 43, 44, 45, 46, 47, 48, 49, 50, 51, 52, 53, 54, 55, 56, 57, 58, 59, 60, 61, 62, 63, 64, 65, 66, 67, 68, 69, 70, 71, 72, 73, 74, 75, 76, 77, 78, 79, 80, 81, 82, 83, 84, 85, 86, 87, 88, 89, 90, 91, 92, 93, 94, 95, 96, 97, 98, 99, 100]\n",
      "[-100, -97, -94, -91, -88, -85, -82, -79, -76, -73, -70, -67, -64, -61, -58, -55, -52, -49, -46, -43, -40, -37, -34, -31, -28, -25, -22, -19, -16, -13, -10, -7, -4, -1, 2, 5, 8, 11, 14, 17, 20, 23, 26, 29, 32, 35, 38, 41, 44, 47, 50, 53, 56, 59, 62, 65, 68, 71, 74, 77, 80, 83, 86, 89, 92, 95, 98]\n"
     ]
    }
   ],
   "source": [
    "minrange = -100\n",
    "maxrange = 100 + interval\n",
    "interval = 3\n",
    "range_lst = list(range(minrange,maxrange + 1))\n",
    "print(range_lst)\n",
    "print(range_lst[::interval])\n",
    "interval = 3\n"
   ]
  },
  {
   "cell_type": "markdown",
   "id": "8ff5b9eb",
   "metadata": {},
   "source": [
    "#### You must define a variable before calling that variable. If you call a variable before defining it, the program will throw an error"
   ]
  },
  {
   "cell_type": "code",
   "execution_count": 45,
   "id": "6caea0ab",
   "metadata": {},
   "outputs": [
    {
     "ename": "NameError",
     "evalue": "name 'interval2' is not defined",
     "output_type": "error",
     "traceback": [
      "\u001b[1;31m---------------------------------------------------------------------------\u001b[0m",
      "\u001b[1;31mNameError\u001b[0m                                 Traceback (most recent call last)",
      "\u001b[1;32m~\\AppData\\Local\\Temp\\ipykernel_20248\\2238347764.py\u001b[0m in \u001b[0;36m<module>\u001b[1;34m\u001b[0m\n\u001b[0;32m      1\u001b[0m \u001b[0mminrange\u001b[0m \u001b[1;33m=\u001b[0m \u001b[1;33m-\u001b[0m\u001b[1;36m100\u001b[0m\u001b[1;33m\u001b[0m\u001b[1;33m\u001b[0m\u001b[0m\n\u001b[1;32m----> 2\u001b[1;33m \u001b[0mmaxrange\u001b[0m \u001b[1;33m=\u001b[0m \u001b[1;36m100\u001b[0m \u001b[1;33m+\u001b[0m \u001b[0minterval2\u001b[0m\u001b[1;33m\u001b[0m\u001b[1;33m\u001b[0m\u001b[0m\n\u001b[0m\u001b[0;32m      3\u001b[0m \u001b[0minterval2\u001b[0m \u001b[1;33m=\u001b[0m \u001b[1;36m3\u001b[0m\u001b[1;33m\u001b[0m\u001b[1;33m\u001b[0m\u001b[0m\n",
      "\u001b[1;31mNameError\u001b[0m: name 'interval2' is not defined"
     ]
    }
   ],
   "source": [
    "minrange = -100\n",
    "maxrange = 100 + interval2\n",
    "interval2 = 3"
   ]
  },
  {
   "cell_type": "markdown",
   "id": "a7c03fc2",
   "metadata": {},
   "source": [
    "## Generator Functions"
   ]
  },
  {
   "cell_type": "code",
   "execution_count": 61,
   "id": "4ddecfcb",
   "metadata": {},
   "outputs": [
    {
     "name": "stdout",
     "output_type": "stream",
     "text": [
      "0\n",
      "2\n",
      "5\n",
      "7\n",
      "3\n",
      "3\n",
      "3\n",
      "10\n",
      "0\n",
      "2\n"
     ]
    }
   ],
   "source": [
    "import random\n",
    "for i in range(10):\n",
    "    print(random.randint(0,10))"
   ]
  },
  {
   "cell_type": "code",
   "execution_count": 68,
   "id": "e22de930",
   "metadata": {},
   "outputs": [
    {
     "data": {
      "text/plain": [
       "[-10, -9, -8, -7, -6, -5, -4, -3, -2, -1, 0, 1, 2, 3, 4, 5, 6, 7, 8, 9, 10]"
      ]
     },
     "execution_count": 68,
     "metadata": {},
     "output_type": "execute_result"
    }
   ],
   "source": [
    "minrange = -10\n",
    "maxrange = 10\n",
    "# x = list(range(minrange, maxrange + 1))\n",
    "x = [i for i in range(minrange, maxrange + 1)]\n",
    "x"
   ]
  },
  {
   "cell_type": "code",
   "execution_count": 69,
   "id": "9d1ce2dd",
   "metadata": {},
   "outputs": [
    {
     "data": {
      "text/plain": [
       "[100, 81, 64, 49, 36, 25, 16, 9, 4, 1, 0, 1, 4, 9, 16, 25, 36, 49, 64, 81, 100]"
      ]
     },
     "execution_count": 69,
     "metadata": {},
     "output_type": "execute_result"
    }
   ],
   "source": [
    "minrange = -10\n",
    "maxrange = 10\n",
    "# x = list(range(minrange, maxrange + 1))\n",
    "x = [i ** 2 for i in range(minrange, maxrange + 1)]\n",
    "x"
   ]
  },
  {
   "cell_type": "markdown",
   "id": "881a3dab",
   "metadata": {},
   "source": [
    "#### Determine list values according to an equation:\n",
    "\n",
    "$$y = 2x^2 + 3x + 1$$"
   ]
  },
  {
   "cell_type": "code",
   "execution_count": 92,
   "id": "10eb7354",
   "metadata": {},
   "outputs": [
    {
     "name": "stdout",
     "output_type": "stream",
     "text": [
      "[171, 136, 105, 78, 55, 36, 21, 10, 3, 0, 1, 6, 15, 28, 45, 66, 91, 120, 153, 190, 231]\n"
     ]
    }
   ],
   "source": [
    "y = [2 * x ** 2 + 3 * x + 1 for x in range(minrange, maxrange + 1)]\n",
    "print(y)"
   ]
  },
  {
   "cell_type": "code",
   "execution_count": 70,
   "id": "96c8e3a1",
   "metadata": {},
   "outputs": [],
   "source": [
    "# import matplotlib.pyplot as plt\n",
    "# plt.plot(y)"
   ]
  },
  {
   "cell_type": "markdown",
   "id": "8115ad9c",
   "metadata": {},
   "source": [
    "# you don't always need to use the value from the for loop. The index in the for loop can define how many times a task is completed rather than indicating what a value should be"
   ]
  },
  {
   "cell_type": "code",
   "execution_count": 91,
   "id": "01c4268c",
   "metadata": {},
   "outputs": [
    {
     "name": "stdout",
     "output_type": "stream",
     "text": [
      "[4, 9, 1, -3, 8, 3, 7, -4, -10, 9]\n"
     ]
    }
   ],
   "source": [
    "y = [random.randint(minrange,maxrange+1) for x in range(10)]\n",
    "print(y)"
   ]
  },
  {
   "cell_type": "code",
   "execution_count": 89,
   "id": "b340792b",
   "metadata": {},
   "outputs": [
    {
     "data": {
      "text/plain": [
       "[<matplotlib.lines.Line2D at 0x11cc16bd400>]"
      ]
     },
     "execution_count": 89,
     "metadata": {},
     "output_type": "execute_result"
    },
    {
     "data": {
      "image/png": "[encoded data removed]",
      "text/plain": [
       "<Figure size 640x480 with 1 Axes>"
      ]
     },
     "metadata": {},
     "output_type": "display_data"
    }
   ],
   "source": [
    "y = [random.randint(minrange,maxrange+1) for x in range(100)]\n",
    "plt.plot(y, ls=\"\", marker = \".\")"
   ]
  },
  {
   "cell_type": "code",
   "execution_count": null,
   "id": "450629e2",
   "metadata": {},
   "outputs": [],
   "source": []
  },
  {
   "cell_type": "code",
   "execution_count": null,
   "id": "3c885ad2",
   "metadata": {},
   "outputs": [],
   "source": []
  }
 ],
 "metadata": {
  "kernelspec": {
   "display_name": "Python 3 (ipykernel)",
   "language": "python",
   "name": "python3"
  },
  "language_info": {
   "codemirror_mode": {
    "name": "ipython",
    "version": 3
   },
   "file_extension": ".py",
   "mimetype": "text/x-python",
   "name": "python",
   "nbconvert_exporter": "python",
   "pygments_lexer": "ipython3",
   "version": "3.9.13"
  }
 },
 "nbformat": 4,
 "nbformat_minor": 5
}
