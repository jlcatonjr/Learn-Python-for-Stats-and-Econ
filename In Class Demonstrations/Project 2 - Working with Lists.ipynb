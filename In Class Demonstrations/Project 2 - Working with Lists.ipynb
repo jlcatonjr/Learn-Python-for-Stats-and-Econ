{
 "cells": [
  {
   "cell_type": "markdown",
   "id": "d70bf462",
   "metadata": {},
   "source": [
    "# Project 2: Working with Lists"
   ]
  },
  {
   "cell_type": "code",
   "execution_count": 1,
   "id": "69c12ba3",
   "metadata": {},
   "outputs": [],
   "source": [
    "empty_list = []\n",
    "int_list = [1,2,3,4,5]\n",
    "float_list = [1.0, 2.0, 3.0, 4.0, 5.0]\n",
    "string_list = [\"Many words\", \"impoverished meaning\"]\n",
    "mixed_list = [1, 2.0, \"3\"]"
   ]
  },
  {
   "cell_type": "code",
   "execution_count": 2,
   "id": "f5bfaac8",
   "metadata": {},
   "outputs": [
    {
     "name": "stdout",
     "output_type": "stream",
     "text": [
      "<class 'list'>\n",
      "<class 'list'>\n",
      "<class 'list'>\n",
      "<class 'list'>\n",
      "<class 'list'>\n"
     ]
    }
   ],
   "source": [
    "print(type(empty_list))\n",
    "print(type(int_list))\n",
    "print(type(float_list))\n",
    "print(type(string_list))\n",
    "print(type(mixed_list))"
   ]
  },
  {
   "cell_type": "code",
   "execution_count": 3,
   "id": "a6b99f73",
   "metadata": {},
   "outputs": [
    {
     "name": "stdout",
     "output_type": "stream",
     "text": [
      "<class 'list'> [1, 2.0, '3']\n",
      "<class 'int'> 1\n",
      "<class 'float'> 2.0\n",
      "<class 'str'> 3\n"
     ]
    }
   ],
   "source": [
    "print(type(mixed_list), mixed_list)\n",
    "for value in mixed_list:\n",
    "    print(type(value), value)"
   ]
  },
  {
   "cell_type": "markdown",
   "id": "2faf3bf4",
   "metadata": {},
   "source": [
    "## Concatenating Lists\n",
    "\n",
    "Concatenating two separates lists joins those lists into a single list.\n",
    "\n",
    "Has same affect as appending the second list to the first list."
   ]
  },
  {
   "cell_type": "code",
   "execution_count": 4,
   "id": "8ca9ca4f",
   "metadata": {},
   "outputs": [
    {
     "data": {
      "text/plain": [
       "'ab'"
      ]
     },
     "execution_count": 4,
     "metadata": {},
     "output_type": "execute_result"
    }
   ],
   "source": [
    "\"a\" + \"b\""
   ]
  },
  {
   "cell_type": "code",
   "execution_count": 5,
   "id": "c8b820f8",
   "metadata": {},
   "outputs": [
    {
     "data": {
      "text/plain": [
       "['a', 'b']"
      ]
     },
     "execution_count": 5,
     "metadata": {},
     "output_type": "execute_result"
    }
   ],
   "source": [
    "[\"a\"] + [\"b\"]"
   ]
  },
  {
   "cell_type": "code",
   "execution_count": 6,
   "id": "8fc471f8",
   "metadata": {},
   "outputs": [
    {
     "data": {
      "text/plain": [
       "['a', 'b']"
      ]
     },
     "execution_count": 6,
     "metadata": {},
     "output_type": "execute_result"
    }
   ],
   "source": [
    "x = [\"a\"]\n",
    "\n",
    "x = x + [\"b\"]\n",
    "x"
   ]
  },
  {
   "cell_type": "markdown",
   "id": "10e3b02e",
   "metadata": {},
   "source": [
    "### Transform a string of characters into a list of string characters"
   ]
  },
  {
   "cell_type": "code",
   "execution_count": 7,
   "id": "0f1e0266",
   "metadata": {},
   "outputs": [
    {
     "name": "stdout",
     "output_type": "stream",
     "text": [
      "['a', 'b', 'c', 'd', 'e', 'f', 'g', 'h', 'i', 'j', 'k', 'l', 'm', 'n', 'o', 'p', 'q', 'r', 's', 't', 'u', 'v', 'w', 'x', 'y', 'z']\n"
     ]
    }
   ],
   "source": [
    "alphabet = \"abcdefghijklmnopqrstuvwxyz\"\n",
    "alpha_list = []\n",
    "\n",
    "# For loop will cycle through each character (letter) in the string, alphabet\n",
    "#  each character will be represented by the variable: letter\n",
    "for letter in alphabet:\n",
    "#     print(letter)\n",
    "    alpha_list = alpha_list + [letter]\n",
    "print(alpha_list)"
   ]
  },
  {
   "cell_type": "code",
   "execution_count": 8,
   "id": "a5ec215f",
   "metadata": {},
   "outputs": [
    {
     "data": {
      "text/plain": [
       "[1, 2, 3, 4, 5, 6, 7, 8, 9, 10]"
      ]
     },
     "execution_count": 8,
     "metadata": {},
     "output_type": "execute_result"
    }
   ],
   "source": [
    "list1 = [1,2,3,4,5]\n",
    "list2 = [6,7,8,9,10]\n",
    "list1 + list2"
   ]
  },
  {
   "cell_type": "markdown",
   "id": "479f16f3",
   "metadata": {},
   "source": [
    "### Transform a list of strings into a single string with spaces between each word."
   ]
  },
  {
   "cell_type": "code",
   "execution_count": 9,
   "id": "28cd2e5a",
   "metadata": {},
   "outputs": [
    {
     "name": "stdout",
     "output_type": "stream",
     "text": [
      "This \n",
      "This is \n",
      "This is a \n",
      "This is a list \n",
      "This is a list of \n",
      "This is a list of strings. \n"
     ]
    },
    {
     "data": {
      "text/plain": [
       "'This is a list of strings.'"
      ]
     },
     "execution_count": 9,
     "metadata": {},
     "output_type": "execute_result"
    }
   ],
   "source": [
    "str_list = [\"This\", \"is\",\"a\",\"list\",\"of\",\"strings.\"]\n",
    "new_string = \"\"\n",
    "# the for loop will cycle through each string in the list separately\n",
    "# each string will be identified by the variable: string\n",
    "for string in str_list:\n",
    "    # joint each separate string to the object, new_string\n",
    "    new_string = new_string + string + \" \"\n",
    "    print(new_string)\n",
    "new_string.strip()"
   ]
  },
  {
   "cell_type": "markdown",
   "id": "f29a574d",
   "metadata": {},
   "source": [
    "### *range(min, max + 1, interval)*"
   ]
  },
  {
   "cell_type": "code",
   "execution_count": 10,
   "id": "01fb447e",
   "metadata": {},
   "outputs": [
    {
     "name": "stdout",
     "output_type": "stream",
     "text": [
      "0\n",
      "1\n",
      "2\n",
      "3\n",
      "4\n",
      "5\n",
      "6\n",
      "7\n",
      "8\n",
      "9\n"
     ]
    }
   ],
   "source": [
    "for i in range(10):\n",
    "    print(i)"
   ]
  },
  {
   "cell_type": "code",
   "execution_count": 11,
   "id": "4d255ac5",
   "metadata": {},
   "outputs": [
    {
     "name": "stdout",
     "output_type": "stream",
     "text": [
      "0\n",
      "1\n",
      "2\n",
      "3\n",
      "4\n",
      "5\n",
      "6\n",
      "7\n",
      "8\n",
      "9\n"
     ]
    }
   ],
   "source": [
    "for i in range(0,10):\n",
    "    print(i)"
   ]
  },
  {
   "cell_type": "code",
   "execution_count": 12,
   "id": "fae5040a",
   "metadata": {},
   "outputs": [
    {
     "data": {
      "text/plain": [
       "[-10, -9, -8, -7, -6, -5, -4, -3, -2, -1, 0, 1, 2, 3, 4, 5, 6, 7, 8, 9, 10]"
      ]
     },
     "execution_count": 12,
     "metadata": {},
     "output_type": "execute_result"
    }
   ],
   "source": [
    "minrange = -10\n",
    "maxrange = 10\n",
    "range_lst = list(range(minrange,maxrange + 1))\n",
    "range_lst"
   ]
  },
  {
   "cell_type": "code",
   "execution_count": 13,
   "id": "45882ab7",
   "metadata": {},
   "outputs": [
    {
     "data": {
      "text/plain": [
       "range(0, 10)"
      ]
     },
     "execution_count": 13,
     "metadata": {},
     "output_type": "execute_result"
    }
   ],
   "source": [
    "range(0,10)"
   ]
  },
  {
   "cell_type": "code",
   "execution_count": 14,
   "id": "ebdcc117",
   "metadata": {},
   "outputs": [
    {
     "name": "stdout",
     "output_type": "stream",
     "text": [
      "-10\n",
      "-9\n",
      "-8\n",
      "-7\n",
      "-6\n",
      "-5\n",
      "-4\n",
      "-3\n",
      "-2\n",
      "-1\n",
      "0\n",
      "1\n",
      "2\n",
      "3\n",
      "4\n",
      "5\n",
      "6\n",
      "7\n",
      "8\n",
      "9\n",
      "10\n"
     ]
    }
   ],
   "source": [
    "for i in range_lst:\n",
    "    print(i)"
   ]
  },
  {
   "cell_type": "code",
   "execution_count": 15,
   "id": "3d714943",
   "metadata": {},
   "outputs": [
    {
     "name": "stdout",
     "output_type": "stream",
     "text": [
      "[-100, -97, -94, -91, -88, -85, -82, -79, -76, -73, -70, -67, -64, -61, -58, -55, -52, -49, -46, -43, -40, -37, -34, -31, -28, -25, -22, -19, -16, -13, -10, -7, -4, -1, 2, 5, 8, 11, 14, 17, 20, 23, 26, 29, 32, 35, 38, 41, 44, 47, 50, 53, 56, 59, 62, 65, 68, 71, 74, 77, 80, 83, 86, 89, 92, 95, 98]\n"
     ]
    }
   ],
   "source": [
    "minrange = -100\n",
    "maxrange = 100\n",
    "interval = 3\n",
    "range_lst = list(range(minrange,maxrange + 1, interval))\n",
    "print(range_lst)"
   ]
  },
  {
   "cell_type": "markdown",
   "id": "916e6411",
   "metadata": {},
   "source": [
    "### interval can be used in range(), but it can also be used in calling a slice of a list where only every i elements are called "
   ]
  },
  {
   "cell_type": "code",
   "execution_count": 16,
   "id": "32e4884d",
   "metadata": {},
   "outputs": [
    {
     "name": "stdout",
     "output_type": "stream",
     "text": [
      "[-100, -99, -98, -97, -96, -95, -94, -93, -92, -91, -90, -89, -88, -87, -86, -85, -84, -83, -82, -81, -80, -79, -78, -77, -76, -75, -74, -73, -72, -71, -70, -69, -68, -67, -66, -65, -64, -63, -62, -61, -60, -59, -58, -57, -56, -55, -54, -53, -52, -51, -50, -49, -48, -47, -46, -45, -44, -43, -42, -41, -40, -39, -38, -37, -36, -35, -34, -33, -32, -31, -30, -29, -28, -27, -26, -25, -24, -23, -22, -21, -20, -19, -18, -17, -16, -15, -14, -13, -12, -11, -10, -9, -8, -7, -6, -5, -4, -3, -2, -1, 0, 1, 2, 3, 4, 5, 6, 7, 8, 9, 10, 11, 12, 13, 14, 15, 16, 17, 18, 19, 20, 21, 22, 23, 24, 25, 26, 27, 28, 29, 30, 31, 32, 33, 34, 35, 36, 37, 38, 39, 40, 41, 42, 43, 44, 45, 46, 47, 48, 49, 50, 51, 52, 53, 54, 55, 56, 57, 58, 59, 60, 61, 62, 63, 64, 65, 66, 67, 68, 69, 70, 71, 72, 73, 74, 75, 76, 77, 78, 79, 80, 81, 82, 83, 84, 85, 86, 87, 88, 89, 90, 91, 92, 93, 94, 95, 96, 97, 98, 99, 100, 101, 102, 103]\n",
      "[-100, -97, -94, -91, -88, -85, -82, -79, -76, -73, -70, -67, -64, -61, -58, -55, -52, -49, -46, -43, -40, -37, -34, -31, -28, -25, -22, -19, -16, -13, -10, -7, -4, -1, 2, 5, 8, 11, 14, 17, 20, 23, 26, 29, 32, 35, 38, 41, 44, 47, 50, 53, 56, 59, 62, 65, 68, 71, 74, 77, 80, 83, 86, 89, 92, 95, 98, 101]\n"
     ]
    }
   ],
   "source": [
    "minrange = -100\n",
    "maxrange = 100 + interval\n",
    "interval = 3\n",
    "range_lst = list(range(minrange,maxrange + 1))\n",
    "print(range_lst)\n",
    "print(range_lst[::interval])\n",
    "interval = 3\n"
   ]
  },
  {
   "cell_type": "markdown",
   "id": "8ff5b9eb",
   "metadata": {},
   "source": [
    "#### You must define a variable before calling that variable. If you call a variable before defining it, the program will throw an error"
   ]
  },
  {
   "cell_type": "code",
   "execution_count": 17,
   "id": "6caea0ab",
   "metadata": {},
   "outputs": [
    {
     "ename": "NameError",
     "evalue": "name 'interval2' is not defined",
     "output_type": "error",
     "traceback": [
      "\u001b[1;31m---------------------------------------------------------------------------\u001b[0m",
      "\u001b[1;31mNameError\u001b[0m                                 Traceback (most recent call last)",
      "\u001b[1;32m~\\AppData\\Local\\Temp\\ipykernel_4452\\2238347764.py\u001b[0m in \u001b[0;36m<module>\u001b[1;34m\u001b[0m\n\u001b[0;32m      1\u001b[0m \u001b[0mminrange\u001b[0m \u001b[1;33m=\u001b[0m \u001b[1;33m-\u001b[0m\u001b[1;36m100\u001b[0m\u001b[1;33m\u001b[0m\u001b[1;33m\u001b[0m\u001b[0m\n\u001b[1;32m----> 2\u001b[1;33m \u001b[0mmaxrange\u001b[0m \u001b[1;33m=\u001b[0m \u001b[1;36m100\u001b[0m \u001b[1;33m+\u001b[0m \u001b[0minterval2\u001b[0m\u001b[1;33m\u001b[0m\u001b[1;33m\u001b[0m\u001b[0m\n\u001b[0m\u001b[0;32m      3\u001b[0m \u001b[0minterval2\u001b[0m \u001b[1;33m=\u001b[0m \u001b[1;36m3\u001b[0m\u001b[1;33m\u001b[0m\u001b[1;33m\u001b[0m\u001b[0m\n",
      "\u001b[1;31mNameError\u001b[0m: name 'interval2' is not defined"
     ]
    }
   ],
   "source": [
    "minrange = -100\n",
    "maxrange = 100 + interval2\n",
    "interval2 = 3"
   ]
  },
  {
   "cell_type": "markdown",
   "id": "a7c03fc2",
   "metadata": {},
   "source": [
    "## Generator Functions"
   ]
  },
  {
   "cell_type": "code",
   "execution_count": 28,
   "id": "4ddecfcb",
   "metadata": {},
   "outputs": [
    {
     "name": "stdout",
     "output_type": "stream",
     "text": [
      "i random_int\n",
      "0 4\n",
      "1 1\n",
      "2 3\n",
      "3 10\n",
      "4 8\n",
      "5 7\n",
      "6 0\n",
      "7 8\n",
      "8 6\n",
      "9 0\n"
     ]
    }
   ],
   "source": [
    "import random\n",
    "print(\"i random_int\")\n",
    "for i in range(10):\n",
    "    print(i, random.randint(0,10))"
   ]
  },
  {
   "cell_type": "code",
   "execution_count": 19,
   "id": "e22de930",
   "metadata": {},
   "outputs": [
    {
     "data": {
      "text/plain": [
       "[-10, -9, -8, -7, -6, -5, -4, -3, -2, -1, 0, 1, 2, 3, 4, 5, 6, 7, 8, 9, 10]"
      ]
     },
     "execution_count": 19,
     "metadata": {},
     "output_type": "execute_result"
    }
   ],
   "source": [
    "minrange = -10\n",
    "maxrange = 10\n",
    "# x = list(range(minrange, maxrange + 1))\n",
    "x = [i for i in range(minrange, maxrange + 1)]\n",
    "x"
   ]
  },
  {
   "cell_type": "code",
   "execution_count": 20,
   "id": "9d1ce2dd",
   "metadata": {},
   "outputs": [
    {
     "data": {
      "text/plain": [
       "[100, 81, 64, 49, 36, 25, 16, 9, 4, 1, 0, 1, 4, 9, 16, 25, 36, 49, 64, 81, 100]"
      ]
     },
     "execution_count": 20,
     "metadata": {},
     "output_type": "execute_result"
    }
   ],
   "source": [
    "minrange = -10\n",
    "maxrange = 10\n",
    "# x = list(range(minrange, maxrange + 1))\n",
    "x = [i ** 2 for i in range(minrange, maxrange + 1)]\n",
    "x"
   ]
  },
  {
   "cell_type": "code",
   "execution_count": 34,
   "id": "491b4df3",
   "metadata": {},
   "outputs": [
    {
     "data": {
      "text/plain": [
       "[1, 2, 3, 4, 5, 6, 7, 8, 9, 10]"
      ]
     },
     "execution_count": 34,
     "metadata": {},
     "output_type": "execute_result"
    }
   ],
   "source": [
    "# generate\n",
    "x = [1 + i for i in range(10)]\n",
    "x"
   ]
  },
  {
   "cell_type": "code",
   "execution_count": 35,
   "id": "20d51849",
   "metadata": {},
   "outputs": [
    {
     "data": {
      "text/plain": [
       "[1, 1, 1, 1, 1, 1, 1, 1, 1, 1]"
      ]
     },
     "execution_count": 35,
     "metadata": {},
     "output_type": "execute_result"
    }
   ],
   "source": [
    "# generate\n",
    "x = [1 for i in range(10)]\n",
    "x"
   ]
  },
  {
   "cell_type": "markdown",
   "id": "881a3dab",
   "metadata": {},
   "source": [
    "#### Determine list values according to an equation:\n",
    "\n",
    "$$y = 2x^2 + 3x + 1$$"
   ]
  },
  {
   "cell_type": "code",
   "execution_count": 124,
   "id": "10eb7354",
   "metadata": {},
   "outputs": [
    {
     "name": "stdout",
     "output_type": "stream",
     "text": [
      "[-10, -9, -8, -7, -6, -5, -4, -3, -2, -1, 0, 1, 2, 3, 4, 5, 6, 7, 8, 9, 10]\n",
      "[-229, -188, -151, -118, -89, -64, -43, -26, -13, -4, 1, 2, -1, -8, -19, -34, -53, -76, -103, -134, -169]\n"
     ]
    },
    {
     "data": {
      "text/plain": [
       "[(-10, -229),\n",
       " (-9, -188),\n",
       " (-8, -151),\n",
       " (-7, -118),\n",
       " (-6, -89),\n",
       " (-5, -64),\n",
       " (-4, -43),\n",
       " (-3, -26),\n",
       " (-2, -13),\n",
       " (-1, -4),\n",
       " (0, 1),\n",
       " (1, 2),\n",
       " (2, -1),\n",
       " (3, -8),\n",
       " (4, -19),\n",
       " (5, -34),\n",
       " (6, -53),\n",
       " (7, -76),\n",
       " (8, -103),\n",
       " (9, -134),\n",
       " (10, -169)]"
      ]
     },
     "execution_count": 124,
     "metadata": {},
     "output_type": "execute_result"
    }
   ],
   "source": [
    "x_list = [x for x in range(minrange, maxrange + 1)]\n",
    "y = [-2 * x ** 2 + 3 * x + 1 for x in x_list]\n",
    "print(x_list)\n",
    "print(y)\n",
    "# zip(list_a,list_b) creates a single list of tuples of the form:\n",
    "#  [(a0,b0,),(a1, b1), . . . , (a_(n-1), b_(n-1)), (an, bn)]\n",
    "list(zip(x_list,y))\n",
    "# print(y)"
   ]
  },
  {
   "cell_type": "code",
   "execution_count": 125,
   "id": "96c8e3a1",
   "metadata": {},
   "outputs": [
    {
     "data": {
      "text/plain": [
       "[<matplotlib.lines.Line2D at 0x226078a3220>]"
      ]
     },
     "execution_count": 125,
     "metadata": {},
     "output_type": "execute_result"
    },
    {
     "data": {
      "image/png": "[encoded data removed]",
      "text/plain": [
       "<Figure size 640x480 with 1 Axes>"
      ]
     },
     "metadata": {},
     "output_type": "display_data"
    }
   ],
   "source": [
    "import matplotlib.pyplot as plt\n",
    "plt.plot(x_list, y)"
   ]
  },
  {
   "cell_type": "markdown",
   "id": "8115ad9c",
   "metadata": {},
   "source": [
    "# you don't always need to use the value from the for loop. The index in the for loop can define how many times a task is completed rather than indicating what a value should be"
   ]
  },
  {
   "cell_type": "code",
   "execution_count": 126,
   "id": "01c4268c",
   "metadata": {},
   "outputs": [
    {
     "name": "stdout",
     "output_type": "stream",
     "text": [
      "[-10, -9, -8, -7, -6, -5, -4, -3, -2, -1, 0, 1, 2, 3, 4, 5, 6, 7, 8, 9, 10]\n",
      "[-27000, -5400, -21600, -2100, -14400, -13500, -1200, -6300, -6600, -2700, 0, 0, 4800, 5400, 2400, 6000, 5400, 4200, 21600, 8100, 24000]\n"
     ]
    }
   ],
   "source": [
    "y = [random.randint(0,maxrange+1) * 300 * x for x in x_list]\n",
    "print(x_list)\n",
    "print(y)"
   ]
  },
  {
   "cell_type": "code",
   "execution_count": 127,
   "id": "2179e125",
   "metadata": {},
   "outputs": [
    {
     "data": {
      "text/plain": [
       "<matplotlib.collections.PathCollection at 0x226078ffc40>"
      ]
     },
     "execution_count": 127,
     "metadata": {},
     "output_type": "execute_result"
    },
    {
     "data": {
      "image/png": "[encoded data removed]",
      "text/plain": [
       "<Figure size 640x480 with 1 Axes>"
      ]
     },
     "metadata": {},
     "output_type": "display_data"
    }
   ],
   "source": [
    "plt.scatter(x_list, y)"
   ]
  },
  {
   "cell_type": "markdown",
   "id": "41c20fa1",
   "metadata": {},
   "source": [
    "## Managing lists by index"
   ]
  },
  {
   "cell_type": "code",
   "execution_count": 128,
   "id": "3c885ad2",
   "metadata": {},
   "outputs": [
    {
     "data": {
      "text/plain": [
       "[-10, -9, -8, -7, -6, -5, -4, -3, -2, -1, 0, 1, 2, 3, 4, 5, 6, 7, 8, 9, 10]"
      ]
     },
     "execution_count": 128,
     "metadata": {},
     "output_type": "execute_result"
    }
   ],
   "source": [
    "x_list"
   ]
  },
  {
   "cell_type": "code",
   "execution_count": 129,
   "id": "1a261ebc",
   "metadata": {},
   "outputs": [
    {
     "data": {
      "text/plain": [
       "[-27000,\n",
       " -5400,\n",
       " -21600,\n",
       " -2100,\n",
       " -14400,\n",
       " -13500,\n",
       " -1200,\n",
       " -6300,\n",
       " -6600,\n",
       " -2700,\n",
       " 0,\n",
       " 0,\n",
       " 4800,\n",
       " 5400,\n",
       " 2400,\n",
       " 6000,\n",
       " 5400,\n",
       " 4200,\n",
       " 21600,\n",
       " 8100,\n",
       " 24000]"
      ]
     },
     "execution_count": 129,
     "metadata": {},
     "output_type": "execute_result"
    }
   ],
   "source": [
    "y"
   ]
  },
  {
   "cell_type": "code",
   "execution_count": 130,
   "id": "c2822a2f",
   "metadata": {},
   "outputs": [
    {
     "data": {
      "text/plain": [
       "(21, 21)"
      ]
     },
     "execution_count": 130,
     "metadata": {},
     "output_type": "execute_result"
    }
   ],
   "source": [
    "len(x_list), len(y)"
   ]
  },
  {
   "cell_type": "code",
   "execution_count": 131,
   "id": "d21afeff",
   "metadata": {},
   "outputs": [
    {
     "name": "stdout",
     "output_type": "stream",
     "text": [
      "x\ty\n",
      "-10\t-27000\n",
      "-9\t-5400\n",
      "-8\t-21600\n",
      "-7\t-2100\n",
      "-6\t-14400\n",
      "-5\t-13500\n",
      "-4\t-1200\n",
      "-3\t-6300\n",
      "-2\t-6600\n",
      "-1\t-2700\n",
      "0\t0\n",
      "1\t0\n",
      "2\t4800\n",
      "3\t5400\n",
      "4\t2400\n",
      "5\t6000\n",
      "6\t5400\n",
      "7\t4200\n",
      "8\t21600\n",
      "9\t8100\n",
      "10\t24000\n"
     ]
    }
   ],
   "source": [
    "print(\"x\", \"y\", sep = \"\\t\")\n",
    "for i in range(len(x_list)):\n",
    "    print(x_list[i], y[i], sep = \"\\t\")"
   ]
  },
  {
   "cell_type": "code",
   "execution_count": 132,
   "id": "21eb05e7",
   "metadata": {},
   "outputs": [
    {
     "name": "stdout",
     "output_type": "stream",
     "text": [
      "y\tx\ty/(x+100)\n",
      "-27000\t-10\t-300.0\n",
      "-5400\t-9\t-59.34065934065934\n",
      "-21600\t-8\t-234.7826086956522\n",
      "-2100\t-7\t-22.580645161290324\n",
      "-14400\t-6\t-153.19148936170214\n",
      "-13500\t-5\t-142.10526315789474\n",
      "-1200\t-4\t-12.5\n",
      "-6300\t-3\t-64.94845360824742\n",
      "-6600\t-2\t-67.34693877551021\n",
      "-2700\t-1\t-27.272727272727273\n",
      "0\t0\t0.0\n",
      "0\t1\t0.0\n",
      "4800\t2\t47.05882352941177\n",
      "5400\t3\t52.42718446601942\n",
      "2400\t4\t23.076923076923077\n",
      "6000\t5\t57.142857142857146\n",
      "5400\t6\t50.943396226415096\n",
      "4200\t7\t39.25233644859813\n",
      "21600\t8\t200.0\n",
      "8100\t9\t74.31192660550458\n",
      "24000\t10\t218.1818181818182\n"
     ]
    }
   ],
   "source": [
    "print(\"y\", \"x\", \"y/(x+100)\", sep = \"\\t\")\n",
    "for i in range(len(x_list)):\n",
    "    print(y[i], x_list[i], y[i] / (x_list[i] + 100), sep = \"\\t\")"
   ]
  },
  {
   "cell_type": "markdown",
   "id": "a2059622",
   "metadata": {},
   "source": [
    "## Delete (del)"
   ]
  },
  {
   "cell_type": "code",
   "execution_count": 133,
   "id": "f7a1b6d8",
   "metadata": {},
   "outputs": [
    {
     "name": "stdout",
     "output_type": "stream",
     "text": [
      "[-10, -9, -8, -7, -6, -5, -4, -3, -2, -1, 0, 1, 2, 3, 4, 5, 6, 7, 8, 9, 10]\n",
      "[-27000, -5400, -21600, -2100, -14400, -13500, -1200, -6300, -6600, -2700, 0, 0, 4800, 5400, 2400, 6000, 5400, 4200, 21600, 8100, 24000]\n"
     ]
    }
   ],
   "source": [
    "print(x_list)\n",
    "print(y)"
   ]
  },
  {
   "cell_type": "code",
   "execution_count": 134,
   "id": "6ea7ef1c",
   "metadata": {},
   "outputs": [
    {
     "name": "stdout",
     "output_type": "stream",
     "text": [
      "[-9, -8, -7, -6, -5, -4, -3, -2, -1, 0, 1, 2, 3, 4, 5, 6, 7, 8, 9, 10]\n",
      "[-5400, -21600, -2100, -14400, -13500, -1200, -6300, -6600, -2700, 0, 0, 4800, 5400, 2400, 6000, 5400, 4200, 21600, 8100, 24000]\n"
     ]
    }
   ],
   "source": [
    "# delete very first (0th) element in a list\n",
    "del x_list[0]\n",
    "del y[0]\n",
    "print(x_list)\n",
    "print(y)"
   ]
  },
  {
   "cell_type": "code",
   "execution_count": 135,
   "id": "e126aacd",
   "metadata": {},
   "outputs": [
    {
     "name": "stdout",
     "output_type": "stream",
     "text": [
      "[-9, -8, -7, -6, -5, -4, -3, -2, -1, 0, 1, 2, 3, 4, 5, 6, 7, 8, 9]\n",
      "[-5400, -21600, -2100, -14400, -13500, -1200, -6300, -6600, -2700, 0, 0, 4800, 5400, 2400, 6000, 5400, 4200, 21600, 8100]\n"
     ]
    }
   ],
   "source": [
    "# delete the very last (-1) element in a list\n",
    "del x_list[-1]\n",
    "del y[-1]\n",
    "print(x_list)\n",
    "print(y)"
   ]
  },
  {
   "cell_type": "code",
   "execution_count": 136,
   "id": "2dd5f546",
   "metadata": {},
   "outputs": [
    {
     "data": {
      "text/plain": [
       "'a'"
      ]
     },
     "execution_count": 136,
     "metadata": {},
     "output_type": "execute_result"
    }
   ],
   "source": [
    "m = \"a\"\n",
    "m"
   ]
  },
  {
   "cell_type": "code",
   "execution_count": 113,
   "id": "352d47ad",
   "metadata": {},
   "outputs": [
    {
     "ename": "NameError",
     "evalue": "name 'm' is not defined",
     "output_type": "error",
     "traceback": [
      "\u001b[1;31m---------------------------------------------------------------------------\u001b[0m",
      "\u001b[1;31mNameError\u001b[0m                                 Traceback (most recent call last)",
      "\u001b[1;32m~\\AppData\\Local\\Temp\\ipykernel_4452\\484683092.py\u001b[0m in \u001b[0;36m<module>\u001b[1;34m\u001b[0m\n\u001b[0;32m      1\u001b[0m \u001b[1;32mdel\u001b[0m \u001b[0mm\u001b[0m\u001b[1;33m\u001b[0m\u001b[1;33m\u001b[0m\u001b[0m\n\u001b[1;32m----> 2\u001b[1;33m \u001b[0mm\u001b[0m\u001b[1;33m\u001b[0m\u001b[1;33m\u001b[0m\u001b[0m\n\u001b[0m",
      "\u001b[1;31mNameError\u001b[0m: name 'm' is not defined"
     ]
    }
   ],
   "source": [
    "del m\n",
    "m"
   ]
  },
  {
   "cell_type": "markdown",
   "id": "b604e9d4",
   "metadata": {},
   "source": [
    "## Sorting"
   ]
  },
  {
   "cell_type": "code",
   "execution_count": 137,
   "id": "c3fdc6d9",
   "metadata": {},
   "outputs": [
    {
     "name": "stdout",
     "output_type": "stream",
     "text": [
      "[1, 4, 0, 6, 5, 4, 0, 9, 0, 1, 1, 9, 2, 4, 10, 6, 10, 7, 1, 6, 9, 2, 6, 5, 5, 8, 5, 6, 1, 2, 4, 0, 7, 0, 4, 0, 7, 5, 9, 0, 5, 3, 5, 2, 5, 4, 5, 6, 2, 6, 10, 4, 10, 10, 4, 5, 2, 6, 2, 1, 3, 3, 3, 7, 3, 2, 8, 3, 10, 4, 0, 3, 3, 8, 6, 7, 4, 0, 8, 3, 7, 2, 9, 10, 4, 7, 8, 4, 5, 2, 2, 9, 8, 4, 4, 9, 5, 5, 7, 8]\n"
     ]
    }
   ],
   "source": [
    "x = [random.randint(0,10) for i in range(100)]\n",
    "print(x)"
   ]
  },
  {
   "cell_type": "code",
   "execution_count": 141,
   "id": "71271f38",
   "metadata": {},
   "outputs": [
    {
     "name": "stdout",
     "output_type": "stream",
     "text": [
      "[0, 0, 0, 0, 0, 0, 0, 0, 0, 1, 1, 1, 1, 1, 1, 2, 2, 2, 2, 2, 2, 2, 2, 2, 2, 2, 3, 3, 3, 3, 3, 3, 3, 3, 3, 4, 4, 4, 4, 4, 4, 4, 4, 4, 4, 4, 4, 4, 4, 5, 5, 5, 5, 5, 5, 5, 5, 5, 5, 5, 5, 5, 6, 6, 6, 6, 6, 6, 6, 6, 6, 7, 7, 7, 7, 7, 7, 7, 7, 8, 8, 8, 8, 8, 8, 8, 9, 9, 9, 9, 9, 9, 9, 10, 10, 10, 10, 10, 10, 10]\n"
     ]
    }
   ],
   "source": [
    "print(sorted(x))"
   ]
  },
  {
   "cell_type": "code",
   "execution_count": 144,
   "id": "1fd26d11",
   "metadata": {},
   "outputs": [
    {
     "name": "stdout",
     "output_type": "stream",
     "text": [
      "[10, 10, 10, 10, 10, 10, 10, 9, 9, 9, 9, 9, 9, 9, 8, 8, 8, 8, 8, 8, 8, 7, 7, 7, 7, 7, 7, 7, 7, 6, 6, 6, 6, 6, 6, 6, 6, 6, 5, 5, 5, 5, 5, 5, 5, 5, 5, 5, 5, 5, 5, 4, 4, 4, 4, 4, 4, 4, 4, 4, 4, 4, 4, 4, 4, 3, 3, 3, 3, 3, 3, 3, 3, 3, 2, 2, 2, 2, 2, 2, 2, 2, 2, 2, 2, 1, 1, 1, 1, 1, 1, 0, 0, 0, 0, 0, 0, 0, 0, 0]\n"
     ]
    }
   ],
   "source": [
    "# sort backward, from largest number to smallest\n",
    "print(sorted(x, reverse=True))"
   ]
  },
  {
   "cell_type": "code",
   "execution_count": 146,
   "id": "68adeb83",
   "metadata": {},
   "outputs": [
    {
     "name": "stdout",
     "output_type": "stream",
     "text": [
      "[10, 10, 10, 10, 10, 10, 10, 9, 9, 9, 9, 9, 9, 9, 8, 8, 8, 8, 8, 8, 8, 7, 7, 7, 7, 7, 7, 7, 7, 6, 6, 6, 6, 6, 6, 6, 6, 6, 5, 5, 5, 5, 5, 5, 5, 5, 5, 5, 5, 5, 5, 4, 4, 4, 4, 4, 4, 4, 4, 4, 4, 4, 4, 4, 4, 3, 3, 3, 3, 3, 3, 3, 3, 3, 2, 2, 2, 2, 2, 2, 2, 2, 2, 2, 2, 1, 1, 1, 1, 1, 1, 0, 0, 0, 0, 0, 0, 0, 0, 0]\n"
     ]
    }
   ],
   "source": [
    "# another way to sort backward\n",
    "print(sorted(x)[-1::-1])"
   ]
  },
  {
   "cell_type": "code",
   "execution_count": 154,
   "id": "ad4ca261",
   "metadata": {},
   "outputs": [
    {
     "name": "stdout",
     "output_type": "stream",
     "text": [
      "['0', '1', '2', '3', '5', '7', '8', '9', 'a', 'b', 'c', 'd', 'e', 'e', 'e', 'h', 'i', 'j', 'k', 'n', 'o', 'p', 'r', 't', 'w']\n"
     ]
    }
   ],
   "source": [
    "print(sorted(\"cbadephkrtienj15839027ewo\"))"
   ]
  },
  {
   "cell_type": "code",
   "execution_count": 153,
   "id": "ef077c64",
   "metadata": {},
   "outputs": [
    {
     "name": "stdout",
     "output_type": "stream",
     "text": [
      "['w', 't', 'r', 'p', 'o', 'n', 'k', 'j', 'i', 'h', 'e', 'e', 'e', 'd', 'c', 'b', 'a', '9', '8', '7', '5', '3', '2', '1', '0']\n"
     ]
    }
   ],
   "source": [
    "print(sorted(\"cbadephkrtienj15839027ewo\", reverse = True))"
   ]
  },
  {
   "cell_type": "code",
   "execution_count": 151,
   "id": "060d3250",
   "metadata": {},
   "outputs": [
    {
     "name": "stdout",
     "output_type": "stream",
     "text": [
      "['1', '11', '12', '13', '2', '3']\n"
     ]
    }
   ],
   "source": [
    "print(sorted([\"1\",\"2\",\"3\",\"11\",\"12\",\"13\"]))"
   ]
  },
  {
   "cell_type": "code",
   "execution_count": 152,
   "id": "afa1c14f",
   "metadata": {},
   "outputs": [
    {
     "name": "stdout",
     "output_type": "stream",
     "text": [
      "[1, 2, 3, 11, 12, 13]\n"
     ]
    }
   ],
   "source": [
    "print(sorted([1,2,3,11,12,13]))"
   ]
  },
  {
   "cell_type": "markdown",
   "id": "8dc7b7a6",
   "metadata": {},
   "source": [
    "# Slicing List"
   ]
  },
  {
   "cell_type": "code",
   "execution_count": 157,
   "id": "4fc9b2b6",
   "metadata": {},
   "outputs": [
    {
     "name": "stdout",
     "output_type": "stream",
     "text": [
      "[1, 4, 0, 6, 5, 4, 0, 9, 0, 1, 1, 9, 2, 4, 10, 6, 10, 7, 1, 6, 9, 2, 6, 5, 5, 8, 5, 6, 1, 2, 4, 0, 7, 0, 4, 0, 7, 5, 9, 0, 5, 3, 5, 2, 5, 4, 5, 6, 2, 6, 10, 4, 10, 10, 4, 5, 2, 6, 2, 1, 3, 3, 3, 7, 3, 2, 8, 3, 10, 4, 0, 3, 3, 8, 6, 7, 4, 0, 8, 3, 7, 2, 9, 10, 4, 7, 8, 4, 5, 2, 2, 9, 8, 4, 4, 9, 5, 5, 7, 8]\n"
     ]
    }
   ],
   "source": [
    "print(x)"
   ]
  },
  {
   "cell_type": "code",
   "execution_count": 158,
   "id": "ed259084",
   "metadata": {},
   "outputs": [
    {
     "name": "stdout",
     "output_type": "stream",
     "text": [
      "[1, 0, 5, 0, 0, 1, 2, 10, 10, 1, 9, 6, 5, 5, 1, 4, 7, 4, 7, 9, 5, 5, 5, 5, 2, 10, 10, 4, 2, 2, 3, 3, 3, 8, 10, 0, 3, 6, 4, 8, 7, 9, 4, 8, 5, 2, 8, 4, 5, 7]\n"
     ]
    }
   ],
   "source": [
    "# format for slicing\n",
    "# x[min:max+1:interval]\n",
    "print(x[::2])"
   ]
  },
  {
   "cell_type": "code",
   "execution_count": 159,
   "id": "767ebd8e",
   "metadata": {},
   "outputs": [
    {
     "name": "stdout",
     "output_type": "stream",
     "text": [
      "[4, 6, 4, 9, 1, 9, 4, 6, 7, 6, 2, 5, 8, 6, 2, 0, 0, 0, 5, 0, 3, 2, 4, 6, 6, 4, 10, 5, 6, 1, 3, 7, 2, 3, 4, 3, 8, 7, 0, 3, 2, 10, 7, 4, 2, 9, 4, 9, 5, 8]\n"
     ]
    }
   ],
   "source": [
    "print(x[1::2])"
   ]
  },
  {
   "cell_type": "code",
   "execution_count": 160,
   "id": "f849ebd7",
   "metadata": {},
   "outputs": [
    {
     "name": "stdout",
     "output_type": "stream",
     "text": [
      "[1, 4, 0, 6, 5, 4, 0, 9, 0, 1]\n"
     ]
    }
   ],
   "source": [
    "# only print the first 10 values of x (from 0 to 9)\n",
    "print(x[:10])"
   ]
  },
  {
   "cell_type": "code",
   "execution_count": 161,
   "id": "62999c75",
   "metadata": {},
   "outputs": [
    {
     "name": "stdout",
     "output_type": "stream",
     "text": [
      "[2, 9, 8, 4, 4, 9, 5, 5, 7, 8]\n"
     ]
    }
   ],
   "source": [
    "# only print the last 10 values of x (from 0 to 9)\n",
    "print(x[-10:])"
   ]
  },
  {
   "cell_type": "markdown",
   "id": "d4461b8d",
   "metadata": {},
   "source": [
    "### Cut a list in half"
   ]
  },
  {
   "cell_type": "code",
   "execution_count": 166,
   "id": "df24bee4",
   "metadata": {},
   "outputs": [],
   "source": [
    "mid_x = int(len(x) / 2)"
   ]
  },
  {
   "cell_type": "code",
   "execution_count": 167,
   "id": "7b6ad116",
   "metadata": {},
   "outputs": [
    {
     "name": "stdout",
     "output_type": "stream",
     "text": [
      "[1, 4, 0, 6, 5, 4, 0, 9, 0, 1, 1, 9, 2, 4, 10, 6, 10, 7, 1, 6, 9, 2, 6, 5, 5, 8, 5, 6, 1, 2, 4, 0, 7, 0, 4, 0, 7, 5, 9, 0, 5, 3, 5, 2, 5, 4, 5, 6, 2, 6]\n"
     ]
    }
   ],
   "source": [
    "print(x[:mid_x])"
   ]
  },
  {
   "cell_type": "code",
   "execution_count": 168,
   "id": "c8de8cc4",
   "metadata": {},
   "outputs": [
    {
     "name": "stdout",
     "output_type": "stream",
     "text": [
      "[10, 4, 10, 10, 4, 5, 2, 6, 2, 1, 3, 3, 3, 7, 3, 2, 8, 3, 10, 4, 0, 3, 3, 8, 6, 7, 4, 0, 8, 3, 7, 2, 9, 10, 4, 7, 8, 4, 5, 2, 2, 9, 8, 4, 4, 9, 5, 5, 7, 8]\n"
     ]
    }
   ],
   "source": [
    "print(x[mid_x:])"
   ]
  },
  {
   "cell_type": "markdown",
   "id": "345cee8d",
   "metadata": {},
   "source": [
    "## Nested for Loop"
   ]
  },
  {
   "cell_type": "code",
   "execution_count": 177,
   "id": "d33d5ffe",
   "metadata": {},
   "outputs": [
    {
     "name": "stdout",
     "output_type": "stream",
     "text": [
      "i j i+j\n",
      "0 0 0\n",
      "0 1 1\n",
      "0 2 2\n",
      "1 0 1\n",
      "1 1 2\n",
      "1 2 3\n",
      "2 0 2\n",
      "2 1 3\n",
      "2 2 4\n"
     ]
    }
   ],
   "source": [
    "print(\"i\", \"j\", \"i+j\")\n",
    "for i in range(3):\n",
    "    for j in range(3):\n",
    "        print(i, j, i + j)"
   ]
  },
  {
   "cell_type": "code",
   "execution_count": 185,
   "id": "d934a799",
   "metadata": {},
   "outputs": [
    {
     "data": {
      "text/plain": [
       "[1, 4, 0]"
      ]
     },
     "execution_count": 185,
     "metadata": {},
     "output_type": "execute_result"
    }
   ],
   "source": [
    "x_slice = x[:3]\n",
    "x_slice"
   ]
  },
  {
   "cell_type": "code",
   "execution_count": 186,
   "id": "ee5e7662",
   "metadata": {},
   "outputs": [
    {
     "data": {
      "text/plain": [
       "[1, 4, 0, 4]"
      ]
     },
     "execution_count": 186,
     "metadata": {},
     "output_type": "execute_result"
    }
   ],
   "source": [
    "x_slice.append(4)\n",
    "x_slice"
   ]
  },
  {
   "cell_type": "code",
   "execution_count": 187,
   "id": "7a0d65d4",
   "metadata": {},
   "outputs": [
    {
     "data": {
      "text/plain": [
       "[1, 4, 0]"
      ]
     },
     "execution_count": 187,
     "metadata": {},
     "output_type": "execute_result"
    }
   ],
   "source": [
    "last_xslice = x_slice.pop()\n",
    "x_slice"
   ]
  },
  {
   "cell_type": "code",
   "execution_count": 188,
   "id": "ab4f03fb",
   "metadata": {},
   "outputs": [
    {
     "data": {
      "text/plain": [
       "4"
      ]
     },
     "execution_count": 188,
     "metadata": {},
     "output_type": "execute_result"
    }
   ],
   "source": [
    "last_xslice"
   ]
  },
  {
   "cell_type": "code",
   "execution_count": null,
   "id": "57ee4c5e",
   "metadata": {},
   "outputs": [],
   "source": [
    "# if a vlaue n is prime, it is only divisible by itself and 1.\n",
    "# this means that for every number from 2 to n - 1, val % i != 0 "
   ]
  }
 ],
 "metadata": {
  "kernelspec": {
   "display_name": "Python 3 (ipykernel)",
   "language": "python",
   "name": "python3"
  },
  "language_info": {
   "codemirror_mode": {
    "name": "ipython",
    "version": 3
   },
   "file_extension": ".py",
   "mimetype": "text/x-python",
   "name": "python",
   "nbconvert_exporter": "python",
   "pygments_lexer": "ipython3",
   "version": "3.9.13"
  }
 },
 "nbformat": 4,
 "nbformat_minor": 5
}
