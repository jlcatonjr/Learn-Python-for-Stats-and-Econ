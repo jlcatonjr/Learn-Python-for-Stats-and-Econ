{
 "cells": [
  {
   "cell_type": "markdown",
   "id": "8cf87c4b",
   "metadata": {},
   "source": [
    "# Functional Programming - Rudimentary Statistics and Analytics"
   ]
  },
  {
   "cell_type": "markdown",
   "id": "04e1ada8",
   "metadata": {},
   "source": [
    "### Total\n",
    "$\\sum_{i=0}^{n-1} x_{i}$"
   ]
  },
  {
   "cell_type": "code",
   "execution_count": 19,
   "id": "fd201ada",
   "metadata": {},
   "outputs": [],
   "source": [
    "def total(lst):\n",
    "    total_ = 0\n",
    "    for val in lst:\n",
    "        total_ += val\n",
    "    return total_\n"
   ]
  },
  {
   "cell_type": "markdown",
   "id": "8d264f6a",
   "metadata": {},
   "source": [
    "### Mean\n",
    "$\\bar{X} = \\frac{\\sum_{i=0}^{n-1} X_{i}} {n}$"
   ]
  },
  {
   "cell_type": "code",
   "execution_count": 20,
   "id": "4ba42d7d",
   "metadata": {},
   "outputs": [],
   "source": [
    "def mean(lst):\n",
    "        n = len(lst)\n",
    "        mean_ = total(lst) / n \n",
    "        return mean_"
   ]
  },
  {
   "cell_type": "markdown",
   "id": "a1b032b9",
   "metadata": {},
   "source": [
    "### Median"
   ]
  },
  {
   "cell_type": "code",
   "execution_count": 21,
   "id": "29010eb0",
   "metadata": {},
   "outputs": [],
   "source": [
    "def median(lst):\n",
    "    n = len(lst)\n",
    "    if n % 2 != 0:\n",
    "        middle_index = int((n - 1) / 2)\n",
    "        median_ = lst[middle_index]\n",
    "    else:\n",
    "        upper_middle_index = int(n/2)\n",
    "        lower_middle_index = upper_middle_index - 1\n",
    "        median_ = mean(lst[lower_middle_index:upper_middle_index+1])\n",
    "    return median_"
   ]
  },
  {
   "cell_type": "markdown",
   "id": "b5c0ea6a",
   "metadata": {},
   "source": [
    "### Mode"
   ]
  },
  {
   "cell_type": "code",
   "execution_count": 22,
   "id": "e5babbe5",
   "metadata": {},
   "outputs": [],
   "source": [
    "def mode(lst):\n",
    "    count_dct = {}\n",
    "    for key in lst:\n",
    "        count_dct[key] = 0\n",
    "    for key in lst:\n",
    "        count_dct[key] += 1\n",
    "    max_count = max(count_dct.values())\n",
    "    mode_ = []\n",
    "    for key, count in count_dct.items():\n",
    "        if count == max_count:\n",
    "            mode_.append(key)\n",
    "    return mode_\n"
   ]
  },
  {
   "cell_type": "code",
   "execution_count": null,
   "id": "f4935f95",
   "metadata": {},
   "outputs": [],
   "source": []
  },
  {
   "cell_type": "code",
   "execution_count": null,
   "id": "3bae9ccb",
   "metadata": {},
   "outputs": [],
   "source": []
  },
  {
   "cell_type": "code",
   "execution_count": 6,
   "id": "cb50ae6c",
   "metadata": {},
   "outputs": [
    {
     "name": "stdout",
     "output_type": "stream",
     "text": [
      "[0, 1, 2, 3, 4, 5, 6, 7, 8, 9, 10, 11, 12, 13, 14, 15, 16, 17, 18, 19, 20, 21, 22, 23, 24, 25, 26, 27, 28, 29, 30, 31, 32, 33, 34, 35, 36, 37, 38, 39, 40, 41, 42, 43, 44, 45, 46, 47, 48, 49, 50, 51, 52, 53, 54, 55, 56, 57, 58, 59, 60, 61, 62, 63, 64, 65, 66, 67, 68, 69, 70, 71, 72, 73, 74, 75, 76, 77, 78, 79, 80, 81, 82, 83, 84, 85, 86, 87, 88, 89, 90, 91, 92, 93, 94, 95, 96, 97, 98, 99]\n",
      "[0.0, 1.1, 4.2, 9.3, 16.4, 25.5, 36.6, 49.7, 64.8, 81.9, 101.0, 122.1, 145.2, 170.3, 197.4, 226.5, 257.6, 290.7, 325.8, 362.9, 402.0, 443.1, 486.2, 531.3, 578.4, 627.5, 678.6, 731.7, 786.8, 843.9, 903.0, 964.1, 1027.2, 1092.3, 1159.4, 1228.5, 1299.6, 1372.7, 1447.8, 1524.9, 1604.0, 1685.1, 1768.2, 1853.3, 1940.4, 2029.5, 2120.6, 2213.7, 2308.8, 2405.9, 2505.0, 2606.1, 2709.2, 2814.3, 2921.4, 3030.5, 3141.6, 3254.7, 3369.8, 3486.9, 3606.0, 3727.1, 3850.2, 3975.3, 4102.4, 4231.5, 4362.6, 4495.7, 4630.8, 4767.9, 4907.0, 5048.1, 5191.2, 5336.3, 5483.4, 5632.5, 5783.6, 5936.7, 6091.8, 6248.9, 6408.0, 6569.1, 6732.2, 6897.3, 7064.4, 7233.5, 7404.6, 7577.7, 7752.8, 7929.9, 8109.0, 8290.1, 8473.2, 8658.3, 8845.4, 9034.5, 9225.6, 9418.7, 9613.8, 9810.9]\n"
     ]
    }
   ],
   "source": [
    "lst1 = [i for i in range(100)]\n",
    "lst2 = [i / 10 + i ** 2 for i in range(100)]\n",
    "print(lst1)\n",
    "print(lst2)"
   ]
  },
  {
   "cell_type": "code",
   "execution_count": 17,
   "id": "b5322245",
   "metadata": {},
   "outputs": [
    {
     "name": "stdout",
     "output_type": "stream",
     "text": [
      "4950\n",
      "328845.0\n",
      "49.5\n",
      "3288.45\n",
      "49.5\n",
      "2455.45\n",
      "[0, 1, 2, 3, 4, 5, 6, 7, 8, 9, 10, 11, 12, 13, 14, 15, 16, 17, 18, 19, 20, 21, 22, 23, 24, 25, 26, 27, 28, 29, 30, 31, 32, 33, 34, 35, 36, 37, 38, 39, 40, 41, 42, 43, 44, 45, 46, 47, 48, 49, 50, 51, 52, 53, 54, 55, 56, 57, 58, 59, 60, 61, 62, 63, 64, 65, 66, 67, 68, 69, 70, 71, 72, 73, 74, 75, 76, 77, 78, 79, 80, 81, 82, 83, 84, 85, 86, 87, 88, 89, 90, 91, 92, 93, 94, 95, 96, 97, 98, 99]\n",
      "[0.0, 1.1, 4.2, 9.3, 16.4, 25.5, 36.6, 49.7, 64.8, 81.9, 101.0, 122.1, 145.2, 170.3, 197.4, 226.5, 257.6, 290.7, 325.8, 362.9, 402.0, 443.1, 486.2, 531.3, 578.4, 627.5, 678.6, 731.7, 786.8, 843.9, 903.0, 964.1, 1027.2, 1092.3, 1159.4, 1228.5, 1299.6, 1372.7, 1447.8, 1524.9, 1604.0, 1685.1, 1768.2, 1853.3, 1940.4, 2029.5, 2120.6, 2213.7, 2308.8, 2405.9, 2505.0, 2606.1, 2709.2, 2814.3, 2921.4, 3030.5, 3141.6, 3254.7, 3369.8, 3486.9, 3606.0, 3727.1, 3850.2, 3975.3, 4102.4, 4231.5, 4362.6, 4495.7, 4630.8, 4767.9, 4907.0, 5048.1, 5191.2, 5336.3, 5483.4, 5632.5, 5783.6, 5936.7, 6091.8, 6248.9, 6408.0, 6569.1, 6732.2, 6897.3, 7064.4, 7233.5, 7404.6, 7577.7, 7752.8, 7929.9, 8109.0, 8290.1, 8473.2, 8658.3, 8845.4, 9034.5, 9225.6, 9418.7, 9613.8, 9810.9]\n"
     ]
    }
   ],
   "source": [
    "print(total(lst1))\n",
    "print(total(lst2))\n",
    "print(mean(lst1))\n",
    "print(mean(lst2))\n",
    "print(median(lst1))\n",
    "print(median(lst2))\n",
    "print(mode(lst1))\n",
    "print(mode(lst2))"
   ]
  },
  {
   "cell_type": "code",
   "execution_count": null,
   "id": "b891c7c8",
   "metadata": {},
   "outputs": [],
   "source": []
  }
 ],
 "metadata": {
  "kernelspec": {
   "display_name": "Python 3 (ipykernel)",
   "language": "python",
   "name": "python3"
  },
  "language_info": {
   "codemirror_mode": {
    "name": "ipython",
    "version": 3
   },
   "file_extension": ".py",
   "mimetype": "text/x-python",
   "name": "python",
   "nbconvert_exporter": "python",
   "pygments_lexer": "ipython3",
   "version": "3.9.13"
  }
 },
 "nbformat": 4,
 "nbformat_minor": 5
}
