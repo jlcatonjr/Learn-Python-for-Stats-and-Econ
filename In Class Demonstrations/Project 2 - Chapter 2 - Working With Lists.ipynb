{
 "cells": [
  {
   "cell_type": "markdown",
   "id": "b204d1f0",
   "metadata": {},
   "source": [
    "# Project 2 - Working with Lists\n",
    "## Working with Lists\n",
    "\n",
    "\n",
    "|New Concepts | Description|\n",
    "| --- | --- |\n",
    "| Dynamic List | A dynamic list is encapsulated by brackets _([])_. A list is mutable. Elements can be added to or deleted from a list on the fly.|\n",
    "| List Concatenation | Two lists can be joined together in the same manner that strings are concatenated. |\n",
    "| List Indexing | Lists are indexed with the first element being indexed as zero and the last element as the length of (number of elements in) the list less one. Indexes are called using brackets – i.e., _lst[0]_ calls the 0th element in the list. |"
   ]
  },
  {
   "cell_type": "code",
   "execution_count": 1,
   "id": "628eff6f",
   "metadata": {},
   "outputs": [
    {
     "data": {
      "text/plain": [
       "([], list)"
      ]
     },
     "execution_count": 1,
     "metadata": {},
     "output_type": "execute_result"
    }
   ],
   "source": [
    "empty_list = []\n",
    "empty_list, type(empty_list)"
   ]
  },
  {
   "cell_type": "code",
   "execution_count": 2,
   "id": "640f5a01",
   "metadata": {},
   "outputs": [
    {
     "data": {
      "text/plain": [
       "([1, 2, 3, 4, 5], list)"
      ]
     },
     "execution_count": 2,
     "metadata": {},
     "output_type": "execute_result"
    }
   ],
   "source": [
    "int_list = [1,2,3,4,5]\n",
    "int_list, type(empty_list)"
   ]
  },
  {
   "cell_type": "code",
   "execution_count": 3,
   "id": "0e18bf99",
   "metadata": {},
   "outputs": [
    {
     "data": {
      "text/plain": [
       "([1.0, 2.0, 3.0, 4.0, 5.0], list)"
      ]
     },
     "execution_count": 3,
     "metadata": {},
     "output_type": "execute_result"
    }
   ],
   "source": [
    "float_list = [1.,2.,3.,4.,5.]\n",
    "float_list, type(float_list)"
   ]
  },
  {
   "cell_type": "code",
   "execution_count": 4,
   "id": "b6a971a3",
   "metadata": {},
   "outputs": [
    {
     "data": {
      "text/plain": [
       "(['Many words', 'impoverished meaning'], list)"
      ]
     },
     "execution_count": 4,
     "metadata": {},
     "output_type": "execute_result"
    }
   ],
   "source": [
    "string_list = [\"Many words\", \"impoverished meaning\"]\n",
    "string_list, type(string_list)"
   ]
  },
  {
   "cell_type": "code",
   "execution_count": 5,
   "id": "44a44c6e",
   "metadata": {},
   "outputs": [
    {
     "data": {
      "text/plain": [
       "([1, 2.0, 'Mix it up'], list)"
      ]
     },
     "execution_count": 5,
     "metadata": {},
     "output_type": "execute_result"
    }
   ],
   "source": [
    "mixed_list = [1, 2., \"Mix it up\"]\n",
    "mixed_list, type(mixed_list)\n"
   ]
  },
  {
   "cell_type": "markdown",
   "id": "292eeecd",
   "metadata": {},
   "source": [
    "## Concatenation: Lists"
   ]
  },
  {
   "cell_type": "code",
   "execution_count": 6,
   "id": "1a481fb8",
   "metadata": {},
   "outputs": [
    {
     "data": {
      "text/plain": [
       "[1, 2]"
      ]
     },
     "execution_count": 6,
     "metadata": {},
     "output_type": "execute_result"
    }
   ],
   "source": [
    "list1 = [1]\n",
    "list2 = [2]\n",
    "join_lists = list1 + list2\n",
    "join_lists"
   ]
  },
  {
   "cell_type": "code",
   "execution_count": 7,
   "id": "a623bd89",
   "metadata": {},
   "outputs": [
    {
     "data": {
      "text/plain": [
       "'12'"
      ]
     },
     "execution_count": 7,
     "metadata": {},
     "output_type": "execute_result"
    }
   ],
   "source": [
    "#similar to concatenating strings\n",
    "\n",
    "str1 = \"1\"\n",
    "str2 = \"2\"\n",
    "join_strs = str1 + str2\n",
    "join_strs"
   ]
  },
  {
   "cell_type": "markdown",
   "id": "3f6a976d",
   "metadata": {},
   "source": [
    "# For Loops and _range()_\n",
    "\n",
    "\n",
    "| New Concepts | Description |\n",
    "| --- | --- |\n",
    "| _list(obj)_ | List transforms an iterable object, such as a tuple or set, into a dynamic list. |\n",
    "| _range(j, k , l)_ | Identifies a range of integers from _j&nbsp;_ to _k–1_ separated by some interval _l_. |\n",
    "|_len(obj)_ | Measure the length of an iterable object. |\n",
    "\n",
    "\n",
    "\n",
    "a for loop using in range will cycle through variable i from integer j to k - 1 by increments of l\n",
    "**for i in range(j, k, l)**:\n",
    "\n",
    "    execute script"
   ]
  },
  {
   "cell_type": "code",
   "execution_count": 8,
   "id": "f5a74f9c",
   "metadata": {
    "scrolled": true
   },
   "outputs": [
    {
     "name": "stdout",
     "output_type": "stream",
     "text": [
      "1\n",
      "2\n",
      "3\n",
      "4\n",
      "5\n",
      "6\n",
      "7\n",
      "8\n",
      "9\n",
      "10\n",
      "11\n",
      "12\n",
      "13\n",
      "14\n",
      "15\n",
      "16\n",
      "17\n",
      "18\n",
      "19\n",
      "20\n",
      "21\n",
      "22\n",
      "23\n",
      "24\n",
      "25\n",
      "26\n",
      "27\n",
      "28\n",
      "29\n",
      "30\n",
      "31\n",
      "32\n",
      "33\n",
      "34\n",
      "35\n",
      "36\n",
      "37\n",
      "38\n",
      "39\n",
      "40\n",
      "41\n",
      "42\n",
      "43\n",
      "44\n",
      "45\n",
      "46\n",
      "47\n",
      "48\n",
      "49\n",
      "50\n",
      "51\n",
      "52\n",
      "53\n",
      "54\n",
      "55\n",
      "56\n",
      "57\n",
      "58\n",
      "59\n",
      "60\n",
      "61\n",
      "62\n",
      "63\n",
      "64\n",
      "65\n",
      "66\n",
      "67\n",
      "68\n",
      "69\n",
      "70\n",
      "71\n",
      "72\n",
      "73\n",
      "74\n",
      "75\n",
      "76\n",
      "77\n",
      "78\n",
      "79\n",
      "80\n",
      "81\n",
      "82\n",
      "83\n",
      "84\n",
      "85\n",
      "86\n",
      "87\n",
      "88\n",
      "89\n",
      "90\n",
      "91\n",
      "92\n",
      "93\n",
      "94\n",
      "95\n",
      "96\n",
      "97\n",
      "98\n",
      "99\n"
     ]
    }
   ],
   "source": [
    "for i in range(1, 10 ** 2):\n",
    "    print(i)"
   ]
  },
  {
   "cell_type": "code",
   "execution_count": 9,
   "id": "c18e5317",
   "metadata": {
    "scrolled": true
   },
   "outputs": [
    {
     "name": "stdout",
     "output_type": "stream",
     "text": [
      "1 1\n",
      "2 3\n",
      "3 6\n",
      "4 10\n",
      "5 15\n",
      "6 21\n",
      "7 28\n",
      "8 36\n",
      "9 45\n",
      "10 55\n",
      "11 66\n",
      "12 78\n",
      "13 91\n",
      "14 105\n",
      "15 120\n",
      "16 136\n",
      "17 153\n",
      "18 171\n",
      "19 190\n",
      "20 210\n",
      "21 231\n",
      "22 253\n",
      "23 276\n",
      "24 300\n",
      "25 325\n",
      "26 351\n",
      "27 378\n",
      "28 406\n",
      "29 435\n",
      "30 465\n",
      "31 496\n",
      "32 528\n",
      "33 561\n",
      "34 595\n",
      "35 630\n",
      "36 666\n",
      "37 703\n",
      "38 741\n",
      "39 780\n",
      "40 820\n",
      "41 861\n",
      "42 903\n",
      "43 946\n",
      "44 990\n",
      "45 1035\n",
      "46 1081\n",
      "47 1128\n",
      "48 1176\n",
      "49 1225\n",
      "50 1275\n",
      "51 1326\n",
      "52 1378\n",
      "53 1431\n",
      "54 1485\n",
      "55 1540\n",
      "56 1596\n",
      "57 1653\n",
      "58 1711\n",
      "59 1770\n",
      "60 1830\n",
      "61 1891\n",
      "62 1953\n",
      "63 2016\n",
      "64 2080\n",
      "65 2145\n",
      "66 2211\n",
      "67 2278\n",
      "68 2346\n",
      "69 2415\n",
      "70 2485\n",
      "71 2556\n",
      "72 2628\n",
      "73 2701\n",
      "74 2775\n",
      "75 2850\n",
      "76 2926\n",
      "77 3003\n",
      "78 3081\n",
      "79 3160\n",
      "80 3240\n",
      "81 3321\n",
      "82 3403\n",
      "83 3486\n",
      "84 3570\n",
      "85 3655\n",
      "86 3741\n",
      "87 3828\n",
      "88 3916\n",
      "89 4005\n",
      "90 4095\n",
      "91 4186\n",
      "92 4278\n",
      "93 4371\n",
      "94 4465\n",
      "95 4560\n",
      "96 4656\n",
      "97 4753\n",
      "98 4851\n",
      "99 4950\n",
      "100 5050\n"
     ]
    }
   ],
   "source": [
    "total = 0\n",
    "for i in range(1, 101):\n",
    "    total = total + i\n",
    "    print(i, total)"
   ]
  },
  {
   "cell_type": "code",
   "execution_count": 10,
   "id": "758c0322",
   "metadata": {
    "scrolled": true
   },
   "outputs": [
    {
     "name": "stdout",
     "output_type": "stream",
     "text": [
      "1 1\n",
      "3 4\n",
      "5 9\n",
      "7 16\n",
      "9 25\n",
      "11 36\n",
      "13 49\n",
      "15 64\n",
      "17 81\n",
      "19 100\n",
      "21 121\n",
      "23 144\n",
      "25 169\n",
      "27 196\n",
      "29 225\n",
      "31 256\n",
      "33 289\n",
      "35 324\n",
      "37 361\n",
      "39 400\n",
      "41 441\n",
      "43 484\n",
      "45 529\n",
      "47 576\n",
      "49 625\n",
      "51 676\n",
      "53 729\n",
      "55 784\n",
      "57 841\n",
      "59 900\n",
      "61 961\n",
      "63 1024\n",
      "65 1089\n",
      "67 1156\n",
      "69 1225\n",
      "71 1296\n",
      "73 1369\n",
      "75 1444\n",
      "77 1521\n",
      "79 1600\n",
      "81 1681\n",
      "83 1764\n",
      "85 1849\n",
      "87 1936\n",
      "89 2025\n",
      "91 2116\n",
      "93 2209\n",
      "95 2304\n",
      "97 2401\n",
      "99 2500\n"
     ]
    }
   ],
   "source": [
    "total = 0\n",
    "for i in range(1, 101, 2):\n",
    "    total = total + i\n",
    "    print(i, total)"
   ]
  },
  {
   "cell_type": "code",
   "execution_count": 11,
   "id": "58cf8703",
   "metadata": {},
   "outputs": [
    {
     "name": "stdout",
     "output_type": "stream",
     "text": [
      "543\n",
      "342\n",
      "6\n",
      "435\n",
      "543\n",
      "j False\n",
      "h False\n",
      "t False\n",
      "i False\n",
      "4 False\n",
      "k True\n",
      "3 False\n",
      "h False\n",
      "2 False\n",
      "u False\n",
      "3 False\n",
      "i False\n"
     ]
    }
   ],
   "source": [
    "list1 = [543,342,6,435,543]\n",
    "str1 = \"jhti4k3h2u3i\"\n",
    "\n",
    "for val in list1:\n",
    "    print(val)\n",
    "\n",
    "for string in str1:\n",
    "    print(string, string == \"k\")"
   ]
  },
  {
   "cell_type": "code",
   "execution_count": 12,
   "id": "908b638f",
   "metadata": {},
   "outputs": [
    {
     "data": {
      "text/plain": [
       "[1, 2, 3, 4]"
      ]
     },
     "execution_count": 12,
     "metadata": {},
     "output_type": "execute_result"
    }
   ],
   "source": [
    "list1 = [1,2] \n",
    "list2 = [3,4]\n",
    "list1 + list2"
   ]
  },
  {
   "cell_type": "markdown",
   "id": "da9571fc",
   "metadata": {},
   "source": [
    "## More on range()"
   ]
  },
  {
   "cell_type": "code",
   "execution_count": 13,
   "id": "ccaf1074",
   "metadata": {},
   "outputs": [
    {
     "name": "stdout",
     "output_type": "stream",
     "text": [
      "0\n",
      "2\n",
      "4\n",
      "6\n",
      "8\n",
      "[0, 2, 4, 6, 8]\n"
     ]
    }
   ],
   "source": [
    "# create a list by appending values to the list\n",
    "list1 = []\n",
    "for i in range(0,9, 2):\n",
    "    print(i)\n",
    "    list1.append(i)\n",
    "    \n",
    "print(list1)"
   ]
  },
  {
   "cell_type": "code",
   "execution_count": 14,
   "id": "be08ca73",
   "metadata": {},
   "outputs": [
    {
     "data": {
      "text/plain": [
       "[0, 1, 2, 3, 4, 5, 6, 7, 8]"
      ]
     },
     "execution_count": 14,
     "metadata": {},
     "output_type": "execute_result"
    }
   ],
   "source": [
    "# create a list by passing range(i,j,l)), \n",
    "#  more efficient alternative to using append within a for loop\n",
    "\n",
    "list2 = list(range(0,9, 1))\n",
    "list2"
   ]
  },
  {
   "cell_type": "markdown",
   "id": "a4788448",
   "metadata": {},
   "source": [
    "### Using len() with range"
   ]
  },
  {
   "cell_type": "code",
   "execution_count": 15,
   "id": "9cdd1f29",
   "metadata": {},
   "outputs": [
    {
     "name": "stdout",
     "output_type": "stream",
     "text": [
      "i val\n",
      "0 0\n",
      "1 1\n",
      "2 2\n",
      "3 3\n",
      "4 4\n",
      "5 5\n",
      "6 6\n",
      "7 7\n",
      "8 8\n"
     ]
    }
   ],
   "source": [
    "list2_len = len(list2)\n",
    "print(\"i\",\"val\")\n",
    "for i in range(list2_len):\n",
    "    print(i, list2[i])"
   ]
  },
  {
   "cell_type": "markdown",
   "id": "0bb6d437",
   "metadata": {},
   "source": [
    "### Nested for-loop"
   ]
  },
  {
   "cell_type": "code",
   "execution_count": 16,
   "id": "f71456f0",
   "metadata": {},
   "outputs": [
    {
     "name": "stdout",
     "output_type": "stream",
     "text": [
      "i list\n",
      "1 [0, 1, 2, 3, 4, 5, 6, 7, 8]\n",
      "length: 9\n",
      "j val\n",
      "0 0\n",
      "1 1\n",
      "2 2\n",
      "3 3\n",
      "4 4\n",
      "5 5\n",
      "6 6\n",
      "7 7\n",
      "8 8\n",
      "2 [0, 2, 4, 6, 8]\n",
      "length: 5\n",
      "j val\n",
      "0 0\n",
      "1 2\n",
      "2 4\n",
      "3 6\n",
      "4 8\n",
      "3 [0, 3, 6]\n",
      "length: 3\n",
      "j val\n",
      "0 0\n",
      "1 3\n",
      "2 6\n",
      "4 [0, 4, 8]\n",
      "length: 3\n",
      "j val\n",
      "0 0\n",
      "1 4\n",
      "2 8\n",
      "5 [0, 5]\n",
      "length: 2\n",
      "j val\n",
      "0 0\n",
      "1 5\n"
     ]
    }
   ],
   "source": [
    "print(\"i\",\"list\")\n",
    "\n",
    "# create a new list2 according to the inverval values called by the for loop\n",
    "for interval in range(1, 6):\n",
    "    list2 = list(range(0,9, interval))\n",
    "    print(interval, list2)\n",
    "    list2_len = len(list2)\n",
    "    print(\"length:\", list2_len)\n",
    "    print(\"j\", \"val\")\n",
    "    for j in range(list2_len):\n",
    "        print(j, list2[j])"
   ]
  },
  {
   "cell_type": "markdown",
   "id": "a67de1a1",
   "metadata": {},
   "source": [
    "## If statements and boolean variables"
   ]
  },
  {
   "cell_type": "code",
   "execution_count": 17,
   "id": "62e50264",
   "metadata": {},
   "outputs": [
    {
     "data": {
      "text/plain": [
       "True"
      ]
     },
     "execution_count": 17,
     "metadata": {},
     "output_type": "execute_result"
    }
   ],
   "source": [
    "# Boolean\n",
    "True"
   ]
  },
  {
   "cell_type": "code",
   "execution_count": 18,
   "id": "11254cd3",
   "metadata": {},
   "outputs": [
    {
     "data": {
      "text/plain": [
       "False"
      ]
     },
     "execution_count": 18,
     "metadata": {},
     "output_type": "execute_result"
    }
   ],
   "source": [
    "False"
   ]
  },
  {
   "cell_type": "code",
   "execution_count": 19,
   "id": "8b1db837",
   "metadata": {},
   "outputs": [
    {
     "data": {
      "text/plain": [
       "0"
      ]
     },
     "execution_count": 19,
     "metadata": {},
     "output_type": "execute_result"
    }
   ],
   "source": [
    "True * False"
   ]
  },
  {
   "cell_type": "code",
   "execution_count": 20,
   "id": "e49aada0",
   "metadata": {},
   "outputs": [
    {
     "data": {
      "text/plain": [
       "1"
      ]
     },
     "execution_count": 20,
     "metadata": {},
     "output_type": "execute_result"
    }
   ],
   "source": [
    "True * True"
   ]
  },
  {
   "cell_type": "code",
   "execution_count": 21,
   "id": "a9af38c3",
   "metadata": {},
   "outputs": [
    {
     "name": "stdout",
     "output_type": "stream",
     "text": [
      "True\n"
     ]
    }
   ],
   "source": [
    "boolean = True\n",
    "\n",
    "# conditional statement // if statement\n",
    "if boolean: # if boolean == True\n",
    "    print(boolean)\n",
    "\n",
    "boolean2 = True\n",
    "if boolean2 == False: # if boolean2 == True\n",
    "    print(boolean2)\n",
    "    print(\"if boolean2 is false, then you just printed this text. If not, then nothing happend\")"
   ]
  },
  {
   "cell_type": "code",
   "execution_count": 22,
   "id": "a9364c4c",
   "metadata": {},
   "outputs": [
    {
     "data": {
      "text/plain": [
       "True"
      ]
     },
     "execution_count": 22,
     "metadata": {},
     "output_type": "execute_result"
    }
   ],
   "source": [
    "False == False"
   ]
  },
  {
   "cell_type": "code",
   "execution_count": 23,
   "id": "8dfac748",
   "metadata": {},
   "outputs": [
    {
     "data": {
      "text/plain": [
       "True"
      ]
     },
     "execution_count": 23,
     "metadata": {},
     "output_type": "execute_result"
    }
   ],
   "source": [
    "1 == True"
   ]
  },
  {
   "cell_type": "code",
   "execution_count": 24,
   "id": "42fa3ce9",
   "metadata": {},
   "outputs": [
    {
     "data": {
      "text/plain": [
       "False"
      ]
     },
     "execution_count": 24,
     "metadata": {},
     "output_type": "execute_result"
    }
   ],
   "source": [
    "# != is \"not equal to\"\n",
    "1 != True"
   ]
  },
  {
   "cell_type": "markdown",
   "id": "9566f004",
   "metadata": {},
   "source": [
    "## use a boolean variable and a conditional statement (if statement) to track the appearance of the word \"ate\" "
   ]
  },
  {
   "cell_type": "code",
   "execution_count": 25,
   "id": "03c271b1",
   "metadata": {},
   "outputs": [
    {
     "name": "stdout",
     "output_type": "stream",
     "text": [
      "0 Is the word The \"ate\"?: False\n",
      "1 Is the word dog \"ate\"?: False\n",
      "2 Is the word ate \"ate\"?: True\n",
      "3 Is the word the \"ate\"?: False\n",
      "4 Is the word snow \"ate\"?: False\n",
      "5 Is the word and \"ate\"?: False\n",
      "6 Is the word ate \"ate\"?: True\n",
      "7 Is the word his \"ate\"?: False\n",
      "8 Is the word dog \"ate\"?: False\n",
      "9 Is the word food \"ate\"?: False\n"
     ]
    },
    {
     "data": {
      "text/plain": [
       "[2, 6]"
      ]
     },
     "execution_count": 25,
     "metadata": {},
     "output_type": "execute_result"
    }
   ],
   "source": [
    "words = [\"The\", \"dog\", \"ate\",\"the\",\"snow\", \"and\", \"ate\", \"his\", \"dog\", \"food\"]\n",
    "# does the word \"ate\" appear in the list? If so, where?\n",
    "ate_index_list=[]\n",
    "\n",
    "num_words = len(words)\n",
    "for i in range(num_words):\n",
    "    # save the string at index i as word\n",
    "    word = words[i]\n",
    "    # is_ate is a boolean variable that tells whether or not the current word is \"ate\"\n",
    "    is_ate = word == \"ate\"\n",
    "    print(i, \"Is the word\", word, \"\\\"ate\\\"?:\", is_ate)\n",
    "    \n",
    "    # if the word is \"ate\", then add the index to the list so that we can have\n",
    "    #  an easy to reference record of the indices where ate appears\n",
    "    if is_ate:\n",
    "        ate_index_list.append(i)\n",
    "ate_index_list"
   ]
  },
  {
   "cell_type": "markdown",
   "id": "2da95162",
   "metadata": {},
   "source": [
    "## if, else, and elif"
   ]
  },
  {
   "cell_type": "code",
   "execution_count": 26,
   "id": "93390c2e",
   "metadata": {},
   "outputs": [
    {
     "name": "stdout",
     "output_type": "stream",
     "text": [
      "1 is not great than 10\n",
      "6 is not great than 10\n",
      "23 is greater than 10\n",
      "765432 is greater than 10\n",
      "432 is greater than 10\n",
      "1 is not great than 10\n",
      "34 is greater than 10\n",
      "43 is greater than 10\n",
      "5 is not great than 10\n",
      "7 is not great than 10\n",
      "4 is not great than 10\n"
     ]
    }
   ],
   "source": [
    "random_numbers = [1,6,23,765432,432,1,34,43,5,7,4]\n",
    "\n",
    "# is the number greater than 10\n",
    "not_greater_than_10 = []\n",
    "greater_than_10 = []\n",
    "for number in random_numbers:\n",
    "    if number > 10:\n",
    "        print(number, \"is greater than 10\")\n",
    "        greater_than_10.append(number)\n",
    "    else:\n",
    "        print(number, \"is not great than 10\")\n",
    "        not_greater_than_10.append(number)"
   ]
  },
  {
   "cell_type": "code",
   "execution_count": 27,
   "id": "3d8d23c5",
   "metadata": {},
   "outputs": [
    {
     "data": {
      "text/plain": [
       "[1, 6, 1, 5, 7, 4]"
      ]
     },
     "execution_count": 27,
     "metadata": {},
     "output_type": "execute_result"
    }
   ],
   "source": [
    "not_greater_than_10"
   ]
  },
  {
   "cell_type": "code",
   "execution_count": 28,
   "id": "94bacbea",
   "metadata": {},
   "outputs": [
    {
     "data": {
      "text/plain": [
       "[23, 765432, 432, 34, 43]"
      ]
     },
     "execution_count": 28,
     "metadata": {},
     "output_type": "execute_result"
    }
   ],
   "source": [
    "greater_than_10"
   ]
  },
  {
   "cell_type": "code",
   "execution_count": 29,
   "id": "46be6efd",
   "metadata": {},
   "outputs": [
    {
     "name": "stdout",
     "output_type": "stream",
     "text": [
      "1 is the domain of 0 and 10\n",
      "6 is the domain of 0 and 10\n",
      "23 is greater than 10\n",
      "765432 is greater than 10\n",
      "432 is greater than 10\n",
      "1 is the domain of 0 and 10\n",
      "34 is greater than 10\n",
      "43 is greater than 10\n",
      "5 is the domain of 0 and 10\n",
      "7 is the domain of 0 and 10\n",
      "4 is the domain of 0 and 10\n",
      "-1 is negative\n",
      "-45 is negative\n",
      "8.5 is the domain of 0 and 10\n"
     ]
    }
   ],
   "source": [
    "random_numbers = [1,6,23,765432,432,1,34,43,5,7,4, -1,-45, \"8.5\"]\n",
    "\n",
    "# is the number greater than 10\n",
    "greater_than_10 = []\n",
    "zero_to_10 = []\n",
    "negative_numbers = []\n",
    "for number in random_numbers:\n",
    "    \n",
    "    # what if you want to catch strings that might be in your list?\n",
    "    if type(number) == str: number = float(number)\n",
    "    if number > 10:\n",
    "        print(number, \"is greater than 10\")\n",
    "        greater_than_10.append(number)\n",
    "    # if a number is 10 or less, the program will read the elif statement and test\n",
    "    #  that the number is zero or greater, this catches all the number in the domain [0, 10]\n",
    "    elif number >= 0 :\n",
    "        print(number, \"is the domain of 0 and 10\")\n",
    "        zero_to_10.append(number)\n",
    "    # the else statement catches any numbers that are negative since the previous conditional\n",
    "    #  statements checked if the number was zero or greater\n",
    "    else:\n",
    "        print(number, \"is negative\")\n",
    "        negative_numbers.append(number)"
   ]
  },
  {
   "cell_type": "code",
   "execution_count": 30,
   "id": "eb472c23",
   "metadata": {},
   "outputs": [
    {
     "data": {
      "text/plain": [
       "([23, 765432, 432, 34, 43], [1, 6, 1, 5, 7, 4, 8.5], [-1, -45])"
      ]
     },
     "execution_count": 30,
     "metadata": {},
     "output_type": "execute_result"
    }
   ],
   "source": [
    "greater_than_10, zero_to_10, negative_numbers"
   ]
  },
  {
   "cell_type": "markdown",
   "id": "ad7f933d",
   "metadata": {},
   "source": [
    "## use del lst[i]"
   ]
  },
  {
   "cell_type": "code",
   "execution_count": 31,
   "id": "c613b5be",
   "metadata": {},
   "outputs": [
    {
     "data": {
      "text/plain": [
       "([23, 432, 34, 43], [1, 1, 5, 7, 4, 8.5], [-1])"
      ]
     },
     "execution_count": 31,
     "metadata": {},
     "output_type": "execute_result"
    }
   ],
   "source": [
    "# use del lst[i] to delete the ith element from lst\n",
    "del greater_than_10[1] \n",
    "del zero_to_10[1]\n",
    "del negative_numbers[1]\n",
    "greater_than_10, zero_to_10, negative_numbers"
   ]
  },
  {
   "cell_type": "code",
   "execution_count": 32,
   "id": "be5e9674",
   "metadata": {},
   "outputs": [
    {
     "data": {
      "text/plain": [
       "([23, 432, 34], [1, 1, 5, 7, 4], [])"
      ]
     },
     "execution_count": 32,
     "metadata": {},
     "output_type": "execute_result"
    }
   ],
   "source": [
    "# passing -1 as a list index calls the last element in the list\n",
    "#  passing -1 when using del lst[i] will delete the last element in the list\n",
    "del greater_than_10[-1] \n",
    "del zero_to_10[-1]\n",
    "del negative_numbers[-1]\n",
    "greater_than_10, zero_to_10, negative_numbers"
   ]
  },
  {
   "cell_type": "markdown",
   "id": "8e407e25",
   "metadata": {},
   "source": [
    "## use lst.remove(val)"
   ]
  },
  {
   "cell_type": "code",
   "execution_count": 33,
   "id": "fd0d82a1",
   "metadata": {},
   "outputs": [
    {
     "data": {
      "text/plain": [
       "([432, 34], [1, 5, 7, 4])"
      ]
     },
     "execution_count": 33,
     "metadata": {},
     "output_type": "execute_result"
    }
   ],
   "source": [
    "# use lst.remove(val)\n",
    "greater_than_10.remove(23)\n",
    "\n",
    "# if you remove a value that appears twice in the list, than the first \n",
    "#  appearance of that value will be removed\n",
    "zero_to_10.remove(1)\n",
    "greater_than_10, zero_to_10"
   ]
  },
  {
   "cell_type": "markdown",
   "id": "ac2d10e7",
   "metadata": {},
   "source": [
    "## use lst.pop()"
   ]
  },
  {
   "cell_type": "code",
   "execution_count": 34,
   "id": "a37fb224",
   "metadata": {},
   "outputs": [
    {
     "data": {
      "text/plain": [
       "([432], 34)"
      ]
     },
     "execution_count": 34,
     "metadata": {},
     "output_type": "execute_result"
    }
   ],
   "source": [
    "last_val_in_lst = greater_than_10.pop()\n",
    "greater_than_10, last_val_in_lst"
   ]
  },
  {
   "cell_type": "markdown",
   "id": "4411032a",
   "metadata": {},
   "source": [
    "## sorting lists"
   ]
  },
  {
   "cell_type": "code",
   "execution_count": 35,
   "id": "259c7a2e",
   "metadata": {},
   "outputs": [
    {
     "data": {
      "text/plain": [
       "([4, 1, 2, 5, 543, 22], [1, 2, 4, 5, 22, 543], [4, 1, 2, 5, 543, 22])"
      ]
     },
     "execution_count": 35,
     "metadata": {},
     "output_type": "execute_result"
    }
   ],
   "source": [
    "# sorted(lst) will sort a copy of lst\n",
    "num_list = [4,1,2,5,543,22]\n",
    "num_list, sorted(num_list), num_list"
   ]
  },
  {
   "cell_type": "code",
   "execution_count": 36,
   "id": "4122429c",
   "metadata": {},
   "outputs": [
    {
     "data": {
      "text/plain": [
       "(['A', 'list', 'of', 'strings', 'is', 'in', 'string_list'],\n",
       " ['A', 'in', 'is', 'list', 'of', 'string_list', 'strings'])"
      ]
     },
     "execution_count": 36,
     "metadata": {},
     "output_type": "execute_result"
    }
   ],
   "source": [
    "string_list = [\"A\", \"list\",\"of\",\"strings\", \"is\", \"in\", \"string_list\"]\n",
    "string_list, sorted(string_list)"
   ]
  },
  {
   "cell_type": "code",
   "execution_count": 37,
   "id": "2bf4eda6",
   "metadata": {},
   "outputs": [
    {
     "data": {
      "text/plain": [
       "[1, 2, 4, 5, 22, 543]"
      ]
     },
     "execution_count": 37,
     "metadata": {},
     "output_type": "execute_result"
    }
   ],
   "source": [
    "# lst.sort() will sort the original list object \n",
    "num_list.sort()\n",
    "num_list"
   ]
  },
  {
   "cell_type": "code",
   "execution_count": 38,
   "id": "8c04fe82",
   "metadata": {},
   "outputs": [
    {
     "ename": "TypeError",
     "evalue": "'<' not supported between instances of 'str' and 'int'",
     "output_type": "error",
     "traceback": [
      "\u001b[1;31m---------------------------------------------------------------------------\u001b[0m",
      "\u001b[1;31mTypeError\u001b[0m                                 Traceback (most recent call last)",
      "Input \u001b[1;32mIn [38]\u001b[0m, in \u001b[0;36m<cell line: 3>\u001b[1;34m()\u001b[0m\n\u001b[0;32m      1\u001b[0m \u001b[38;5;66;03m# sorting mixed types will generate an error\u001b[39;00m\n\u001b[0;32m      2\u001b[0m \u001b[38;5;66;03m# you cannot compare strings and numerical values\u001b[39;00m\n\u001b[1;32m----> 3\u001b[0m \u001b[38;5;28;43msorted\u001b[39;49m\u001b[43m(\u001b[49m\u001b[43mnum_list\u001b[49m\u001b[43m \u001b[49m\u001b[38;5;241;43m+\u001b[39;49m\u001b[43m \u001b[49m\u001b[43mstring_list\u001b[49m\u001b[43m)\u001b[49m\n",
      "\u001b[1;31mTypeError\u001b[0m: '<' not supported between instances of 'str' and 'int'"
     ]
    }
   ],
   "source": [
    "# sorting mixed types will generate an error\n",
    "# you cannot compare strings and numerical values\n",
    "sorted(num_list + string_list)"
   ]
  },
  {
   "cell_type": "markdown",
   "id": "b139b300",
   "metadata": {},
   "source": [
    "## list slices"
   ]
  },
  {
   "cell_type": "code",
   "execution_count": 39,
   "id": "89d84f23",
   "metadata": {},
   "outputs": [
    {
     "data": {
      "text/plain": [
       "([1, 2, 3, 4, 5, 6, 6, 7], [3, 4, 5])"
      ]
     },
     "execution_count": 39,
     "metadata": {},
     "output_type": "execute_result"
    }
   ],
   "source": [
    "# a slice of a list takes a subset of values from a list\n",
    "lst = [1,2,3,4,5,6,6,7]\n",
    "# compare full list to sliced list\n",
    "lst, lst[2:5]"
   ]
  },
  {
   "cell_type": "code",
   "execution_count": 40,
   "id": "529c6492",
   "metadata": {},
   "outputs": [
    {
     "data": {
      "text/plain": [
       "([1, 2, 3, 4, 5, 6, 6, 7], [1, 3, 5, 6])"
      ]
     },
     "execution_count": 40,
     "metadata": {},
     "output_type": "execute_result"
    }
   ],
   "source": [
    "# count through the index by twos\n",
    "#  explicit start and end index values\n",
    "lst, lst[0:-1:2]"
   ]
  },
  {
   "cell_type": "code",
   "execution_count": 41,
   "id": "c947b58d",
   "metadata": {},
   "outputs": [
    {
     "data": {
      "text/plain": [
       "([1, 2, 3, 4, 5, 6, 6, 7], [1, 3, 5, 6])"
      ]
     },
     "execution_count": 41,
     "metadata": {},
     "output_type": "execute_result"
    }
   ],
   "source": [
    "# implicit start and end index values\n",
    "lst, lst[::2]"
   ]
  },
  {
   "cell_type": "markdown",
   "id": "ed8686e0",
   "metadata": {},
   "source": [
    "## lists and generator functions"
   ]
  },
  {
   "cell_type": "code",
   "execution_count": 42,
   "id": "567ae8f7",
   "metadata": {},
   "outputs": [
    {
     "data": {
      "text/plain": [
       "<generator object <genexpr> at 0x000002197FF08C10>"
      ]
     },
     "execution_count": 42,
     "metadata": {},
     "output_type": "execute_result"
    }
   ],
   "source": [
    "# save a generator function without creating a list\n",
    "generator = (i for i in range(20))\n",
    "generator"
   ]
  },
  {
   "cell_type": "code",
   "execution_count": 43,
   "id": "120a4d4c",
   "metadata": {},
   "outputs": [
    {
     "data": {
      "text/plain": [
       "[0, 1, 2, 3, 4, 5, 6, 7, 8, 9, 10, 11, 12, 13, 14, 15, 16, 17, 18, 19]"
      ]
     },
     "execution_count": 43,
     "metadata": {},
     "output_type": "execute_result"
    }
   ],
   "source": [
    "list1 = list(generator)\n",
    "list1"
   ]
  },
  {
   "cell_type": "code",
   "execution_count": 44,
   "id": "675cbc11",
   "metadata": {},
   "outputs": [
    {
     "data": {
      "text/plain": [
       "[0, 2, 4, 6, 8, 10, 12, 14, 16, 18, 20, 22, 24, 26, 28, 30, 32, 34, 36, 38]"
      ]
     },
     "execution_count": 44,
     "metadata": {},
     "output_type": "execute_result"
    }
   ],
   "source": [
    "list2 = [2 * i for i in range(20)]\n",
    "list2"
   ]
  },
  {
   "cell_type": "code",
   "execution_count": 45,
   "id": "34cad01f",
   "metadata": {},
   "outputs": [
    {
     "ename": "TypeError",
     "evalue": "'list' object is not callable",
     "output_type": "error",
     "traceback": [
      "\u001b[1;31m---------------------------------------------------------------------------\u001b[0m",
      "\u001b[1;31mTypeError\u001b[0m                                 Traceback (most recent call last)",
      "Input \u001b[1;32mIn [45]\u001b[0m, in \u001b[0;36m<cell line: 3>\u001b[1;34m()\u001b[0m\n\u001b[0;32m      1\u001b[0m \u001b[38;5;66;03m# be careful not to save over the list function\u001b[39;00m\n\u001b[0;32m      2\u001b[0m \u001b[38;5;28mlist\u001b[39m \u001b[38;5;241m=\u001b[39m [\u001b[38;5;124m\"\u001b[39m\u001b[38;5;124ma\u001b[39m\u001b[38;5;124m\"\u001b[39m, \u001b[38;5;124m\"\u001b[39m\u001b[38;5;124mlist\u001b[39m\u001b[38;5;124m\"\u001b[39m]\n\u001b[1;32m----> 3\u001b[0m \u001b[38;5;28;43mlist\u001b[39;49m\u001b[43m(\u001b[49m\u001b[43mi\u001b[49m\u001b[43m \u001b[49m\u001b[38;5;28;43;01mfor\u001b[39;49;00m\u001b[43m \u001b[49m\u001b[43mi\u001b[49m\u001b[43m \u001b[49m\u001b[38;5;129;43;01min\u001b[39;49;00m\u001b[43m \u001b[49m\u001b[38;5;28;43mrange\u001b[39;49m\u001b[43m(\u001b[49m\u001b[38;5;241;43m20\u001b[39;49m\u001b[43m)\u001b[49m\u001b[43m)\u001b[49m\n",
      "\u001b[1;31mTypeError\u001b[0m: 'list' object is not callable"
     ]
    }
   ],
   "source": [
    "# be careful not to save over the list function\n",
    "list = [\"a\", \"list\"]\n",
    "list(i for i in range(20))"
   ]
  },
  {
   "cell_type": "code",
   "execution_count": null,
   "id": "a3a6d3eb",
   "metadata": {},
   "outputs": [],
   "source": []
  }
 ],
 "metadata": {
  "kernelspec": {
   "display_name": "Python 3 (ipykernel)",
   "language": "python",
   "name": "python3"
  },
  "language_info": {
   "codemirror_mode": {
    "name": "ipython",
    "version": 3
   },
   "file_extension": ".py",
   "mimetype": "text/x-python",
   "name": "python",
   "nbconvert_exporter": "python",
   "pygments_lexer": "ipython3",
   "version": "3.9.13"
  }
 },
 "nbformat": 4,
 "nbformat_minor": 5
}
