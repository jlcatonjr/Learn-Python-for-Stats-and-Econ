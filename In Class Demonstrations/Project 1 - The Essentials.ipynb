{
 "cells": [
  {
   "cell_type": "markdown",
   "id": "fa4eaf6a",
   "metadata": {},
   "source": [
    "# Project 1: The essentials\n",
    "## This line is less essential\n",
    "### This line is even less essential\n",
    "#### Probably not essential at all\n",
    "\n",
    "This is the body of the text.\n",
    "\n",
    "*italics*\n",
    "_italics_\n",
    "\n",
    "**bold**\n",
    "__bold__\n",
    "\n",
    "**_bold italic_**\n",
    "\n",
    "### Execute Cell Options\n",
    "Create new cells using alt+Enter\n",
    "Run cell with ctrl+Enter\n",
    "Run cell and move to next cell using shift+Enter"
   ]
  },
  {
   "cell_type": "code",
   "execution_count": 3,
   "id": "dbaecca8",
   "metadata": {},
   "outputs": [
    {
     "name": "stdout",
     "output_type": "stream",
     "text": [
      "[]\n",
      "[]\n"
     ]
    },
    {
     "data": {
      "text/plain": [
       "[]"
      ]
     },
     "execution_count": 3,
     "metadata": {},
     "output_type": "execute_result"
    }
   ],
   "source": [
    "x=[]\n",
    "print(x)\n",
    "print(x)\n",
    "x"
   ]
  },
  {
   "cell_type": "code",
   "execution_count": 8,
   "id": "d7bfc979",
   "metadata": {},
   "outputs": [
    {
     "name": "stdout",
     "output_type": "stream",
     "text": [
      "Hello World!\n"
     ]
    }
   ],
   "source": [
    "#Helloworld.py\n",
    "print(\"Hello World!\")"
   ]
  },
  {
   "cell_type": "code",
   "execution_count": 10,
   "id": "3ae1c062",
   "metadata": {},
   "outputs": [
    {
     "data": {
      "text/plain": [
       "'Hello World!'"
      ]
     },
     "execution_count": 10,
     "metadata": {},
     "output_type": "execute_result"
    }
   ],
   "source": [
    "\"Hello World!\""
   ]
  },
  {
   "cell_type": "code",
   "execution_count": 11,
   "id": "bcdd4f77",
   "metadata": {},
   "outputs": [
    {
     "data": {
      "text/plain": [
       "'Hello World!'"
      ]
     },
     "execution_count": 11,
     "metadata": {},
     "output_type": "execute_result"
    }
   ],
   "source": [
    "'Hello World!'"
   ]
  },
  {
   "cell_type": "code",
   "execution_count": 13,
   "id": "5922c0b8",
   "metadata": {},
   "outputs": [
    {
     "name": "stdout",
     "output_type": "stream",
     "text": [
      "\"Hello World!\"\n"
     ]
    }
   ],
   "source": [
    "print('\"Hello World!\"')"
   ]
  },
  {
   "cell_type": "code",
   "execution_count": 14,
   "id": "44ebe397",
   "metadata": {},
   "outputs": [
    {
     "data": {
      "text/plain": [
       "'Hello World'"
      ]
     },
     "execution_count": 14,
     "metadata": {},
     "output_type": "execute_result"
    }
   ],
   "source": [
    "msg = \"Hello World\"\n",
    "msg"
   ]
  },
  {
   "cell_type": "code",
   "execution_count": 20,
   "id": "80bc08b2",
   "metadata": {},
   "outputs": [
    {
     "name": "stdout",
     "output_type": "stream",
     "text": [
      "Hello World\n"
     ]
    }
   ],
   "source": [
    "print(msg)"
   ]
  },
  {
   "cell_type": "markdown",
   "id": "3a05aeb6",
   "metadata": {},
   "source": [
    "## Methods"
   ]
  },
  {
   "cell_type": "code",
   "execution_count": 21,
   "id": "eb1648c9",
   "metadata": {},
   "outputs": [
    {
     "data": {
      "text/plain": [
       "'hello world'"
      ]
     },
     "execution_count": 21,
     "metadata": {},
     "output_type": "execute_result"
    }
   ],
   "source": [
    "msg.lower()"
   ]
  },
  {
   "cell_type": "code",
   "execution_count": 22,
   "id": "619b587d",
   "metadata": {},
   "outputs": [
    {
     "data": {
      "text/plain": [
       "'HELLO WORLD'"
      ]
     },
     "execution_count": 22,
     "metadata": {},
     "output_type": "execute_result"
    }
   ],
   "source": [
    "msg.upper()"
   ]
  },
  {
   "cell_type": "code",
   "execution_count": 27,
   "id": "208b45a8",
   "metadata": {},
   "outputs": [
    {
     "data": {
      "text/plain": [
       "'Hello World'"
      ]
     },
     "execution_count": 27,
     "metadata": {},
     "output_type": "execute_result"
    }
   ],
   "source": [
    "msg.lower().title()"
   ]
  },
  {
   "cell_type": "code",
   "execution_count": 31,
   "id": "1b6b3717",
   "metadata": {},
   "outputs": [
    {
     "name": "stdout",
     "output_type": "stream",
     "text": [
      "Data\n",
      "Label\n"
     ]
    }
   ],
   "source": [
    "print(\"data_label\".title().replace(\"_\",\"\\n\"))"
   ]
  },
  {
   "cell_type": "markdown",
   "id": "dc153840",
   "metadata": {},
   "source": [
    "## Concatenate Objects"
   ]
  },
  {
   "cell_type": "code",
   "execution_count": 32,
   "id": "c7847f37",
   "metadata": {},
   "outputs": [
    {
     "data": {
      "text/plain": [
       "('123', 6)"
      ]
     },
     "execution_count": 32,
     "metadata": {},
     "output_type": "execute_result"
    }
   ],
   "source": [
    "\"1\" + \"2\" + \"3\", 1+2+3"
   ]
  },
  {
   "cell_type": "code",
   "execution_count": 33,
   "id": "3e6f25f7",
   "metadata": {},
   "outputs": [
    {
     "data": {
      "text/plain": [
       "'Hello World123'"
      ]
     },
     "execution_count": 33,
     "metadata": {},
     "output_type": "execute_result"
    }
   ],
   "source": [
    "msg+\"123\""
   ]
  },
  {
   "cell_type": "code",
   "execution_count": 35,
   "id": "2d954fdf",
   "metadata": {},
   "outputs": [
    {
     "data": {
      "text/plain": [
       "'123'"
      ]
     },
     "execution_count": 35,
     "metadata": {},
     "output_type": "execute_result"
    }
   ],
   "source": [
    "\"1\" \"2\" \"3\""
   ]
  },
  {
   "cell_type": "code",
   "execution_count": 37,
   "id": "f60e1a79",
   "metadata": {},
   "outputs": [
    {
     "data": {
      "text/plain": [
       "'Happy 5th Birthday'"
      ]
     },
     "execution_count": 37,
     "metadata": {},
     "output_type": "execute_result"
    }
   ],
   "source": [
    "f\"Happy {5}th Birthday\""
   ]
  },
  {
   "cell_type": "code",
   "execution_count": 43,
   "id": "e4f5cee4",
   "metadata": {},
   "outputs": [
    {
     "name": "stdout",
     "output_type": "stream",
     "text": [
      "[0, 1, 2, 3, 4, 5, 6, 7, 8, 9, 10, 11, 12, 13, 14, 15, 16, 17, 18, 19, 20, 21, 22, 23, 24, 25, 26, 27, 28, 29, 30, 31, 32, 33, 34, 35, 36, 37, 38, 39, 40, 41, 42, 43, 44, 45, 46, 47, 48, 49, 50, 51, 52, 53, 54, 55, 56, 57, 58, 59, 60, 61, 62, 63, 64, 65, 66, 67, 68, 69, 70, 71, 72, 73, 74, 75, 76, 77, 78, 79, 80, 81, 82, 83, 84, 85, 86, 87, 88, 89, 90, 91, 92, 93, 94, 95, 96, 97, 98, 99]\n"
     ]
    }
   ],
   "source": [
    "print([i for i in range(100 )])"
   ]
  },
  {
   "cell_type": "code",
   "execution_count": 45,
   "id": "764f8df9",
   "metadata": {},
   "outputs": [],
   "source": [
    "import this"
   ]
  },
  {
   "cell_type": "markdown",
   "id": "ae9c744b",
   "metadata": {},
   "source": [
    "### Printing (Poetry)"
   ]
  },
  {
   "cell_type": "code",
   "execution_count": 46,
   "id": "a6a67541",
   "metadata": {},
   "outputs": [],
   "source": [
    "line1 = \"You thought it would be easy\"\n",
    "line2 = \"You thought it would be strange\"\n",
    "line3 = \"But then you started coding\"\n",
    "line4 = \"Things never were the same\""
   ]
  },
  {
   "cell_type": "code",
   "execution_count": 48,
   "id": "f26769c3",
   "metadata": {},
   "outputs": [
    {
     "data": {
      "text/plain": [
       "('You thought it would be easy',\n",
       " 'You thought it would be strange',\n",
       " 'But then you started coding',\n",
       " 'Things never were the same')"
      ]
     },
     "execution_count": 48,
     "metadata": {},
     "output_type": "execute_result"
    }
   ],
   "source": [
    "line1, line2, line3, line4"
   ]
  },
  {
   "cell_type": "code",
   "execution_count": 49,
   "id": "a96c6804",
   "metadata": {},
   "outputs": [
    {
     "name": "stdout",
     "output_type": "stream",
     "text": [
      "You thought it would be easy You thought it would be strange But then you started coding Things never were the same\n"
     ]
    }
   ],
   "source": [
    "print(line1, line2, line3, line4)"
   ]
  },
  {
   "cell_type": "code",
   "execution_count": 50,
   "id": "e77b0cb9",
   "metadata": {},
   "outputs": [
    {
     "name": "stdout",
     "output_type": "stream",
     "text": [
      "You thought it would be easy\n",
      "You thought it would be strange\n",
      "But then you started coding\n",
      "Things never were the same\n"
     ]
    }
   ],
   "source": [
    "print(line1, line2, line3, line4, sep = \"\\n\")"
   ]
  },
  {
   "cell_type": "code",
   "execution_count": 51,
   "id": "8b6c5457",
   "metadata": {},
   "outputs": [
    {
     "name": "stdout",
     "output_type": "stream",
     "text": [
      "You thought it would be easy::You thought it would be strange::But then you started coding::Things never were the same\n"
     ]
    }
   ],
   "source": [
    "print(line1, line2, line3, line4, sep = \"::\")"
   ]
  },
  {
   "cell_type": "code",
   "execution_count": 52,
   "id": "0333e6ec",
   "metadata": {},
   "outputs": [
    {
     "name": "stdout",
     "output_type": "stream",
     "text": [
      "You thought it would be easy+You thought it would be strange+But then you started coding+Things never were the same\n"
     ]
    }
   ],
   "source": [
    "print(line1, line2, line3, line4, sep = \"+\")"
   ]
  },
  {
   "cell_type": "code",
   "execution_count": null,
   "id": "e7f5e31e",
   "metadata": {},
   "outputs": [],
   "source": []
  }
 ],
 "metadata": {
  "kernelspec": {
   "display_name": "Python 3 (ipykernel)",
   "language": "python",
   "name": "python3"
  },
  "language_info": {
   "codemirror_mode": {
    "name": "ipython",
    "version": 3
   },
   "file_extension": ".py",
   "mimetype": "text/x-python",
   "name": "python",
   "nbconvert_exporter": "python",
   "pygments_lexer": "ipython3",
   "version": "3.9.13"
  }
 },
 "nbformat": 4,
 "nbformat_minor": 5
}
